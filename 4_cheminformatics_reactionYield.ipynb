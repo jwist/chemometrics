{
 "cells": [
  {
   "cell_type": "markdown",
   "metadata": {},
   "source": [
    "# Chemometrics\n",
    "<br>\n",
    "**Julien Wist / 2017 / Universidad del Valle**\n",
    "<br>\n",
    "**Andrés Bernal / 2017 / ???**\n",
    "\n",
    "An up-to-date version of this notebook can be found here: https://github.com/jwist/chemometrics/"
   ]
  },
  {
   "cell_type": "markdown",
   "metadata": {},
   "source": [
    "To best understand the following notebook, please read chapter 2 of Brereton, R. G. (2003). Chemometrics. Technometrics. Chichester, UK: John Wiley & Sons, Ltd. http://doi.org/10.1002/0470863242.\n",
    "\n",
    "Use the following commands to create the dataset of Table 2.6 of Brereton."
   ]
  },
  {
   "cell_type": "code",
   "execution_count": 17,
   "metadata": {
    "collapsed": true,
    "jupyter": {
     "outputs_hidden": true
    }
   },
   "outputs": [],
   "source": [
    "rm(list=ls(all=TRUE)) # to clean the variable space"
   ]
  },
  {
   "cell_type": "code",
   "execution_count": 169,
   "metadata": {
    "collapsed": true,
    "jupyter": {
     "outputs_hidden": true
    }
   },
   "outputs": [],
   "source": [
    "options(repr.plot.width=4, repr.plot.height=4) # change these setting to plot larger figures"
   ]
  },
  {
   "cell_type": "code",
   "execution_count": 184,
   "metadata": {},
   "outputs": [
    {
     "data": {
      "text/html": [
       "<table>\n",
       "<thead><tr><th></th><th scope=col>ph</th><th scope=col>temp</th><th scope=col>conc</th><th scope=col>ph2</th><th scope=col>temp2</th><th scope=col>conc2</th><th scope=col>phTemp</th><th scope=col>phConc</th><th scope=col>tempConc</th><th scope=col>yield</th></tr></thead>\n",
       "<tbody>\n",
       "\t<tr><th scope=row>1</th><td>   6.000</td><td>  60.000</td><td>   4.000</td><td>  36.000</td><td>3600.000</td><td>  16.000</td><td> 360.000</td><td>  24.000</td><td> 240.000</td><td>  34.841</td></tr>\n",
       "\t<tr><th scope=row>2</th><td>   6.000</td><td>  60.000</td><td>   2.000</td><td>  36.000</td><td>3600.000</td><td>   4.000</td><td> 360.000</td><td>  12.000</td><td> 120.000</td><td>  16.567</td></tr>\n",
       "\t<tr><th scope=row>3</th><td>  6.000</td><td> 20.000</td><td>  4.000</td><td> 36.000</td><td>400.000</td><td> 16.000</td><td>120.000</td><td> 24.000</td><td> 80.000</td><td> 45.396</td></tr>\n",
       "\t<tr><th scope=row>4</th><td>  6.000</td><td> 20.000</td><td>  2.000</td><td> 36.000</td><td>400.000</td><td>  4.000</td><td>120.000</td><td> 12.000</td><td> 40.000</td><td> 27.939</td></tr>\n",
       "\t<tr><th scope=row>5</th><td>   4.000</td><td>  60.000</td><td>   4.000</td><td>  16.000</td><td>3600.000</td><td>  16.000</td><td> 240.000</td><td>  16.000</td><td> 240.000</td><td>  19.825</td></tr>\n",
       "\t<tr><th scope=row>6</th><td>   4.000</td><td>  60.000</td><td>   2.000</td><td>  16.000</td><td>3600.000</td><td>   4.000</td><td> 240.000</td><td>   8.000</td><td> 120.000</td><td>   1.444</td></tr>\n",
       "\t<tr><th scope=row>7</th><td>  4.000</td><td> 20.000</td><td>  4.000</td><td> 16.000</td><td>400.000</td><td> 16.000</td><td> 80.000</td><td> 16.000</td><td> 80.000</td><td> 37.673</td></tr>\n",
       "\t<tr><th scope=row>8</th><td>  4.000</td><td> 20.000</td><td>  2.000</td><td> 16.000</td><td>400.000</td><td>  4.000</td><td> 80.000</td><td>  8.000</td><td> 40.000</td><td> 23.131</td></tr>\n",
       "\t<tr><th scope=row>9</th><td>   6.000</td><td>  40.000</td><td>   3.000</td><td>  36.000</td><td>1600.000</td><td>   9.000</td><td> 240.000</td><td>  18.000</td><td> 120.000</td><td>  23.088</td></tr>\n",
       "\t<tr><th scope=row>10</th><td>   4.000</td><td>  40.000</td><td>   3.000</td><td>  16.000</td><td>1600.000</td><td>   9.000</td><td> 160.000</td><td>  12.000</td><td> 120.000</td><td>  12.325</td></tr>\n",
       "\t<tr><th scope=row>11</th><td>   5.000</td><td>  60.000</td><td>   3.000</td><td>  25.000</td><td>3600.000</td><td>   9.000</td><td> 300.000</td><td>  15.000</td><td> 180.000</td><td>  16.461</td></tr>\n",
       "\t<tr><th scope=row>12</th><td>  5.000</td><td> 20.000</td><td>  3.000</td><td> 25.000</td><td>400.000</td><td>  9.000</td><td>100.000</td><td> 15.000</td><td> 60.000</td><td> 33.489</td></tr>\n",
       "\t<tr><th scope=row>13</th><td>   5.000</td><td>  40.000</td><td>   4.000</td><td>  25.000</td><td>1600.000</td><td>  16.000</td><td> 200.000</td><td>  20.000</td><td> 160.000</td><td>  26.189</td></tr>\n",
       "\t<tr><th scope=row>14</th><td>   5.000</td><td>  40.000</td><td>   2.000</td><td>  25.000</td><td>1600.000</td><td>   4.000</td><td> 200.000</td><td>  10.000</td><td>  80.000</td><td>   8.337</td></tr>\n",
       "\t<tr><th scope=row>15</th><td>   5.000</td><td>  40.000</td><td>   3.000</td><td>  25.000</td><td>1600.000</td><td>   9.000</td><td> 200.000</td><td>  15.000</td><td> 120.000</td><td>  19.192</td></tr>\n",
       "\t<tr><th scope=row>16</th><td>   5.000</td><td>  40.000</td><td>   3.000</td><td>  25.000</td><td>1600.000</td><td>   9.000</td><td> 200.000</td><td>  15.000</td><td> 120.000</td><td>  16.579</td></tr>\n",
       "\t<tr><th scope=row>17</th><td>   5.000</td><td>  40.000</td><td>   3.000</td><td>  25.000</td><td>1600.000</td><td>   9.000</td><td> 200.000</td><td>  15.000</td><td> 120.000</td><td>  17.794</td></tr>\n",
       "\t<tr><th scope=row>18</th><td>   5.00</td><td>  40.00</td><td>   3.00</td><td>  25.00</td><td>1600.00</td><td>   9.00</td><td> 200.00</td><td>  15.00</td><td> 120.00</td><td>  16.65</td></tr>\n",
       "\t<tr><th scope=row>19</th><td>   5.000</td><td>  40.000</td><td>   3.000</td><td>  25.000</td><td>1600.000</td><td>   9.000</td><td> 200.000</td><td>  15.000</td><td> 120.000</td><td>  16.799</td></tr>\n",
       "\t<tr><th scope=row>20</th><td>   5.000</td><td>  40.000</td><td>   3.000</td><td>  25.000</td><td>1600.000</td><td>   9.000</td><td> 200.000</td><td>  15.000</td><td> 120.000</td><td>  16.635</td></tr>\n",
       "</tbody>\n",
       "</table>\n"
      ],
      "text/latex": [
       "\\begin{tabular}{r|llllllllll}\n",
       "  & ph & temp & conc & ph2 & temp2 & conc2 & phTemp & phConc & tempConc & yield\\\\\n",
       "\\hline\n",
       "\t1 &    6.000 &   60.000 &    4.000 &   36.000 & 3600.000 &   16.000 &  360.000 &   24.000 &  240.000 &   34.841\\\\\n",
       "\t2 &    6.000 &   60.000 &    2.000 &   36.000 & 3600.000 &    4.000 &  360.000 &   12.000 &  120.000 &   16.567\\\\\n",
       "\t3 &   6.000 &  20.000 &   4.000 &  36.000 & 400.000 &  16.000 & 120.000 &  24.000 &  80.000 &  45.396\\\\\n",
       "\t4 &   6.000 &  20.000 &   2.000 &  36.000 & 400.000 &   4.000 & 120.000 &  12.000 &  40.000 &  27.939\\\\\n",
       "\t5 &    4.000 &   60.000 &    4.000 &   16.000 & 3600.000 &   16.000 &  240.000 &   16.000 &  240.000 &   19.825\\\\\n",
       "\t6 &    4.000 &   60.000 &    2.000 &   16.000 & 3600.000 &    4.000 &  240.000 &    8.000 &  120.000 &    1.444\\\\\n",
       "\t7 &   4.000 &  20.000 &   4.000 &  16.000 & 400.000 &  16.000 &  80.000 &  16.000 &  80.000 &  37.673\\\\\n",
       "\t8 &   4.000 &  20.000 &   2.000 &  16.000 & 400.000 &   4.000 &  80.000 &   8.000 &  40.000 &  23.131\\\\\n",
       "\t9 &    6.000 &   40.000 &    3.000 &   36.000 & 1600.000 &    9.000 &  240.000 &   18.000 &  120.000 &   23.088\\\\\n",
       "\t10 &    4.000 &   40.000 &    3.000 &   16.000 & 1600.000 &    9.000 &  160.000 &   12.000 &  120.000 &   12.325\\\\\n",
       "\t11 &    5.000 &   60.000 &    3.000 &   25.000 & 3600.000 &    9.000 &  300.000 &   15.000 &  180.000 &   16.461\\\\\n",
       "\t12 &   5.000 &  20.000 &   3.000 &  25.000 & 400.000 &   9.000 & 100.000 &  15.000 &  60.000 &  33.489\\\\\n",
       "\t13 &    5.000 &   40.000 &    4.000 &   25.000 & 1600.000 &   16.000 &  200.000 &   20.000 &  160.000 &   26.189\\\\\n",
       "\t14 &    5.000 &   40.000 &    2.000 &   25.000 & 1600.000 &    4.000 &  200.000 &   10.000 &   80.000 &    8.337\\\\\n",
       "\t15 &    5.000 &   40.000 &    3.000 &   25.000 & 1600.000 &    9.000 &  200.000 &   15.000 &  120.000 &   19.192\\\\\n",
       "\t16 &    5.000 &   40.000 &    3.000 &   25.000 & 1600.000 &    9.000 &  200.000 &   15.000 &  120.000 &   16.579\\\\\n",
       "\t17 &    5.000 &   40.000 &    3.000 &   25.000 & 1600.000 &    9.000 &  200.000 &   15.000 &  120.000 &   17.794\\\\\n",
       "\t18 &    5.00 &   40.00 &    3.00 &   25.00 & 1600.00 &    9.00 &  200.00 &   15.00 &  120.00 &   16.65\\\\\n",
       "\t19 &    5.000 &   40.000 &    3.000 &   25.000 & 1600.000 &    9.000 &  200.000 &   15.000 &  120.000 &   16.799\\\\\n",
       "\t20 &    5.000 &   40.000 &    3.000 &   25.000 & 1600.000 &    9.000 &  200.000 &   15.000 &  120.000 &   16.635\\\\\n",
       "\\end{tabular}\n"
      ],
      "text/plain": [
       "   ph temp conc ph2 temp2 conc2 phTemp phConc tempConc  yield\n",
       "1   6   60    4  36  3600    16    360     24      240 34.841\n",
       "2   6   60    2  36  3600     4    360     12      120 16.567\n",
       "3   6   20    4  36   400    16    120     24       80 45.396\n",
       "4   6   20    2  36   400     4    120     12       40 27.939\n",
       "5   4   60    4  16  3600    16    240     16      240 19.825\n",
       "6   4   60    2  16  3600     4    240      8      120  1.444\n",
       "7   4   20    4  16   400    16     80     16       80 37.673\n",
       "8   4   20    2  16   400     4     80      8       40 23.131\n",
       "9   6   40    3  36  1600     9    240     18      120 23.088\n",
       "10  4   40    3  16  1600     9    160     12      120 12.325\n",
       "11  5   60    3  25  3600     9    300     15      180 16.461\n",
       "12  5   20    3  25   400     9    100     15       60 33.489\n",
       "13  5   40    4  25  1600    16    200     20      160 26.189\n",
       "14  5   40    2  25  1600     4    200     10       80  8.337\n",
       "15  5   40    3  25  1600     9    200     15      120 19.192\n",
       "16  5   40    3  25  1600     9    200     15      120 16.579\n",
       "17  5   40    3  25  1600     9    200     15      120 17.794\n",
       "18  5   40    3  25  1600     9    200     15      120 16.650\n",
       "19  5   40    3  25  1600     9    200     15      120 16.799\n",
       "20  5   40    3  25  1600     9    200     15      120 16.635"
      ]
     },
     "execution_count": 184,
     "metadata": {},
     "output_type": "execute_result"
    }
   ],
   "source": [
    "# we create the matrix manually\n",
    "d <- c(6,60,4,34.841,6,60,2,16.567,6,20,4,45.396,6,20,2,27.939,4,60,4,19.825,4,60,2,1.444,4,20,4,37.673,4,20,2,23.131,6,40,3,23.088,4,40,3,12.325,5,60,3,16.461,5,20,3,33.489,5,40,4,26.189,5,40,2,8.337,5,40,3,19.192,5,40,3,16.579,5,40,3,17.794,5,40,3,16.65,5,40,3,16.799,5,40,3,16.635)\n",
    "dim(d) <- c(4,20) # we force the data into a mtrix of dimension 4 x 20\n",
    "# we create the data frame\n",
    "datas <- data.frame(\"ph\"=d[1,],\"temp\"=d[2,],\"conc\"=d[3,], \"ph2\"=d[1,]^2, \"temp2\"=d[2,]^2, \"conc2\"=d[3,]^2, \"phTemp\"=d[1,]*d[2,], \"phConc\"=d[1,]*d[3,], \"tempConc\"=d[2,]*d[3,], \"yield\"=d[4,])\n",
    "datas"
   ]
  },
  {
   "cell_type": "markdown",
   "metadata": {},
   "source": [
    "we can perform a manual regression using the following sequence. "
   ]
  },
  {
   "cell_type": "code",
   "execution_count": 119,
   "metadata": {},
   "outputs": [
    {
     "data": {
      "text/html": [
       "<table>\n",
       "<thead><tr><th></th><th scope=col>coeffs</th></tr></thead>\n",
       "<tbody>\n",
       "\t<tr><th scope=row>intercept</th><td>58.808</td></tr>\n",
       "\t<tr><th scope=row>ph</th><td>-6.091</td></tr>\n",
       "\t<tr><th scope=row>temp</th><td>-2.603</td></tr>\n",
       "\t<tr><th scope=row>conc</th><td>4.805</td></tr>\n",
       "\t<tr><th scope=row>ph2</th><td>0.598</td></tr>\n",
       "\t<tr><th scope=row>temp2</th><td>0.02</td></tr>\n",
       "\t<tr><th scope=row>conc2</th><td>0.154</td></tr>\n",
       "\t<tr><th scope=row>phTemp</th><td>0.11</td></tr>\n",
       "\t<tr><th scope=row>phConc</th><td>0.351</td></tr>\n",
       "\t<tr><th scope=row>tempConc</th><td>0.029</td></tr>\n",
       "</tbody>\n",
       "</table>\n"
      ],
      "text/latex": [
       "\\begin{tabular}{r|l}\n",
       "  & coeffs\\\\\n",
       "\\hline\n",
       "\tintercept & 58.808\\\\\n",
       "\tph & -6.091\\\\\n",
       "\ttemp & -2.603\\\\\n",
       "\tconc & 4.805\\\\\n",
       "\tph2 & 0.598\\\\\n",
       "\ttemp2 & 0.02\\\\\n",
       "\tconc2 & 0.154\\\\\n",
       "\tphTemp & 0.11\\\\\n",
       "\tphConc & 0.351\\\\\n",
       "\ttempConc & 0.029\\\\\n",
       "\\end{tabular}\n"
      ],
      "text/plain": [
       "          coeffs\n",
       "intercept 58.808\n",
       "ph        -6.091\n",
       "temp      -2.603\n",
       "conc       4.805\n",
       "ph2        0.598\n",
       "temp2      0.020\n",
       "conc2      0.154\n",
       "phTemp     0.110\n",
       "phConc     0.351\n",
       "tempConc   0.029"
      ]
     },
     "execution_count": 119,
     "metadata": {},
     "output_type": "execute_result"
    }
   ],
   "source": [
    "# we define the matrix of data (X)\n",
    "M <- cbind(\"intercept\"=rep(1,20),datas[,1:9]) # adds intercept\n",
    "M <- as.matrix(M)\n",
    "\n",
    "# we define y, the response\n",
    "y <- datas[,10]\n",
    "\n",
    "# we calculate the regression coefficient manually\n",
    "coeffs = data.frame(\"coeffs\"=solve(t(M) %*% M) %*% t(M) %*% y)\n",
    "round(coeffs, 3)"
   ]
  },
  {
   "cell_type": "markdown",
   "metadata": {},
   "source": [
    "where the first coefficient would be the intercept, as we already discussed in the previous example. \n",
    "\n",
    "We can check the data and the prediction."
   ]
  },
  {
   "cell_type": "code",
   "execution_count": 120,
   "metadata": {},
   "outputs": [
    {
     "data": {
      "image/png": "[encoded data removed]",
      "image/svg+xml": [
       "<?xml version=\"1.0\" encoding=\"UTF-8\"?>\n",
       "<svg xmlns=\"http://www.w3.org/2000/svg\" xmlns:xlink=\"http://www.w3.org/1999/xlink\" width=\"288pt\" height=\"288pt\" viewBox=\"0 0 288 288\" version=\"1.1\">\n",
       "<defs>\n",
       "<g>\n",
       "<symbol overflow=\"visible\" id=\"glyph0-0\">\n",
       "<path style=\"stroke:none;\" d=\"M 0.40625 0 L 0.40625 -8.96875 L 7.515625 -8.96875 L 7.515625 0 Z M 6.390625 -1.125 L 6.390625 -7.84375 L 1.53125 -7.84375 L 1.53125 -1.125 Z \"/>\n",
       "</symbol>\n",
       "<symbol overflow=\"visible\" id=\"glyph0-1\">\n",
       "<path style=\"stroke:none;\" d=\"M 3.375 -8.734375 C 4.507812 -8.734375 5.328125 -8.269531 5.828125 -7.34375 C 6.222656 -6.625 6.421875 -5.632812 6.421875 -4.375 C 6.421875 -3.1875 6.242188 -2.207031 5.890625 -1.4375 C 5.378906 -0.320312 4.539062 0.234375 3.375 0.234375 C 2.320312 0.234375 1.539062 -0.21875 1.03125 -1.125 C 0.601562 -1.882812 0.390625 -2.90625 0.390625 -4.1875 C 0.390625 -5.1875 0.519531 -6.039062 0.78125 -6.75 C 1.257812 -8.070312 2.125 -8.734375 3.375 -8.734375 Z M 3.375 -0.765625 C 3.9375 -0.765625 4.382812 -1.015625 4.71875 -1.515625 C 5.0625 -2.023438 5.234375 -2.96875 5.234375 -4.34375 C 5.234375 -5.332031 5.109375 -6.144531 4.859375 -6.78125 C 4.617188 -7.425781 4.148438 -7.75 3.453125 -7.75 C 2.804688 -7.75 2.332031 -7.441406 2.03125 -6.828125 C 1.726562 -6.222656 1.578125 -5.332031 1.578125 -4.15625 C 1.578125 -3.257812 1.675781 -2.539062 1.875 -2 C 2.164062 -1.175781 2.664062 -0.765625 3.375 -0.765625 Z \"/>\n",
       "</symbol>\n",
       "<symbol overflow=\"visible\" id=\"glyph0-2\">\n",
       "<path style=\"stroke:none;\" d=\"M 1.203125 -6.1875 L 1.203125 -7.03125 C 1.992188 -7.101562 2.546875 -7.226562 2.859375 -7.40625 C 3.171875 -7.59375 3.40625 -8.023438 3.5625 -8.703125 L 4.421875 -8.703125 L 4.421875 0 L 3.25 0 L 3.25 -6.1875 Z \"/>\n",
       "</symbol>\n",
       "<symbol overflow=\"visible\" id=\"glyph0-3\">\n",
       "<path style=\"stroke:none;\" d=\"M 0.390625 0 C 0.429688 -0.75 0.585938 -1.398438 0.859375 -1.953125 C 1.128906 -2.515625 1.65625 -3.023438 2.4375 -3.484375 L 3.609375 -4.15625 C 4.140625 -4.46875 4.507812 -4.726562 4.71875 -4.9375 C 5.050781 -5.28125 5.21875 -5.671875 5.21875 -6.109375 C 5.21875 -6.609375 5.0625 -7.007812 4.75 -7.3125 C 4.445312 -7.613281 4.046875 -7.765625 3.546875 -7.765625 C 2.785156 -7.765625 2.265625 -7.476562 1.984375 -6.90625 C 1.828125 -6.601562 1.738281 -6.179688 1.71875 -5.640625 L 0.609375 -5.640625 C 0.617188 -6.398438 0.757812 -7.019531 1.03125 -7.5 C 1.5 -8.34375 2.335938 -8.765625 3.546875 -8.765625 C 4.546875 -8.765625 5.273438 -8.492188 5.734375 -7.953125 C 6.203125 -7.410156 6.4375 -6.8125 6.4375 -6.15625 C 6.4375 -5.457031 6.1875 -4.859375 5.6875 -4.359375 C 5.40625 -4.066406 4.894531 -3.71875 4.15625 -3.3125 L 3.328125 -2.84375 C 2.929688 -2.625 2.617188 -2.414062 2.390625 -2.21875 C 1.984375 -1.863281 1.726562 -1.46875 1.625 -1.03125 L 6.390625 -1.03125 L 6.390625 0 Z \"/>\n",
       "</symbol>\n",
       "<symbol overflow=\"visible\" id=\"glyph0-4\">\n",
       "<path style=\"stroke:none;\" d=\"M 3.25 0.234375 C 2.21875 0.234375 1.46875 -0.046875 1 -0.609375 C 0.53125 -1.179688 0.296875 -1.875 0.296875 -2.6875 L 1.453125 -2.6875 C 1.492188 -2.125 1.597656 -1.710938 1.765625 -1.453125 C 2.046875 -0.992188 2.5625 -0.765625 3.3125 -0.765625 C 3.882812 -0.765625 4.34375 -0.914062 4.6875 -1.21875 C 5.039062 -1.53125 5.21875 -1.929688 5.21875 -2.421875 C 5.21875 -3.023438 5.035156 -3.445312 4.671875 -3.6875 C 4.304688 -3.925781 3.796875 -4.046875 3.140625 -4.046875 C 3.066406 -4.046875 2.988281 -4.046875 2.90625 -4.046875 C 2.832031 -4.046875 2.757812 -4.039062 2.6875 -4.03125 L 2.6875 -5 C 2.800781 -4.988281 2.894531 -4.976562 2.96875 -4.96875 C 3.050781 -4.96875 3.132812 -4.96875 3.21875 -4.96875 C 3.632812 -4.96875 3.972656 -5.035156 4.234375 -5.171875 C 4.703125 -5.398438 4.9375 -5.804688 4.9375 -6.390625 C 4.9375 -6.828125 4.78125 -7.160156 4.46875 -7.390625 C 4.15625 -7.628906 3.796875 -7.75 3.390625 -7.75 C 2.648438 -7.75 2.144531 -7.503906 1.875 -7.015625 C 1.71875 -6.742188 1.628906 -6.363281 1.609375 -5.875 L 0.515625 -5.875 C 0.515625 -6.519531 0.644531 -7.070312 0.90625 -7.53125 C 1.351562 -8.34375 2.140625 -8.75 3.265625 -8.75 C 4.160156 -8.75 4.851562 -8.550781 5.34375 -8.15625 C 5.832031 -7.757812 6.078125 -7.1875 6.078125 -6.4375 C 6.078125 -5.894531 5.929688 -5.457031 5.640625 -5.125 C 5.460938 -4.914062 5.226562 -4.753906 4.9375 -4.640625 C 5.40625 -4.515625 5.765625 -4.269531 6.015625 -3.90625 C 6.273438 -3.550781 6.40625 -3.113281 6.40625 -2.59375 C 6.40625 -1.757812 6.128906 -1.078125 5.578125 -0.546875 C 5.035156 -0.0234375 4.257812 0.234375 3.25 0.234375 Z \"/>\n",
       "</symbol>\n",
       "<symbol overflow=\"visible\" id=\"glyph0-5\">\n",
       "<path style=\"stroke:none;\" d=\"M 4.125 -3.09375 L 4.125 -7.0625 L 1.328125 -3.09375 Z M 4.15625 0 L 4.15625 -2.140625 L 0.3125 -2.140625 L 0.3125 -3.203125 L 4.328125 -8.765625 L 5.25 -8.765625 L 5.25 -3.09375 L 6.53125 -3.09375 L 6.53125 -2.140625 L 5.25 -2.140625 L 5.25 0 Z \"/>\n",
       "</symbol>\n",
       "<symbol overflow=\"visible\" id=\"glyph0-6\">\n",
       "<path style=\"stroke:none;\" d=\"M 3.5625 -0.734375 C 4.070312 -0.734375 4.5 -0.945312 4.84375 -1.375 C 5.1875 -1.8125 5.359375 -2.457031 5.359375 -3.3125 C 5.359375 -3.832031 5.28125 -4.28125 5.125 -4.65625 C 4.84375 -5.375 4.320312 -5.734375 3.5625 -5.734375 C 2.800781 -5.734375 2.28125 -5.351562 2 -4.59375 C 1.851562 -4.1875 1.78125 -3.671875 1.78125 -3.046875 C 1.78125 -2.535156 1.851562 -2.101562 2 -1.75 C 2.28125 -1.070312 2.800781 -0.734375 3.5625 -0.734375 Z M 0.71875 -6.5 L 1.78125 -6.5 L 1.78125 -5.640625 C 2.007812 -5.929688 2.253906 -6.160156 2.515625 -6.328125 C 2.878906 -6.578125 3.3125 -6.703125 3.8125 -6.703125 C 4.550781 -6.703125 5.175781 -6.414062 5.6875 -5.84375 C 6.207031 -5.28125 6.46875 -4.46875 6.46875 -3.40625 C 6.46875 -1.988281 6.097656 -0.972656 5.359375 -0.359375 C 4.890625 0.0234375 4.34375 0.21875 3.71875 0.21875 C 3.21875 0.21875 2.800781 0.109375 2.46875 -0.109375 C 2.269531 -0.222656 2.050781 -0.429688 1.8125 -0.734375 L 1.8125 2.609375 L 0.71875 2.609375 Z \"/>\n",
       "</symbol>\n",
       "<symbol overflow=\"visible\" id=\"glyph0-7\">\n",
       "<path style=\"stroke:none;\" d=\"M 0.84375 -6.53125 L 1.875 -6.53125 L 1.875 -5.40625 C 1.96875 -5.625 2.179688 -5.890625 2.515625 -6.203125 C 2.847656 -6.523438 3.226562 -6.6875 3.65625 -6.6875 C 3.675781 -6.6875 3.710938 -6.679688 3.765625 -6.671875 C 3.816406 -6.671875 3.898438 -6.664062 4.015625 -6.65625 L 4.015625 -5.5 C 3.953125 -5.507812 3.890625 -5.515625 3.828125 -5.515625 C 3.773438 -5.523438 3.71875 -5.53125 3.65625 -5.53125 C 3.101562 -5.53125 2.675781 -5.347656 2.375 -4.984375 C 2.082031 -4.628906 1.9375 -4.222656 1.9375 -3.765625 L 1.9375 0 L 0.84375 0 Z \"/>\n",
       "</symbol>\n",
       "<symbol overflow=\"visible\" id=\"glyph0-8\">\n",
       "<path style=\"stroke:none;\" d=\"M 3.53125 -6.6875 C 3.988281 -6.6875 4.4375 -6.578125 4.875 -6.359375 C 5.3125 -6.140625 5.644531 -5.859375 5.875 -5.515625 C 6.09375 -5.179688 6.238281 -4.796875 6.3125 -4.359375 C 6.375 -4.054688 6.40625 -3.578125 6.40625 -2.921875 L 1.625 -2.921875 C 1.632812 -2.253906 1.785156 -1.71875 2.078125 -1.3125 C 2.378906 -0.914062 2.835938 -0.71875 3.453125 -0.71875 C 4.023438 -0.71875 4.484375 -0.90625 4.828125 -1.28125 C 5.015625 -1.507812 5.148438 -1.765625 5.234375 -2.046875 L 6.3125 -2.046875 C 6.289062 -1.804688 6.195312 -1.539062 6.03125 -1.25 C 5.875 -0.957031 5.695312 -0.71875 5.5 -0.53125 C 5.164062 -0.195312 4.75 0.0234375 4.25 0.140625 C 3.988281 0.203125 3.691406 0.234375 3.359375 0.234375 C 2.546875 0.234375 1.851562 -0.0625 1.28125 -0.65625 C 0.71875 -1.25 0.4375 -2.078125 0.4375 -3.140625 C 0.4375 -4.191406 0.722656 -5.046875 1.296875 -5.703125 C 1.867188 -6.359375 2.613281 -6.6875 3.53125 -6.6875 Z M 5.28125 -3.796875 C 5.238281 -4.265625 5.132812 -4.644531 4.96875 -4.9375 C 4.664062 -5.457031 4.160156 -5.71875 3.453125 -5.71875 C 2.953125 -5.71875 2.53125 -5.535156 2.1875 -5.171875 C 1.84375 -4.804688 1.660156 -4.347656 1.640625 -3.796875 Z M 3.421875 -6.703125 Z \"/>\n",
       "</symbol>\n",
       "<symbol overflow=\"visible\" id=\"glyph0-9\">\n",
       "<path style=\"stroke:none;\" d=\"M 1.5 -3.1875 C 1.5 -2.488281 1.644531 -1.898438 1.9375 -1.421875 C 2.238281 -0.953125 2.71875 -0.71875 3.375 -0.71875 C 3.882812 -0.71875 4.300781 -0.9375 4.625 -1.375 C 4.957031 -1.8125 5.125 -2.441406 5.125 -3.265625 C 5.125 -4.085938 4.953125 -4.695312 4.609375 -5.09375 C 4.273438 -5.488281 3.859375 -5.6875 3.359375 -5.6875 C 2.804688 -5.6875 2.359375 -5.472656 2.015625 -5.046875 C 1.671875 -4.628906 1.5 -4.007812 1.5 -3.1875 Z M 3.15625 -6.65625 C 3.65625 -6.65625 4.070312 -6.546875 4.40625 -6.328125 C 4.601562 -6.210938 4.828125 -6 5.078125 -5.6875 L 5.078125 -9 L 6.140625 -9 L 6.140625 0 L 5.140625 0 L 5.140625 -0.90625 C 4.890625 -0.507812 4.585938 -0.21875 4.234375 -0.03125 C 3.890625 0.144531 3.488281 0.234375 3.03125 0.234375 C 2.300781 0.234375 1.671875 -0.0703125 1.140625 -0.6875 C 0.609375 -1.300781 0.34375 -2.113281 0.34375 -3.125 C 0.34375 -4.082031 0.582031 -4.910156 1.0625 -5.609375 C 1.550781 -6.304688 2.25 -6.65625 3.15625 -6.65625 Z \"/>\n",
       "</symbol>\n",
       "<symbol overflow=\"visible\" id=\"glyph0-10\">\n",
       "<path style=\"stroke:none;\" d=\"M 0.8125 -6.5 L 1.921875 -6.5 L 1.921875 0 L 0.8125 0 Z M 0.8125 -8.96875 L 1.921875 -8.96875 L 1.921875 -7.71875 L 0.8125 -7.71875 Z \"/>\n",
       "</symbol>\n",
       "<symbol overflow=\"visible\" id=\"glyph0-11\">\n",
       "<path style=\"stroke:none;\" d=\"M 3.328125 -6.71875 C 4.066406 -6.71875 4.664062 -6.539062 5.125 -6.1875 C 5.582031 -5.832031 5.859375 -5.21875 5.953125 -4.34375 L 4.890625 -4.34375 C 4.828125 -4.738281 4.675781 -5.070312 4.4375 -5.34375 C 4.207031 -5.613281 3.835938 -5.75 3.328125 -5.75 C 2.628906 -5.75 2.128906 -5.40625 1.828125 -4.71875 C 1.628906 -4.269531 1.53125 -3.722656 1.53125 -3.078125 C 1.53125 -2.421875 1.664062 -1.867188 1.9375 -1.421875 C 2.21875 -0.972656 2.65625 -0.75 3.25 -0.75 C 3.707031 -0.75 4.066406 -0.890625 4.328125 -1.171875 C 4.597656 -1.453125 4.785156 -1.832031 4.890625 -2.3125 L 5.953125 -2.3125 C 5.835938 -1.445312 5.535156 -0.8125 5.046875 -0.40625 C 4.554688 -0.0078125 3.929688 0.1875 3.171875 0.1875 C 2.316406 0.1875 1.632812 -0.125 1.125 -0.75 C 0.613281 -1.375 0.359375 -2.15625 0.359375 -3.09375 C 0.359375 -4.238281 0.632812 -5.128906 1.1875 -5.765625 C 1.75 -6.398438 2.460938 -6.71875 3.328125 -6.71875 Z M 3.15625 -6.703125 Z \"/>\n",
       "</symbol>\n",
       "<symbol overflow=\"visible\" id=\"glyph0-12\">\n",
       "<path style=\"stroke:none;\" d=\"M 1.03125 -8.359375 L 2.140625 -8.359375 L 2.140625 -6.53125 L 3.1875 -6.53125 L 3.1875 -5.640625 L 2.140625 -5.640625 L 2.140625 -1.375 C 2.140625 -1.144531 2.21875 -0.992188 2.375 -0.921875 C 2.457031 -0.867188 2.597656 -0.84375 2.796875 -0.84375 C 2.847656 -0.84375 2.90625 -0.84375 2.96875 -0.84375 C 3.03125 -0.851562 3.101562 -0.859375 3.1875 -0.859375 L 3.1875 0 C 3.050781 0.0390625 2.914062 0.0664062 2.78125 0.078125 C 2.644531 0.0976562 2.5 0.109375 2.34375 0.109375 C 1.832031 0.109375 1.484375 -0.0195312 1.296875 -0.28125 C 1.117188 -0.550781 1.03125 -0.894531 1.03125 -1.3125 L 1.03125 -5.640625 L 0.140625 -5.640625 L 0.140625 -6.53125 L 1.03125 -6.53125 Z \"/>\n",
       "</symbol>\n",
       "<symbol overflow=\"visible\" id=\"glyph0-13\">\n",
       "<path style=\"stroke:none;\" d=\"M 3.40625 -0.703125 C 4.132812 -0.703125 4.628906 -0.976562 4.890625 -1.53125 C 5.160156 -2.082031 5.296875 -2.695312 5.296875 -3.375 C 5.296875 -3.988281 5.203125 -4.484375 5.015625 -4.859375 C 4.703125 -5.460938 4.164062 -5.765625 3.40625 -5.765625 C 2.738281 -5.765625 2.25 -5.507812 1.9375 -5 C 1.632812 -4.488281 1.484375 -3.867188 1.484375 -3.140625 C 1.484375 -2.441406 1.632812 -1.859375 1.9375 -1.390625 C 2.25 -0.929688 2.738281 -0.703125 3.40625 -0.703125 Z M 3.4375 -6.71875 C 4.28125 -6.71875 4.992188 -6.4375 5.578125 -5.875 C 6.160156 -5.320312 6.453125 -4.5 6.453125 -3.40625 C 6.453125 -2.351562 6.191406 -1.484375 5.671875 -0.796875 C 5.160156 -0.109375 4.367188 0.234375 3.296875 0.234375 C 2.398438 0.234375 1.6875 -0.0664062 1.15625 -0.671875 C 0.625 -1.285156 0.359375 -2.101562 0.359375 -3.125 C 0.359375 -4.21875 0.632812 -5.085938 1.1875 -5.734375 C 1.75 -6.390625 2.5 -6.71875 3.4375 -6.71875 Z M 3.40625 -6.703125 Z \"/>\n",
       "</symbol>\n",
       "<symbol overflow=\"visible\" id=\"glyph0-14\">\n",
       "<path style=\"stroke:none;\" d=\"M 0.8125 -6.53125 L 1.84375 -6.53125 L 1.84375 -5.609375 C 2.15625 -5.992188 2.484375 -6.269531 2.828125 -6.4375 C 3.171875 -6.601562 3.554688 -6.6875 3.984375 -6.6875 C 4.910156 -6.6875 5.535156 -6.363281 5.859375 -5.71875 C 6.046875 -5.363281 6.140625 -4.851562 6.140625 -4.1875 L 6.140625 0 L 5.015625 0 L 5.015625 -4.125 C 5.015625 -4.519531 4.957031 -4.835938 4.84375 -5.078125 C 4.644531 -5.484375 4.289062 -5.6875 3.78125 -5.6875 C 3.519531 -5.6875 3.304688 -5.660156 3.140625 -5.609375 C 2.835938 -5.523438 2.570312 -5.347656 2.34375 -5.078125 C 2.15625 -4.859375 2.035156 -4.632812 1.984375 -4.40625 C 1.929688 -4.175781 1.90625 -3.847656 1.90625 -3.421875 L 1.90625 0 L 0.8125 0 Z M 3.390625 -6.703125 Z \"/>\n",
       "</symbol>\n",
       "<symbol overflow=\"visible\" id=\"glyph0-15\">\n",
       "<path style=\"stroke:none;\" d=\"M 1.453125 -2.046875 C 1.484375 -1.679688 1.578125 -1.398438 1.734375 -1.203125 C 2.015625 -0.847656 2.492188 -0.671875 3.171875 -0.671875 C 3.578125 -0.671875 3.9375 -0.757812 4.25 -0.9375 C 4.5625 -1.113281 4.71875 -1.390625 4.71875 -1.765625 C 4.71875 -2.046875 4.59375 -2.257812 4.34375 -2.40625 C 4.1875 -2.5 3.875 -2.601562 3.40625 -2.71875 L 2.53125 -2.9375 C 1.96875 -3.070312 1.554688 -3.226562 1.296875 -3.40625 C 0.828125 -3.695312 0.59375 -4.101562 0.59375 -4.625 C 0.59375 -5.25 0.8125 -5.75 1.25 -6.125 C 1.695312 -6.507812 2.296875 -6.703125 3.046875 -6.703125 C 4.035156 -6.703125 4.75 -6.414062 5.1875 -5.84375 C 5.457031 -5.476562 5.585938 -5.082031 5.578125 -4.65625 L 4.546875 -4.65625 C 4.523438 -4.90625 4.4375 -5.128906 4.28125 -5.328125 C 4.03125 -5.617188 3.59375 -5.765625 2.96875 -5.765625 C 2.550781 -5.765625 2.234375 -5.6875 2.015625 -5.53125 C 1.804688 -5.375 1.703125 -5.164062 1.703125 -4.90625 C 1.703125 -4.613281 1.84375 -4.382812 2.125 -4.21875 C 2.289062 -4.113281 2.53125 -4.023438 2.84375 -3.953125 L 3.578125 -3.765625 C 4.359375 -3.578125 4.882812 -3.394531 5.15625 -3.21875 C 5.582031 -2.9375 5.796875 -2.492188 5.796875 -1.890625 C 5.796875 -1.304688 5.570312 -0.800781 5.125 -0.375 C 4.6875 0.0390625 4.019531 0.25 3.125 0.25 C 2.144531 0.25 1.453125 0.03125 1.046875 -0.40625 C 0.648438 -0.851562 0.4375 -1.398438 0.40625 -2.046875 Z M 3.078125 -6.703125 Z \"/>\n",
       "</symbol>\n",
       "<symbol overflow=\"visible\" id=\"glyph1-0\">\n",
       "<path style=\"stroke:none;\" d=\"M 0 -0.40625 L -8.96875 -0.40625 L -8.96875 -7.515625 L 0 -7.515625 Z M -1.125 -6.390625 L -7.84375 -6.390625 L -7.84375 -1.53125 L -1.125 -1.53125 Z \"/>\n",
       "</symbol>\n",
       "<symbol overflow=\"visible\" id=\"glyph1-1\">\n",
       "<path style=\"stroke:none;\" d=\"M -8.734375 -3.375 C -8.734375 -4.507812 -8.269531 -5.328125 -7.34375 -5.828125 C -6.625 -6.222656 -5.632812 -6.421875 -4.375 -6.421875 C -3.1875 -6.421875 -2.207031 -6.242188 -1.4375 -5.890625 C -0.320312 -5.378906 0.234375 -4.539062 0.234375 -3.375 C 0.234375 -2.320312 -0.21875 -1.539062 -1.125 -1.03125 C -1.882812 -0.601562 -2.90625 -0.390625 -4.1875 -0.390625 C -5.1875 -0.390625 -6.039062 -0.519531 -6.75 -0.78125 C -8.070312 -1.257812 -8.734375 -2.125 -8.734375 -3.375 Z M -0.765625 -3.375 C -0.765625 -3.9375 -1.015625 -4.382812 -1.515625 -4.71875 C -2.023438 -5.0625 -2.96875 -5.234375 -4.34375 -5.234375 C -5.332031 -5.234375 -6.144531 -5.109375 -6.78125 -4.859375 C -7.425781 -4.617188 -7.75 -4.148438 -7.75 -3.453125 C -7.75 -2.804688 -7.441406 -2.332031 -6.828125 -2.03125 C -6.222656 -1.726562 -5.332031 -1.578125 -4.15625 -1.578125 C -3.257812 -1.578125 -2.539062 -1.675781 -2 -1.875 C -1.175781 -2.164062 -0.765625 -2.664062 -0.765625 -3.375 Z \"/>\n",
       "</symbol>\n",
       "<symbol overflow=\"visible\" id=\"glyph1-2\">\n",
       "<path style=\"stroke:none;\" d=\"M -6.1875 -1.203125 L -7.03125 -1.203125 C -7.101562 -1.992188 -7.226562 -2.546875 -7.40625 -2.859375 C -7.59375 -3.171875 -8.023438 -3.40625 -8.703125 -3.5625 L -8.703125 -4.421875 L 0 -4.421875 L 0 -3.25 L -6.1875 -3.25 Z \"/>\n",
       "</symbol>\n",
       "<symbol overflow=\"visible\" id=\"glyph1-3\">\n",
       "<path style=\"stroke:none;\" d=\"M 0 -0.390625 C -0.75 -0.429688 -1.398438 -0.585938 -1.953125 -0.859375 C -2.515625 -1.128906 -3.023438 -1.65625 -3.484375 -2.4375 L -4.15625 -3.609375 C -4.46875 -4.140625 -4.726562 -4.507812 -4.9375 -4.71875 C -5.28125 -5.050781 -5.671875 -5.21875 -6.109375 -5.21875 C -6.609375 -5.21875 -7.007812 -5.0625 -7.3125 -4.75 C -7.613281 -4.445312 -7.765625 -4.046875 -7.765625 -3.546875 C -7.765625 -2.785156 -7.476562 -2.265625 -6.90625 -1.984375 C -6.601562 -1.828125 -6.179688 -1.738281 -5.640625 -1.71875 L -5.640625 -0.609375 C -6.398438 -0.617188 -7.019531 -0.757812 -7.5 -1.03125 C -8.34375 -1.5 -8.765625 -2.335938 -8.765625 -3.546875 C -8.765625 -4.546875 -8.492188 -5.273438 -7.953125 -5.734375 C -7.410156 -6.203125 -6.8125 -6.4375 -6.15625 -6.4375 C -5.457031 -6.4375 -4.859375 -6.1875 -4.359375 -5.6875 C -4.066406 -5.40625 -3.71875 -4.894531 -3.3125 -4.15625 L -2.84375 -3.328125 C -2.625 -2.929688 -2.414062 -2.617188 -2.21875 -2.390625 C -1.863281 -1.984375 -1.46875 -1.726562 -1.03125 -1.625 L -1.03125 -6.390625 L 0 -6.390625 Z \"/>\n",
       "</symbol>\n",
       "<symbol overflow=\"visible\" id=\"glyph1-4\">\n",
       "<path style=\"stroke:none;\" d=\"M 0.234375 -3.25 C 0.234375 -2.21875 -0.046875 -1.46875 -0.609375 -1 C -1.179688 -0.53125 -1.875 -0.296875 -2.6875 -0.296875 L -2.6875 -1.453125 C -2.125 -1.492188 -1.710938 -1.597656 -1.453125 -1.765625 C -0.992188 -2.046875 -0.765625 -2.5625 -0.765625 -3.3125 C -0.765625 -3.882812 -0.914062 -4.34375 -1.21875 -4.6875 C -1.53125 -5.039062 -1.929688 -5.21875 -2.421875 -5.21875 C -3.023438 -5.21875 -3.445312 -5.035156 -3.6875 -4.671875 C -3.925781 -4.304688 -4.046875 -3.796875 -4.046875 -3.140625 C -4.046875 -3.066406 -4.046875 -2.988281 -4.046875 -2.90625 C -4.046875 -2.832031 -4.039062 -2.757812 -4.03125 -2.6875 L -5 -2.6875 C -4.988281 -2.800781 -4.976562 -2.894531 -4.96875 -2.96875 C -4.96875 -3.050781 -4.96875 -3.132812 -4.96875 -3.21875 C -4.96875 -3.632812 -5.035156 -3.972656 -5.171875 -4.234375 C -5.398438 -4.703125 -5.804688 -4.9375 -6.390625 -4.9375 C -6.828125 -4.9375 -7.160156 -4.78125 -7.390625 -4.46875 C -7.628906 -4.15625 -7.75 -3.796875 -7.75 -3.390625 C -7.75 -2.648438 -7.503906 -2.144531 -7.015625 -1.875 C -6.742188 -1.71875 -6.363281 -1.628906 -5.875 -1.609375 L -5.875 -0.515625 C -6.519531 -0.515625 -7.070312 -0.644531 -7.53125 -0.90625 C -8.34375 -1.351562 -8.75 -2.140625 -8.75 -3.265625 C -8.75 -4.160156 -8.550781 -4.851562 -8.15625 -5.34375 C -7.757812 -5.832031 -7.1875 -6.078125 -6.4375 -6.078125 C -5.894531 -6.078125 -5.457031 -5.929688 -5.125 -5.640625 C -4.914062 -5.460938 -4.753906 -5.226562 -4.640625 -4.9375 C -4.515625 -5.40625 -4.269531 -5.765625 -3.90625 -6.015625 C -3.550781 -6.273438 -3.113281 -6.40625 -2.59375 -6.40625 C -1.757812 -6.40625 -1.078125 -6.128906 -0.546875 -5.578125 C -0.0234375 -5.035156 0.234375 -4.257812 0.234375 -3.25 Z \"/>\n",
       "</symbol>\n",
       "<symbol overflow=\"visible\" id=\"glyph1-5\">\n",
       "<path style=\"stroke:none;\" d=\"M -3.09375 -4.125 L -7.0625 -4.125 L -3.09375 -1.328125 Z M 0 -4.15625 L -2.140625 -4.15625 L -2.140625 -0.3125 L -3.203125 -0.3125 L -8.765625 -4.328125 L -8.765625 -5.25 L -3.09375 -5.25 L -3.09375 -6.53125 L -2.140625 -6.53125 L -2.140625 -5.25 L 0 -5.25 Z \"/>\n",
       "</symbol>\n",
       "<symbol overflow=\"visible\" id=\"glyph1-6\">\n",
       "<path style=\"stroke:none;\" d=\"M -6.53125 -4.890625 L -6.53125 -6.109375 C -6.113281 -5.953125 -5.160156 -5.609375 -3.671875 -5.078125 C -2.546875 -4.671875 -1.628906 -4.335938 -0.921875 -4.078125 C 0.742188 -3.441406 1.757812 -2.992188 2.125 -2.734375 C 2.488281 -2.472656 2.671875 -2.023438 2.671875 -1.390625 C 2.671875 -1.234375 2.664062 -1.113281 2.65625 -1.03125 C 2.644531 -0.945312 2.625 -0.84375 2.59375 -0.71875 L 1.59375 -0.71875 C 1.644531 -0.90625 1.675781 -1.039062 1.6875 -1.125 C 1.695312 -1.21875 1.703125 -1.296875 1.703125 -1.359375 C 1.703125 -1.566406 1.664062 -1.71875 1.59375 -1.8125 C 1.53125 -1.90625 1.453125 -1.984375 1.359375 -2.046875 C 1.328125 -2.066406 1.160156 -2.140625 0.859375 -2.265625 C 0.554688 -2.390625 0.332031 -2.484375 0.1875 -2.546875 L -6.53125 -0.125 L -6.53125 -1.375 L -1.21875 -3.125 Z M -6.703125 -3.125 Z \"/>\n",
       "</symbol>\n",
       "</g>\n",
       "</defs>\n",
       "<g id=\"surface835\">\n",
       "<rect x=\"0\" y=\"0\" width=\"288\" height=\"288\" style=\"fill:rgb(100%,100%,100%);fill-opacity:1;stroke:none;\"/>\n",
       "<path style=\"fill:none;stroke-width:1;stroke-linecap:round;stroke-linejoin:round;stroke:rgb(0%,0%,0%);stroke-opacity:1;stroke-miterlimit:10;\" d=\"M 210.925781 99.382812 C 210.925781 103.648438 204.523438 103.648438 204.523438 99.382812 C 204.523438 95.113281 210.925781 95.113281 210.925781 99.382812 \"/>\n",
       "<path style=\"fill:none;stroke-width:1;stroke-linecap:round;stroke-linejoin:round;stroke:rgb(0%,0%,0%);stroke-opacity:1;stroke-miterlimit:10;\" d=\"M 130.195312 159.253906 C 130.195312 163.519531 123.792969 163.519531 123.792969 159.253906 C 123.792969 154.984375 130.195312 154.984375 130.195312 159.253906 \"/>\n",
       "<path style=\"fill:none;stroke-width:1;stroke-linecap:round;stroke-linejoin:round;stroke:rgb(0%,0%,0%);stroke-opacity:1;stroke-miterlimit:10;\" d=\"M 253.601562 64.800781 C 253.601562 69.066406 247.199219 69.066406 247.199219 64.800781 C 247.199219 60.535156 253.601562 60.535156 253.601562 64.800781 \"/>\n",
       "<path style=\"fill:none;stroke-width:1;stroke-linecap:round;stroke-linejoin:round;stroke:rgb(0%,0%,0%);stroke-opacity:1;stroke-miterlimit:10;\" d=\"M 182.675781 121.996094 C 182.675781 126.261719 176.273438 126.261719 176.273438 121.996094 C 176.273438 117.726562 182.675781 117.726562 182.675781 121.996094 \"/>\n",
       "<path style=\"fill:none;stroke-width:1;stroke-linecap:round;stroke-linejoin:round;stroke:rgb(0%,0%,0%);stroke-opacity:1;stroke-miterlimit:10;\" d=\"M 144.417969 148.578125 C 144.417969 152.84375 138.015625 152.84375 138.015625 148.578125 C 138.015625 144.3125 144.417969 144.3125 144.417969 148.578125 \"/>\n",
       "<path style=\"fill:none;stroke-width:1;stroke-linecap:round;stroke-linejoin:round;stroke:rgb(0%,0%,0%);stroke-opacity:1;stroke-miterlimit:10;\" d=\"M 69.601562 208.800781 C 69.601562 213.066406 63.199219 213.066406 63.199219 208.800781 C 63.199219 204.535156 69.601562 204.535156 69.601562 208.800781 \"/>\n",
       "<path style=\"fill:none;stroke-width:1;stroke-linecap:round;stroke-linejoin:round;stroke:rgb(0%,0%,0%);stroke-opacity:1;stroke-miterlimit:10;\" d=\"M 224.171875 90.101562 C 224.171875 94.371094 217.773438 94.371094 217.773438 90.101562 C 217.773438 85.835938 224.171875 85.835938 224.171875 90.101562 \"/>\n",
       "<path style=\"fill:none;stroke-width:1;stroke-linecap:round;stroke-linejoin:round;stroke:rgb(0%,0%,0%);stroke-opacity:1;stroke-miterlimit:10;\" d=\"M 159.160156 137.746094 C 159.160156 142.011719 152.761719 142.011719 152.761719 137.746094 C 152.761719 133.480469 159.160156 133.480469 159.160156 137.746094 \"/>\n",
       "<path style=\"fill:none;stroke-width:1;stroke-linecap:round;stroke-linejoin:round;stroke:rgb(0%,0%,0%);stroke-opacity:1;stroke-miterlimit:10;\" d=\"M 160.566406 137.886719 C 160.566406 142.15625 154.164062 142.15625 154.164062 137.886719 C 154.164062 133.621094 160.566406 133.621094 160.566406 137.886719 \"/>\n",
       "<path style=\"fill:none;stroke-width:1;stroke-linecap:round;stroke-linejoin:round;stroke:rgb(0%,0%,0%);stroke-opacity:1;stroke-miterlimit:10;\" d=\"M 115.554688 173.152344 C 115.554688 177.417969 109.15625 177.417969 109.15625 173.152344 C 109.15625 168.882812 115.554688 168.882812 115.554688 173.152344 \"/>\n",
       "<path style=\"fill:none;stroke-width:1;stroke-linecap:round;stroke-linejoin:round;stroke:rgb(0%,0%,0%);stroke-opacity:1;stroke-miterlimit:10;\" d=\"M 135.617188 159.601562 C 135.617188 163.867188 129.214844 163.867188 129.214844 159.601562 C 129.214844 155.332031 135.617188 155.332031 135.617188 159.601562 \"/>\n",
       "<path style=\"fill:none;stroke-width:1;stroke-linecap:round;stroke-linejoin:round;stroke:rgb(0%,0%,0%);stroke-opacity:1;stroke-miterlimit:10;\" d=\"M 201.734375 103.8125 C 201.734375 108.078125 195.332031 108.078125 195.332031 103.8125 C 195.332031 99.542969 201.734375 99.542969 201.734375 103.8125 \"/>\n",
       "<path style=\"fill:none;stroke-width:1;stroke-linecap:round;stroke-linejoin:round;stroke:rgb(0%,0%,0%);stroke-opacity:1;stroke-miterlimit:10;\" d=\"M 172.628906 127.726562 C 172.628906 131.996094 166.226562 131.996094 166.226562 127.726562 C 166.226562 123.460938 172.628906 123.460938 172.628906 127.726562 \"/>\n",
       "<path style=\"fill:none;stroke-width:1;stroke-linecap:round;stroke-linejoin:round;stroke:rgb(0%,0%,0%);stroke-opacity:1;stroke-miterlimit:10;\" d=\"M 99.757812 186.214844 C 99.757812 190.484375 93.355469 190.484375 93.355469 186.214844 C 93.355469 181.949219 99.757812 181.949219 99.757812 186.214844 \"/>\n",
       "<path style=\"fill:none;stroke-width:1;stroke-linecap:round;stroke-linejoin:round;stroke:rgb(0%,0%,0%);stroke-opacity:1;stroke-miterlimit:10;\" d=\"M 135.542969 150.652344 C 135.542969 154.917969 129.140625 154.917969 129.140625 150.652344 C 129.140625 146.386719 135.542969 146.386719 135.542969 150.652344 \"/>\n",
       "<path style=\"fill:none;stroke-width:1;stroke-linecap:round;stroke-linejoin:round;stroke:rgb(0%,0%,0%);stroke-opacity:1;stroke-miterlimit:10;\" d=\"M 135.542969 159.214844 C 135.542969 163.480469 129.140625 163.480469 129.140625 159.214844 C 129.140625 154.945312 135.542969 154.945312 135.542969 159.214844 \"/>\n",
       "<path style=\"fill:none;stroke-width:1;stroke-linecap:round;stroke-linejoin:round;stroke:rgb(0%,0%,0%);stroke-opacity:1;stroke-miterlimit:10;\" d=\"M 135.542969 155.234375 C 135.542969 159.5 129.140625 159.5 129.140625 155.234375 C 129.140625 150.964844 135.542969 150.964844 135.542969 155.234375 \"/>\n",
       "<path style=\"fill:none;stroke-width:1;stroke-linecap:round;stroke-linejoin:round;stroke:rgb(0%,0%,0%);stroke-opacity:1;stroke-miterlimit:10;\" d=\"M 135.542969 158.980469 C 135.542969 163.246094 129.140625 163.246094 129.140625 158.980469 C 129.140625 154.714844 135.542969 154.714844 135.542969 158.980469 \"/>\n",
       "<path style=\"fill:none;stroke-width:1;stroke-linecap:round;stroke-linejoin:round;stroke:rgb(0%,0%,0%);stroke-opacity:1;stroke-miterlimit:10;\" d=\"M 135.542969 158.492188 C 135.542969 162.757812 129.140625 162.757812 129.140625 158.492188 C 129.140625 154.226562 135.542969 154.226562 135.542969 158.492188 \"/>\n",
       "<path style=\"fill:none;stroke-width:1;stroke-linecap:round;stroke-linejoin:round;stroke:rgb(0%,0%,0%);stroke-opacity:1;stroke-miterlimit:10;\" d=\"M 135.542969 159.03125 C 135.542969 163.296875 129.140625 163.296875 129.140625 159.03125 C 129.140625 154.761719 135.542969 154.761719 135.542969 159.03125 \"/>\n",
       "<path style=\"fill:none;stroke-width:1;stroke-linecap:round;stroke-linejoin:round;stroke:rgb(0%,0%,0%);stroke-opacity:1;stroke-miterlimit:10;\" d=\"M 59.863281 214.558594 L 228.339844 214.558594 \"/>\n",
       "<path style=\"fill:none;stroke-width:1;stroke-linecap:round;stroke-linejoin:round;stroke:rgb(0%,0%,0%);stroke-opacity:1;stroke-miterlimit:10;\" d=\"M 59.863281 214.558594 L 59.863281 221.761719 \"/>\n",
       "<path style=\"fill:none;stroke-width:1;stroke-linecap:round;stroke-linejoin:round;stroke:rgb(0%,0%,0%);stroke-opacity:1;stroke-miterlimit:10;\" d=\"M 101.980469 214.558594 L 101.980469 221.761719 \"/>\n",
       "<path style=\"fill:none;stroke-width:1;stroke-linecap:round;stroke-linejoin:round;stroke:rgb(0%,0%,0%);stroke-opacity:1;stroke-miterlimit:10;\" d=\"M 144.101562 214.558594 L 144.101562 221.761719 \"/>\n",
       "<path style=\"fill:none;stroke-width:1;stroke-linecap:round;stroke-linejoin:round;stroke:rgb(0%,0%,0%);stroke-opacity:1;stroke-miterlimit:10;\" d=\"M 186.21875 214.558594 L 186.21875 221.761719 \"/>\n",
       "<path style=\"fill:none;stroke-width:1;stroke-linecap:round;stroke-linejoin:round;stroke:rgb(0%,0%,0%);stroke-opacity:1;stroke-miterlimit:10;\" d=\"M 228.339844 214.558594 L 228.339844 221.761719 \"/>\n",
       "<g style=\"fill:rgb(0%,0%,0%);fill-opacity:1;\">\n",
       "  <use xlink:href=\"#glyph0-1\" x=\"56.386719\" y=\"241.921875\"/>\n",
       "</g>\n",
       "<g style=\"fill:rgb(0%,0%,0%);fill-opacity:1;\">\n",
       "  <use xlink:href=\"#glyph0-2\" x=\"95.027344\" y=\"241.921875\"/>\n",
       "  <use xlink:href=\"#glyph0-1\" x=\"101.979248\" y=\"241.921875\"/>\n",
       "</g>\n",
       "<g style=\"fill:rgb(0%,0%,0%);fill-opacity:1;\">\n",
       "  <use xlink:href=\"#glyph0-3\" x=\"137.148438\" y=\"241.921875\"/>\n",
       "  <use xlink:href=\"#glyph0-1\" x=\"144.100342\" y=\"241.921875\"/>\n",
       "</g>\n",
       "<g style=\"fill:rgb(0%,0%,0%);fill-opacity:1;\">\n",
       "  <use xlink:href=\"#glyph0-4\" x=\"179.265625\" y=\"241.921875\"/>\n",
       "  <use xlink:href=\"#glyph0-1\" x=\"186.217529\" y=\"241.921875\"/>\n",
       "</g>\n",
       "<g style=\"fill:rgb(0%,0%,0%);fill-opacity:1;\">\n",
       "  <use xlink:href=\"#glyph0-5\" x=\"221.386719\" y=\"241.921875\"/>\n",
       "  <use xlink:href=\"#glyph0-1\" x=\"228.338623\" y=\"241.921875\"/>\n",
       "</g>\n",
       "<path style=\"fill:none;stroke-width:1;stroke-linecap:round;stroke-linejoin:round;stroke:rgb(0%,0%,0%);stroke-opacity:1;stroke-miterlimit:10;\" d=\"M 59.039062 213.53125 L 59.039062 82.480469 \"/>\n",
       "<path style=\"fill:none;stroke-width:1;stroke-linecap:round;stroke-linejoin:round;stroke:rgb(0%,0%,0%);stroke-opacity:1;stroke-miterlimit:10;\" d=\"M 59.039062 213.53125 L 51.839844 213.53125 \"/>\n",
       "<path style=\"fill:none;stroke-width:1;stroke-linecap:round;stroke-linejoin:round;stroke:rgb(0%,0%,0%);stroke-opacity:1;stroke-miterlimit:10;\" d=\"M 59.039062 180.769531 L 51.839844 180.769531 \"/>\n",
       "<path style=\"fill:none;stroke-width:1;stroke-linecap:round;stroke-linejoin:round;stroke:rgb(0%,0%,0%);stroke-opacity:1;stroke-miterlimit:10;\" d=\"M 59.039062 148.003906 L 51.839844 148.003906 \"/>\n",
       "<path style=\"fill:none;stroke-width:1;stroke-linecap:round;stroke-linejoin:round;stroke:rgb(0%,0%,0%);stroke-opacity:1;stroke-miterlimit:10;\" d=\"M 59.039062 115.242188 L 51.839844 115.242188 \"/>\n",
       "<path style=\"fill:none;stroke-width:1;stroke-linecap:round;stroke-linejoin:round;stroke:rgb(0%,0%,0%);stroke-opacity:1;stroke-miterlimit:10;\" d=\"M 59.039062 82.480469 L 51.839844 82.480469 \"/>\n",
       "<g style=\"fill:rgb(0%,0%,0%);fill-opacity:1;\">\n",
       "  <use xlink:href=\"#glyph1-1\" x=\"43.199219\" y=\"217.007812\"/>\n",
       "</g>\n",
       "<g style=\"fill:rgb(0%,0%,0%);fill-opacity:1;\">\n",
       "  <use xlink:href=\"#glyph1-2\" x=\"43.199219\" y=\"187.722656\"/>\n",
       "  <use xlink:href=\"#glyph1-1\" x=\"43.199219\" y=\"180.770752\"/>\n",
       "</g>\n",
       "<g style=\"fill:rgb(0%,0%,0%);fill-opacity:1;\">\n",
       "  <use xlink:href=\"#glyph1-3\" x=\"43.199219\" y=\"154.957031\"/>\n",
       "  <use xlink:href=\"#glyph1-1\" x=\"43.199219\" y=\"148.005127\"/>\n",
       "</g>\n",
       "<g style=\"fill:rgb(0%,0%,0%);fill-opacity:1;\">\n",
       "  <use xlink:href=\"#glyph1-4\" x=\"43.199219\" y=\"122.195312\"/>\n",
       "  <use xlink:href=\"#glyph1-1\" x=\"43.199219\" y=\"115.243408\"/>\n",
       "</g>\n",
       "<g style=\"fill:rgb(0%,0%,0%);fill-opacity:1;\">\n",
       "  <use xlink:href=\"#glyph1-5\" x=\"43.199219\" y=\"89.433594\"/>\n",
       "  <use xlink:href=\"#glyph1-1\" x=\"43.199219\" y=\"82.481689\"/>\n",
       "</g>\n",
       "<path style=\"fill:none;stroke-width:1;stroke-linecap:round;stroke-linejoin:round;stroke:rgb(0%,0%,0%);stroke-opacity:1;stroke-miterlimit:10;\" d=\"M 59.039062 214.558594 L 257.761719 214.558594 L 257.761719 59.039062 L 59.039062 59.039062 L 59.039062 214.558594 \"/>\n",
       "<g style=\"fill:rgb(0%,0%,0%);fill-opacity:1;\">\n",
       "  <use xlink:href=\"#glyph0-6\" x=\"128.171875\" y=\"270.71875\"/>\n",
       "  <use xlink:href=\"#glyph0-7\" x=\"135.123779\" y=\"270.71875\"/>\n",
       "  <use xlink:href=\"#glyph0-8\" x=\"139.286377\" y=\"270.71875\"/>\n",
       "  <use xlink:href=\"#glyph0-9\" x=\"146.238281\" y=\"270.71875\"/>\n",
       "  <use xlink:href=\"#glyph0-10\" x=\"153.190186\" y=\"270.71875\"/>\n",
       "  <use xlink:href=\"#glyph0-11\" x=\"155.967285\" y=\"270.71875\"/>\n",
       "  <use xlink:href=\"#glyph0-12\" x=\"162.217285\" y=\"270.71875\"/>\n",
       "  <use xlink:href=\"#glyph0-10\" x=\"165.690186\" y=\"270.71875\"/>\n",
       "  <use xlink:href=\"#glyph0-13\" x=\"168.467285\" y=\"270.71875\"/>\n",
       "  <use xlink:href=\"#glyph0-14\" x=\"175.419189\" y=\"270.71875\"/>\n",
       "  <use xlink:href=\"#glyph0-15\" x=\"182.371094\" y=\"270.71875\"/>\n",
       "</g>\n",
       "<g style=\"fill:rgb(0%,0%,0%);fill-opacity:1;\">\n",
       "  <use xlink:href=\"#glyph1-6\" x=\"14.398438\" y=\"139.925781\"/>\n",
       "</g>\n",
       "</g>\n",
       "</svg>\n"
      ],
      "text/plain": [
       "plot without title"
      ]
     },
     "metadata": {
      "image/svg+xml": {
       "isolated": true
      }
     },
     "output_type": "display_data"
    }
   ],
   "source": [
    "# we can check that predictions are just projection of our data on the coefficients\n",
    "predictions <- M %*% as.matrix(coeffs)\n",
    "\n",
    "plot(predictions,y)"
   ]
  },
  {
   "cell_type": "markdown",
   "metadata": {},
   "source": [
    "By looking at the coefficient it looks like pH is the most important factor, but concentration and temperature are also significant. The other cross terms are, to the contrary, very small and seems not to influence the yield.\n",
    "\n",
    "The problem with this analysis is that the coefficient are obtained by solving the linear model $y=D*c$. where $D$ is the experimental design matrix and $c$ is for the coefficients. Therefore if the values in the D matrix are large, as for the temperature, the corresponding coefficient will be small to maintain the product constant. It is not possible to compare directly the coefficient if the parameters are not scaled.\n",
    "\n",
    "Before scaling the matrix $D$, here described as M, we can try to use statistics to help find out if what are the relevant parameters and how good is our model."
   ]
  },
  {
   "cell_type": "code",
   "execution_count": 121,
   "metadata": {},
   "outputs": [
    {
     "data": {
      "text/html": [
       "5"
      ],
      "text/latex": [
       "5"
      ],
      "text/markdown": [
       "5"
      ],
      "text/plain": [
       "[1] 5"
      ]
     },
     "execution_count": 121,
     "metadata": {},
     "output_type": "execute_result"
    },
    {
     "data": {
      "text/html": [
       "20"
      ],
      "text/latex": [
       "20"
      ],
      "text/markdown": [
       "20"
      ],
      "text/plain": [
       "[1] 20"
      ]
     },
     "execution_count": 121,
     "metadata": {},
     "output_type": "execute_result"
    },
    {
     "data": {
      "text/html": [
       "10"
      ],
      "text/latex": [
       "10"
      ],
      "text/markdown": [
       "10"
      ],
      "text/plain": [
       "[1] 10"
      ]
     },
     "execution_count": 121,
     "metadata": {},
     "output_type": "execute_result"
    },
    {
     "data": {
      "text/html": [
       "5"
      ],
      "text/latex": [
       "5"
      ],
      "text/markdown": [
       "5"
      ],
      "text/plain": [
       "[1] 5"
      ]
     },
     "execution_count": 121,
     "metadata": {},
     "output_type": "execute_result"
    }
   ],
   "source": [
    "# we start the evaluation of our model\n",
    "Rep <- duplicated(datas[,1:3])\n",
    "R <- sum( Rep ) \n",
    "N <- dim(datas)[1]\n",
    "P <- length(coeffs[[1]])\n",
    "D <- N - P - R\n",
    "D\n",
    "N\n",
    "P\n",
    "R"
   ]
  },
  {
   "cell_type": "markdown",
   "metadata": {},
   "source": [
    "There are 5 degrees of freedom, so the experimental design should allow to rule out or not the accuracy of the model."
   ]
  },
  {
   "cell_type": "code",
   "execution_count": 153,
   "metadata": {},
   "outputs": [
    {
     "data": {
      "text/html": [
       "<table>\n",
       "<thead><tr><th></th><th scope=col>mean.replicate</th><th scope=col>mean.residuals</th><th scope=col>mean.total</th><th scope=col>mean.predicted</th><th scope=col>mean.lack.of.fit</th></tr></thead>\n",
       "<tbody>\n",
       "\t<tr><th scope=row>1</th><td>   0.21</td><td>   0.80</td><td> 565.40</td><td>1130.00</td><td>   1.39</td></tr>\n",
       "</tbody>\n",
       "</table>\n"
      ],
      "text/latex": [
       "\\begin{tabular}{r|lllll}\n",
       "  & mean.replicate & mean.residuals & mean.total & mean.predicted & mean.lack.of.fit\\\\\n",
       "\\hline\n",
       "\t1 &    0.21 &    0.80 &  565.40 & 1130.00 &    1.39\\\\\n",
       "\\end{tabular}\n"
      ],
      "text/plain": [
       "  mean.replicate mean.residuals mean.total mean.predicted mean.lack.of.fit\n",
       "1           0.21            0.8      565.4           1130             1.39"
      ]
     },
     "execution_count": 153,
     "metadata": {},
     "output_type": "execute_result"
    }
   ],
   "source": [
    "S_replicate <- sum( (mean(datas$yield[Rep]) - datas$yield[Rep])^2 ) # R degrees of freedom\n",
    "S_residual <- sum ( (predictions - y)^2 ) # N-P degrees of freedom (# or S_total - S_predicted)\n",
    "S_total <- sum( datas$yield^2 ) # N degrees of freedom\n",
    "S_predicted <- sum( predictions^2 ) \n",
    "S_lackOfFit <- S_residual - S_replicate # N-P-R degrees of freedom\n",
    "Rsquare <- S_predicted / S_total\n",
    "\n",
    "meanS_replicate <- S_replicate / R\n",
    "meanS_residual <- S_residual / (N-P)\n",
    "meanS_total <- S_total / N\n",
    "meanS_predicted <- S_predicted / P\n",
    "meanS_lackOfFit <- S_lackOfFit / D\n",
    "\n",
    "result <- data.frame(\"mean replicate\"=meanS_replicate,\"mean residuals\"=meanS_residual,\"mean total\"=meanS_total, \"mean predicted\"=meanS_predicted, \"mean lack of fit\"=meanS_lackOfFit)\n",
    "round(result,2)"
   ]
  },
  {
   "cell_type": "code",
   "execution_count": 154,
   "metadata": {},
   "outputs": [
    {
     "data": {
      "text/html": [
       "<table>\n",
       "<thead><tr><th></th><th scope=col>coeffs</th><th scope=col>t</th><th scope=col>1-t</th></tr></thead>\n",
       "<tbody>\n",
       "\t<tr><th scope=row>intercept</th><td>4.544</td><td>0.001</td><td>0.999</td></tr>\n",
       "\t<tr><th scope=row>ph</th><td>-1.104</td><td> 0.295</td><td> 0.705</td></tr>\n",
       "\t<tr><th scope=row>temp</th><td>-18.27</td><td>  0.00</td><td>  1.00</td></tr>\n",
       "\t<tr><th scope=row>conc</th><td>1.311</td><td>0.219</td><td>0.781</td></tr>\n",
       "\t<tr><th scope=row>ph2</th><td>1.109</td><td>0.293</td><td>0.707</td></tr>\n",
       "\t<tr><th scope=row>temp2</th><td>14.597</td><td> 0.000</td><td> 1.000</td></tr>\n",
       "\t<tr><th scope=row>conc2</th><td>0.287</td><td>0.780</td><td>0.220</td></tr>\n",
       "\t<tr><th scope=row>phTemp</th><td>6.966</td><td>0.000</td><td>1.000</td></tr>\n",
       "\t<tr><th scope=row>phConc</th><td>1.111</td><td>0.293</td><td>0.707</td></tr>\n",
       "\t<tr><th scope=row>tempConc</th><td>1.842</td><td>0.095</td><td>0.905</td></tr>\n",
       "</tbody>\n",
       "</table>\n"
      ],
      "text/latex": [
       "\\begin{tabular}{r|lll}\n",
       "  & coeffs & t & 1-t\\\\\n",
       "\\hline\n",
       "\tintercept & 4.544 & 0.001 & 0.999\\\\\n",
       "\tph & -1.104 &  0.295 &  0.705\\\\\n",
       "\ttemp & -18.27 &   0.00 &   1.00\\\\\n",
       "\tconc & 1.311 & 0.219 & 0.781\\\\\n",
       "\tph2 & 1.109 & 0.293 & 0.707\\\\\n",
       "\ttemp2 & 14.597 &  0.000 &  1.000\\\\\n",
       "\tconc2 & 0.287 & 0.780 & 0.220\\\\\n",
       "\tphTemp & 6.966 & 0.000 & 1.000\\\\\n",
       "\tphConc & 1.111 & 0.293 & 0.707\\\\\n",
       "\ttempConc & 1.842 & 0.095 & 0.905\\\\\n",
       "\\end{tabular}\n"
      ],
      "text/plain": [
       "           coeffs coeffs coeffs\n",
       "intercept   4.544  0.001  0.999\n",
       "ph         -1.104  0.295  0.705\n",
       "temp      -18.270  0.000  1.000\n",
       "conc        1.311  0.219  0.781\n",
       "ph2         1.109  0.293  0.707\n",
       "temp2      14.597  0.000  1.000\n",
       "conc2       0.287  0.780  0.220\n",
       "phTemp      6.966  0.000  1.000\n",
       "phConc      1.111  0.293  0.707\n",
       "tempConc    1.842  0.095  0.905"
      ]
     },
     "execution_count": 154,
     "metadata": {},
     "output_type": "execute_result"
    }
   ],
   "source": [
    "# we calculate t-values and their probability associated \n",
    "T <- as.matrix(coeffs) / sqrt( diag( solve(t(M) %*% M) ) * meanS_residual )\n",
    "result <- data.frame(\"T\"=T)\n",
    "result[\"t\"] <- 2*pt(abs(T), df = N-P, lower.tail = FALSE)\n",
    "result[\"1-t\"] <- 1-(2 * pt(abs(T), df = N-P, lower.tail = FALSE))\n",
    "round(result, 3)"
   ]
  },
  {
   "cell_type": "code",
   "execution_count": 164,
   "metadata": {},
   "outputs": [
    {
     "data": {
      "text/html": [
       "<table>\n",
       "<thead><tr><th></th><th scope=col>F</th><th scope=col>qf</th><th scope=col>pf</th></tr></thead>\n",
       "<tbody>\n",
       "\t<tr><th scope=row>1</th><td>6.64</td><td>5.05</td><td>0.97</td></tr>\n",
       "</tbody>\n",
       "</table>\n"
      ],
      "text/latex": [
       "\\begin{tabular}{r|lll}\n",
       "  & F & qf & pf\\\\\n",
       "\\hline\n",
       "\t1 & 6.64 & 5.05 & 0.97\\\\\n",
       "\\end{tabular}\n"
      ],
      "text/plain": [
       "     F   qf   pf\n",
       "1 6.64 5.05 0.97"
      ]
     },
     "execution_count": 164,
     "metadata": {},
     "output_type": "execute_result"
    }
   ],
   "source": [
    "result <- data.frame( \"F\"=meanS_lackOfFit/meanS_replicate )\n",
    "result[\"qf\"] <- qf(0.95,D,R) # F-factor for 95% confidence\n",
    "result[\"pf\"] <- pf(result$F,D,R,lower.tail = TRUE)\n",
    "round(result,2)"
   ]
  },
  {
   "cell_type": "markdown",
   "metadata": {},
   "source": [
    "Because p-value is larger than 0.05 we can conclude that the model is accurate. Or more precisely, we cannot rule out our model as inaccurate."
   ]
  },
  {
   "cell_type": "markdown",
   "metadata": {},
   "source": [
    "## relation between the importance of variables and their magnitude\n",
    "We can scale the data. Sometime this is referred to as encoding the data."
   ]
  },
  {
   "cell_type": "code",
   "execution_count": 191,
   "metadata": {},
   "outputs": [
    {
     "data": {
      "text/html": [
       "<table>\n",
       "<thead><tr><th></th><th scope=col>ph</th><th scope=col>temp</th><th scope=col>conc</th><th scope=col>ph2</th><th scope=col>temp2</th><th scope=col>conc2</th><th scope=col>phTemp</th><th scope=col>phConc</th><th scope=col>tempConc</th><th scope=col>yield</th></tr></thead>\n",
       "<tbody>\n",
       "\t<tr><th scope=row>1</th><td> 1.000</td><td> 1.000</td><td> 1.000</td><td> 1.000</td><td> 1.000</td><td> 1.000</td><td> 1.000</td><td> 1.000</td><td> 1.000</td><td>34.841</td></tr>\n",
       "\t<tr><th scope=row>2</th><td> 1.000</td><td> 1.000</td><td>-1.000</td><td> 1.000</td><td> 1.000</td><td> 1.000</td><td> 1.000</td><td>-1.000</td><td>-1.000</td><td>16.567</td></tr>\n",
       "\t<tr><th scope=row>3</th><td> 1.000</td><td>-1.000</td><td> 1.000</td><td> 1.000</td><td> 1.000</td><td> 1.000</td><td>-1.000</td><td> 1.000</td><td>-1.000</td><td>45.396</td></tr>\n",
       "\t<tr><th scope=row>4</th><td> 1.000</td><td>-1.000</td><td>-1.000</td><td> 1.000</td><td> 1.000</td><td> 1.000</td><td>-1.000</td><td>-1.000</td><td> 1.000</td><td>27.939</td></tr>\n",
       "\t<tr><th scope=row>5</th><td>-1.000</td><td> 1.000</td><td> 1.000</td><td> 1.000</td><td> 1.000</td><td> 1.000</td><td>-1.000</td><td>-1.000</td><td> 1.000</td><td>19.825</td></tr>\n",
       "\t<tr><th scope=row>6</th><td>-1.000</td><td> 1.000</td><td>-1.000</td><td> 1.000</td><td> 1.000</td><td> 1.000</td><td>-1.000</td><td> 1.000</td><td>-1.000</td><td> 1.444</td></tr>\n",
       "\t<tr><th scope=row>7</th><td>-1.000</td><td>-1.000</td><td> 1.000</td><td> 1.000</td><td> 1.000</td><td> 1.000</td><td> 1.000</td><td>-1.000</td><td>-1.000</td><td>37.673</td></tr>\n",
       "\t<tr><th scope=row>8</th><td>-1.000</td><td>-1.000</td><td>-1.000</td><td> 1.000</td><td> 1.000</td><td> 1.000</td><td> 1.000</td><td> 1.000</td><td> 1.000</td><td>23.131</td></tr>\n",
       "\t<tr><th scope=row>9</th><td> 1.000</td><td> 0.000</td><td> 0.000</td><td> 1.000</td><td> 0.000</td><td> 0.000</td><td> 0.000</td><td> 0.000</td><td> 0.000</td><td>23.088</td></tr>\n",
       "\t<tr><th scope=row>10</th><td>-1.000</td><td> 0.000</td><td> 0.000</td><td> 1.000</td><td> 0.000</td><td> 0.000</td><td> 0.000</td><td> 0.000</td><td> 0.000</td><td>12.325</td></tr>\n",
       "\t<tr><th scope=row>11</th><td> 0.000</td><td> 1.000</td><td> 0.000</td><td> 0.000</td><td> 1.000</td><td> 0.000</td><td> 0.000</td><td> 0.000</td><td> 0.000</td><td>16.461</td></tr>\n",
       "\t<tr><th scope=row>12</th><td> 0.000</td><td>-1.000</td><td> 0.000</td><td> 0.000</td><td> 1.000</td><td> 0.000</td><td> 0.000</td><td> 0.000</td><td> 0.000</td><td>33.489</td></tr>\n",
       "\t<tr><th scope=row>13</th><td> 0.000</td><td> 0.000</td><td> 1.000</td><td> 0.000</td><td> 0.000</td><td> 1.000</td><td> 0.000</td><td> 0.000</td><td> 0.000</td><td>26.189</td></tr>\n",
       "\t<tr><th scope=row>14</th><td> 0.000</td><td> 0.000</td><td>-1.000</td><td> 0.000</td><td> 0.000</td><td> 1.000</td><td> 0.000</td><td> 0.000</td><td> 0.000</td><td> 8.337</td></tr>\n",
       "\t<tr><th scope=row>15</th><td> 0.000</td><td> 0.000</td><td> 0.000</td><td> 0.000</td><td> 0.000</td><td> 0.000</td><td> 0.000</td><td> 0.000</td><td> 0.000</td><td>19.192</td></tr>\n",
       "\t<tr><th scope=row>16</th><td> 0.000</td><td> 0.000</td><td> 0.000</td><td> 0.000</td><td> 0.000</td><td> 0.000</td><td> 0.000</td><td> 0.000</td><td> 0.000</td><td>16.579</td></tr>\n",
       "\t<tr><th scope=row>17</th><td> 0.000</td><td> 0.000</td><td> 0.000</td><td> 0.000</td><td> 0.000</td><td> 0.000</td><td> 0.000</td><td> 0.000</td><td> 0.000</td><td>17.794</td></tr>\n",
       "\t<tr><th scope=row>18</th><td> 0.00</td><td> 0.00</td><td> 0.00</td><td> 0.00</td><td> 0.00</td><td> 0.00</td><td> 0.00</td><td> 0.00</td><td> 0.00</td><td>16.65</td></tr>\n",
       "\t<tr><th scope=row>19</th><td> 0.000</td><td> 0.000</td><td> 0.000</td><td> 0.000</td><td> 0.000</td><td> 0.000</td><td> 0.000</td><td> 0.000</td><td> 0.000</td><td>16.799</td></tr>\n",
       "\t<tr><th scope=row>20</th><td> 0.000</td><td> 0.000</td><td> 0.000</td><td> 0.000</td><td> 0.000</td><td> 0.000</td><td> 0.000</td><td> 0.000</td><td> 0.000</td><td>16.635</td></tr>\n",
       "</tbody>\n",
       "</table>\n"
      ],
      "text/latex": [
       "\\begin{tabular}{r|llllllllll}\n",
       "  & ph & temp & conc & ph2 & temp2 & conc2 & phTemp & phConc & tempConc & yield\\\\\n",
       "\\hline\n",
       "\t1 &  1.000 &  1.000 &  1.000 &  1.000 &  1.000 &  1.000 &  1.000 &  1.000 &  1.000 & 34.841\\\\\n",
       "\t2 &  1.000 &  1.000 & -1.000 &  1.000 &  1.000 &  1.000 &  1.000 & -1.000 & -1.000 & 16.567\\\\\n",
       "\t3 &  1.000 & -1.000 &  1.000 &  1.000 &  1.000 &  1.000 & -1.000 &  1.000 & -1.000 & 45.396\\\\\n",
       "\t4 &  1.000 & -1.000 & -1.000 &  1.000 &  1.000 &  1.000 & -1.000 & -1.000 &  1.000 & 27.939\\\\\n",
       "\t5 & -1.000 &  1.000 &  1.000 &  1.000 &  1.000 &  1.000 & -1.000 & -1.000 &  1.000 & 19.825\\\\\n",
       "\t6 & -1.000 &  1.000 & -1.000 &  1.000 &  1.000 &  1.000 & -1.000 &  1.000 & -1.000 &  1.444\\\\\n",
       "\t7 & -1.000 & -1.000 &  1.000 &  1.000 &  1.000 &  1.000 &  1.000 & -1.000 & -1.000 & 37.673\\\\\n",
       "\t8 & -1.000 & -1.000 & -1.000 &  1.000 &  1.000 &  1.000 &  1.000 &  1.000 &  1.000 & 23.131\\\\\n",
       "\t9 &  1.000 &  0.000 &  0.000 &  1.000 &  0.000 &  0.000 &  0.000 &  0.000 &  0.000 & 23.088\\\\\n",
       "\t10 & -1.000 &  0.000 &  0.000 &  1.000 &  0.000 &  0.000 &  0.000 &  0.000 &  0.000 & 12.325\\\\\n",
       "\t11 &  0.000 &  1.000 &  0.000 &  0.000 &  1.000 &  0.000 &  0.000 &  0.000 &  0.000 & 16.461\\\\\n",
       "\t12 &  0.000 & -1.000 &  0.000 &  0.000 &  1.000 &  0.000 &  0.000 &  0.000 &  0.000 & 33.489\\\\\n",
       "\t13 &  0.000 &  0.000 &  1.000 &  0.000 &  0.000 &  1.000 &  0.000 &  0.000 &  0.000 & 26.189\\\\\n",
       "\t14 &  0.000 &  0.000 & -1.000 &  0.000 &  0.000 &  1.000 &  0.000 &  0.000 &  0.000 &  8.337\\\\\n",
       "\t15 &  0.000 &  0.000 &  0.000 &  0.000 &  0.000 &  0.000 &  0.000 &  0.000 &  0.000 & 19.192\\\\\n",
       "\t16 &  0.000 &  0.000 &  0.000 &  0.000 &  0.000 &  0.000 &  0.000 &  0.000 &  0.000 & 16.579\\\\\n",
       "\t17 &  0.000 &  0.000 &  0.000 &  0.000 &  0.000 &  0.000 &  0.000 &  0.000 &  0.000 & 17.794\\\\\n",
       "\t18 &  0.00 &  0.00 &  0.00 &  0.00 &  0.00 &  0.00 &  0.00 &  0.00 &  0.00 & 16.65\\\\\n",
       "\t19 &  0.000 &  0.000 &  0.000 &  0.000 &  0.000 &  0.000 &  0.000 &  0.000 &  0.000 & 16.799\\\\\n",
       "\t20 &  0.000 &  0.000 &  0.000 &  0.000 &  0.000 &  0.000 &  0.000 &  0.000 &  0.000 & 16.635\\\\\n",
       "\\end{tabular}\n"
      ],
      "text/plain": [
       "   ph temp conc ph2 temp2 conc2 phTemp phConc tempConc  yield\n",
       "1   1    1    1   1     1     1      1      1        1 34.841\n",
       "2   1    1   -1   1     1     1      1     -1       -1 16.567\n",
       "3   1   -1    1   1     1     1     -1      1       -1 45.396\n",
       "4   1   -1   -1   1     1     1     -1     -1        1 27.939\n",
       "5  -1    1    1   1     1     1     -1     -1        1 19.825\n",
       "6  -1    1   -1   1     1     1     -1      1       -1  1.444\n",
       "7  -1   -1    1   1     1     1      1     -1       -1 37.673\n",
       "8  -1   -1   -1   1     1     1      1      1        1 23.131\n",
       "9   1    0    0   1     0     0      0      0        0 23.088\n",
       "10 -1    0    0   1     0     0      0      0        0 12.325\n",
       "11  0    1    0   0     1     0      0      0        0 16.461\n",
       "12  0   -1    0   0     1     0      0      0        0 33.489\n",
       "13  0    0    1   0     0     1      0      0        0 26.189\n",
       "14  0    0   -1   0     0     1      0      0        0  8.337\n",
       "15  0    0    0   0     0     0      0      0        0 19.192\n",
       "16  0    0    0   0     0     0      0      0        0 16.579\n",
       "17  0    0    0   0     0     0      0      0        0 17.794\n",
       "18  0    0    0   0     0     0      0      0        0 16.650\n",
       "19  0    0    0   0     0     0      0      0        0 16.799\n",
       "20  0    0    0   0     0     0      0      0        0 16.635"
      ]
     },
     "execution_count": 191,
     "metadata": {},
     "output_type": "execute_result"
    }
   ],
   "source": [
    "maxs <- apply(d[1:3,],1,max); mins <- apply(d[1:3,],1,min)\n",
    "d[1:3,] <- t( scale(t(d)[,1:3],center = (mins + maxs)/2, scale = (maxs - mins)/2) )\n",
    "datas <- data.frame(\"ph\"=d[1,],\"temp\"=d[2,],\"conc\"=d[3,], \"ph2\"=d[1,]^2, \"temp2\"=d[2,]^2, \"conc2\"=d[3,]^2, \"phTemp\"=d[1,]*d[2,], \"phConc\"=d[1,]*d[3,], \"tempConc\"=d[2,]*d[3,], \"yield\"=d[4,])\n",
    "datas"
   ]
  },
  {
   "cell_type": "markdown",
   "metadata": {},
   "source": [
    "If we perform the regression again, the magnitude of the coefficient will not depend any more on their absolute value. This simplifies the analysis of finding the most important parameters."
   ]
  },
  {
   "cell_type": "code",
   "execution_count": 27,
   "metadata": {},
   "outputs": [
    {
     "data": {
      "text/html": [
       "<table>\n",
       "<thead><tr><th></th><th scope=col>F</th><th scope=col>mean.replicate</th><th scope=col>mean.residuals</th><th scope=col>mean.total</th><th scope=col>mean.predicted</th><th scope=col>mean.lack.of.fit</th></tr></thead>\n",
       "<tbody>\n",
       "\t<tr><th scope=row>1</th><td>   6.64</td><td>   0.21</td><td>   0.80</td><td> 565.40</td><td>1130.00</td><td>   1.39</td></tr>\n",
       "</tbody>\n",
       "</table>\n"
      ],
      "text/latex": [
       "\\begin{tabular}{r|llllll}\n",
       "  & F & mean.replicate & mean.residuals & mean.total & mean.predicted & mean.lack.of.fit\\\\\n",
       "\\hline\n",
       "\t1 &    6.64 &    0.21 &    0.80 &  565.40 & 1130.00 &    1.39\\\\\n",
       "\\end{tabular}\n"
      ],
      "text/plain": [
       "     F mean.replicate mean.residuals mean.total mean.predicted mean.lack.of.fit\n",
       "1 6.64           0.21            0.8      565.4           1130             1.39"
      ]
     },
     "execution_count": 27,
     "metadata": {},
     "output_type": "execute_result"
    },
    {
     "data": {
      "text/html": [
       "<table>\n",
       "<thead><tr><th></th><th scope=col>coeffs</th><th scope=col>t</th><th scope=col>t.prob</th></tr></thead>\n",
       "<tbody>\n",
       "\t<tr><th scope=row></th><td> 17.20834</td><td> 56.01061</td><td>100.00000</td></tr>\n",
       "\t<tr><th scope=row>ph</th><td>  5.34330</td><td> 18.90673</td><td>100.00000</td></tr>\n",
       "\t<tr><th scope=row>temp</th><td> -7.84900</td><td>-27.77289</td><td>100.00000</td></tr>\n",
       "\t<tr><th scope=row>conc</th><td>  8.65060</td><td> 30.60927</td><td>100.00000</td></tr>\n",
       "\t<tr><th scope=row>ph2</th><td> 0.5979091</td><td> 1.1094514</td><td>70.6797496</td></tr>\n",
       "\t<tr><th scope=row>temp2</th><td>  7.866409</td><td> 14.596530</td><td> 99.999995</td></tr>\n",
       "\t<tr><th scope=row>conc2</th><td> 0.1544091</td><td> 0.2865141</td><td>21.9667327</td></tr>\n",
       "\t<tr><th scope=row>phTemp</th><td> 2.201000</td><td> 6.965813</td><td>99.996128</td></tr>\n",
       "\t<tr><th scope=row>phConc</th><td> 0.351000</td><td> 1.110859</td><td>70.737550</td></tr>\n",
       "\t<tr><th scope=row>tempConc</th><td> 0.582000</td><td> 1.841937</td><td>90.470412</td></tr>\n",
       "</tbody>\n",
       "</table>\n"
      ],
      "text/latex": [
       "\\begin{tabular}{r|lll}\n",
       "  & coeffs & t & t.prob\\\\\n",
       "\\hline\n",
       "\t &  17.20834 &  56.01061 & 100.00000\\\\\n",
       "\tph &   5.34330 &  18.90673 & 100.00000\\\\\n",
       "\ttemp &  -7.84900 & -27.77289 & 100.00000\\\\\n",
       "\tconc &   8.65060 &  30.60927 & 100.00000\\\\\n",
       "\tph2 &  0.5979091 &  1.1094514 & 70.6797496\\\\\n",
       "\ttemp2 &   7.866409 &  14.596530 &  99.999995\\\\\n",
       "\tconc2 &  0.1544091 &  0.2865141 & 21.9667327\\\\\n",
       "\tphTemp &  2.201000 &  6.965813 & 99.996128\\\\\n",
       "\tphConc &  0.351000 &  1.110859 & 70.737550\\\\\n",
       "\ttempConc &  0.582000 &  1.841937 & 90.470412\\\\\n",
       "\\end{tabular}\n"
      ],
      "text/plain": [
       "             coeffs           t    t.prob\n",
       "         17.2083364  56.0106113 100.00000\n",
       "ph        5.3433000  18.9067255 100.00000\n",
       "temp     -7.8490000 -27.7728909 100.00000\n",
       "conc      8.6506000  30.6092713 100.00000\n",
       "ph2       0.5979091   1.1094514  70.67975\n",
       "temp2     7.8664091  14.5965303 100.00000\n",
       "conc2     0.1544091   0.2865141  21.96673\n",
       "phTemp    2.2010000   6.9658127  99.99613\n",
       "phConc    0.3510000   1.1108588  70.73755\n",
       "tempConc  0.5820000   1.8419369  90.47041"
      ]
     },
     "execution_count": 27,
     "metadata": {},
     "output_type": "execute_result"
    }
   ],
   "source": [
    "# we define the matrix of data (X)\n",
    "M <- as.matrix(datas[,1:9])\n",
    "M <- cbind(rep(1,20),M) # adds intercept\n",
    "# we define y, the response\n",
    "y <- datas[,10]\n",
    "# we calculate the regression coefficient manually\n",
    "coeffs <- solve(t(M) %*% M) %*% t(M) %*% y\n",
    "# we can check that predictions are just projection of our data on the coefficients\n",
    "predictions <- M %*% coeffs\n",
    "\n",
    "# we start the evaluation of our model\n",
    "Rep <- duplicated(datas[,1:3])\n",
    "R <- sum( Rep ) \n",
    "N <- dim(datas)[1]\n",
    "P <- length(coeffs)\n",
    "D <- N - P - R\n",
    "\n",
    "S_replicate <- sum( (mean(datas$yield[Rep]) - datas$yield[Rep])^2 ) # R degrees of freedom\n",
    "S_residual <- sum ( (predictions - y)^2 ) # N-P degrees of freedom (# or S_total - S_predicted)\n",
    "S_total <- sum( datas$yield^2 ) # N degrees of freedom\n",
    "S_predicted <- sum( predictions^2 ) \n",
    "S_lackOfFit <- S_residual - S_replicate # N-P-R degrees of freedom\n",
    "Rsquare <- S_predicted / S_total\n",
    "\n",
    "meanS_replicate <- S_replicate / R\n",
    "meanS_residual <- S_residual / (N-P)\n",
    "meanS_total <- S_total / N\n",
    "meanS_predicted <- S_predicted / P\n",
    "meanS_lackOfFit <- S_lackOfFit / D\n",
    "\n",
    "F <- meanS_lackOfFit / meanS_replicate\n",
    "\n",
    "result = data.frame(\"F\"=F,\"mean replicate\"=meanS_replicate,\"mean residuals\"=meanS_residual,\"mean total\"=meanS_total, \"mean predicted\"=meanS_predicted, \"mean lack of fit\"=meanS_lackOfFit)\n",
    "round(result,2)\n",
    "\n",
    "# we calculate t-values and their probability associated \n",
    "ttest <- coeffs / sqrt( diag( solve(t(M) %*% M) ) * meanS_residual )\n",
    "tprob <- 1-(2 * pt(abs(ttest), df = N-P, lower.tail = FALSE))\n",
    "table2.11 <- data.frame(\"coeffs\"=coeffs,\"t\"=ttest,\"t-prob\"=tprob*100)\n",
    "table2.11"
   ]
  },
  {
   "cell_type": "markdown",
   "metadata": {},
   "source": [
    "Scaling the data allows us to directly compare the coefficients, since the significance of the variable is a product of its magnitude by the coefficients. Now, all variable weight the same (their norm is equal to 1), so their coefficient directly reflects their importance. By comparing results obtained with and without scaling the variables we inmediatly notice important changes. By not scaling the data you might have wrongly concluded that only the first 3 parameters were relevant, while a proper scaling of the data shows that the $T^2$ and pH$ \\times T$ might be relevant as well."
   ]
  },
  {
   "cell_type": "markdown",
   "metadata": {},
   "source": [
    "### Leverage\n",
    "\n",
    "Finally we can test different experimental designs (See Table 2.15) and see how the prediction confidence depends on it. For example the accuracy of the prediction may change if points for sampling are distributed in a different manner.\n",
    "\n",
    "<mark>Not only the number of point, and the number of replicate have an influence of the model accuracy, the way sample points are chosen also affect the result.</mark>\n",
    "\n",
    "Here we calculate the leverate for designs of Table 2.15"
   ]
  },
  {
   "cell_type": "code",
   "execution_count": 168,
   "metadata": {},
   "outputs": [
    {
     "data": {
      "text/html": [
       "<ol class=list-inline>\n",
       "\t<li>0.23</li>\n",
       "\t<li>0.23</li>\n",
       "\t<li>0.23</li>\n",
       "\t<li>0.13</li>\n",
       "\t<li>0.13</li>\n",
       "\t<li>0.09</li>\n",
       "\t<li>0.13</li>\n",
       "\t<li>0.13</li>\n",
       "\t<li>0.23</li>\n",
       "\t<li>0.23</li>\n",
       "\t<li>0.23</li>\n",
       "</ol>\n"
      ],
      "text/latex": [
       "\\begin{enumerate*}\n",
       "\\item 0.23\n",
       "\\item 0.23\n",
       "\\item 0.23\n",
       "\\item 0.13\n",
       "\\item 0.13\n",
       "\\item 0.09\n",
       "\\item 0.13\n",
       "\\item 0.13\n",
       "\\item 0.23\n",
       "\\item 0.23\n",
       "\\item 0.23\n",
       "\\end{enumerate*}\n"
      ],
      "text/markdown": [
       "1. 0.23\n",
       "2. 0.23\n",
       "3. 0.23\n",
       "4. 0.13\n",
       "5. 0.13\n",
       "6. 0.09\n",
       "7. 0.13\n",
       "8. 0.13\n",
       "9. 0.23\n",
       "10. 0.23\n",
       "11. 0.23\n",
       "\n",
       "\n"
      ],
      "text/plain": [
       " [1] 0.23 0.23 0.23 0.13 0.13 0.09 0.13 0.13 0.23 0.23 0.23"
      ]
     },
     "execution_count": 168,
     "metadata": {},
     "output_type": "execute_result"
    },
    {
     "data": {
      "text/html": [
       "<ol class=list-inline>\n",
       "\t<li>0.29</li>\n",
       "\t<li>0.29</li>\n",
       "\t<li>0.14</li>\n",
       "\t<li>0.14</li>\n",
       "\t<li>0.09</li>\n",
       "\t<li>0.09</li>\n",
       "\t<li>0.09</li>\n",
       "\t<li>0.14</li>\n",
       "\t<li>0.14</li>\n",
       "\t<li>0.29</li>\n",
       "\t<li>0.29</li>\n",
       "</ol>\n"
      ],
      "text/latex": [
       "\\begin{enumerate*}\n",
       "\\item 0.29\n",
       "\\item 0.29\n",
       "\\item 0.14\n",
       "\\item 0.14\n",
       "\\item 0.09\n",
       "\\item 0.09\n",
       "\\item 0.09\n",
       "\\item 0.14\n",
       "\\item 0.14\n",
       "\\item 0.29\n",
       "\\item 0.29\n",
       "\\end{enumerate*}\n"
      ],
      "text/markdown": [
       "1. 0.29\n",
       "2. 0.29\n",
       "3. 0.14\n",
       "4. 0.14\n",
       "5. 0.09\n",
       "6. 0.09\n",
       "7. 0.09\n",
       "8. 0.14\n",
       "9. 0.14\n",
       "10. 0.29\n",
       "11. 0.29\n",
       "\n",
       "\n"
      ],
      "text/plain": [
       " [1] 0.29 0.29 0.14 0.14 0.09 0.09 0.09 0.14 0.14 0.29 0.29"
      ]
     },
     "execution_count": 168,
     "metadata": {},
     "output_type": "execute_result"
    },
    {
     "data": {
      "text/html": [
       "<ol class=list-inline>\n",
       "\t<li>0.18</li>\n",
       "\t<li>0.18</li>\n",
       "\t<li>0.18</li>\n",
       "\t<li>0.18</li>\n",
       "\t<li>0.1</li>\n",
       "\t<li>0.1</li>\n",
       "\t<li>0.1</li>\n",
       "\t<li>0.12</li>\n",
       "\t<li>0.12</li>\n",
       "\t<li>0.26</li>\n",
       "\t<li>0.5</li>\n",
       "</ol>\n"
      ],
      "text/latex": [
       "\\begin{enumerate*}\n",
       "\\item 0.18\n",
       "\\item 0.18\n",
       "\\item 0.18\n",
       "\\item 0.18\n",
       "\\item 0.1\n",
       "\\item 0.1\n",
       "\\item 0.1\n",
       "\\item 0.12\n",
       "\\item 0.12\n",
       "\\item 0.26\n",
       "\\item 0.5\n",
       "\\end{enumerate*}\n"
      ],
      "text/markdown": [
       "1. 0.18\n",
       "2. 0.18\n",
       "3. 0.18\n",
       "4. 0.18\n",
       "5. 0.1\n",
       "6. 0.1\n",
       "7. 0.1\n",
       "8. 0.12\n",
       "9. 0.12\n",
       "10. 0.26\n",
       "11. 0.5\n",
       "\n",
       "\n"
      ],
      "text/plain": [
       " [1] 0.18 0.18 0.18 0.18 0.10 0.10 0.10 0.12 0.12 0.26 0.50"
      ]
     },
     "execution_count": 168,
     "metadata": {},
     "output_type": "execute_result"
    }
   ],
   "source": [
    "A <- cbind(rep(1,11), c(1, 1, 1, 2, 2, 3, 4, 4, 5, 5, 5) )\n",
    "round(diag( A %*% solve(t(A) %*% A) %*% t(A) ),2)\n",
    "\n",
    "A <- cbind(rep(1,11), c(1, 1, 2, 2, 3, 3, 3, 4, 4, 5, 5) )\n",
    "round(diag( A %*% solve(t(A) %*% A) %*% t(A) ),2)\n",
    "\n",
    "A <- cbind(rep(1,11), c(1, 1, 1, 1, 2, 2, 2, 3, 3, 4, 5) )\n",
    "round(diag( A %*% solve(t(A) %*% A) %*% t(A) ),2)"
   ]
  },
  {
   "cell_type": "markdown",
   "metadata": {},
   "source": [
    "For more on experimental design, please consult Brereton, R. G. (2003). Chemometrics. Technometrics. Chichester, UK: John Wiley & Sons, Ltd. http://doi.org/10.1002/0470863242"
   ]
  }
 ],
 "metadata": {
  "kernelspec": {
   "display_name": "R",
   "language": "R",
   "name": "ir"
  },
  "language_info": {
   "codemirror_mode": "r",
   "file_extension": ".r",
   "mimetype": "text/x-r-source",
   "name": "R",
   "pygments_lexer": "r",
   "version": "4.0.3"
  }
 },
 "nbformat": 4,
 "nbformat_minor": 4
}
