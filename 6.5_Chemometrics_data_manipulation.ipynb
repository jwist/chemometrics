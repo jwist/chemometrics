{
 "cells": [
  {
   "cell_type": "markdown",
   "metadata": {},
   "source": [
    "# Chemometrics\n",
    "<br>\n",
    "**Julien Wist / 2017 / Universidad del Valle**\n",
    "<br>\n",
    "**Andrés Bernal / 2017 / ???**\n",
    "\n",
    "An up-to-date version of this notebook can be found here: https://github.com/jwist/chemometrics/"
   ]
  },
  {
   "cell_type": "code",
   "execution_count": 1,
   "metadata": {},
   "outputs": [],
   "source": [
    "options(repr.plot.width=4, repr.plot.height=4)"
   ]
  },
  {
   "cell_type": "markdown",
   "metadata": {},
   "source": [
    "# manipulating data with R"
   ]
  },
  {
   "cell_type": "markdown",
   "metadata": {},
   "source": [
    "R is a language tought from the statistical standpoint. It is at first a little counter intuitive for people used to matlab like programming. Matlab and the likes, scilab, octave, python, are build from the linear algebra standpoint.\n",
    "\n",
    "Thus R is optimal for statistical data manipulation since it provide a large number of built-in functions. However most of these functions are ignored because they have no equivalent in matlab. \n",
    "\n",
    "In this section, I will list some very important functions that are usually discovered too late... and that can greatly simplify the code and more importantly make it more readeable."
   ]
  },
  {
   "cell_type": "markdown",
   "metadata": {},
   "source": [
    "First load some data to play with."
   ]
  },
  {
   "cell_type": "code",
   "execution_count": 3,
   "metadata": {},
   "outputs": [],
   "source": [
    "load(url('https://github.com/jwist/chemometrics/raw/master/datasets/coffeeMulti.rda'))"
   ]
  },
  {
   "cell_type": "code",
   "execution_count": 4,
   "metadata": {},
   "outputs": [
    {
     "data": {
      "text/html": [
       "'coffeeMulti'"
      ],
      "text/latex": [
       "'coffeeMulti'"
      ],
      "text/markdown": [
       "'coffeeMulti'"
      ],
      "text/plain": [
       "[1] \"coffeeMulti\""
      ]
     },
     "metadata": {},
     "output_type": "display_data"
    }
   ],
   "source": [
    "# use ls to list the variables and discover that whas saved into this file\n",
    "ls()"
   ]
  },
  {
   "cell_type": "code",
   "execution_count": 6,
   "metadata": {},
   "outputs": [
    {
     "data": {
      "text/html": [
       "<ol class=list-inline>\n",
       "\t<li>'nmrBin'</li>\n",
       "\t<li>'nmrParam'</li>\n",
       "\t<li>'irms'</li>\n",
       "\t<li>'gc'</li>\n",
       "</ol>\n"
      ],
      "text/latex": [
       "\\begin{enumerate*}\n",
       "\\item 'nmrBin'\n",
       "\\item 'nmrParam'\n",
       "\\item 'irms'\n",
       "\\item 'gc'\n",
       "\\end{enumerate*}\n"
      ],
      "text/markdown": [
       "1. 'nmrBin'\n",
       "2. 'nmrParam'\n",
       "3. 'irms'\n",
       "4. 'gc'\n",
       "\n",
       "\n"
      ],
      "text/plain": [
       "[1] \"nmrBin\"   \"nmrParam\" \"irms\"     \"gc\"      "
      ]
     },
     "metadata": {},
     "output_type": "display_data"
    }
   ],
   "source": [
    "# use the following command to explore the variable.\n",
    "names(coffeeMulti)"
   ]
  },
  {
   "cell_type": "code",
   "execution_count": 10,
   "metadata": {},
   "outputs": [
    {
     "data": {
      "text/html": [
       "<table>\n",
       "<thead><tr><th></th><th scope=col>code</th><th scope=col>country</th><th scope=col>department</th><th scope=col>caffeine1</th><th scope=col>caffeine2</th><th scope=col>mean</th></tr></thead>\n",
       "<tbody>\n",
       "\t<tr><th scope=row>5</th><td>1172    </td><td>Colombia</td><td>Tolima  </td><td>-28.285 </td><td>-27.936 </td><td>-28.111 </td></tr>\n",
       "\t<tr><th scope=row>6</th><td>1173    </td><td>Colombia</td><td>Tolima  </td><td>-28.931 </td><td>-28.800 </td><td>-28.866 </td></tr>\n",
       "\t<tr><th scope=row>7</th><td>1198    </td><td>Brasil  </td><td>Otro    </td><td>-28.056 </td><td>-28.274 </td><td>-28.165 </td></tr>\n",
       "\t<tr><th scope=row>8</th><td>1199    </td><td>Colombia</td><td>Huila   </td><td>-28.154 </td><td>-28.022 </td><td>-28.088 </td></tr>\n",
       "\t<tr><th scope=row>10</th><td>1201    </td><td>Colombia</td><td>Huila   </td><td>-28.198 </td><td>-28.372 </td><td>-28.285 </td></tr>\n",
       "\t<tr><th scope=row>11</th><td>1204    </td><td>Brasil  </td><td>Otro    </td><td>-27.949 </td><td>-27.978 </td><td>-27.964 </td></tr>\n",
       "</tbody>\n",
       "</table>\n"
      ],
      "text/latex": [
       "\\begin{tabular}{r|llllll}\n",
       "  & code & country & department & caffeine1 & caffeine2 & mean\\\\\n",
       "\\hline\n",
       "\t5 & 1172     & Colombia & Tolima   & -28.285  & -27.936  & -28.111 \\\\\n",
       "\t6 & 1173     & Colombia & Tolima   & -28.931  & -28.800  & -28.866 \\\\\n",
       "\t7 & 1198     & Brasil   & Otro     & -28.056  & -28.274  & -28.165 \\\\\n",
       "\t8 & 1199     & Colombia & Huila    & -28.154  & -28.022  & -28.088 \\\\\n",
       "\t10 & 1201     & Colombia & Huila    & -28.198  & -28.372  & -28.285 \\\\\n",
       "\t11 & 1204     & Brasil   & Otro     & -27.949  & -27.978  & -27.964 \\\\\n",
       "\\end{tabular}\n"
      ],
      "text/markdown": [
       "\n",
       "| <!--/--> | code | country | department | caffeine1 | caffeine2 | mean | \n",
       "|---|---|---|---|---|---|\n",
       "| 5 | 1172     | Colombia | Tolima   | -28.285  | -27.936  | -28.111  | \n",
       "| 6 | 1173     | Colombia | Tolima   | -28.931  | -28.800  | -28.866  | \n",
       "| 7 | 1198     | Brasil   | Otro     | -28.056  | -28.274  | -28.165  | \n",
       "| 8 | 1199     | Colombia | Huila    | -28.154  | -28.022  | -28.088  | \n",
       "| 10 | 1201     | Colombia | Huila    | -28.198  | -28.372  | -28.285  | \n",
       "| 11 | 1204     | Brasil   | Otro     | -27.949  | -27.978  | -27.964  | \n",
       "\n",
       "\n"
      ],
      "text/plain": [
       "   code country  department caffeine1 caffeine2 mean   \n",
       "5  1172 Colombia Tolima     -28.285   -27.936   -28.111\n",
       "6  1173 Colombia Tolima     -28.931   -28.800   -28.866\n",
       "7  1198 Brasil   Otro       -28.056   -28.274   -28.165\n",
       "8  1199 Colombia Huila      -28.154   -28.022   -28.088\n",
       "10 1201 Colombia Huila      -28.198   -28.372   -28.285\n",
       "11 1204 Brasil   Otro       -27.949   -27.978   -27.964"
      ]
     },
     "metadata": {},
     "output_type": "display_data"
    }
   ],
   "source": [
    "# use head to visualize the data\n",
    "head( coffeeMulti$irms )"
   ]
  },
  {
   "cell_type": "markdown",
   "metadata": {},
   "source": [
    "Let's play with the Isotope Ratio Mass Spectrometry (IRMS) data"
   ]
  },
  {
   "cell_type": "code",
   "execution_count": 13,
   "metadata": {},
   "outputs": [
    {
     "data": {
      "text/html": [
       "<ol class=list-inline>\n",
       "\t<li>'AsIs'</li>\n",
       "\t<li>'oldClass'</li>\n",
       "</ol>\n"
      ],
      "text/latex": [
       "\\begin{enumerate*}\n",
       "\\item 'AsIs'\n",
       "\\item 'oldClass'\n",
       "\\end{enumerate*}\n"
      ],
      "text/markdown": [
       "1. 'AsIs'\n",
       "2. 'oldClass'\n",
       "\n",
       "\n"
      ],
      "text/plain": [
       "[1] \"AsIs\"     \"oldClass\""
      ]
     },
     "metadata": {},
     "output_type": "display_data"
    }
   ],
   "source": [
    "d <- coffeeMulti$irms\n",
    "is(d)"
   ]
  },
  {
   "cell_type": "markdown",
   "metadata": {},
   "source": [
    "Let's compute the mean colomn from the two columns \"caffeine1\" and \"caffeine2\". This is done easily using the apply function to manipulate arrays. The first argument is the array, in this case the two columns, the second argument is the \"MARGIN\", 1 for rows and 2 for columns, and the last arguments is the function to be applied. The MARGIN tells how to apply the mean function. "
   ]
  },
  {
   "cell_type": "code",
   "execution_count": 24,
   "metadata": {},
   "outputs": [
    {
     "data": {
      "text/html": [
       "<table>\n",
       "<thead><tr><th></th><th scope=col>mean</th></tr></thead>\n",
       "<tbody>\n",
       "\t<tr><th scope=row>5</th><td>-28.1105</td></tr>\n",
       "\t<tr><th scope=row>6</th><td>-28.8655</td></tr>\n",
       "\t<tr><th scope=row>7</th><td>-28.1650</td></tr>\n",
       "\t<tr><th scope=row>8</th><td>-28.0880</td></tr>\n",
       "\t<tr><th scope=row>10</th><td>-28.2850</td></tr>\n",
       "\t<tr><th scope=row>11</th><td>-27.9635</td></tr>\n",
       "</tbody>\n",
       "</table>\n"
      ],
      "text/latex": [
       "\\begin{tabular}{r|l}\n",
       "  & mean\\\\\n",
       "\\hline\n",
       "\t5 & -28.1105\\\\\n",
       "\t6 & -28.8655\\\\\n",
       "\t7 & -28.1650\\\\\n",
       "\t8 & -28.0880\\\\\n",
       "\t10 & -28.2850\\\\\n",
       "\t11 & -27.9635\\\\\n",
       "\\end{tabular}\n"
      ],
      "text/markdown": [
       "\n",
       "| <!--/--> | mean | \n",
       "|---|---|---|---|---|---|\n",
       "| 5 | -28.1105 | \n",
       "| 6 | -28.8655 | \n",
       "| 7 | -28.1650 | \n",
       "| 8 | -28.0880 | \n",
       "| 10 | -28.2850 | \n",
       "| 11 | -27.9635 | \n",
       "\n",
       "\n"
      ],
      "text/plain": [
       "   mean    \n",
       "5  -28.1105\n",
       "6  -28.8655\n",
       "7  -28.1650\n",
       "8  -28.0880\n",
       "10 -28.2850\n",
       "11 -27.9635"
      ]
     },
     "metadata": {},
     "output_type": "display_data"
    }
   ],
   "source": [
    "m <- apply(d[,c('caffeine1','caffeine2')], 1, mean)\n",
    "head( data.frame(mean = m) )"
   ]
  },
  {
   "cell_type": "markdown",
   "metadata": {},
   "source": [
    "to make it clear we can use ```MARGIN = 2```"
   ]
  },
  {
   "cell_type": "code",
   "execution_count": 28,
   "metadata": {},
   "outputs": [
    {
     "data": {
      "text/html": [
       "<table>\n",
       "<thead><tr><th></th><th scope=col>mean.by.columns</th></tr></thead>\n",
       "<tbody>\n",
       "\t<tr><th scope=row>caffeine1</th><td>-29.00174</td></tr>\n",
       "\t<tr><th scope=row>caffeine2</th><td>-28.98335</td></tr>\n",
       "</tbody>\n",
       "</table>\n"
      ],
      "text/latex": [
       "\\begin{tabular}{r|l}\n",
       "  & mean.by.columns\\\\\n",
       "\\hline\n",
       "\tcaffeine1 & -29.00174\\\\\n",
       "\tcaffeine2 & -28.98335\\\\\n",
       "\\end{tabular}\n"
      ],
      "text/markdown": [
       "\n",
       "| <!--/--> | mean.by.columns | \n",
       "|---|---|\n",
       "| caffeine1 | -29.00174 | \n",
       "| caffeine2 | -28.98335 | \n",
       "\n",
       "\n"
      ],
      "text/plain": [
       "          mean.by.columns\n",
       "caffeine1 -29.00174      \n",
       "caffeine2 -28.98335      "
      ]
     },
     "metadata": {},
     "output_type": "display_data"
    }
   ],
   "source": [
    "m <- apply(d[,c('caffeine1','caffeine2')], 2, mean)\n",
    "head( data.frame('mean by columns' = m) )"
   ]
  },
  {
   "cell_type": "markdown",
   "metadata": {},
   "source": [
    "Instead of mean any function can be used, like max, min, quantile, etc."
   ]
  },
  {
   "cell_type": "code",
   "execution_count": 27,
   "metadata": {},
   "outputs": [
    {
     "data": {
      "text/html": [
       "<table>\n",
       "<thead><tr><th></th><th scope=col>quantile.caffeine1</th><th scope=col>quantile.caffeine2</th></tr></thead>\n",
       "<tbody>\n",
       "\t<tr><th scope=row>0%</th><td>-30.87700</td><td>-30.90900</td></tr>\n",
       "\t<tr><th scope=row>25%</th><td>-29.52950</td><td>-29.73650</td></tr>\n",
       "\t<tr><th scope=row>50%</th><td>-28.88300</td><td>-28.80000</td></tr>\n",
       "\t<tr><th scope=row>75%</th><td>-28.39175</td><td>-28.37375</td></tr>\n",
       "\t<tr><th scope=row>100%</th><td>-27.72200</td><td>-27.73500</td></tr>\n",
       "</tbody>\n",
       "</table>\n"
      ],
      "text/latex": [
       "\\begin{tabular}{r|ll}\n",
       "  & quantile.caffeine1 & quantile.caffeine2\\\\\n",
       "\\hline\n",
       "\t0\\% & -30.87700 & -30.90900\\\\\n",
       "\t25\\% & -29.52950 & -29.73650\\\\\n",
       "\t50\\% & -28.88300 & -28.80000\\\\\n",
       "\t75\\% & -28.39175 & -28.37375\\\\\n",
       "\t100\\% & -27.72200 & -27.73500\\\\\n",
       "\\end{tabular}\n"
      ],
      "text/markdown": [
       "\n",
       "| <!--/--> | quantile.caffeine1 | quantile.caffeine2 | \n",
       "|---|---|---|---|---|\n",
       "| 0% | -30.87700 | -30.90900 | \n",
       "| 25% | -29.52950 | -29.73650 | \n",
       "| 50% | -28.88300 | -28.80000 | \n",
       "| 75% | -28.39175 | -28.37375 | \n",
       "| 100% | -27.72200 | -27.73500 | \n",
       "\n",
       "\n"
      ],
      "text/plain": [
       "     quantile.caffeine1 quantile.caffeine2\n",
       "0%   -30.87700          -30.90900         \n",
       "25%  -29.52950          -29.73650         \n",
       "50%  -28.88300          -28.80000         \n",
       "75%  -28.39175          -28.37375         \n",
       "100% -27.72200          -27.73500         "
      ]
     },
     "metadata": {},
     "output_type": "display_data"
    }
   ],
   "source": [
    "m <- apply(d[,c('caffeine1','caffeine2')], 2, quantile)\n",
    "head( data.frame(quantile = m) )"
   ]
  },
  {
   "cell_type": "markdown",
   "metadata": {},
   "source": [
    "The message is that the loop should be avoided as much as possible in R and that there are many build-in function for that purpose."
   ]
  },
  {
   "cell_type": "markdown",
   "metadata": {},
   "source": [
    "Another useful example is centering the data. Say you want to find the mean of a column and then substract this value to all the elements of that column. This way you will have centered your data. At first glance, this look fairly complex and implies several operations. R provide a simple framework for this, called ``` sweep()```"
   ]
  },
  {
   "cell_type": "code",
   "execution_count": 61,
   "metadata": {},
   "outputs": [
    {
     "data": {
      "text/html": [
       "<table>\n",
       "<thead><tr><th></th><th scope=col>caffeine1</th><th scope=col>caffeine2</th></tr></thead>\n",
       "<tbody>\n",
       "\t<tr><th scope=row>5</th><td>0.71673529</td><td>1.0473529 </td></tr>\n",
       "\t<tr><th scope=row>6</th><td>0.07073529</td><td>0.1833529 </td></tr>\n",
       "\t<tr><th scope=row>7</th><td>0.94573529</td><td>0.7093529 </td></tr>\n",
       "\t<tr><th scope=row>8</th><td>0.84773529</td><td>0.9613529 </td></tr>\n",
       "\t<tr><th scope=row>10</th><td>0.80373529</td><td>0.6113529 </td></tr>\n",
       "\t<tr><th scope=row>11</th><td>1.05273529</td><td>1.0053529 </td></tr>\n",
       "</tbody>\n",
       "</table>\n"
      ],
      "text/latex": [
       "\\begin{tabular}{r|ll}\n",
       "  & caffeine1 & caffeine2\\\\\n",
       "\\hline\n",
       "\t5 & 0.71673529 & 1.0473529 \\\\\n",
       "\t6 & 0.07073529 & 0.1833529 \\\\\n",
       "\t7 & 0.94573529 & 0.7093529 \\\\\n",
       "\t8 & 0.84773529 & 0.9613529 \\\\\n",
       "\t10 & 0.80373529 & 0.6113529 \\\\\n",
       "\t11 & 1.05273529 & 1.0053529 \\\\\n",
       "\\end{tabular}\n"
      ],
      "text/markdown": [
       "\n",
       "| <!--/--> | caffeine1 | caffeine2 | \n",
       "|---|---|---|---|---|---|\n",
       "| 5 | 0.71673529 | 1.0473529  | \n",
       "| 6 | 0.07073529 | 0.1833529  | \n",
       "| 7 | 0.94573529 | 0.7093529  | \n",
       "| 8 | 0.84773529 | 0.9613529  | \n",
       "| 10 | 0.80373529 | 0.6113529  | \n",
       "| 11 | 1.05273529 | 1.0053529  | \n",
       "\n",
       "\n"
      ],
      "text/plain": [
       "   caffeine1  caffeine2\n",
       "5  0.71673529 1.0473529\n",
       "6  0.07073529 0.1833529\n",
       "7  0.94573529 0.7093529\n",
       "8  0.84773529 0.9613529\n",
       "10 0.80373529 0.6113529\n",
       "11 1.05273529 1.0053529"
      ]
     },
     "metadata": {},
     "output_type": "display_data"
    }
   ],
   "source": [
    "head( sweep( d[c('caffeine1', 'caffeine2')], 2, apply(d[c('caffeine1', 'caffeine2')], 2, mean), \"-\" ) )"
   ]
  },
  {
   "cell_type": "code",
   "execution_count": 67,
   "metadata": {},
   "outputs": [
    {
     "data": {
      "text/html": [
       "<table>\n",
       "<thead><tr><th></th><th scope=col>caffeine1</th><th scope=col>caffeine2</th></tr></thead>\n",
       "<tbody>\n",
       "\t<tr><th scope=row>5</th><td>0.71673529</td><td>1.0473529 </td></tr>\n",
       "\t<tr><th scope=row>6</th><td>0.07073529</td><td>0.1833529 </td></tr>\n",
       "\t<tr><th scope=row>7</th><td>0.94573529</td><td>0.7093529 </td></tr>\n",
       "\t<tr><th scope=row>8</th><td>0.84773529</td><td>0.9613529 </td></tr>\n",
       "\t<tr><th scope=row>10</th><td>0.80373529</td><td>0.6113529 </td></tr>\n",
       "\t<tr><th scope=row>11</th><td>1.05273529</td><td>1.0053529 </td></tr>\n",
       "</tbody>\n",
       "</table>\n"
      ],
      "text/latex": [
       "\\begin{tabular}{r|ll}\n",
       "  & caffeine1 & caffeine2\\\\\n",
       "\\hline\n",
       "\t5 & 0.71673529 & 1.0473529 \\\\\n",
       "\t6 & 0.07073529 & 0.1833529 \\\\\n",
       "\t7 & 0.94573529 & 0.7093529 \\\\\n",
       "\t8 & 0.84773529 & 0.9613529 \\\\\n",
       "\t10 & 0.80373529 & 0.6113529 \\\\\n",
       "\t11 & 1.05273529 & 1.0053529 \\\\\n",
       "\\end{tabular}\n"
      ],
      "text/markdown": [
       "\n",
       "| <!--/--> | caffeine1 | caffeine2 | \n",
       "|---|---|---|---|---|---|\n",
       "| 5 | 0.71673529 | 1.0473529  | \n",
       "| 6 | 0.07073529 | 0.1833529  | \n",
       "| 7 | 0.94573529 | 0.7093529  | \n",
       "| 8 | 0.84773529 | 0.9613529  | \n",
       "| 10 | 0.80373529 | 0.6113529  | \n",
       "| 11 | 1.05273529 | 1.0053529  | \n",
       "\n",
       "\n"
      ],
      "text/plain": [
       "   caffeine1  caffeine2\n",
       "5  0.71673529 1.0473529\n",
       "6  0.07073529 0.1833529\n",
       "7  0.94573529 0.7093529\n",
       "8  0.84773529 0.9613529\n",
       "10 0.80373529 0.6113529\n",
       "11 1.05273529 1.0053529"
      ]
     },
     "metadata": {},
     "output_type": "display_data"
    }
   ],
   "source": [
    "head( apply(d[c('caffeine1', 'caffeine2')], 2, function(x) x - mean(x)) )"
   ]
  },
  {
   "cell_type": "markdown",
   "metadata": {},
   "source": [
    "This second example is my favourite and shows how apply works. Instead of using a predifined function such as ```mean()``` we use a user defined function. In this case it is clear that x selects the column and the function performes: the column minus its means."
   ]
  },
  {
   "cell_type": "markdown",
   "metadata": {},
   "source": [
    "Althought ```sweep()``` achieves the same results, the second example is much more general."
   ]
  },
  {
   "cell_type": "markdown",
   "metadata": {},
   "source": [
    "Another very useful example is the data aggregation. For example you want to find the mean value of your variable by country. In this case the isotope ratio mean by country. Again, if looked at from the matlab standpoint, this is not straighforward. However R provide a very handy solution. The first aggregation function you should know is ```table()```. Look how this works:"
   ]
  },
  {
   "cell_type": "code",
   "execution_count": 71,
   "metadata": {},
   "outputs": [
    {
     "data": {
      "text/plain": [
       "\n",
       "  Brasil Colombia     Peru \n",
       "      11       15        8 "
      ]
     },
     "metadata": {},
     "output_type": "display_data"
    }
   ],
   "source": [
    "table( d$country )"
   ]
  },
  {
   "cell_type": "markdown",
   "metadata": {},
   "source": [
    "So, we know how many samples we have from each country. But now we want to compute the mean."
   ]
  },
  {
   "cell_type": "code",
   "execution_count": 84,
   "metadata": {},
   "outputs": [
    {
     "data": {
      "text/html": [
       "<table>\n",
       "<thead><tr><th scope=col>Group.1</th><th scope=col>caffeine1</th><th scope=col>caffeine2</th></tr></thead>\n",
       "<tbody>\n",
       "\t<tr><td>Brasil   </td><td>-29.13264</td><td>-29.12582</td></tr>\n",
       "\t<tr><td>Colombia </td><td>-28.51793</td><td>-28.48793</td></tr>\n",
       "\t<tr><td>Peru     </td><td>-29.72888</td><td>-29.71637</td></tr>\n",
       "</tbody>\n",
       "</table>\n"
      ],
      "text/latex": [
       "\\begin{tabular}{r|lll}\n",
       " Group.1 & caffeine1 & caffeine2\\\\\n",
       "\\hline\n",
       "\t Brasil    & -29.13264 & -29.12582\\\\\n",
       "\t Colombia  & -28.51793 & -28.48793\\\\\n",
       "\t Peru      & -29.72888 & -29.71637\\\\\n",
       "\\end{tabular}\n"
      ],
      "text/markdown": [
       "\n",
       "Group.1 | caffeine1 | caffeine2 | \n",
       "|---|---|---|\n",
       "| Brasil    | -29.13264 | -29.12582 | \n",
       "| Colombia  | -28.51793 | -28.48793 | \n",
       "| Peru      | -29.72888 | -29.71637 | \n",
       "\n",
       "\n"
      ],
      "text/plain": [
       "  Group.1  caffeine1 caffeine2\n",
       "1 Brasil   -29.13264 -29.12582\n",
       "2 Colombia -28.51793 -28.48793\n",
       "3 Peru     -29.72888 -29.71637"
      ]
     },
     "metadata": {},
     "output_type": "display_data"
    }
   ],
   "source": [
    "aggregate(d[c('caffeine1', 'caffeine2')], by = list(unlist(d['country'], use.names = FALSE)), mean)"
   ]
  },
  {
   "cell_type": "markdown",
   "metadata": {},
   "source": [
    "The ```by=``` argument must be a list object. Because our data are not perfectly stored, we have to first unlist our country column and create a new clean list. The ```unlist()``` function is very usefull to unformat any vector of data before reassigning it with a new type."
   ]
  },
  {
   "cell_type": "code",
   "execution_count": 248,
   "metadata": {},
   "outputs": [
    {
     "data": {
      "text/plain": [
       "country: Brasil\n",
       "[1] -27.964\n",
       "------------------------------------------------------------ \n",
       "country: Colombia\n",
       "[1] -27.729\n",
       "------------------------------------------------------------ \n",
       "country: Peru\n",
       "[1] -28.567"
      ]
     },
     "metadata": {},
     "output_type": "display_data"
    }
   ],
   "source": [
    "by(d['mean'], d['country'], function(x) max(x))"
   ]
  },
  {
   "cell_type": "markdown",
   "metadata": {},
   "source": [
    "Another way to obtain the same results."
   ]
  },
  {
   "cell_type": "code",
   "execution_count": 249,
   "metadata": {},
   "outputs": [
    {
     "data": {
      "text/plain": [
       "d$country: Brasil\n",
       "[1] -27.964\n",
       "------------------------------------------------------------ \n",
       "d$country: Colombia\n",
       "[1] -27.729\n",
       "------------------------------------------------------------ \n",
       "d$country: Peru\n",
       "[1] -28.567"
      ]
     },
     "metadata": {},
     "output_type": "display_data"
    }
   ],
   "source": [
    "by(d, d$country, function(x) max(x$mean))"
   ]
  },
  {
   "cell_type": "markdown",
   "metadata": {},
   "source": [
    "For more control over the data, aggregation can be performed without applying any function. Functions can be applied later."
   ]
  },
  {
   "cell_type": "code",
   "execution_count": 250,
   "metadata": {},
   "outputs": [
    {
     "data": {
      "text/html": [
       "<table>\n",
       "<thead><tr><th scope=col>Group.1</th><th scope=col>caffeine1</th><th scope=col>caffeine2</th></tr></thead>\n",
       "<tbody>\n",
       "\t<tr><td>Brasil                                                                                           </td><td>-28.056, -27.949, -29.317, -29.089, -28.933, -28.154, -30.877, -29.816, -28.411, -29.589, -30.268</td><td>-28.274, -27.978, -29.504, -28.934, -28.800, -27.906, -30.909, -29.877, -28.440, -29.814, -29.948</td></tr>\n",
       "\t<tr><td>Colombia                                                                                                                             </td><td>-28.285, -28.931, -28.154, -28.198, -28.406, -27.722, -28.605, -28.503, -28.835, -28.387, -28.226, -28.731, -29.029, -28.577, -29.180</td><td>-27.936, -28.800, -28.022, -28.372, -28.505, -27.735, -28.716, -28.163, -29.207, -28.379, -28.057, -28.893, -28.771, -28.658, -29.105</td></tr>\n",
       "\t<tr><td>Peru                                                                  </td><td>-29.300, -30.027, -29.351, -30.261, -29.643, -30.517, -30.199, -28.533</td><td>-29.148, -30.038, -29.273, -30.089, -30.076, -30.247, -30.259, -28.601</td></tr>\n",
       "</tbody>\n",
       "</table>\n"
      ],
      "text/latex": [
       "\\begin{tabular}{r|lll}\n",
       " Group.1 & caffeine1 & caffeine2\\\\\n",
       "\\hline\n",
       "\t Brasil                                                                                            & -28.056, -27.949, -29.317, -29.089, -28.933, -28.154, -30.877, -29.816, -28.411, -29.589, -30.268 & -28.274, -27.978, -29.504, -28.934, -28.800, -27.906, -30.909, -29.877, -28.440, -29.814, -29.948\\\\\n",
       "\t Colombia                                                                                                                              & -28.285, -28.931, -28.154, -28.198, -28.406, -27.722, -28.605, -28.503, -28.835, -28.387, -28.226, -28.731, -29.029, -28.577, -29.180 & -27.936, -28.800, -28.022, -28.372, -28.505, -27.735, -28.716, -28.163, -29.207, -28.379, -28.057, -28.893, -28.771, -28.658, -29.105\\\\\n",
       "\t Peru                                                                   & -29.300, -30.027, -29.351, -30.261, -29.643, -30.517, -30.199, -28.533 & -29.148, -30.038, -29.273, -30.089, -30.076, -30.247, -30.259, -28.601\\\\\n",
       "\\end{tabular}\n"
      ],
      "text/markdown": [
       "\n",
       "Group.1 | caffeine1 | caffeine2 | \n",
       "|---|---|---|\n",
       "| Brasil                                                                                            | -28.056, -27.949, -29.317, -29.089, -28.933, -28.154, -30.877, -29.816, -28.411, -29.589, -30.268 | -28.274, -27.978, -29.504, -28.934, -28.800, -27.906, -30.909, -29.877, -28.440, -29.814, -29.948 | \n",
       "| Colombia                                                                                                                              | -28.285, -28.931, -28.154, -28.198, -28.406, -27.722, -28.605, -28.503, -28.835, -28.387, -28.226, -28.731, -29.029, -28.577, -29.180 | -27.936, -28.800, -28.022, -28.372, -28.505, -27.735, -28.716, -28.163, -29.207, -28.379, -28.057, -28.893, -28.771, -28.658, -29.105 | \n",
       "| Peru                                                                   | -29.300, -30.027, -29.351, -30.261, -29.643, -30.517, -30.199, -28.533 | -29.148, -30.038, -29.273, -30.089, -30.076, -30.247, -30.259, -28.601 | \n",
       "\n",
       "\n"
      ],
      "text/plain": [
       "  Group.1 \n",
       "1 Brasil  \n",
       "2 Colombia\n",
       "3 Peru    \n",
       "  caffeine1                                                                                                                            \n",
       "1 -28.056, -27.949, -29.317, -29.089, -28.933, -28.154, -30.877, -29.816, -28.411, -29.589, -30.268                                    \n",
       "2 -28.285, -28.931, -28.154, -28.198, -28.406, -27.722, -28.605, -28.503, -28.835, -28.387, -28.226, -28.731, -29.029, -28.577, -29.180\n",
       "3 -29.300, -30.027, -29.351, -30.261, -29.643, -30.517, -30.199, -28.533                                                               \n",
       "  caffeine2                                                                                                                            \n",
       "1 -28.274, -27.978, -29.504, -28.934, -28.800, -27.906, -30.909, -29.877, -28.440, -29.814, -29.948                                    \n",
       "2 -27.936, -28.800, -28.022, -28.372, -28.505, -27.735, -28.716, -28.163, -29.207, -28.379, -28.057, -28.893, -28.771, -28.658, -29.105\n",
       "3 -29.148, -30.038, -29.273, -30.089, -30.076, -30.247, -30.259, -28.601                                                               "
      ]
     },
     "metadata": {},
     "output_type": "display_data"
    }
   ],
   "source": [
    "a <- aggregate(d[c('caffeine1', 'caffeine2')], list(d$country), function(x) x)\n",
    "a"
   ]
  },
  {
   "cell_type": "markdown",
   "metadata": {},
   "source": [
    "For example to obtain boxplots"
   ]
  },
  {
   "cell_type": "code",
   "execution_count": 241,
   "metadata": {},
   "outputs": [
    {
     "data": {
      "image/png": "[encoded data removed]",
      "text/plain": [
       "plot without title"
      ]
     },
     "metadata": {},
     "output_type": "display_data"
    },
    {
     "data": {
      "text/html": [
       "<dl>\n",
       "\t<dt>$caffeine1</dt>\n",
       "\t\t<dd><dl>\n",
       "\t<dt>$stats</dt>\n",
       "\t\t<dd><table>\n",
       "<tbody>\n",
       "\t<tr><td>-30.8770</td><td>-29.1800</td><td>-30.5170</td></tr>\n",
       "\t<tr><td>-29.7025</td><td>-28.7830</td><td>-30.2300</td></tr>\n",
       "\t<tr><td>-29.0890</td><td>-28.5030</td><td>-29.8350</td></tr>\n",
       "\t<tr><td>-28.2825</td><td>-28.2555</td><td>-29.3255</td></tr>\n",
       "\t<tr><td>-27.9490</td><td>-27.7220</td><td>-28.5330</td></tr>\n",
       "</tbody>\n",
       "</table>\n",
       "</dd>\n",
       "\t<dt>$n</dt>\n",
       "\t\t<dd><ol class=list-inline>\n",
       "\t<li>11</li>\n",
       "\t<li>15</li>\n",
       "\t<li>8</li>\n",
       "</ol>\n",
       "</dd>\n",
       "\t<dt>$conf</dt>\n",
       "\t\t<dd><table>\n",
       "<tbody>\n",
       "\t<tr><td>-29.76547</td><td>-28.7182 </td><td>-30.34027</td></tr>\n",
       "\t<tr><td>-28.41253</td><td>-28.2878 </td><td>-29.32973</td></tr>\n",
       "</tbody>\n",
       "</table>\n",
       "</dd>\n",
       "\t<dt>$out</dt>\n",
       "\t\t<dd></dd>\n",
       "\t<dt>$group</dt>\n",
       "\t\t<dd></dd>\n",
       "\t<dt>$names</dt>\n",
       "\t\t<dd><ol class=list-inline>\n",
       "\t<li>Brasil</li>\n",
       "\t<li>Colombia</li>\n",
       "\t<li>Peru</li>\n",
       "</ol>\n",
       "\n",
       "<details>\n",
       "\t<summary style=display:list-item;cursor:pointer>\n",
       "\t\t<strong>Levels</strong>:\n",
       "\t</summary>\n",
       "\t<ol class=list-inline>\n",
       "\t\t<li>'Brasil'</li>\n",
       "\t\t<li>'Colombia'</li>\n",
       "\t\t<li>'Peru'</li>\n",
       "\t</ol>\n",
       "</details></dd>\n",
       "</dl>\n",
       "</dd>\n",
       "\t<dt>$caffeine2</dt>\n",
       "\t\t<dd><dl>\n",
       "\t<dt>$stats</dt>\n",
       "\t\t<dd><table>\n",
       "<tbody>\n",
       "\t<tr><td>-30.9090</td><td>-29.2070</td><td>-30.2590</td></tr>\n",
       "\t<tr><td>-29.8455</td><td>-28.7855</td><td>-30.1680</td></tr>\n",
       "\t<tr><td>-28.9340</td><td>-28.5050</td><td>-30.0570</td></tr>\n",
       "\t<tr><td>-28.3570</td><td>-28.1100</td><td>-29.2105</td></tr>\n",
       "\t<tr><td>-27.9060</td><td>-27.7350</td><td>-28.6010</td></tr>\n",
       "</tbody>\n",
       "</table>\n",
       "</dd>\n",
       "\t<dt>$n</dt>\n",
       "\t\t<dd><ol class=list-inline>\n",
       "\t<li>11</li>\n",
       "\t<li>15</li>\n",
       "\t<li>8</li>\n",
       "</ol>\n",
       "</dd>\n",
       "\t<dt>$conf</dt>\n",
       "\t\t<dd><table>\n",
       "<tbody>\n",
       "\t<tr><td>-29.6431 </td><td>-28.78057</td><td>-30.59187</td></tr>\n",
       "\t<tr><td>-28.2249 </td><td>-28.22943</td><td>-29.52213</td></tr>\n",
       "</tbody>\n",
       "</table>\n",
       "</dd>\n",
       "\t<dt>$out</dt>\n",
       "\t\t<dd></dd>\n",
       "\t<dt>$group</dt>\n",
       "\t\t<dd></dd>\n",
       "\t<dt>$names</dt>\n",
       "\t\t<dd><ol class=list-inline>\n",
       "\t<li>Brasil</li>\n",
       "\t<li>Colombia</li>\n",
       "\t<li>Peru</li>\n",
       "</ol>\n",
       "\n",
       "<details>\n",
       "\t<summary style=display:list-item;cursor:pointer>\n",
       "\t\t<strong>Levels</strong>:\n",
       "\t</summary>\n",
       "\t<ol class=list-inline>\n",
       "\t\t<li>'Brasil'</li>\n",
       "\t\t<li>'Colombia'</li>\n",
       "\t\t<li>'Peru'</li>\n",
       "\t</ol>\n",
       "</details></dd>\n",
       "</dl>\n",
       "</dd>\n",
       "</dl>\n"
      ],
      "text/latex": [
       "\\begin{description}\n",
       "\\item[\\$caffeine1] \\begin{description}\n",
       "\\item[\\$stats] \\begin{tabular}{lll}\n",
       "\t -30.8770 & -29.1800 & -30.5170\\\\\n",
       "\t -29.7025 & -28.7830 & -30.2300\\\\\n",
       "\t -29.0890 & -28.5030 & -29.8350\\\\\n",
       "\t -28.2825 & -28.2555 & -29.3255\\\\\n",
       "\t -27.9490 & -27.7220 & -28.5330\\\\\n",
       "\\end{tabular}\n",
       "\n",
       "\\item[\\$n] \\begin{enumerate*}\n",
       "\\item 11\n",
       "\\item 15\n",
       "\\item 8\n",
       "\\end{enumerate*}\n",
       "\n",
       "\\item[\\$conf] \\begin{tabular}{lll}\n",
       "\t -29.76547 & -28.7182  & -30.34027\\\\\n",
       "\t -28.41253 & -28.2878  & -29.32973\\\\\n",
       "\\end{tabular}\n",
       "\n",
       "\\item[\\$out] \n",
       "\\item[\\$group] \n",
       "\\item[\\$names] \\begin{enumerate*}\n",
       "\\item Brasil\n",
       "\\item Colombia\n",
       "\\item Peru\n",
       "\\end{enumerate*}\n",
       "\n",
       "\\emph{Levels}: \\begin{enumerate*}\n",
       "\\item 'Brasil'\n",
       "\\item 'Colombia'\n",
       "\\item 'Peru'\n",
       "\\end{enumerate*}\n",
       "\n",
       "\\end{description}\n",
       "\n",
       "\\item[\\$caffeine2] \\begin{description}\n",
       "\\item[\\$stats] \\begin{tabular}{lll}\n",
       "\t -30.9090 & -29.2070 & -30.2590\\\\\n",
       "\t -29.8455 & -28.7855 & -30.1680\\\\\n",
       "\t -28.9340 & -28.5050 & -30.0570\\\\\n",
       "\t -28.3570 & -28.1100 & -29.2105\\\\\n",
       "\t -27.9060 & -27.7350 & -28.6010\\\\\n",
       "\\end{tabular}\n",
       "\n",
       "\\item[\\$n] \\begin{enumerate*}\n",
       "\\item 11\n",
       "\\item 15\n",
       "\\item 8\n",
       "\\end{enumerate*}\n",
       "\n",
       "\\item[\\$conf] \\begin{tabular}{lll}\n",
       "\t -29.6431  & -28.78057 & -30.59187\\\\\n",
       "\t -28.2249  & -28.22943 & -29.52213\\\\\n",
       "\\end{tabular}\n",
       "\n",
       "\\item[\\$out] \n",
       "\\item[\\$group] \n",
       "\\item[\\$names] \\begin{enumerate*}\n",
       "\\item Brasil\n",
       "\\item Colombia\n",
       "\\item Peru\n",
       "\\end{enumerate*}\n",
       "\n",
       "\\emph{Levels}: \\begin{enumerate*}\n",
       "\\item 'Brasil'\n",
       "\\item 'Colombia'\n",
       "\\item 'Peru'\n",
       "\\end{enumerate*}\n",
       "\n",
       "\\end{description}\n",
       "\n",
       "\\end{description}\n"
      ],
      "text/markdown": [
       "$caffeine1\n",
       ":   $stats\n",
       ":   \n",
       "| -30.8770 | -29.1800 | -30.5170 | \n",
       "| -29.7025 | -28.7830 | -30.2300 | \n",
       "| -29.0890 | -28.5030 | -29.8350 | \n",
       "| -28.2825 | -28.2555 | -29.3255 | \n",
       "| -27.9490 | -27.7220 | -28.5330 | \n",
       "\n",
       "\n",
       "\n",
       "$n\n",
       ":   1. 11\n",
       "2. 15\n",
       "3. 8\n",
       "\n",
       "\n",
       "\n",
       "$conf\n",
       ":   \n",
       "| -29.76547 | -28.7182  | -30.34027 | \n",
       "| -28.41253 | -28.2878  | -29.32973 | \n",
       "\n",
       "\n",
       "\n",
       "$out\n",
       ":   \n",
       "$group\n",
       ":   \n",
       "$names\n",
       ":   1. Brasil\n",
       "2. Colombia\n",
       "3. Peru\n",
       "\n",
       "\n",
       "\n",
       "**Levels**: 1. 'Brasil'\n",
       "2. 'Colombia'\n",
       "3. 'Peru'\n",
       "\n",
       "\n",
       "\n",
       "\n",
       "\n",
       "\n",
       "$caffeine2\n",
       ":   $stats\n",
       ":   \n",
       "| -30.9090 | -29.2070 | -30.2590 | \n",
       "| -29.8455 | -28.7855 | -30.1680 | \n",
       "| -28.9340 | -28.5050 | -30.0570 | \n",
       "| -28.3570 | -28.1100 | -29.2105 | \n",
       "| -27.9060 | -27.7350 | -28.6010 | \n",
       "\n",
       "\n",
       "\n",
       "$n\n",
       ":   1. 11\n",
       "2. 15\n",
       "3. 8\n",
       "\n",
       "\n",
       "\n",
       "$conf\n",
       ":   \n",
       "| -29.6431  | -28.78057 | -30.59187 | \n",
       "| -28.2249  | -28.22943 | -29.52213 | \n",
       "\n",
       "\n",
       "\n",
       "$out\n",
       ":   \n",
       "$group\n",
       ":   \n",
       "$names\n",
       ":   1. Brasil\n",
       "2. Colombia\n",
       "3. Peru\n",
       "\n",
       "\n",
       "\n",
       "**Levels**: 1. 'Brasil'\n",
       "2. 'Colombia'\n",
       "3. 'Peru'\n",
       "\n",
       "\n",
       "\n",
       "\n",
       "\n",
       "\n",
       "\n",
       "\n"
      ],
      "text/plain": [
       "$caffeine1\n",
       "$caffeine1$stats\n",
       "         [,1]     [,2]     [,3]\n",
       "[1,] -30.8770 -29.1800 -30.5170\n",
       "[2,] -29.7025 -28.7830 -30.2300\n",
       "[3,] -29.0890 -28.5030 -29.8350\n",
       "[4,] -28.2825 -28.2555 -29.3255\n",
       "[5,] -27.9490 -27.7220 -28.5330\n",
       "\n",
       "$caffeine1$n\n",
       "[1] 11 15  8\n",
       "\n",
       "$caffeine1$conf\n",
       "          [,1]     [,2]      [,3]\n",
       "[1,] -29.76547 -28.7182 -30.34027\n",
       "[2,] -28.41253 -28.2878 -29.32973\n",
       "\n",
       "$caffeine1$out\n",
       "numeric(0)\n",
       "\n",
       "$caffeine1$group\n",
       "numeric(0)\n",
       "\n",
       "$caffeine1$names\n",
       "[1] Brasil   Colombia Peru    \n",
       "Levels: Brasil Colombia Peru\n",
       "\n",
       "\n",
       "$caffeine2\n",
       "$caffeine2$stats\n",
       "         [,1]     [,2]     [,3]\n",
       "[1,] -30.9090 -29.2070 -30.2590\n",
       "[2,] -29.8455 -28.7855 -30.1680\n",
       "[3,] -28.9340 -28.5050 -30.0570\n",
       "[4,] -28.3570 -28.1100 -29.2105\n",
       "[5,] -27.9060 -27.7350 -28.6010\n",
       "\n",
       "$caffeine2$n\n",
       "[1] 11 15  8\n",
       "\n",
       "$caffeine2$conf\n",
       "         [,1]      [,2]      [,3]\n",
       "[1,] -29.6431 -28.78057 -30.59187\n",
       "[2,] -28.2249 -28.22943 -29.52213\n",
       "\n",
       "$caffeine2$out\n",
       "numeric(0)\n",
       "\n",
       "$caffeine2$group\n",
       "numeric(0)\n",
       "\n",
       "$caffeine2$names\n",
       "[1] Brasil   Colombia Peru    \n",
       "Levels: Brasil Colombia Peru\n",
       "\n"
      ]
     },
     "metadata": {},
     "output_type": "display_data"
    },
    {
     "data": {
      "image/png": "[encoded data removed]",
      "text/plain": [
       "plot without title"
      ]
     },
     "metadata": {},
     "output_type": "display_data"
    }
   ],
   "source": [
    "apply(a[c(2,3)], 2, function(x) { \n",
    "    boxplot(x, main = names(x) , names = a[[1]], xlab = \"country\", ylab = \"IRMS\")\n",
    "    }\n",
    ")"
   ]
  },
  {
   "cell_type": "markdown",
   "metadata": {},
   "source": [
    "The above example is, however, not a very good one since boxplot itself is a very powerful function to aggregate data. The same result is thus optained by the simple call:"
   ]
  },
  {
   "cell_type": "code",
   "execution_count": 224,
   "metadata": {},
   "outputs": [
    {
     "data": {
      "image/png": "[encoded data removed]",
      "text/plain": [
       "plot without title"
      ]
     },
     "metadata": {},
     "output_type": "display_data"
    }
   ],
   "source": [
    "boxplot(mean ~ country, d)"
   ]
  },
  {
   "cell_type": "code",
   "execution_count": null,
   "metadata": {},
   "outputs": [],
   "source": []
  },
  {
   "cell_type": "code",
   "execution_count": null,
   "metadata": {},
   "outputs": [],
   "source": []
  },
  {
   "cell_type": "code",
   "execution_count": null,
   "metadata": {},
   "outputs": [],
   "source": []
  }
 ],
 "metadata": {
  "kernelspec": {
   "display_name": "R 3.5",
   "language": "R",
   "name": "ir35"
  },
  "language_info": {
   "codemirror_mode": "r",
   "file_extension": ".r",
   "mimetype": "text/x-r-source",
   "name": "R",
   "pygments_lexer": "r",
   "version": "3.5.2"
  }
 },
 "nbformat": 4,
 "nbformat_minor": 2
}
