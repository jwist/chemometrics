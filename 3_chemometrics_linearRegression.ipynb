{
 "cells": [
  {
   "cell_type": "markdown",
   "metadata": {},
   "source": [
    "# Chemometrics\n",
    "<br>\n",
    "Julien Wist / 2017 / Universidad del Valle\n",
    "\n",
    "\n",
    "An up-to-date version of this notebook can be found here: https://github.com/jwist/chemometrics/"
   ]
  },
  {
   "cell_type": "code",
   "execution_count": 1,
   "metadata": {},
   "outputs": [],
   "source": [
    "options(repr.plot.width=4, repr.plot.height=4) # change these setting to plot larger figures"
   ]
  },
  {
   "cell_type": "markdown",
   "metadata": {},
   "source": [
    "## A first example - simple linear regression\n",
    "\n",
    "we make repeated measurement of an observable Y as a function of X. You might think of a calibration curve where you measure the transmitted intensity as a function of the concentration of a solution.\n",
    "\n",
    "### create data and visualize it"
   ]
  },
  {
   "cell_type": "code",
   "execution_count": 2,
   "metadata": {},
   "outputs": [],
   "source": [
    "#rm(list=ls(all=TRUE)) # we clear the variable space\n",
    "\n",
    "N <- 20 # we define the number of observations\n",
    "\n",
    "# we create a fake dataset using a quadratic\n",
    "#equation and adding some noise\n",
    "# first create a vector of x repeated rep times\n",
    "rep <- 2 # number of replicates\n",
    "X <- rep(seq(from=43, to=96, length.out=N),rep)\n",
    "# then create the Y vector according to the equation:\n",
    "Y <- (0.075 * X + -1.874 + 0.01* X^2)\n",
    "# create some noise\n",
    "noise <-runif(length(Y), -1, 1) \n",
    "# add some noise to Y\n",
    "Y <- Y + 1*noise\n"
   ]
  },
  {
   "cell_type": "markdown",
   "metadata": {},
   "source": [
    "we take a look to the data that we just created."
   ]
  },
  {
   "cell_type": "code",
   "execution_count": 3,
   "metadata": {},
   "outputs": [
    {
     "data": {
      "image/png": "[encoded data removed]",
      "text/plain": [
       "plot without title"
      ]
     },
     "metadata": {},
     "output_type": "display_data"
    }
   ],
   "source": [
    "plot(X,Y)"
   ]
  },
  {
   "cell_type": "markdown",
   "metadata": {},
   "source": [
    "In order to prepare a nice dataset for R we need to sort the data."
   ]
  },
  {
   "cell_type": "code",
   "execution_count": 4,
   "metadata": {},
   "outputs": [],
   "source": [
    "x_sorted <- sort(X,index.return=TRUE)\n",
    "x <-x_sorted$x\n",
    "y <- Y[x_sorted$ix]"
   ]
  },
  {
   "cell_type": "markdown",
   "metadata": {},
   "source": [
    "and now we can create a data.frame with columns x,y and $x^2$. \n",
    "\n",
    "<span style=\"background-color: #DDEBF6\">consider data.frame is equivalent to an excel spreadsheet, with columns headers, and data of the same length, however data could be of different kind, such as strings, numbers (numeric), factors, etc.</span>"
   ]
  },
  {
   "cell_type": "code",
   "execution_count": 5,
   "metadata": {},
   "outputs": [],
   "source": [
    "data <- data.frame(x=x, y=y, x2=x^2)"
   ]
  },
  {
   "cell_type": "markdown",
   "metadata": {},
   "source": [
    "to access the data within the data frame, use:"
   ]
  },
  {
   "cell_type": "code",
   "execution_count": 6,
   "metadata": {},
   "outputs": [
    {
     "data": {
      "text/html": [
       "<ol class=list-inline>\n",
       "\t<li>1</li>\n",
       "\t<li>21</li>\n",
       "\t<li>2</li>\n",
       "\t<li>22</li>\n",
       "\t<li>3</li>\n",
       "\t<li>23</li>\n",
       "\t<li>4</li>\n",
       "\t<li>24</li>\n",
       "\t<li>5</li>\n",
       "\t<li>25</li>\n",
       "\t<li>6</li>\n",
       "\t<li>26</li>\n",
       "\t<li>7</li>\n",
       "\t<li>27</li>\n",
       "\t<li>8</li>\n",
       "\t<li>28</li>\n",
       "\t<li>9</li>\n",
       "\t<li>29</li>\n",
       "\t<li>10</li>\n",
       "\t<li>30</li>\n",
       "\t<li>11</li>\n",
       "\t<li>31</li>\n",
       "\t<li>12</li>\n",
       "\t<li>32</li>\n",
       "\t<li>13</li>\n",
       "\t<li>33</li>\n",
       "\t<li>14</li>\n",
       "\t<li>34</li>\n",
       "\t<li>15</li>\n",
       "\t<li>35</li>\n",
       "\t<li>16</li>\n",
       "\t<li>36</li>\n",
       "\t<li>17</li>\n",
       "\t<li>37</li>\n",
       "\t<li>18</li>\n",
       "\t<li>38</li>\n",
       "\t<li>19</li>\n",
       "\t<li>39</li>\n",
       "\t<li>20</li>\n",
       "\t<li>40</li>\n",
       "</ol>\n"
      ],
      "text/latex": [
       "\\begin{enumerate*}\n",
       "\\item 1\n",
       "\\item 21\n",
       "\\item 2\n",
       "\\item 22\n",
       "\\item 3\n",
       "\\item 23\n",
       "\\item 4\n",
       "\\item 24\n",
       "\\item 5\n",
       "\\item 25\n",
       "\\item 6\n",
       "\\item 26\n",
       "\\item 7\n",
       "\\item 27\n",
       "\\item 8\n",
       "\\item 28\n",
       "\\item 9\n",
       "\\item 29\n",
       "\\item 10\n",
       "\\item 30\n",
       "\\item 11\n",
       "\\item 31\n",
       "\\item 12\n",
       "\\item 32\n",
       "\\item 13\n",
       "\\item 33\n",
       "\\item 14\n",
       "\\item 34\n",
       "\\item 15\n",
       "\\item 35\n",
       "\\item 16\n",
       "\\item 36\n",
       "\\item 17\n",
       "\\item 37\n",
       "\\item 18\n",
       "\\item 38\n",
       "\\item 19\n",
       "\\item 39\n",
       "\\item 20\n",
       "\\item 40\n",
       "\\end{enumerate*}\n"
      ],
      "text/markdown": [
       "1. 1\n",
       "2. 21\n",
       "3. 2\n",
       "4. 22\n",
       "5. 3\n",
       "6. 23\n",
       "7. 4\n",
       "8. 24\n",
       "9. 5\n",
       "10. 25\n",
       "11. 6\n",
       "12. 26\n",
       "13. 7\n",
       "14. 27\n",
       "15. 8\n",
       "16. 28\n",
       "17. 9\n",
       "18. 29\n",
       "19. 10\n",
       "20. 30\n",
       "21. 11\n",
       "22. 31\n",
       "23. 12\n",
       "24. 32\n",
       "25. 13\n",
       "26. 33\n",
       "27. 14\n",
       "28. 34\n",
       "29. 15\n",
       "30. 35\n",
       "31. 16\n",
       "32. 36\n",
       "33. 17\n",
       "34. 37\n",
       "35. 18\n",
       "36. 38\n",
       "37. 19\n",
       "38. 39\n",
       "39. 20\n",
       "40. 40\n",
       "\n",
       "\n"
      ],
      "text/plain": [
       " [1]  1 21  2 22  3 23  4 24  5 25  6 26  7 27  8 28  9 29 10 30 11 31 12 32 13\n",
       "[26] 33 14 34 15 35 16 36 17 37 18 38 19 39 20 40"
      ]
     },
     "metadata": {},
     "output_type": "display_data"
    }
   ],
   "source": [
    "x_sorted$ix"
   ]
  },
  {
   "cell_type": "code",
   "execution_count": 7,
   "metadata": {},
   "outputs": [
    {
     "data": {
      "text/html": [
       "<ol class=list-inline>\n",
       "\t<li>20.6808896446452</li>\n",
       "\t<li>19.1778454063311</li>\n",
       "\t<li>23.4472179714153</li>\n",
       "\t<li>22.5384362566779</li>\n",
       "\t<li>25.3238724275593</li>\n",
       "\t<li>24.9845763441276</li>\n",
       "\t<li>28.9892663422575</li>\n",
       "\t<li>27.9238017571693</li>\n",
       "\t<li>30.5824202879262</li>\n",
       "\t<li>32.2534830246982</li>\n",
       "\t<li>35.2932276019979</li>\n",
       "\t<li>35.2544419390302</li>\n",
       "\t<li>37.6869978821175</li>\n",
       "\t<li>39.2094421764174</li>\n",
       "\t<li>41.5749492880239</li>\n",
       "\t<li>42.8672879615149</li>\n",
       "\t<li>46.101612092294</li>\n",
       "\t<li>46.6758109566944</li>\n",
       "\t<li>49.1283425523889</li>\n",
       "\t<li>49.7349329449226</li>\n",
       "\t<li>52.8180665962084</li>\n",
       "\t<li>54.477099127291</li>\n",
       "\t<li>58.9155986792616</li>\n",
       "\t<li>58.3801859486125</li>\n",
       "\t<li>61.793895982734</li>\n",
       "\t<li>62.5607569302126</li>\n",
       "\t<li>66.2240875969646</li>\n",
       "\t<li>66.0722021042375</li>\n",
       "\t<li>71.3166885888416</li>\n",
       "\t<li>70.6773536568719</li>\n",
       "\t<li>76.8147496463112</li>\n",
       "\t<li>75.6678853219688</li>\n",
       "\t<li>80.9065056452836</li>\n",
       "\t<li>82.416573231605</li>\n",
       "\t<li>87.2605234804762</li>\n",
       "\t<li>86.1353635709932</li>\n",
       "\t<li>92.9663240766138</li>\n",
       "\t<li>92.0138504459508</li>\n",
       "\t<li>97.9046644102447</li>\n",
       "\t<li>96.7458502384499</li>\n",
       "</ol>\n"
      ],
      "text/latex": [
       "\\begin{enumerate*}\n",
       "\\item 20.6808896446452\n",
       "\\item 19.1778454063311\n",
       "\\item 23.4472179714153\n",
       "\\item 22.5384362566779\n",
       "\\item 25.3238724275593\n",
       "\\item 24.9845763441276\n",
       "\\item 28.9892663422575\n",
       "\\item 27.9238017571693\n",
       "\\item 30.5824202879262\n",
       "\\item 32.2534830246982\n",
       "\\item 35.2932276019979\n",
       "\\item 35.2544419390302\n",
       "\\item 37.6869978821175\n",
       "\\item 39.2094421764174\n",
       "\\item 41.5749492880239\n",
       "\\item 42.8672879615149\n",
       "\\item 46.101612092294\n",
       "\\item 46.6758109566944\n",
       "\\item 49.1283425523889\n",
       "\\item 49.7349329449226\n",
       "\\item 52.8180665962084\n",
       "\\item 54.477099127291\n",
       "\\item 58.9155986792616\n",
       "\\item 58.3801859486125\n",
       "\\item 61.793895982734\n",
       "\\item 62.5607569302126\n",
       "\\item 66.2240875969646\n",
       "\\item 66.0722021042375\n",
       "\\item 71.3166885888416\n",
       "\\item 70.6773536568719\n",
       "\\item 76.8147496463112\n",
       "\\item 75.6678853219688\n",
       "\\item 80.9065056452836\n",
       "\\item 82.416573231605\n",
       "\\item 87.2605234804762\n",
       "\\item 86.1353635709932\n",
       "\\item 92.9663240766138\n",
       "\\item 92.0138504459508\n",
       "\\item 97.9046644102447\n",
       "\\item 96.7458502384499\n",
       "\\end{enumerate*}\n"
      ],
      "text/markdown": [
       "1. 20.6808896446452\n",
       "2. 19.1778454063311\n",
       "3. 23.4472179714153\n",
       "4. 22.5384362566779\n",
       "5. 25.3238724275593\n",
       "6. 24.9845763441276\n",
       "7. 28.9892663422575\n",
       "8. 27.9238017571693\n",
       "9. 30.5824202879262\n",
       "10. 32.2534830246982\n",
       "11. 35.2932276019979\n",
       "12. 35.2544419390302\n",
       "13. 37.6869978821175\n",
       "14. 39.2094421764174\n",
       "15. 41.5749492880239\n",
       "16. 42.8672879615149\n",
       "17. 46.101612092294\n",
       "18. 46.6758109566944\n",
       "19. 49.1283425523889\n",
       "20. 49.7349329449226\n",
       "21. 52.8180665962084\n",
       "22. 54.477099127291\n",
       "23. 58.9155986792616\n",
       "24. 58.3801859486125\n",
       "25. 61.793895982734\n",
       "26. 62.5607569302126\n",
       "27. 66.2240875969646\n",
       "28. 66.0722021042375\n",
       "29. 71.3166885888416\n",
       "30. 70.6773536568719\n",
       "31. 76.8147496463112\n",
       "32. 75.6678853219688\n",
       "33. 80.9065056452836\n",
       "34. 82.416573231605\n",
       "35. 87.2605234804762\n",
       "36. 86.1353635709932\n",
       "37. 92.9663240766138\n",
       "38. 92.0138504459508\n",
       "39. 97.9046644102447\n",
       "40. 96.7458502384499\n",
       "\n",
       "\n"
      ],
      "text/plain": [
       " [1] 20.68089 19.17785 23.44722 22.53844 25.32387 24.98458 28.98927 27.92380\n",
       " [9] 30.58242 32.25348 35.29323 35.25444 37.68700 39.20944 41.57495 42.86729\n",
       "[17] 46.10161 46.67581 49.12834 49.73493 52.81807 54.47710 58.91560 58.38019\n",
       "[25] 61.79390 62.56076 66.22409 66.07220 71.31669 70.67735 76.81475 75.66789\n",
       "[33] 80.90651 82.41657 87.26052 86.13536 92.96632 92.01385 97.90466 96.74585"
      ]
     },
     "metadata": {},
     "output_type": "display_data"
    }
   ],
   "source": [
    "data$y"
   ]
  },
  {
   "cell_type": "code",
   "execution_count": 8,
   "metadata": {},
   "outputs": [
    {
     "data": {
      "text/html": [
       "<ol class=list-inline>\n",
       "\t<li>43</li>\n",
       "\t<li>45.7894736842105</li>\n",
       "\t<li>45.7894736842105</li>\n",
       "\t<li>48.5789473684211</li>\n",
       "\t<li>48.5789473684211</li>\n",
       "\t<li>51.3684210526316</li>\n",
       "\t<li>51.3684210526316</li>\n",
       "\t<li>54.1578947368421</li>\n",
       "\t<li>54.1578947368421</li>\n",
       "\t<li>56.9473684210526</li>\n",
       "\t<li>56.9473684210526</li>\n",
       "\t<li>59.7368421052632</li>\n",
       "\t<li>59.7368421052632</li>\n",
       "\t<li>62.5263157894737</li>\n",
       "\t<li>62.5263157894737</li>\n",
       "\t<li>65.3157894736842</li>\n",
       "\t<li>65.3157894736842</li>\n",
       "\t<li>68.1052631578947</li>\n",
       "\t<li>68.1052631578947</li>\n",
       "\t<li>70.8947368421053</li>\n",
       "\t<li>70.8947368421053</li>\n",
       "\t<li>73.6842105263158</li>\n",
       "\t<li>73.6842105263158</li>\n",
       "\t<li>76.4736842105263</li>\n",
       "\t<li>76.4736842105263</li>\n",
       "\t<li>79.2631578947368</li>\n",
       "\t<li>79.2631578947368</li>\n",
       "\t<li>82.0526315789474</li>\n",
       "\t<li>82.0526315789474</li>\n",
       "\t<li>84.8421052631579</li>\n",
       "\t<li>84.8421052631579</li>\n",
       "\t<li>87.6315789473684</li>\n",
       "\t<li>87.6315789473684</li>\n",
       "\t<li>90.4210526315789</li>\n",
       "\t<li>90.4210526315789</li>\n",
       "\t<li>93.2105263157895</li>\n",
       "\t<li>93.2105263157895</li>\n",
       "\t<li>96</li>\n",
       "\t<li>96</li>\n",
       "</ol>\n"
      ],
      "text/latex": [
       "\\begin{enumerate*}\n",
       "\\item 43\n",
       "\\item 45.7894736842105\n",
       "\\item 45.7894736842105\n",
       "\\item 48.5789473684211\n",
       "\\item 48.5789473684211\n",
       "\\item 51.3684210526316\n",
       "\\item 51.3684210526316\n",
       "\\item 54.1578947368421\n",
       "\\item 54.1578947368421\n",
       "\\item 56.9473684210526\n",
       "\\item 56.9473684210526\n",
       "\\item 59.7368421052632\n",
       "\\item 59.7368421052632\n",
       "\\item 62.5263157894737\n",
       "\\item 62.5263157894737\n",
       "\\item 65.3157894736842\n",
       "\\item 65.3157894736842\n",
       "\\item 68.1052631578947\n",
       "\\item 68.1052631578947\n",
       "\\item 70.8947368421053\n",
       "\\item 70.8947368421053\n",
       "\\item 73.6842105263158\n",
       "\\item 73.6842105263158\n",
       "\\item 76.4736842105263\n",
       "\\item 76.4736842105263\n",
       "\\item 79.2631578947368\n",
       "\\item 79.2631578947368\n",
       "\\item 82.0526315789474\n",
       "\\item 82.0526315789474\n",
       "\\item 84.8421052631579\n",
       "\\item 84.8421052631579\n",
       "\\item 87.6315789473684\n",
       "\\item 87.6315789473684\n",
       "\\item 90.4210526315789\n",
       "\\item 90.4210526315789\n",
       "\\item 93.2105263157895\n",
       "\\item 93.2105263157895\n",
       "\\item 96\n",
       "\\item 96\n",
       "\\end{enumerate*}\n"
      ],
      "text/markdown": [
       "1. 43\n",
       "2. 45.7894736842105\n",
       "3. 45.7894736842105\n",
       "4. 48.5789473684211\n",
       "5. 48.5789473684211\n",
       "6. 51.3684210526316\n",
       "7. 51.3684210526316\n",
       "8. 54.1578947368421\n",
       "9. 54.1578947368421\n",
       "10. 56.9473684210526\n",
       "11. 56.9473684210526\n",
       "12. 59.7368421052632\n",
       "13. 59.7368421052632\n",
       "14. 62.5263157894737\n",
       "15. 62.5263157894737\n",
       "16. 65.3157894736842\n",
       "17. 65.3157894736842\n",
       "18. 68.1052631578947\n",
       "19. 68.1052631578947\n",
       "20. 70.8947368421053\n",
       "21. 70.8947368421053\n",
       "22. 73.6842105263158\n",
       "23. 73.6842105263158\n",
       "24. 76.4736842105263\n",
       "25. 76.4736842105263\n",
       "26. 79.2631578947368\n",
       "27. 79.2631578947368\n",
       "28. 82.0526315789474\n",
       "29. 82.0526315789474\n",
       "30. 84.8421052631579\n",
       "31. 84.8421052631579\n",
       "32. 87.6315789473684\n",
       "33. 87.6315789473684\n",
       "34. 90.4210526315789\n",
       "35. 90.4210526315789\n",
       "36. 93.2105263157895\n",
       "37. 93.2105263157895\n",
       "38. 96\n",
       "39. 96\n",
       "\n",
       "\n"
      ],
      "text/plain": [
       " [1] 43.00000 45.78947 45.78947 48.57895 48.57895 51.36842 51.36842 54.15789\n",
       " [9] 54.15789 56.94737 56.94737 59.73684 59.73684 62.52632 62.52632 65.31579\n",
       "[17] 65.31579 68.10526 68.10526 70.89474 70.89474 73.68421 73.68421 76.47368\n",
       "[25] 76.47368 79.26316 79.26316 82.05263 82.05263 84.84211 84.84211 87.63158\n",
       "[33] 87.63158 90.42105 90.42105 93.21053 93.21053 96.00000 96.00000"
      ]
     },
     "metadata": {},
     "output_type": "display_data"
    }
   ],
   "source": [
    "data['x'][data['y']>20.10071]"
   ]
  },
  {
   "cell_type": "markdown",
   "metadata": {},
   "source": [
    "### linear model with ```lm()```\n",
    "\n",
    "Now that we have defined a ```data.frame``` we can use it as input into most pre-built functions of R. Here we would like to test a simple linear regression. Therefore we use the ```lm()``` function and store the results in the ```fit.lm``` object. The linear model function accept a data.frame as input (here data) and allows you to define a model, in this case the function $y=ax$. <mark>Therefore it is important to define your data.frame properly so that lm will find the $x$ and $y$ columns in data.</mark>"
   ]
  },
  {
   "cell_type": "code",
   "execution_count": 10,
   "metadata": {},
   "outputs": [],
   "source": [
    "fit.lm = lm(y ~ x, data=data) "
   ]
  },
  {
   "cell_type": "code",
   "execution_count": 11,
   "metadata": {},
   "outputs": [
    {
     "data": {
      "text/html": [
       "<ol class=list-inline>\n",
       "\t<li>'coefficients'</li>\n",
       "\t<li>'residuals'</li>\n",
       "\t<li>'effects'</li>\n",
       "\t<li>'rank'</li>\n",
       "\t<li>'fitted.values'</li>\n",
       "\t<li>'assign'</li>\n",
       "\t<li>'qr'</li>\n",
       "\t<li>'df.residual'</li>\n",
       "\t<li>'xlevels'</li>\n",
       "\t<li>'call'</li>\n",
       "\t<li>'terms'</li>\n",
       "\t<li>'model'</li>\n",
       "</ol>\n"
      ],
      "text/latex": [
       "\\begin{enumerate*}\n",
       "\\item 'coefficients'\n",
       "\\item 'residuals'\n",
       "\\item 'effects'\n",
       "\\item 'rank'\n",
       "\\item 'fitted.values'\n",
       "\\item 'assign'\n",
       "\\item 'qr'\n",
       "\\item 'df.residual'\n",
       "\\item 'xlevels'\n",
       "\\item 'call'\n",
       "\\item 'terms'\n",
       "\\item 'model'\n",
       "\\end{enumerate*}\n"
      ],
      "text/markdown": [
       "1. 'coefficients'\n",
       "2. 'residuals'\n",
       "3. 'effects'\n",
       "4. 'rank'\n",
       "5. 'fitted.values'\n",
       "6. 'assign'\n",
       "7. 'qr'\n",
       "8. 'df.residual'\n",
       "9. 'xlevels'\n",
       "10. 'call'\n",
       "11. 'terms'\n",
       "12. 'model'\n",
       "\n",
       "\n"
      ],
      "text/plain": [
       " [1] \"coefficients\"  \"residuals\"     \"effects\"       \"rank\"         \n",
       " [5] \"fitted.values\" \"assign\"        \"qr\"            \"df.residual\"  \n",
       " [9] \"xlevels\"       \"call\"          \"terms\"         \"model\"        "
      ]
     },
     "metadata": {},
     "output_type": "display_data"
    }
   ],
   "source": [
    "names(fit.lm)"
   ]
  },
  {
   "cell_type": "markdown",
   "metadata": {},
   "source": [
    "At this stage we can have a look to the coefficient found, in this case of a linear model"
   ]
  },
  {
   "cell_type": "code",
   "execution_count": 12,
   "metadata": {},
   "outputs": [
    {
     "data": {
      "text/html": [
       "<dl class=dl-horizontal>\n",
       "\t<dt>(Intercept)</dt>\n",
       "\t\t<dd>-47.1720053904281</dd>\n",
       "\t<dt>x</dt>\n",
       "\t\t<dd>1.45984794811312</dd>\n",
       "</dl>\n"
      ],
      "text/latex": [
       "\\begin{description*}\n",
       "\\item[(Intercept)] -47.1720053904281\n",
       "\\item[x] 1.45984794811312\n",
       "\\end{description*}\n"
      ],
      "text/markdown": [
       "(Intercept)\n",
       ":   -47.1720053904281x\n",
       ":   1.45984794811312\n",
       "\n"
      ],
      "text/plain": [
       "(Intercept)           x \n",
       " -47.172005    1.459848 "
      ]
     },
     "metadata": {},
     "output_type": "display_data"
    }
   ],
   "source": [
    "# have a look to the coefficients\n",
    "fit.lm$coefficients"
   ]
  },
  {
   "cell_type": "markdown",
   "metadata": {},
   "source": [
    "You find a lot of information about your optimization by using the ```summary()``` function of R. It allows you to get some information about any object."
   ]
  },
  {
   "cell_type": "code",
   "execution_count": 13,
   "metadata": {},
   "outputs": [
    {
     "data": {
      "text/plain": [
       "\n",
       "Call:\n",
       "lm(formula = y ~ x, data = data)\n",
       "\n",
       "Residuals:\n",
       "    Min      1Q  Median      3Q     Max \n",
       "-3.5055 -1.9551 -0.7667  1.5985  5.0794 \n",
       "\n",
       "Coefficients:\n",
       "             Estimate Std. Error t value Pr(>|t|)    \n",
       "(Intercept) -47.17201    1.73218  -27.23   <2e-16 ***\n",
       "x             1.45985    0.02428   60.12   <2e-16 ***\n",
       "---\n",
       "Signif. codes:  0 ‘***’ 0.001 ‘**’ 0.01 ‘*’ 0.05 ‘.’ 0.1 ‘ ’ 1\n",
       "\n",
       "Residual standard error: 2.47 on 38 degrees of freedom\n",
       "Multiple R-squared:  0.9896,\tAdjusted R-squared:  0.9893 \n",
       "F-statistic:  3615 on 1 and 38 DF,  p-value: < 2.2e-16\n"
      ]
     },
     "metadata": {},
     "output_type": "display_data"
    }
   ],
   "source": [
    "summary(fit.lm)"
   ]
  },
  {
   "cell_type": "markdown",
   "metadata": {},
   "source": [
    "In the case you need to access one of the data shown here to use it further in your script, you can find the name of the objects displayed by ```summary()```"
   ]
  },
  {
   "cell_type": "code",
   "execution_count": 14,
   "metadata": {},
   "outputs": [
    {
     "data": {
      "text/html": [
       "<ol class=list-inline>\n",
       "\t<li>'call'</li>\n",
       "\t<li>'terms'</li>\n",
       "\t<li>'residuals'</li>\n",
       "\t<li>'coefficients'</li>\n",
       "\t<li>'aliased'</li>\n",
       "\t<li>'sigma'</li>\n",
       "\t<li>'df'</li>\n",
       "\t<li>'r.squared'</li>\n",
       "\t<li>'adj.r.squared'</li>\n",
       "\t<li>'fstatistic'</li>\n",
       "\t<li>'cov.unscaled'</li>\n",
       "</ol>\n"
      ],
      "text/latex": [
       "\\begin{enumerate*}\n",
       "\\item 'call'\n",
       "\\item 'terms'\n",
       "\\item 'residuals'\n",
       "\\item 'coefficients'\n",
       "\\item 'aliased'\n",
       "\\item 'sigma'\n",
       "\\item 'df'\n",
       "\\item 'r.squared'\n",
       "\\item 'adj.r.squared'\n",
       "\\item 'fstatistic'\n",
       "\\item 'cov.unscaled'\n",
       "\\end{enumerate*}\n"
      ],
      "text/markdown": [
       "1. 'call'\n",
       "2. 'terms'\n",
       "3. 'residuals'\n",
       "4. 'coefficients'\n",
       "5. 'aliased'\n",
       "6. 'sigma'\n",
       "7. 'df'\n",
       "8. 'r.squared'\n",
       "9. 'adj.r.squared'\n",
       "10. 'fstatistic'\n",
       "11. 'cov.unscaled'\n",
       "\n",
       "\n"
      ],
      "text/plain": [
       " [1] \"call\"          \"terms\"         \"residuals\"     \"coefficients\" \n",
       " [5] \"aliased\"       \"sigma\"         \"df\"            \"r.squared\"    \n",
       " [9] \"adj.r.squared\" \"fstatistic\"    \"cov.unscaled\" "
      ]
     },
     "metadata": {},
     "output_type": "display_data"
    }
   ],
   "source": [
    "names(summary(fit.lm))"
   ]
  },
  {
   "cell_type": "markdown",
   "metadata": {},
   "source": [
    "So if you want to use the $r^2$ coefficient you can use the following command."
   ]
  },
  {
   "cell_type": "code",
   "execution_count": 15,
   "metadata": {},
   "outputs": [
    {
     "data": {
      "text/html": [
       "0.99"
      ],
      "text/latex": [
       "0.99"
      ],
      "text/markdown": [
       "0.99"
      ],
      "text/plain": [
       "[1] 0.99"
      ]
     },
     "metadata": {},
     "output_type": "display_data"
    }
   ],
   "source": [
    "round(summary(fit.lm)$r.squared,3)"
   ]
  },
  {
   "cell_type": "markdown",
   "metadata": {},
   "source": [
    "Maybe you want a nice picture of your data and the regression line."
   ]
  },
  {
   "cell_type": "code",
   "execution_count": 16,
   "metadata": {},
   "outputs": [
    {
     "data": {
      "image/png": "[encoded data removed]",
      "text/plain": [
       "plot without title"
      ]
     },
     "metadata": {},
     "output_type": "display_data"
    }
   ],
   "source": [
    "plot(data$x,data$y); lines(data$x, fitted(fit.lm), col=2)"
   ]
  },
  {
   "cell_type": "markdown",
   "metadata": {},
   "source": [
    "If you want more control on what you do, you can display the regression by ploting a line that crosses 0 at \"intercept\" and with a slope of \"x\"."
   ]
  },
  {
   "cell_type": "code",
   "execution_count": 17,
   "metadata": {},
   "outputs": [
    {
     "data": {
      "image/png": "[encoded data removed]",
      "text/plain": [
       "Plot with title “linear regression”"
      ]
     },
     "metadata": {},
     "output_type": "display_data"
    }
   ],
   "source": [
    "plot(data$x,data$y,main=\"linear regression\",ylab=\"intensity\",xlab=\"concentration\",ylim=c(-50,100),xlim=c(0,100));\n",
    "abline(fit.lm$coefficients[1],fit.lm$coefficients[2],col=\"blue\")"
   ]
  },
  {
   "cell_type": "markdown",
   "metadata": {},
   "source": [
    "You may have noticed that the data look to have some quadratic component (that we included intentionally at the beginning). You might want to see how good it fits if you use a quadratic function to fit your data."
   ]
  },
  {
   "cell_type": "code",
   "execution_count": 18,
   "metadata": {},
   "outputs": [
    {
     "data": {
      "text/html": [
       "<span style=white-space:pre-wrap>'the coefficient $r^2$ =  0.999'</span>"
      ],
      "text/latex": [
       "'the coefficient \\$r\\textasciicircum{}2\\$ =  0.999'"
      ],
      "text/markdown": [
       "<span style=white-space:pre-wrap>'the coefficient $r^2$ =  0.999'</span>"
      ],
      "text/plain": [
       "[1] \"the coefficient $r^2$ =  0.999\""
      ]
     },
     "metadata": {},
     "output_type": "display_data"
    },
    {
     "data": {
      "image/png": "[encoded data removed]",
      "text/plain": [
       "Plot with title “linear regression”"
      ]
     },
     "metadata": {},
     "output_type": "display_data"
    }
   ],
   "source": [
    "fit.lm = lm(y ~ x + x2, data=data)\n",
    "plot(data$x,data$y, main=\"linear regression\",ylab=\"intensity\",xlab=\"concentration\")\n",
    "lines(data$x, fitted(fit.lm), col=2)\n",
    "paste(\"the coefficient $r^2$ = \",round(summary(fit.lm)$r.squared,3))\n",
    "text(60,80,paste(\"r2 = \",round(summary(fit.lm)$r.squared,3)))"
   ]
  },
  {
   "cell_type": "markdown",
   "metadata": {},
   "source": [
    "## Experimental design\n",
    "\n",
    "### linear regression\n",
    "Use the data of Table 2.2 in Brereton, R. G. (2003). Chemometrics. Technometrics. Chichester, UK: John Wiley & Sons, Ltd. http://doi.org/10.1002/0470863242\n",
    "\n",
    "Or import the table from the dataset section provided in this course.\n",
    "\n",
    "#### import dataset"
   ]
  },
  {
   "cell_type": "code",
   "execution_count": 19,
   "metadata": {},
   "outputs": [
    {
     "name": "stderr",
     "output_type": "stream",
     "text": [
      "Warning message in read.table(file = file, header = header, sep = sep, quote = quote, :\n",
      "“incomplete final line found by readTableHeader on './datasets/table2.2.csv'”"
     ]
    }
   ],
   "source": [
    "data <- read.csv(\"./datasets/table2.2.csv\")"
   ]
  },
  {
   "cell_type": "code",
   "execution_count": 20,
   "metadata": {},
   "outputs": [
    {
     "data": {
      "text/html": [
       "<table>\n",
       "<thead><tr><th scope=col>q</th><th scope=col>q.1</th><th scope=col>q.2</th><th scope=col>q.3</th><th scope=col>q.4</th><th scope=col>q.5</th><th scope=col>q.6</th><th scope=col>q.7</th><th scope=col>q.8</th><th scope=col>q.9</th></tr></thead>\n",
       "<tbody>\n",
       "\t<tr><td>1.000 </td><td>1.000 </td><td>2.000 </td><td>3.000 </td><td> 3.000</td><td> 4.000</td><td> 4.000</td><td> 5.000</td><td> 6.000</td><td> 6.000</td></tr>\n",
       "\t<tr><td>3.803 </td><td>3.276 </td><td>5.181 </td><td>6.948 </td><td> 8.762</td><td>10.672</td><td> 8.266</td><td>13.032</td><td>15.021</td><td>16.426</td></tr>\n",
       "\t<tr><td>4.797 </td><td>3.878 </td><td>6.342 </td><td>9.186 </td><td>10.136</td><td>12.257</td><td>13.252</td><td>14.656</td><td>17.681</td><td>15.071</td></tr>\n",
       "</tbody>\n",
       "</table>\n"
      ],
      "text/latex": [
       "\\begin{tabular}{r|llllllllll}\n",
       " q & q.1 & q.2 & q.3 & q.4 & q.5 & q.6 & q.7 & q.8 & q.9\\\\\n",
       "\\hline\n",
       "\t 1.000  & 1.000  & 2.000  & 3.000  &  3.000 &  4.000 &  4.000 &  5.000 &  6.000 &  6.000\\\\\n",
       "\t 3.803  & 3.276  & 5.181  & 6.948  &  8.762 & 10.672 &  8.266 & 13.032 & 15.021 & 16.426\\\\\n",
       "\t 4.797  & 3.878  & 6.342  & 9.186  & 10.136 & 12.257 & 13.252 & 14.656 & 17.681 & 15.071\\\\\n",
       "\\end{tabular}\n"
      ],
      "text/markdown": [
       "\n",
       "| q | q.1 | q.2 | q.3 | q.4 | q.5 | q.6 | q.7 | q.8 | q.9 |\n",
       "|---|---|---|---|---|---|---|---|---|---|\n",
       "| 1.000  | 1.000  | 2.000  | 3.000  |  3.000 |  4.000 |  4.000 |  5.000 |  6.000 |  6.000 |\n",
       "| 3.803  | 3.276  | 5.181  | 6.948  |  8.762 | 10.672 |  8.266 | 13.032 | 15.021 | 16.426 |\n",
       "| 4.797  | 3.878  | 6.342  | 9.186  | 10.136 | 12.257 | 13.252 | 14.656 | 17.681 | 15.071 |\n",
       "\n"
      ],
      "text/plain": [
       "  q     q.1   q.2   q.3   q.4    q.5    q.6    q.7    q.8    q.9   \n",
       "1 1.000 1.000 2.000 3.000  3.000  4.000  4.000  5.000  6.000  6.000\n",
       "2 3.803 3.276 5.181 6.948  8.762 10.672  8.266 13.032 15.021 16.426\n",
       "3 4.797 3.878 6.342 9.186 10.136 12.257 13.252 14.656 17.681 15.071"
      ]
     },
     "metadata": {},
     "output_type": "display_data"
    }
   ],
   "source": [
    "data"
   ]
  },
  {
   "cell_type": "markdown",
   "metadata": {},
   "source": [
    "As you may notice, the data are not in the way we want. We would like to have two columns and we also would like the index of the row to be correct. We can solve this readily.\n"
   ]
  },
  {
   "cell_type": "code",
   "execution_count": 21,
   "metadata": {},
   "outputs": [],
   "source": [
    "data <- t(data) # we transpose the data"
   ]
  },
  {
   "cell_type": "code",
   "execution_count": 22,
   "metadata": {},
   "outputs": [],
   "source": [
    "rownames(data) <- seq(1,10)\n",
    "colnames(data) <- c(\"conc\",\"A\",\"B\")"
   ]
  },
  {
   "cell_type": "code",
   "execution_count": 23,
   "metadata": {},
   "outputs": [
    {
     "data": {
      "text/html": [
       "<table>\n",
       "<thead><tr><th scope=col>conc</th><th scope=col>A</th><th scope=col>B</th></tr></thead>\n",
       "<tbody>\n",
       "\t<tr><td>1     </td><td> 3.803</td><td> 4.797</td></tr>\n",
       "\t<tr><td>1     </td><td> 3.276</td><td> 3.878</td></tr>\n",
       "\t<tr><td>2     </td><td> 5.181</td><td> 6.342</td></tr>\n",
       "\t<tr><td>3     </td><td> 6.948</td><td> 9.186</td></tr>\n",
       "\t<tr><td>3     </td><td> 8.762</td><td>10.136</td></tr>\n",
       "\t<tr><td>4     </td><td>10.672</td><td>12.257</td></tr>\n",
       "\t<tr><td>4     </td><td> 8.266</td><td>13.252</td></tr>\n",
       "\t<tr><td>5     </td><td>13.032</td><td>14.656</td></tr>\n",
       "\t<tr><td>6     </td><td>15.021</td><td>17.681</td></tr>\n",
       "\t<tr><td>6     </td><td>16.426</td><td>15.071</td></tr>\n",
       "</tbody>\n",
       "</table>\n"
      ],
      "text/latex": [
       "\\begin{tabular}{r|lll}\n",
       " conc & A & B\\\\\n",
       "\\hline\n",
       "\t 1      &  3.803 &  4.797\\\\\n",
       "\t 1      &  3.276 &  3.878\\\\\n",
       "\t 2      &  5.181 &  6.342\\\\\n",
       "\t 3      &  6.948 &  9.186\\\\\n",
       "\t 3      &  8.762 & 10.136\\\\\n",
       "\t 4      & 10.672 & 12.257\\\\\n",
       "\t 4      &  8.266 & 13.252\\\\\n",
       "\t 5      & 13.032 & 14.656\\\\\n",
       "\t 6      & 15.021 & 17.681\\\\\n",
       "\t 6      & 16.426 & 15.071\\\\\n",
       "\\end{tabular}\n"
      ],
      "text/markdown": [
       "\n",
       "| conc | A | B |\n",
       "|---|---|---|\n",
       "| 1      |  3.803 |  4.797 |\n",
       "| 1      |  3.276 |  3.878 |\n",
       "| 2      |  5.181 |  6.342 |\n",
       "| 3      |  6.948 |  9.186 |\n",
       "| 3      |  8.762 | 10.136 |\n",
       "| 4      | 10.672 | 12.257 |\n",
       "| 4      |  8.266 | 13.252 |\n",
       "| 5      | 13.032 | 14.656 |\n",
       "| 6      | 15.021 | 17.681 |\n",
       "| 6      | 16.426 | 15.071 |\n",
       "\n"
      ],
      "text/plain": [
       "   conc A      B     \n",
       "1  1     3.803  4.797\n",
       "2  1     3.276  3.878\n",
       "3  2     5.181  6.342\n",
       "4  3     6.948  9.186\n",
       "5  3     8.762 10.136\n",
       "6  4    10.672 12.257\n",
       "7  4     8.266 13.252\n",
       "8  5    13.032 14.656\n",
       "9  6    15.021 17.681\n",
       "10 6    16.426 15.071"
      ]
     },
     "metadata": {},
     "output_type": "display_data"
    }
   ],
   "source": [
    "data"
   ]
  },
  {
   "cell_type": "markdown",
   "metadata": {},
   "source": [
    "<mark>Although the table looks good there is a problem **may be** a problem with it. R sees each data in the table as characters and not as number. This means that we cannot use these data because they are not \"numbers\". We should change this. It is done very simply, but it is sometime annoying because it is not something we are used to think of. In order to \"see\" what R \"sees\", use the following command.</mark>"
   ]
  },
  {
   "cell_type": "code",
   "execution_count": 24,
   "metadata": {},
   "outputs": [
    {
     "data": {
      "text/html": [
       "<ol class=list-inline>\n",
       "\t<li>'numeric'</li>\n",
       "\t<li>'vector'</li>\n",
       "</ol>\n"
      ],
      "text/latex": [
       "\\begin{enumerate*}\n",
       "\\item 'numeric'\n",
       "\\item 'vector'\n",
       "\\end{enumerate*}\n"
      ],
      "text/markdown": [
       "1. 'numeric'\n",
       "2. 'vector'\n",
       "\n",
       "\n"
      ],
      "text/plain": [
       "[1] \"numeric\" \"vector\" "
      ]
     },
     "metadata": {},
     "output_type": "display_data"
    },
    {
     "data": {
      "text/html": [
       "<dl class=dl-horizontal>\n",
       "\t<dt>1</dt>\n",
       "\t\t<dd>1</dd>\n",
       "\t<dt>2</dt>\n",
       "\t\t<dd>1</dd>\n",
       "\t<dt>3</dt>\n",
       "\t\t<dd>2</dd>\n",
       "\t<dt>4</dt>\n",
       "\t\t<dd>3</dd>\n",
       "\t<dt>5</dt>\n",
       "\t\t<dd>3</dd>\n",
       "\t<dt>6</dt>\n",
       "\t\t<dd>4</dd>\n",
       "\t<dt>7</dt>\n",
       "\t\t<dd>4</dd>\n",
       "\t<dt>8</dt>\n",
       "\t\t<dd>5</dd>\n",
       "\t<dt>9</dt>\n",
       "\t\t<dd>6</dd>\n",
       "\t<dt>10</dt>\n",
       "\t\t<dd>6</dd>\n",
       "</dl>\n"
      ],
      "text/latex": [
       "\\begin{description*}\n",
       "\\item[1] 1\n",
       "\\item[2] 1\n",
       "\\item[3] 2\n",
       "\\item[4] 3\n",
       "\\item[5] 3\n",
       "\\item[6] 4\n",
       "\\item[7] 4\n",
       "\\item[8] 5\n",
       "\\item[9] 6\n",
       "\\item[10] 6\n",
       "\\end{description*}\n"
      ],
      "text/markdown": [
       "1\n",
       ":   12\n",
       ":   13\n",
       ":   24\n",
       ":   35\n",
       ":   36\n",
       ":   47\n",
       ":   48\n",
       ":   59\n",
       ":   610\n",
       ":   6\n",
       "\n"
      ],
      "text/plain": [
       " 1  2  3  4  5  6  7  8  9 10 \n",
       " 1  1  2  3  3  4  4  5  6  6 "
      ]
     },
     "metadata": {},
     "output_type": "display_data"
    }
   ],
   "source": [
    "is(data[1])\n",
    "data[,1]"
   ]
  },
  {
   "cell_type": "markdown",
   "metadata": {},
   "source": [
    "Putting this altogether in something nicer, it gives:"
   ]
  },
  {
   "cell_type": "code",
   "execution_count": 62,
   "metadata": {},
   "outputs": [
    {
     "name": "stderr",
     "output_type": "stream",
     "text": [
      "Warning message in read.table(file = file, header = header, sep = sep, quote = quote, :\n",
      "“incomplete final line found by readTableHeader on './datasets/table2.2.csv'”"
     ]
    },
    {
     "data": {
      "text/html": [
       "<table>\n",
       "<thead><tr><th scope=col>conc</th><th scope=col>A</th><th scope=col>B</th></tr></thead>\n",
       "<tbody>\n",
       "\t<tr><td>1     </td><td> 3.803</td><td> 4.797</td></tr>\n",
       "\t<tr><td>1     </td><td> 3.276</td><td> 3.878</td></tr>\n",
       "\t<tr><td>2     </td><td> 5.181</td><td> 6.342</td></tr>\n",
       "\t<tr><td>3     </td><td> 6.948</td><td> 9.186</td></tr>\n",
       "\t<tr><td>3     </td><td> 8.762</td><td>10.136</td></tr>\n",
       "\t<tr><td>4     </td><td>10.672</td><td>12.257</td></tr>\n",
       "\t<tr><td>4     </td><td> 8.266</td><td>13.252</td></tr>\n",
       "\t<tr><td>5     </td><td>13.032</td><td>14.656</td></tr>\n",
       "\t<tr><td>6     </td><td>15.021</td><td>17.681</td></tr>\n",
       "\t<tr><td>6     </td><td>16.426</td><td>15.071</td></tr>\n",
       "</tbody>\n",
       "</table>\n"
      ],
      "text/latex": [
       "\\begin{tabular}{r|lll}\n",
       " conc & A & B\\\\\n",
       "\\hline\n",
       "\t 1      &  3.803 &  4.797\\\\\n",
       "\t 1      &  3.276 &  3.878\\\\\n",
       "\t 2      &  5.181 &  6.342\\\\\n",
       "\t 3      &  6.948 &  9.186\\\\\n",
       "\t 3      &  8.762 & 10.136\\\\\n",
       "\t 4      & 10.672 & 12.257\\\\\n",
       "\t 4      &  8.266 & 13.252\\\\\n",
       "\t 5      & 13.032 & 14.656\\\\\n",
       "\t 6      & 15.021 & 17.681\\\\\n",
       "\t 6      & 16.426 & 15.071\\\\\n",
       "\\end{tabular}\n"
      ],
      "text/markdown": [
       "\n",
       "| conc | A | B |\n",
       "|---|---|---|\n",
       "| 1      |  3.803 |  4.797 |\n",
       "| 1      |  3.276 |  3.878 |\n",
       "| 2      |  5.181 |  6.342 |\n",
       "| 3      |  6.948 |  9.186 |\n",
       "| 3      |  8.762 | 10.136 |\n",
       "| 4      | 10.672 | 12.257 |\n",
       "| 4      |  8.266 | 13.252 |\n",
       "| 5      | 13.032 | 14.656 |\n",
       "| 6      | 15.021 | 17.681 |\n",
       "| 6      | 16.426 | 15.071 |\n",
       "\n"
      ],
      "text/plain": [
       "   conc A      B     \n",
       "1  1     3.803  4.797\n",
       "2  1     3.276  3.878\n",
       "3  2     5.181  6.342\n",
       "4  3     6.948  9.186\n",
       "5  3     8.762 10.136\n",
       "6  4    10.672 12.257\n",
       "7  4     8.266 13.252\n",
       "8  5    13.032 14.656\n",
       "9  6    15.021 17.681\n",
       "10 6    16.426 15.071"
      ]
     },
     "metadata": {},
     "output_type": "display_data"
    }
   ],
   "source": [
    "remove(data)\n",
    "data <- t(read.csv2(\"./datasets/table2.2.csv\",header=TRUE,sep=\",\",dec=\".\"))\n",
    "rownames(data) <- seq(1:10)\n",
    "data <- data.frame(\"conc\"=as.factor(data[,1]), \"A\"=data[,2],\"B\"=data[,3])\n",
    "data"
   ]
  },
  {
   "cell_type": "markdown",
   "metadata": {},
   "source": [
    "#### Analysis of variance (ANOVA)\n",
    "\n",
    "In order to estimate the quality of our regression we perform an analysis of variance. Here we will perform this analysis step by step as described in Chapter 2 of Brereton, R. G. (2003). Chemometrics. Technometrics. Chichester, UK: John Wiley & Sons, Ltd. http://doi.org/10.1002/0470863242\n",
    "\n",
    "One of the most important feature of ANOVA is to compare the lack of fit to the replicate error. The error on replicate gives a estimation of the experimental error of the data, while the lack of fit gives an estimation of how good is our model for our data.\n",
    "\n",
    "##### with intercept\n",
    "We first find duplicated data in our table"
   ]
  },
  {
   "cell_type": "code",
   "execution_count": 26,
   "metadata": {},
   "outputs": [
    {
     "data": {
      "text/html": [
       "<ol class=list-inline>\n",
       "\t<li>FALSE</li>\n",
       "\t<li>TRUE</li>\n",
       "\t<li>FALSE</li>\n",
       "\t<li>FALSE</li>\n",
       "\t<li>TRUE</li>\n",
       "\t<li>FALSE</li>\n",
       "\t<li>TRUE</li>\n",
       "\t<li>FALSE</li>\n",
       "\t<li>FALSE</li>\n",
       "\t<li>TRUE</li>\n",
       "</ol>\n"
      ],
      "text/latex": [
       "\\begin{enumerate*}\n",
       "\\item FALSE\n",
       "\\item TRUE\n",
       "\\item FALSE\n",
       "\\item FALSE\n",
       "\\item TRUE\n",
       "\\item FALSE\n",
       "\\item TRUE\n",
       "\\item FALSE\n",
       "\\item FALSE\n",
       "\\item TRUE\n",
       "\\end{enumerate*}\n"
      ],
      "text/markdown": [
       "1. FALSE\n",
       "2. TRUE\n",
       "3. FALSE\n",
       "4. FALSE\n",
       "5. TRUE\n",
       "6. FALSE\n",
       "7. TRUE\n",
       "8. FALSE\n",
       "9. FALSE\n",
       "10. TRUE\n",
       "\n",
       "\n"
      ],
      "text/plain": [
       " [1] FALSE  TRUE FALSE FALSE  TRUE FALSE  TRUE FALSE FALSE  TRUE"
      ]
     },
     "metadata": {},
     "output_type": "display_data"
    }
   ],
   "source": [
    "duplicated(data[,1])\n"
   ]
  },
  {
   "cell_type": "code",
   "execution_count": 27,
   "metadata": {},
   "outputs": [
    {
     "data": {
      "text/html": [
       "4"
      ],
      "text/latex": [
       "4"
      ],
      "text/markdown": [
       "4"
      ],
      "text/plain": [
       "[1] 4"
      ]
     },
     "metadata": {},
     "output_type": "display_data"
    }
   ],
   "source": [
    "Rep <- duplicated(data$conc) # find replicates\n",
    "R <- sum( Rep ) # enumerate replicates\n",
    "N <- dim(data)[1] # find out dimension of data\n",
    "P <- 2 # if our model is y = ax + b\n",
    "# find out the degree of freedom for our experiment\n",
    "D <- N - P - R\n",
    "D"
   ]
  },
  {
   "cell_type": "code",
   "execution_count": 28,
   "metadata": {},
   "outputs": [
    {
     "data": {
      "text/html": [
       "4"
      ],
      "text/latex": [
       "4"
      ],
      "text/markdown": [
       "4"
      ],
      "text/plain": [
       "[1] 4"
      ]
     },
     "metadata": {},
     "output_type": "display_data"
    },
    {
     "data": {
      "text/html": [
       "10"
      ],
      "text/latex": [
       "10"
      ],
      "text/markdown": [
       "10"
      ],
      "text/plain": [
       "[1] 10"
      ]
     },
     "metadata": {},
     "output_type": "display_data"
    }
   ],
   "source": [
    "R\n",
    "N"
   ]
  },
  {
   "cell_type": "code",
   "execution_count": 29,
   "metadata": {},
   "outputs": [
    {
     "data": {
      "text/html": [
       "<table>\n",
       "<thead><tr><th scope=col>Sum.Replicate</th></tr></thead>\n",
       "<tbody>\n",
       "\t<tr><td>5.665593</td></tr>\n",
       "</tbody>\n",
       "</table>\n"
      ],
      "text/latex": [
       "\\begin{tabular}{r|l}\n",
       " Sum.Replicate\\\\\n",
       "\\hline\n",
       "\t 5.665593\\\\\n",
       "\\end{tabular}\n"
      ],
      "text/markdown": [
       "\n",
       "| Sum.Replicate |\n",
       "|---|\n",
       "| 5.665593 |\n",
       "\n"
      ],
      "text/plain": [
       "  Sum.Replicate\n",
       "1 5.665593     "
      ]
     },
     "metadata": {},
     "output_type": "display_data"
    }
   ],
   "source": [
    "library(plyr) # this library helps a lot\n",
    "\n",
    "meanRep <- aggregate(A ~ conc, data = data, mean) # this calculates the mean for all replicates\n",
    "\n",
    "sumRep=0\n",
    "sumRep2=0\n",
    "for (i in seq(1,nrow(data))) {\n",
    "    sumRep[i] <- meanRep$A[ meanRep$conc == data$conc[i] ] - data$A[i] \n",
    "    sumRep2[i] <- ( meanRep$A[ meanRep$conc == data$conc[i] ] - data$A[i] )^2\n",
    "}\n",
    "S_replicate <- sum(sumRep2) # R degrees of freedom\n",
    "result <- data.frame(\"Sum Replicate\"=S_replicate)\n",
    "result"
   ]
  },
  {
   "cell_type": "markdown",
   "metadata": {},
   "source": [
    "We can verify our result by computing the strait sum of the replicate that gives 0."
   ]
  },
  {
   "cell_type": "code",
   "execution_count": 30,
   "metadata": {},
   "outputs": [
    {
     "data": {
      "text/html": [
       "0"
      ],
      "text/latex": [
       "0"
      ],
      "text/markdown": [
       "0"
      ],
      "text/plain": [
       "[1] 0"
      ]
     },
     "metadata": {},
     "output_type": "display_data"
    }
   ],
   "source": [
    "round(sum(sumRep),3)"
   ]
  },
  {
   "cell_type": "markdown",
   "metadata": {},
   "source": [
    "Using the models proposed in Chapter 2 of Brereton, we can compute the sum of residuals, that is the sum of the difference between the experimental data and the predicted ones."
   ]
  },
  {
   "cell_type": "code",
   "execution_count": 31,
   "metadata": {},
   "outputs": [
    {
     "data": {
      "text/html": [
       "<table>\n",
       "<thead><tr><th scope=col>Sum Residual</th></tr></thead>\n",
       "<tbody>\n",
       "\t<tr><td>8.371165</td></tr>\n",
       "</tbody>\n",
       "</table>\n"
      ],
      "text/latex": [
       "\\begin{tabular}{r|l}\n",
       " Sum Residual\\\\\n",
       "\\hline\n",
       "\t 8.371165\\\\\n",
       "\\end{tabular}\n"
      ],
      "text/markdown": [
       "\n",
       "| Sum Residual |\n",
       "|---|\n",
       "| 8.371165 |\n",
       "\n"
      ],
      "text/plain": [
       "  Sum Residual\n",
       "1 8.371165    "
      ]
     },
     "metadata": {},
     "output_type": "display_data"
    }
   ],
   "source": [
    "predicted <- 0.6113 + 2.4364 * as.numeric(data$conc)\n",
    "S_residual <- sum( (data$A - predicted)^2 )\n",
    "result[\"Sum Residual\"] <- S_residual # N-P degrees of freedom (# or S_total - S_predicted)\n",
    "result[\"Sum Residual\"]"
   ]
  },
  {
   "cell_type": "code",
   "execution_count": 32,
   "metadata": {},
   "outputs": [
    {
     "data": {
      "text/html": [
       "<table>\n",
       "<thead><tr><th scope=col>Sum Total</th></tr></thead>\n",
       "<tbody>\n",
       "\t<tr><td>1024.58</td></tr>\n",
       "</tbody>\n",
       "</table>\n"
      ],
      "text/latex": [
       "\\begin{tabular}{r|l}\n",
       " Sum Total\\\\\n",
       "\\hline\n",
       "\t 1024.58\\\\\n",
       "\\end{tabular}\n"
      ],
      "text/markdown": [
       "\n",
       "| Sum Total |\n",
       "|---|\n",
       "| 1024.58 |\n",
       "\n"
      ],
      "text/plain": [
       "  Sum Total\n",
       "1 1024.58  "
      ]
     },
     "metadata": {},
     "output_type": "display_data"
    },
    {
     "data": {
      "text/html": [
       "<table>\n",
       "<thead><tr><th scope=col>Sum Predicted</th></tr></thead>\n",
       "<tbody>\n",
       "\t<tr><td>1016.208</td></tr>\n",
       "</tbody>\n",
       "</table>\n"
      ],
      "text/latex": [
       "\\begin{tabular}{r|l}\n",
       " Sum Predicted\\\\\n",
       "\\hline\n",
       "\t 1016.208\\\\\n",
       "\\end{tabular}\n"
      ],
      "text/markdown": [
       "\n",
       "| Sum Predicted |\n",
       "|---|\n",
       "| 1016.208 |\n",
       "\n"
      ],
      "text/plain": [
       "  Sum Predicted\n",
       "1 1016.208     "
      ]
     },
     "metadata": {},
     "output_type": "display_data"
    }
   ],
   "source": [
    "S_total <- sum( data$A^2 ) # N degrees of freedom \n",
    "result[\"Sum Total\"] <- S_total; result[\"Sum Total\"]\n",
    "\n",
    "S_predicted <- sum( predicted^2 ) # P degrees of freedom\n",
    "result[\"Sum Predicted\"] <- S_predicted; result[\"Sum Predicted\"]"
   ]
  },
  {
   "cell_type": "code",
   "execution_count": 33,
   "metadata": {},
   "outputs": [
    {
     "data": {
      "text/html": [
       "<table>\n",
       "<thead><tr><th scope=col>Sum Lack Of Fit</th></tr></thead>\n",
       "<tbody>\n",
       "\t<tr><td>2.705572</td></tr>\n",
       "</tbody>\n",
       "</table>\n"
      ],
      "text/latex": [
       "\\begin{tabular}{r|l}\n",
       " Sum Lack Of Fit\\\\\n",
       "\\hline\n",
       "\t 2.705572\\\\\n",
       "\\end{tabular}\n"
      ],
      "text/markdown": [
       "\n",
       "| Sum Lack Of Fit |\n",
       "|---|\n",
       "| 2.705572 |\n",
       "\n"
      ],
      "text/plain": [
       "  Sum Lack Of Fit\n",
       "1 2.705572       "
      ]
     },
     "metadata": {},
     "output_type": "display_data"
    },
    {
     "data": {
      "text/html": [
       "<table>\n",
       "<thead><tr><th scope=col>F</th></tr></thead>\n",
       "<tbody>\n",
       "\t<tr><td>0.4775444</td></tr>\n",
       "</tbody>\n",
       "</table>\n"
      ],
      "text/latex": [
       "\\begin{tabular}{r|l}\n",
       " F\\\\\n",
       "\\hline\n",
       "\t 0.4775444\\\\\n",
       "\\end{tabular}\n"
      ],
      "text/markdown": [
       "\n",
       "| F |\n",
       "|---|\n",
       "| 0.4775444 |\n",
       "\n"
      ],
      "text/plain": [
       "  F        \n",
       "1 0.4775444"
      ]
     },
     "metadata": {},
     "output_type": "display_data"
    }
   ],
   "source": [
    "S_lackOfFit <- S_residual - S_replicate # N-P-R degrees of freedom\n",
    "result[\"Sum Lack Of Fit\"] <- S_lackOfFit; result[\"Sum Lack Of Fit\"]\n",
    "result[\"F\"] <- (S_lackOfFit / D) / (S_replicate / R); result[\"F\"]"
   ]
  },
  {
   "cell_type": "code",
   "execution_count": 34,
   "metadata": {},
   "outputs": [
    {
     "data": {
      "image/png": "[encoded data removed]",
      "text/plain": [
       "plot without title"
      ]
     },
     "metadata": {},
     "output_type": "display_data"
    }
   ],
   "source": [
    "plot(data$conc, data$A)\n",
    "abline(0.6113, 2.4364, col=\"red\")"
   ]
  },
  {
   "cell_type": "markdown",
   "metadata": {},
   "source": [
    "##### lack of fit\n",
    "\n",
    "We can now put this in order and run the four cases, for both datasets A and B and with or without intercept. Table of comparison is shown below."
   ]
  },
  {
   "cell_type": "code",
   "execution_count": 64,
   "metadata": {},
   "outputs": [
    {
     "data": {
      "image/png": "[encoded data removed]",
      "text/plain": [
       "plot without title"
      ]
     },
     "metadata": {},
     "output_type": "display_data"
    }
   ],
   "source": [
    "plot(as.numeric(data$conc), as.numeric(data$A))"
   ]
  },
  {
   "cell_type": "code",
   "execution_count": 35,
   "metadata": {},
   "outputs": [],
   "source": [
    "#var.test((data$A - predicted),sumRep2[c(1,4,6,9)])\n",
    "#sumRep2[c(1,4,6,9)]\n",
    "#to be tested. Should be possible to use this command in this context."
   ]
  },
  {
   "cell_type": "code",
   "execution_count": 36,
   "metadata": {},
   "outputs": [],
   "source": [
    "Rep <- duplicated(data$conc) # find replicates\n",
    "R <- sum( Rep ) # enumerate replicates\n",
    "N <- dim(data)[1] # find out dimension of data\n",
    "P <- 2\n",
    "D <- N - P - R\n",
    "meanRep <- aggregate(A ~ conc, data = data, mean)\n",
    "result <- data.frame(\"Number Replicate\"=R)\n",
    "result[\"Number of Data\"] <- N\n",
    "result[\"Number of Parameters\"] <- P\n",
    "\n",
    "sumRep=0\n",
    "sumRep2=0\n",
    "for (i in seq(1,nrow(data))) {\n",
    "    sumRep[i] <- meanRep$A[ meanRep$conc == data$conc[i] ] - data$A[i] \n",
    "    sumRep2[i] <- ( meanRep$A[ meanRep$conc == data$conc[i] ] - data$A[i] )^2\n",
    "}\n",
    "S_replicate <- sum(sumRep2) # R degrees of freedom \n",
    "result[\"Sum Replicate\"] <- S_replicate\n",
    "\n",
    "predicted <- 0.6113 + 2.4364 * as.numeric(data$conc)\n",
    "S_residual <- sum( (data$A - predicted)^2 ) # N-P degrees of freedom (# or S_total - S_predicted)\n",
    "result[\"Sum Residual\"] <- S_residual\n",
    "\n",
    "S_total <- sum( data$A^2 ) # N degrees of freedom\n",
    "result[\"Sum Total\"] <- S_total\n",
    "\n",
    "S_predicted <- sum( predicted^2 ) # P degrees of freedom\n",
    "result[\"Sum Predicted\"] <- S_predicted\n",
    "\n",
    "S_lackOfFit <- S_residual - S_replicate # N-P-R degrees of freedom\n",
    "result[\"Sum Lack Of Fit\"] <- S_lackOfFit\n",
    "\n",
    "result[\"Mean Residuals\"] <- S_residual / (N-P)\n",
    "result[\"Mean Total\"] <- S_total / N\n",
    "result[\"Mean Predicted\"] <- S_predicted / P\n",
    "result[\"Mean Replicate\"] <- S_replicate / R\n",
    "result[\"Lack Of Fit\"] <- S_lackOfFit / D\n",
    "A2 <- t(result)"
   ]
  },
  {
   "cell_type": "code",
   "execution_count": 37,
   "metadata": {},
   "outputs": [],
   "source": [
    "Rep <- duplicated(data$conc) # find replicates\n",
    "R <- sum( Rep ) # enumerate replicates\n",
    "N <- dim(data)[1] # find out dimension of data\n",
    "P <- 1\n",
    "D <- N - P - R\n",
    "meanRep <- aggregate(A ~ conc, data = data, mean)\n",
    "result <- data.frame(\"Number Replicate\"=R)\n",
    "result[\"Number of Data\"] <- N\n",
    "result[\"Number of Parameters\"] <- P\n",
    "\n",
    "sumRep=0\n",
    "sumRep2=0\n",
    "for (i in seq(1,nrow(data))) {\n",
    "    sumRep[i] <- meanRep$A[ meanRep$conc == data$conc[i] ] - data$A[i] \n",
    "    sumRep2[i] <- ( meanRep$A[ meanRep$conc == data$conc[i] ] - data$A[i] )^2\n",
    "}\n",
    "S_replicate <- sum(sumRep2) # R degrees of freedom \n",
    "result[\"Sum Replicate\"] <- S_replicate\n",
    "\n",
    "predicted <- 2.576 * as.numeric(data$conc)\n",
    "S_residual <- sum( (data$A - predicted)^2 ) # N-P degrees of freedom (# or S_total - S_predicted)\n",
    "result[\"Sum Residual\"] <- S_residual\n",
    "\n",
    "S_total <- sum( data$A^2 ) # N degrees of freedom\n",
    "result[\"Sum Total\"] <- S_total\n",
    "\n",
    "S_predicted <- sum( predicted^2 ) # P degrees of freedom\n",
    "result[\"Sum Predicted\"] <- S_predicted\n",
    "\n",
    "S_lackOfFit <- S_residual - S_replicate # N-P-R degrees of freedom\n",
    "result[\"Sum Lack Of Fit\"] <- S_lackOfFit\n",
    "\n",
    "result[\"Mean Residuals\"] <- S_residual / (N-P)\n",
    "result[\"Mean Total\"] <- S_total / N\n",
    "result[\"Mean Predicted\"] <- S_predicted / P\n",
    "result[\"Mean Replicate\"] <- S_replicate / R\n",
    "result[\"Lack Of Fit\"] <- S_lackOfFit / D\n",
    "A1 <- t(result)"
   ]
  },
  {
   "cell_type": "code",
   "execution_count": 38,
   "metadata": {},
   "outputs": [],
   "source": [
    "Rep <- duplicated(data$conc) # find replicates\n",
    "R <- sum( Rep ) # enumerate replicates\n",
    "N <- dim(data)[1] # find out dimension of data\n",
    "P <- 2\n",
    "D <- N - P - R\n",
    "meanRep <- aggregate(B ~ conc, data = data, mean)\n",
    "result <- data.frame(\"Number Replicate\"=R)\n",
    "result[\"Number of Data\"] <- N\n",
    "result[\"Number of Parameters\"] <- P\n",
    "\n",
    "sumRep=0\n",
    "sumRep2=0\n",
    "for (i in seq(1,nrow(data))) {\n",
    "    sumRep[i] <- meanRep$B[ meanRep$conc == data$conc[i] ] - data$B[i] \n",
    "    sumRep2[i] <- ( meanRep$B[ meanRep$conc == data$conc[i] ] - data$B[i] )^2\n",
    "}\n",
    "S_replicate <- sum(sumRep2) # R degrees of freedom \n",
    "result[\"Sum Replicate\"] <- S_replicate\n",
    "\n",
    "predicted <- 2.032 + 2.484 * as.numeric(data$conc)\n",
    "S_residual <- sum( (data$B - predicted)^2 ) # N-P degrees of freedom (# or S_total - S_predicted)\n",
    "result[\"Sum Residual\"] <- S_residual\n",
    "\n",
    "S_total <- sum( data$B^2 ) # N degrees of freedom\n",
    "result[\"Sum Total\"] <- S_total\n",
    "\n",
    "S_predicted <- sum( predicted^2 ) # P degrees of freedom\n",
    "result[\"Sum Predicted\"] <- S_predicted\n",
    "\n",
    "S_lackOfFit <- S_residual - S_replicate # N-P-R degrees of freedom\n",
    "result[\"Sum Lack Of Fit\"] <- S_lackOfFit\n",
    "\n",
    "result[\"Mean Residuals\"] <- S_residual / (N-P)\n",
    "result[\"Mean Total\"] <- S_total / N\n",
    "result[\"Mean Predicted\"] <- S_predicted / P\n",
    "result[\"Mean Replicate\"] <- S_replicate / R\n",
    "result[\"Lack Of Fit\"] <- S_lackOfFit / D\n",
    "B2 <- t(result)"
   ]
  },
  {
   "cell_type": "code",
   "execution_count": 39,
   "metadata": {},
   "outputs": [],
   "source": [
    "Rep <- duplicated(data$conc) # find replicates\n",
    "R <- sum( Rep ) # enumerate replicates\n",
    "N <- dim(data)[1] # find out dimension of data\n",
    "P <- 1\n",
    "D <- N - P - R\n",
    "meanRep <- aggregate(B ~ conc, data = data, mean)\n",
    "result <- data.frame(\"Number Replicate\"=R)\n",
    "result[\"Number of Data\"] <- N\n",
    "result[\"Number of Parameters\"] <- P\n",
    "\n",
    "sumRep=0\n",
    "sumRep2=0\n",
    "for (i in seq(1,nrow(data))) {\n",
    "    sumRep[i] <- meanRep$B[ meanRep$conc == data$conc[i] ] - data$B[i] \n",
    "    sumRep2[i] <- ( meanRep$B[ meanRep$conc == data$conc[i] ] - data$B[i] )^2\n",
    "}\n",
    "S_replicate <- sum(sumRep2) # R degrees of freedom \n",
    "result[\"Sum Replicate\"] <- S_replicate\n",
    "\n",
    "predicted <- 2.948 * as.numeric(data$conc)\n",
    "S_residual <- sum( (data$B - predicted)^2 ) # N-P degrees of freedom (# or S_total - S_predicted)\n",
    "result[\"Sum Residual\"] <- S_residual\n",
    "\n",
    "S_total <- sum( data$B^2 ) # N degrees of freedom\n",
    "result[\"Sum Total\"] <- S_total\n",
    "\n",
    "S_predicted <- sum( predicted^2 ) # P degrees of freedom\n",
    "result[\"Sum Predicted\"] <- S_predicted\n",
    "\n",
    "S_lackOfFit <- S_residual - S_replicate # N-P-R degrees of freedom\n",
    "result[\"Sum Lack Of Fit\"] <- S_lackOfFit\n",
    "\n",
    "result[\"Mean Residuals\"] <- S_residual / (N-P)\n",
    "result[\"Mean Total\"] <- S_total / N\n",
    "result[\"Mean Predicted\"] <- S_predicted / P\n",
    "result[\"Mean Replicate\"] <- S_replicate / R\n",
    "result[\"Lack Of Fit\"] <- S_lackOfFit / D\n",
    "B1 <- t(result)"
   ]
  },
  {
   "cell_type": "code",
   "execution_count": 40,
   "metadata": {},
   "outputs": [
    {
     "data": {
      "text/html": [
       "<table>\n",
       "<thead><tr><th></th><th scope=col>A1</th><th scope=col>A2</th><th scope=col>B1</th><th scope=col>B2</th></tr></thead>\n",
       "<tbody>\n",
       "\t<tr><th scope=row>Number.Replicate</th><td>   4.000000 </td><td>   4.000000 </td><td>   4.000000 </td><td>   4.0000000</td></tr>\n",
       "\t<tr><th scope=row>Number of Data</th><td>  10.000000 </td><td>  10.000000 </td><td>  10.000000 </td><td>  10.0000000</td></tr>\n",
       "\t<tr><th scope=row>Number of Parameters</th><td>   1.000000 </td><td>   2.000000 </td><td>   1.000000 </td><td>   2.0000000</td></tr>\n",
       "\t<tr><th scope=row>Sum Replicate</th><td>   5.665593 </td><td>   5.665593 </td><td>   4.774593 </td><td>   4.7745930</td></tr>\n",
       "\t<tr><th scope=row>Sum Residual</th><td>   9.116023 </td><td>   8.371165 </td><td>  15.472464 </td><td>   7.2399200</td></tr>\n",
       "\t<tr><th scope=row>Sum Total</th><td>1024.580375 </td><td>1024.580375 </td><td>1345.792840 </td><td>1345.7928400</td></tr>\n",
       "\t<tr><th scope=row>Sum Predicted</th><td>1015.273728 </td><td>1016.207748 </td><td>1329.677712 </td><td>1338.6635680</td></tr>\n",
       "\t<tr><th scope=row>Sum Lack Of Fit</th><td>   3.450430 </td><td>   2.705572 </td><td>  10.697871 </td><td>   2.4653270</td></tr>\n",
       "\t<tr><th scope=row>Mean Residuals</th><td>   1.012891 </td><td>   1.046396 </td><td>   1.719163 </td><td>   0.9049900</td></tr>\n",
       "\t<tr><th scope=row>Mean Total</th><td> 102.458038 </td><td> 102.458038 </td><td> 134.579284 </td><td> 134.5792840</td></tr>\n",
       "\t<tr><th scope=row>Mean Predicted</th><td>1015.273728 </td><td> 508.103874 </td><td>1329.677712 </td><td> 669.3317840</td></tr>\n",
       "\t<tr><th scope=row>Mean Replicate</th><td>   1.416398 </td><td>   1.416398 </td><td>   1.193648 </td><td>   1.1936483</td></tr>\n",
       "\t<tr><th scope=row>Lack Of Fit</th><td>   0.690086 </td><td>   0.676393 </td><td>   2.139574 </td><td>   0.6163318</td></tr>\n",
       "</tbody>\n",
       "</table>\n"
      ],
      "text/latex": [
       "\\begin{tabular}{r|llll}\n",
       "  & A1 & A2 & B1 & B2\\\\\n",
       "\\hline\n",
       "\tNumber.Replicate &    4.000000  &    4.000000  &    4.000000  &    4.0000000\\\\\n",
       "\tNumber of Data &   10.000000  &   10.000000  &   10.000000  &   10.0000000\\\\\n",
       "\tNumber of Parameters &    1.000000  &    2.000000  &    1.000000  &    2.0000000\\\\\n",
       "\tSum Replicate &    5.665593  &    5.665593  &    4.774593  &    4.7745930\\\\\n",
       "\tSum Residual &    9.116023  &    8.371165  &   15.472464  &    7.2399200\\\\\n",
       "\tSum Total & 1024.580375  & 1024.580375  & 1345.792840  & 1345.7928400\\\\\n",
       "\tSum Predicted & 1015.273728  & 1016.207748  & 1329.677712  & 1338.6635680\\\\\n",
       "\tSum Lack Of Fit &    3.450430  &    2.705572  &   10.697871  &    2.4653270\\\\\n",
       "\tMean Residuals &    1.012891  &    1.046396  &    1.719163  &    0.9049900\\\\\n",
       "\tMean Total &  102.458038  &  102.458038  &  134.579284  &  134.5792840\\\\\n",
       "\tMean Predicted & 1015.273728  &  508.103874  & 1329.677712  &  669.3317840\\\\\n",
       "\tMean Replicate &    1.416398  &    1.416398  &    1.193648  &    1.1936483\\\\\n",
       "\tLack Of Fit &    0.690086  &    0.676393  &    2.139574  &    0.6163318\\\\\n",
       "\\end{tabular}\n"
      ],
      "text/markdown": [
       "\n",
       "| <!--/--> | A1 | A2 | B1 | B2 |\n",
       "|---|---|---|---|---|\n",
       "| Number.Replicate |    4.000000  |    4.000000  |    4.000000  |    4.0000000 |\n",
       "| Number of Data |   10.000000  |   10.000000  |   10.000000  |   10.0000000 |\n",
       "| Number of Parameters |    1.000000  |    2.000000  |    1.000000  |    2.0000000 |\n",
       "| Sum Replicate |    5.665593  |    5.665593  |    4.774593  |    4.7745930 |\n",
       "| Sum Residual |    9.116023  |    8.371165  |   15.472464  |    7.2399200 |\n",
       "| Sum Total | 1024.580375  | 1024.580375  | 1345.792840  | 1345.7928400 |\n",
       "| Sum Predicted | 1015.273728  | 1016.207748  | 1329.677712  | 1338.6635680 |\n",
       "| Sum Lack Of Fit |    3.450430  |    2.705572  |   10.697871  |    2.4653270 |\n",
       "| Mean Residuals |    1.012891  |    1.046396  |    1.719163  |    0.9049900 |\n",
       "| Mean Total |  102.458038  |  102.458038  |  134.579284  |  134.5792840 |\n",
       "| Mean Predicted | 1015.273728  |  508.103874  | 1329.677712  |  669.3317840 |\n",
       "| Mean Replicate |    1.416398  |    1.416398  |    1.193648  |    1.1936483 |\n",
       "| Lack Of Fit |    0.690086  |    0.676393  |    2.139574  |    0.6163318 |\n",
       "\n"
      ],
      "text/plain": [
       "                     A1          A2          B1          B2          \n",
       "Number.Replicate        4.000000    4.000000    4.000000    4.0000000\n",
       "Number of Data         10.000000   10.000000   10.000000   10.0000000\n",
       "Number of Parameters    1.000000    2.000000    1.000000    2.0000000\n",
       "Sum Replicate           5.665593    5.665593    4.774593    4.7745930\n",
       "Sum Residual            9.116023    8.371165   15.472464    7.2399200\n",
       "Sum Total            1024.580375 1024.580375 1345.792840 1345.7928400\n",
       "Sum Predicted        1015.273728 1016.207748 1329.677712 1338.6635680\n",
       "Sum Lack Of Fit         3.450430    2.705572   10.697871    2.4653270\n",
       "Mean Residuals          1.012891    1.046396    1.719163    0.9049900\n",
       "Mean Total            102.458038  102.458038  134.579284  134.5792840\n",
       "Mean Predicted       1015.273728  508.103874 1329.677712  669.3317840\n",
       "Mean Replicate          1.416398    1.416398    1.193648    1.1936483\n",
       "Lack Of Fit             0.690086    0.676393    2.139574    0.6163318"
      ]
     },
     "metadata": {},
     "output_type": "display_data"
    }
   ],
   "source": [
    "tableOfResult1 <- data.frame(A1,A2,B1,B2)\n",
    "tableOfResult1"
   ]
  },
  {
   "cell_type": "markdown",
   "metadata": {},
   "source": [
    "<mark>Both datasets are similar. However, for the second set, excluding the intercept increase the lack of fit. It is important to note that it is not possible to judge the lack of fit other than by comparing it to the Mean Sum of Replicates. In all cases the LOF is smaller than the MSR, except for B1. The conclusion is that we need 2 parameters to best fit our data.</mark>"
   ]
  },
  {
   "cell_type": "code",
   "execution_count": 41,
   "metadata": {},
   "outputs": [
    {
     "data": {
      "text/html": [
       "6.25605650216089"
      ],
      "text/latex": [
       "6.25605650216089"
      ],
      "text/markdown": [
       "6.25605650216089"
      ],
      "text/plain": [
       "[1] 6.256057"
      ]
     },
     "metadata": {},
     "output_type": "display_data"
    },
    {
     "data": {
      "text/html": [
       "1.79246662332614"
      ],
      "text/latex": [
       "1.79246662332614"
      ],
      "text/markdown": [
       "1.79246662332614"
      ],
      "text/plain": [
       "[1] 1.792467"
      ]
     },
     "metadata": {},
     "output_type": "display_data"
    },
    {
     "data": {
      "text/html": [
       "0.487211927720881"
      ],
      "text/latex": [
       "0.487211927720881"
      ],
      "text/markdown": [
       "0.487211927720881"
      ],
      "text/plain": [
       "[1] 0.4872119"
      ]
     },
     "metadata": {},
     "output_type": "display_data"
    },
    {
     "data": {
      "text/html": [
       "0.704083882026608"
      ],
      "text/latex": [
       "0.704083882026608"
      ],
      "text/markdown": [
       "0.704083882026608"
      ],
      "text/plain": [
       "[1] 0.7040839"
      ]
     },
     "metadata": {},
     "output_type": "display_data"
    },
    {
     "data": {
      "text/html": [
       "0.225084202869423"
      ],
      "text/latex": [
       "0.225084202869423"
      ],
      "text/markdown": [
       "0.225084202869423"
      ],
      "text/plain": [
       "[1] 0.2250842"
      ]
     },
     "metadata": {},
     "output_type": "display_data"
    }
   ],
   "source": [
    "# Brereton p.42\n",
    "qf(0.95,5,4)  # this would be the F-ratio for 95% confidence.\n",
    "# above this number we can conclude with 95% confidence that intercept is useful.\n",
    "2.1395742/1.193648\n",
    "0.6900860/1.416398\n",
    "pf(1.792,5,4,lower.tail = TRUE)\n",
    "pf(0.48721,5,4,lower.tail = TRUE)"
   ]
  },
  {
   "cell_type": "markdown",
   "metadata": {},
   "source": [
    "So we can conclude with 70.4% of confidence that intercept is useful in the case of the B dataset. It is not possible to conclude in the case of the dataset A, since the value for F-ratio is very low."
   ]
  },
  {
   "cell_type": "markdown",
   "metadata": {},
   "source": [
    "##### programing a function\n",
    "\n",
    "The way we performed the calculation above is not very efficient. We copy and paste 4 time the same code. If we want to make a modification we would have to propagate in all four pieces. In this case, a better practise consists in creating a funcion. If we are interested in more flexibility we can program a function to perform the calculation. This is done like this:"
   ]
  },
  {
   "cell_type": "code",
   "execution_count": 42,
   "metadata": {},
   "outputs": [],
   "source": [
    "lof <- function(x, y, fit.lm) {\n",
    "    \n",
    "    data=data.frame(\"x\"=as.numeric(x), \"y\"=y)\n",
    "    #fit.lm <- lm( y ~ x, data=data )\n",
    "    \n",
    "    Rep <- duplicated(data$x) # find replicates\n",
    "    R <- sum(Rep) # enumerate replicates\n",
    "    N <- dim(data)[1] # find out dimension of data\n",
    "    P <- length(fit.lm$coefficients)\n",
    "    D <- N - P - R\n",
    "    result <- data.frame(\"Number Replicate\"=R)\n",
    "    result[\"Number of Data\"] <- N\n",
    "    result[\"Number of Parameters\"] <- P\n",
    "    result[\"Degrees of Freedom\"] <- D\n",
    "    \n",
    "    meanRep <- aggregate(y ~ x, data = data, mean)\n",
    "    \n",
    "    sumRep=0\n",
    "    sumRep2=0\n",
    "    for (i in seq(1,nrow(data))) {\n",
    "        sumRep[i] <- meanRep$y[ meanRep$x == data$x[i] ] - data$y[i] \n",
    "        sumRep2[i] <- ( meanRep$y[ meanRep$x == data$x[i] ] - data$y[i] )^2\n",
    "    }\n",
    "\n",
    "    S_replicate <- sum(sumRep2) # R degrees of freedom \n",
    "    result[\"Sum Replicate\"] <- round(S_replicate,3)\n",
    " \n",
    "    S_residual <- sum ( resid(fit.lm)^2 ) # N-P degrees of freedom (# or S_total - S_predicted)\n",
    "    result[\"Sum Residual\"] <- round(S_residual,3)\n",
    "\n",
    "    S_total <- sum( data$y^2 ) # N degrees of freedom\n",
    "    result[\"Sum Total\"] <- round(S_total,3)\n",
    "\n",
    "    S_predicted <- sum( fitted(fit.lm)^2 ) # P degrees of freedom\n",
    "    result[\"Sum Predicted\"] <- round(S_predicted,3)\n",
    "\n",
    "    S_lackOfFit <- S_residual - S_replicate # N-P-R degrees of freedom\n",
    "    result[\"Sum Lack Of Fit\"] <- round(S_lackOfFit,3)\n",
    "\n",
    "    result[\"Mean Residuals\"] <- round(S_residual / (N-P),3)\n",
    "    \n",
    "    result[\"Mean Total\"] <- round(S_total / N,3)\n",
    "    \n",
    "    result[\"Mean Predicted\"] <- round(S_predicted / P,3)\n",
    "    \n",
    "    result[\"Mean Replicate\"] <- round(S_replicate / R,3)\n",
    "    \n",
    "    result[\"Lack Of Fit\"] <- round(S_lackOfFit / D,3)\n",
    "    \n",
    "    result[\"F-value\"] <- round(result[\"Lack Of Fit\"] / result[\"Mean Replicate\"],3)\n",
    "    \n",
    "    result[\"p-value\"] <- df(as.numeric(result[\"F-value\"]),D,R)\n",
    "    \n",
    "    result[\"r2\"] <- round(summary(fit.lm)$r.squared,3)\n",
    "    \n",
    "    result[\"a(slope)\"] <- round(fit.lm$coefficients[2],3)\n",
    "    \n",
    "    result[\"b(intercept)\"] <- round(fit.lm$coefficients[1],3)\n",
    "    \n",
    "    return( t(result) )\n",
    "}"
   ]
  },
  {
   "cell_type": "markdown",
   "metadata": {},
   "source": [
    "We can use this function on our dataset A"
   ]
  },
  {
   "cell_type": "code",
   "execution_count": 65,
   "metadata": {},
   "outputs": [
    {
     "data": {
      "image/png": "[encoded data removed]",
      "text/plain": [
       "Plot with title “linear regression”"
      ]
     },
     "metadata": {},
     "output_type": "display_data"
    }
   ],
   "source": [
    "fit.lm <- lm( A ~ conc, data=data.frame(\"conc\"=as.numeric(data$conc), \"A\"=data$A) )\n",
    "r1 <- lof(data$conc, data$A, fit.lm)\n",
    "\n",
    "plot(data$conc,data$A, main=\"linear regression\",ylab=\"intensity\",xlab=\"concentration\")\n",
    "#lines(data$conc, fitted(fit.lm), col=2)\n",
    "abline(fit.lm$coefficients[1],fit.lm$coefficients[2],col=\"blue\")"
   ]
  },
  {
   "cell_type": "markdown",
   "metadata": {},
   "source": [
    "We repeated the calculation for the A dataset, but this time we use ```lm()``` to fit the data. It means that we are not using the models from the book, but the one we are optimizing here. In addition we computed the p-value. A p-value higher than 0.05 means that we cannot conclude that our model doesn't fit our data acurrately.\n",
    "\n",
    "We repeat the same calculation but this time we concatenate A and B datasets to see the effect of a larger dataset."
   ]
  },
  {
   "cell_type": "code",
   "execution_count": 66,
   "metadata": {},
   "outputs": [
    {
     "data": {
      "image/png": "[encoded data removed]",
      "text/plain": [
       "Plot with title “linear regression”"
      ]
     },
     "metadata": {},
     "output_type": "display_data"
    }
   ],
   "source": [
    "fit.lm <- lm( A ~ conc, data=data.frame(\"conc\"=as.numeric(c(data$conc,data$conc)), \"A\"=c(data$A, data$B)) )\n",
    "r2 <- lof(c(data$conc,data$conc), c(data$A, data$B), fit.lm)\n",
    "\n",
    "plot(as.factor(c(data$conc,data$conc)), c(data$A, data$B), main=\"linear regression\",ylab=\"intensity\",xlab=\"concentration\")\n",
    "abline(fit.lm$coefficients[1],fit.lm$coefficients[2],col=\"blue\")"
   ]
  },
  {
   "cell_type": "markdown",
   "metadata": {},
   "source": [
    "The next table shows the comparison. The first thing to note is that the degree of freedom is not changed because we added more points, but also more replicates. Maybe there are too many replicates in this case. The next thing to note is that the lack of fit is smaller which is good, but the MSR is larger. p-values for both are larger than 0.05 and we cannot rule out that our model is not accurate, which is ok. "
   ]
  },
  {
   "cell_type": "code",
   "execution_count": 67,
   "metadata": {},
   "outputs": [
    {
     "data": {
      "text/html": [
       "<table>\n",
       "<tbody>\n",
       "\t<tr><th scope=row>Number.Replicate</th><td>   4.0000000</td><td>  14.0000000</td></tr>\n",
       "\t<tr><th scope=row>Number of Data</th><td>  10.0000000</td><td>  20.0000000</td></tr>\n",
       "\t<tr><th scope=row>Number of Parameters</th><td>   2.0000000</td><td>   2.0000000</td></tr>\n",
       "\t<tr><th scope=row>Degrees of Freedom</th><td>   4.0000000</td><td>   4.0000000</td></tr>\n",
       "\t<tr><th scope=row>Sum Replicate</th><td>   5.6660000</td><td>  27.5520000</td></tr>\n",
       "\t<tr><th scope=row>Sum Residual</th><td>   8.3710000</td><td>  28.2370000</td></tr>\n",
       "\t<tr><th scope=row>Sum Total</th><td>1024.5800000</td><td>2370.3730000</td></tr>\n",
       "\t<tr><th scope=row>Sum Predicted</th><td>1016.2090000</td><td>2342.1370000</td></tr>\n",
       "\t<tr><th scope=row>Sum Lack Of Fit</th><td>   2.7060000</td><td>   0.6850000</td></tr>\n",
       "\t<tr><th scope=row>Mean Residuals</th><td>   1.0460000</td><td>   1.5690000</td></tr>\n",
       "\t<tr><th scope=row>Mean Total</th><td> 102.4580000</td><td> 118.5190000</td></tr>\n",
       "\t<tr><th scope=row>Mean Predicted</th><td> 508.1050000</td><td>1171.0680000</td></tr>\n",
       "\t<tr><th scope=row>Mean Replicate</th><td>   1.4160000</td><td>   1.9680000</td></tr>\n",
       "\t<tr><th scope=row>Lack Of Fit</th><td>   0.6760000</td><td>   0.1710000</td></tr>\n",
       "\t<tr><th scope=row>F-value</th><td>   0.4770000</td><td>   0.0870000</td></tr>\n",
       "\t<tr><th scope=row>p-value</th><td>   0.6013782</td><td>   0.3188609</td></tr>\n",
       "\t<tr><th scope=row>r2</th><td>   0.9560000</td><td>   0.9290000</td></tr>\n",
       "\t<tr><th scope=row>a(slope)</th><td>   2.4360000</td><td>   2.4600000</td></tr>\n",
       "\t<tr><th scope=row>b(intercept)</th><td>   0.6110000</td><td>   1.3220000</td></tr>\n",
       "</tbody>\n",
       "</table>\n"
      ],
      "text/latex": [
       "\\begin{tabular}{r|ll}\n",
       "\tNumber.Replicate &    4.0000000 &   14.0000000\\\\\n",
       "\tNumber of Data &   10.0000000 &   20.0000000\\\\\n",
       "\tNumber of Parameters &    2.0000000 &    2.0000000\\\\\n",
       "\tDegrees of Freedom &    4.0000000 &    4.0000000\\\\\n",
       "\tSum Replicate &    5.6660000 &   27.5520000\\\\\n",
       "\tSum Residual &    8.3710000 &   28.2370000\\\\\n",
       "\tSum Total & 1024.5800000 & 2370.3730000\\\\\n",
       "\tSum Predicted & 1016.2090000 & 2342.1370000\\\\\n",
       "\tSum Lack Of Fit &    2.7060000 &    0.6850000\\\\\n",
       "\tMean Residuals &    1.0460000 &    1.5690000\\\\\n",
       "\tMean Total &  102.4580000 &  118.5190000\\\\\n",
       "\tMean Predicted &  508.1050000 & 1171.0680000\\\\\n",
       "\tMean Replicate &    1.4160000 &    1.9680000\\\\\n",
       "\tLack Of Fit &    0.6760000 &    0.1710000\\\\\n",
       "\tF-value &    0.4770000 &    0.0870000\\\\\n",
       "\tp-value &    0.6013782 &    0.3188609\\\\\n",
       "\tr2 &    0.9560000 &    0.9290000\\\\\n",
       "\ta(slope) &    2.4360000 &    2.4600000\\\\\n",
       "\tb(intercept) &    0.6110000 &    1.3220000\\\\\n",
       "\\end{tabular}\n"
      ],
      "text/markdown": [
       "\n",
       "| Number.Replicate |    4.0000000 |   14.0000000 |\n",
       "| Number of Data |   10.0000000 |   20.0000000 |\n",
       "| Number of Parameters |    2.0000000 |    2.0000000 |\n",
       "| Degrees of Freedom |    4.0000000 |    4.0000000 |\n",
       "| Sum Replicate |    5.6660000 |   27.5520000 |\n",
       "| Sum Residual |    8.3710000 |   28.2370000 |\n",
       "| Sum Total | 1024.5800000 | 2370.3730000 |\n",
       "| Sum Predicted | 1016.2090000 | 2342.1370000 |\n",
       "| Sum Lack Of Fit |    2.7060000 |    0.6850000 |\n",
       "| Mean Residuals |    1.0460000 |    1.5690000 |\n",
       "| Mean Total |  102.4580000 |  118.5190000 |\n",
       "| Mean Predicted |  508.1050000 | 1171.0680000 |\n",
       "| Mean Replicate |    1.4160000 |    1.9680000 |\n",
       "| Lack Of Fit |    0.6760000 |    0.1710000 |\n",
       "| F-value |    0.4770000 |    0.0870000 |\n",
       "| p-value |    0.6013782 |    0.3188609 |\n",
       "| r2 |    0.9560000 |    0.9290000 |\n",
       "| a(slope) |    2.4360000 |    2.4600000 |\n",
       "| b(intercept) |    0.6110000 |    1.3220000 |\n",
       "\n"
      ],
      "text/plain": [
       "                     [,1]         [,2]        \n",
       "Number.Replicate        4.0000000   14.0000000\n",
       "Number of Data         10.0000000   20.0000000\n",
       "Number of Parameters    2.0000000    2.0000000\n",
       "Degrees of Freedom      4.0000000    4.0000000\n",
       "Sum Replicate           5.6660000   27.5520000\n",
       "Sum Residual            8.3710000   28.2370000\n",
       "Sum Total            1024.5800000 2370.3730000\n",
       "Sum Predicted        1016.2090000 2342.1370000\n",
       "Sum Lack Of Fit         2.7060000    0.6850000\n",
       "Mean Residuals          1.0460000    1.5690000\n",
       "Mean Total            102.4580000  118.5190000\n",
       "Mean Predicted        508.1050000 1171.0680000\n",
       "Mean Replicate          1.4160000    1.9680000\n",
       "Lack Of Fit             0.6760000    0.1710000\n",
       "F-value                 0.4770000    0.0870000\n",
       "p-value                 0.6013782    0.3188609\n",
       "r2                      0.9560000    0.9290000\n",
       "a(slope)                2.4360000    2.4600000\n",
       "b(intercept)            0.6110000    1.3220000"
      ]
     },
     "metadata": {},
     "output_type": "display_data"
    }
   ],
   "source": [
    "tableOfResult2 <- cbind(r1,r2)\n",
    "tableOfResult2"
   ]
  },
  {
   "cell_type": "markdown",
   "metadata": {},
   "source": [
    "##### Replicates\n",
    "\n",
    "If we are curious to understand the effect of the replicates we can remove them and apply the test again. Clearly we will have no estimation of the experimental error to compare with. We can compute the LOF but we have no MRS to compute a p-value. \n",
    "\n",
    "<mark>Finally it is important to look at the coefficient. After all we are interested in a calibration curve, how the different experimental designs affect the value of the coefficients?</mark>"
   ]
  },
  {
   "cell_type": "code",
   "execution_count": 46,
   "metadata": {},
   "outputs": [
    {
     "data": {
      "text/html": [
       "<table>\n",
       "<tbody>\n",
       "\t<tr><th scope=row>Number.Replicate</th><td>  0.000</td></tr>\n",
       "\t<tr><th scope=row>Number of Data</th><td>  4.000</td></tr>\n",
       "\t<tr><th scope=row>Number of Parameters</th><td>  2.000</td></tr>\n",
       "\t<tr><th scope=row>Degrees of Freedom</th><td>  2.000</td></tr>\n",
       "\t<tr><th scope=row>Sum Replicate</th><td>  0.000</td></tr>\n",
       "\t<tr><th scope=row>Sum Residual</th><td>  6.486</td></tr>\n",
       "\t<tr><th scope=row>Sum Total</th><td>425.645</td></tr>\n",
       "\t<tr><th scope=row>Sum Predicted</th><td>419.159</td></tr>\n",
       "\t<tr><th scope=row>Sum Lack Of Fit</th><td>  6.486</td></tr>\n",
       "\t<tr><th scope=row>Mean Residuals</th><td>  3.243</td></tr>\n",
       "\t<tr><th scope=row>Mean Total</th><td>106.411</td></tr>\n",
       "\t<tr><th scope=row>Mean Predicted</th><td>209.580</td></tr>\n",
       "\t<tr><th scope=row>Mean Replicate</th><td>    NaN</td></tr>\n",
       "\t<tr><th scope=row>Lack Of Fit</th><td>  3.243</td></tr>\n",
       "\t<tr><th scope=row>F-value</th><td>    NaN</td></tr>\n",
       "\t<tr><th scope=row>p-value</th><td>    NaN</td></tr>\n",
       "\t<tr><th scope=row>r2</th><td>  0.927</td></tr>\n",
       "\t<tr><th scope=row>a(slope)</th><td>  2.510</td></tr>\n",
       "\t<tr><th scope=row>b(intercept)</th><td>  0.398</td></tr>\n",
       "</tbody>\n",
       "</table>\n"
      ],
      "text/latex": [
       "\\begin{tabular}{r|l}\n",
       "\tNumber.Replicate &   0.000\\\\\n",
       "\tNumber of Data &   4.000\\\\\n",
       "\tNumber of Parameters &   2.000\\\\\n",
       "\tDegrees of Freedom &   2.000\\\\\n",
       "\tSum Replicate &   0.000\\\\\n",
       "\tSum Residual &   6.486\\\\\n",
       "\tSum Total & 425.645\\\\\n",
       "\tSum Predicted & 419.159\\\\\n",
       "\tSum Lack Of Fit &   6.486\\\\\n",
       "\tMean Residuals &   3.243\\\\\n",
       "\tMean Total & 106.411\\\\\n",
       "\tMean Predicted & 209.580\\\\\n",
       "\tMean Replicate &     NaN\\\\\n",
       "\tLack Of Fit &   3.243\\\\\n",
       "\tF-value &     NaN\\\\\n",
       "\tp-value &     NaN\\\\\n",
       "\tr2 &   0.927\\\\\n",
       "\ta(slope) &   2.510\\\\\n",
       "\tb(intercept) &   0.398\\\\\n",
       "\\end{tabular}\n"
      ],
      "text/markdown": [
       "\n",
       "| Number.Replicate |   0.000 |\n",
       "| Number of Data |   4.000 |\n",
       "| Number of Parameters |   2.000 |\n",
       "| Degrees of Freedom |   2.000 |\n",
       "| Sum Replicate |   0.000 |\n",
       "| Sum Residual |   6.486 |\n",
       "| Sum Total | 425.645 |\n",
       "| Sum Predicted | 419.159 |\n",
       "| Sum Lack Of Fit |   6.486 |\n",
       "| Mean Residuals |   3.243 |\n",
       "| Mean Total | 106.411 |\n",
       "| Mean Predicted | 209.580 |\n",
       "| Mean Replicate |     NaN |\n",
       "| Lack Of Fit |   3.243 |\n",
       "| F-value |     NaN |\n",
       "| p-value |     NaN |\n",
       "| r2 |   0.927 |\n",
       "| a(slope) |   2.510 |\n",
       "| b(intercept) |   0.398 |\n",
       "\n"
      ],
      "text/plain": [
       "                     [,1]   \n",
       "Number.Replicate       0.000\n",
       "Number of Data         4.000\n",
       "Number of Parameters   2.000\n",
       "Degrees of Freedom     2.000\n",
       "Sum Replicate          0.000\n",
       "Sum Residual           6.486\n",
       "Sum Total            425.645\n",
       "Sum Predicted        419.159\n",
       "Sum Lack Of Fit        6.486\n",
       "Mean Residuals         3.243\n",
       "Mean Total           106.411\n",
       "Mean Predicted       209.580\n",
       "Mean Replicate           NaN\n",
       "Lack Of Fit            3.243\n",
       "F-value                  NaN\n",
       "p-value                  NaN\n",
       "r2                     0.927\n",
       "a(slope)               2.510\n",
       "b(intercept)           0.398"
      ]
     },
     "metadata": {},
     "output_type": "display_data"
    },
    {
     "data": {
      "image/png": "[encoded data removed]",
      "text/plain": [
       "Plot with title “linear regression”"
      ]
     },
     "metadata": {},
     "output_type": "display_data"
    }
   ],
   "source": [
    "F <- duplicated(data$conc)\n",
    "fit.lm <- lm( A ~ conc, data=data.frame(\"conc\"=as.numeric(data$conc[F]), \"A\"=data$A[F]) )\n",
    "lof(data$conc[F], data$A[F], fit.lm)\n",
    "\n",
    "plot(data$conc[F], data$A[F], main=\"linear regression\",ylab=\"intensity\",xlab=\"concentration\")\n",
    "abline(fit.lm$coefficients[1],fit.lm$coefficients[2],col=\"blue\")\n"
   ]
  },
  {
   "cell_type": "markdown",
   "metadata": {},
   "source": [
    "### p-values, model and noise\n",
    "\n",
    "As already mentionned, the p-value can be used to decide if we can conclude that our model is not appropriate. We can go back to the data of the first example to check demonstrate how p-value help us decide if our model is accurate or not and to illustrate the effect of noise in the data."
   ]
  },
  {
   "cell_type": "code",
   "execution_count": 47,
   "metadata": {},
   "outputs": [],
   "source": [
    "N <- 20 # we define the number of observations\n",
    "\n",
    "# we create a fake dataset using a quadratic\n",
    "#equation and adding some noise\n",
    "# first create a vector of x repeated rep times\n",
    "rep <- 2 # number of replicates\n",
    "X <- rep(seq(from=43, to=96, length.out=N),rep)\n",
    "# then create the Y vector according to the equation:\n",
    "Y <- (0.075 * X + -1.874 + 0.01* X^2)\n",
    "# create some noise\n",
    "noise <-runif(length(Y), -1, 1) \n",
    "# add some noise to Y\n",
    "Y <- Y + 1*noise\n",
    "x_sorted <- sort(X,index.return=TRUE)\n",
    "x <-x_sorted$x\n",
    "y <- Y[x_sorted$ix]\n",
    "data <- data.frame(\"x\"=x, \"y\"=y, x2=x^2)\n",
    "\n",
    "# we fit the data and evaluate the goodness of it\n",
    "fit.lm <- lm( y ~ x, data=data )\n",
    "noQuadLowNoise <- lof(data$x, data$y, fit.lm)"
   ]
  },
  {
   "cell_type": "code",
   "execution_count": 48,
   "metadata": {},
   "outputs": [
    {
     "data": {
      "text/html": [
       "0.992"
      ],
      "text/latex": [
       "0.992"
      ],
      "text/markdown": [
       "0.992"
      ],
      "text/plain": [
       "[1] 0.992"
      ]
     },
     "metadata": {},
     "output_type": "display_data"
    },
    {
     "data": {
      "image/png": "[encoded data removed]",
      "text/plain": [
       "Plot with title “low noise data / linear model”"
      ]
     },
     "metadata": {},
     "output_type": "display_data"
    }
   ],
   "source": [
    "plot(data$x,data$y, cex=0.7, cex.axis=0.8, cex.main=0.8, cex.lab=0.8, main=\"low noise data / linear model\", xlab=\"concentration\", ylab=\"intensity\")\n",
    "lines(data$x, fitted(fit.lm), col=2)\n",
    "noQuadLowNoise[17]"
   ]
  },
  {
   "cell_type": "markdown",
   "metadata": {},
   "source": [
    "Although the correlation coefficient is high, we can see that there is a trend in the data that is not correctly described by the model, the model is linear and we know that there is a quadratic term in the data. If we only look at the lack of fit and at the correlation coefficient we can conclude that the model is not bad. \n",
    "\n",
    "However the LOF is bigger than the MSR, which indicates a problem with our model. If we compute the p-value"
   ]
  },
  {
   "cell_type": "code",
   "execution_count": 49,
   "metadata": {},
   "outputs": [
    {
     "data": {
      "text/html": [
       "2.83496955374502e-14"
      ],
      "text/latex": [
       "2.83496955374502e-14"
      ],
      "text/markdown": [
       "2.83496955374502e-14"
      ],
      "text/plain": [
       "[1] 2.83497e-14"
      ]
     },
     "metadata": {},
     "output_type": "display_data"
    }
   ],
   "source": [
    "noQuadLowNoise[16] # p-value"
   ]
  },
  {
   "cell_type": "code",
   "execution_count": 50,
   "metadata": {},
   "outputs": [
    {
     "data": {
      "text/html": [
       "2.15112442712183"
      ],
      "text/latex": [
       "2.15112442712183"
      ],
      "text/markdown": [
       "2.15112442712183"
      ],
      "text/plain": [
       "[1] 2.151124"
      ]
     },
     "metadata": {},
     "output_type": "display_data"
    },
    {
     "data": {
      "text/html": [
       "59.163"
      ],
      "text/latex": [
       "59.163"
      ],
      "text/markdown": [
       "59.163"
      ],
      "text/plain": [
       "[1] 59.163"
      ]
     },
     "metadata": {},
     "output_type": "display_data"
    },
    {
     "data": {
      "text/html": [
       "0.999999999999827"
      ],
      "text/latex": [
       "0.999999999999827"
      ],
      "text/markdown": [
       "0.999999999999827"
      ],
      "text/plain": [
       "[1] 1"
      ]
     },
     "metadata": {},
     "output_type": "display_data"
    }
   ],
   "source": [
    "# Brereton p.42\n",
    "qf(0.95,noQuadLowNoise[4],noQuadLowNoise[1])  # this would be the F-ratio for 95% confidence.\n",
    "# above this number we can conclude with 95% confidence that intercept is useful.\n",
    "noQuadLowNoise[15]\n",
    "pf(noQuadLowNoise[15],noQuadLowNoise[4],noQuadLowNoise[1],lower.tail = TRUE)"
   ]
  },
  {
   "cell_type": "raw",
   "metadata": {},
   "source": [
    "we find a very small number that means that we can conclude that our model is not accurate. Let's repeat this but this time we include a quadratic term in the model."
   ]
  },
  {
   "cell_type": "code",
   "execution_count": 51,
   "metadata": {},
   "outputs": [
    {
     "data": {
      "text/html": [
       "0.00758060780767054"
      ],
      "text/latex": [
       "0.00758060780767054"
      ],
      "text/markdown": [
       "0.00758060780767054"
      ],
      "text/plain": [
       "[1] 0.007580608"
      ]
     },
     "metadata": {},
     "output_type": "display_data"
    },
    {
     "data": {
      "image/png": "[encoded data removed]",
      "text/plain": [
       "Plot with title “low noise data / quadratic model”"
      ]
     },
     "metadata": {},
     "output_type": "display_data"
    }
   ],
   "source": [
    "fit.lm <- lm( y ~ x + x2, data=data )\n",
    "QuadLowNoise <- lof(data$x, data$y, fit.lm)\n",
    "plot(data$x,data$y, cex=0.7, cex.axis=0.8, cex.main=0.8, cex.lab=0.8, main=\"low noise data / quadratic model\", xlab=\"concentration\", ylab=\"intensity\")\n",
    "lines(data$x, fitted(fit.lm), col=2)\n",
    "QuadLowNoise[16]"
   ]
  },
  {
   "cell_type": "code",
   "execution_count": 52,
   "metadata": {},
   "outputs": [
    {
     "data": {
      "text/html": [
       "2.16670099681198"
      ],
      "text/latex": [
       "2.16670099681198"
      ],
      "text/markdown": [
       "2.16670099681198"
      ],
      "text/plain": [
       "[1] 2.166701"
      ]
     },
     "metadata": {},
     "output_type": "display_data"
    },
    {
     "data": {
      "text/html": [
       "3.477"
      ],
      "text/latex": [
       "3.477"
      ],
      "text/markdown": [
       "3.477"
      ],
      "text/plain": [
       "[1] 3.477"
      ]
     },
     "metadata": {},
     "output_type": "display_data"
    },
    {
     "data": {
      "text/html": [
       "0.995485550032857"
      ],
      "text/latex": [
       "0.995485550032857"
      ],
      "text/markdown": [
       "0.995485550032857"
      ],
      "text/plain": [
       "[1] 0.9954856"
      ]
     },
     "metadata": {},
     "output_type": "display_data"
    }
   ],
   "source": [
    "# Brereton p.42\n",
    "qf(0.95,QuadLowNoise[4],QuadLowNoise[1])  # this would be the F-ratio for 95% confidence.\n",
    "# above this number we can conclude with 95% confidence that intercept is useful.\n",
    "QuadLowNoise[15]\n",
    "pf(QuadLowNoise[15],QuadLowNoise[4],QuadLowNoise[1],lower.tail = TRUE)"
   ]
  },
  {
   "cell_type": "markdown",
   "metadata": {},
   "source": [
    "Clearly the model is more accurate and we obtain a p-value that is larger than 0.05.\n",
    "\n",
    "Now let's see what happens if the noise is large."
   ]
  },
  {
   "cell_type": "code",
   "execution_count": 53,
   "metadata": {},
   "outputs": [
    {
     "data": {
      "text/html": [
       "0.553610438205782"
      ],
      "text/latex": [
       "0.553610438205782"
      ],
      "text/markdown": [
       "0.553610438205782"
      ],
      "text/plain": [
       "[1] 0.5536104"
      ]
     },
     "metadata": {},
     "output_type": "display_data"
    },
    {
     "data": {
      "image/png": "[encoded data removed]",
      "text/plain": [
       "Plot with title “high noise data / quadratic model”"
      ]
     },
     "metadata": {},
     "output_type": "display_data"
    }
   ],
   "source": [
    "N <- 20 \n",
    "rep <- 2 \n",
    "X <- rep(seq(from=43, to=96, length.out=N),rep)\n",
    "Y <- (0.075 * X + -1.874 + 0.01* X^2)\n",
    "noise <-runif(length(Y), -1, 1) \n",
    "Y <- Y + 4*noise # we increment the noise \n",
    "x_sorted <- sort(X,index.return=TRUE)\n",
    "x <-x_sorted$x\n",
    "y <- Y[x_sorted$ix]\n",
    "data <- data.frame(\"x\"=x, \"y\"=y, x2=x^2)\n",
    "\n",
    "fit.lm <- lm( y ~ x + x2, data=data )\n",
    "QuadHighNoise <- lof(data$x, data$y, fit.lm)\n",
    "\n",
    "plot(data$x,data$y, cex=0.7, cex.axis=0.8, cex.main=0.8, cex.lab=0.8, main=\"high noise data / quadratic model\", xlab=\"concentration\", ylab=\"intensity\")\n",
    "lines(data$x, fitted(fit.lm), col=2)\n",
    "\n",
    "QuadHighNoise[16]"
   ]
  },
  {
   "cell_type": "code",
   "execution_count": 54,
   "metadata": {},
   "outputs": [
    {
     "data": {
      "text/html": [
       "2.16670099681198"
      ],
      "text/latex": [
       "2.16670099681198"
      ],
      "text/markdown": [
       "2.16670099681198"
      ],
      "text/plain": [
       "[1] 2.166701"
      ]
     },
     "metadata": {},
     "output_type": "display_data"
    },
    {
     "data": {
      "text/html": [
       "1.3"
      ],
      "text/latex": [
       "1.3"
      ],
      "text/markdown": [
       "1.3"
      ],
      "text/plain": [
       "[1] 1.3"
      ]
     },
     "metadata": {},
     "output_type": "display_data"
    },
    {
     "data": {
      "text/html": [
       "0.715217234887876"
      ],
      "text/latex": [
       "0.715217234887876"
      ],
      "text/markdown": [
       "0.715217234887876"
      ],
      "text/plain": [
       "[1] 0.7152172"
      ]
     },
     "metadata": {},
     "output_type": "display_data"
    }
   ],
   "source": [
    "# Brereton p.42\n",
    "qf(0.95,QuadHighNoise[4],QuadHighNoise[1])  # this would be the F-ratio for 95% confidence.\n",
    "# above this number we can conclude with 95% confidence that intercept is useful.\n",
    "QuadHighNoise[15]\n",
    "pf(QuadHighNoise[15],QuadHighNoise[4],QuadHighNoise[1],lower.tail = TRUE)"
   ]
  },
  {
   "cell_type": "markdown",
   "metadata": {},
   "source": [
    "We repeat now the same operation but without the quadratic term."
   ]
  },
  {
   "cell_type": "code",
   "execution_count": 55,
   "metadata": {},
   "outputs": [
    {
     "data": {
      "text/html": [
       "0.0114897700714444"
      ],
      "text/latex": [
       "0.0114897700714444"
      ],
      "text/markdown": [
       "0.0114897700714444"
      ],
      "text/plain": [
       "[1] 0.01148977"
      ]
     },
     "metadata": {},
     "output_type": "display_data"
    },
    {
     "data": {
      "image/png": "[encoded data removed]",
      "text/plain": [
       "Plot with title “high noise data / linear model”"
      ]
     },
     "metadata": {},
     "output_type": "display_data"
    }
   ],
   "source": [
    "fit.lm <- lm( y ~ x, data=data )\n",
    "noQuadHighNoise <- lof(data$x, data$y, fit.lm)\n",
    "\n",
    "plot(data$x,data$y, cex=0.7, cex.axis=0.8, cex.main=0.8, cex.lab=0.8, main=\"high noise data / linear model\", xlab=\"concentration\", ylab=\"intensity\")\n",
    "lines(data$x, fitted(fit.lm), col=2)\n",
    "\n",
    "noQuadHighNoise[16]"
   ]
  },
  {
   "cell_type": "code",
   "execution_count": 56,
   "metadata": {},
   "outputs": [
    {
     "data": {
      "text/html": [
       "2.15112442712183"
      ],
      "text/latex": [
       "2.15112442712183"
      ],
      "text/markdown": [
       "2.15112442712183"
      ],
      "text/plain": [
       "[1] 2.151124"
      ]
     },
     "metadata": {},
     "output_type": "display_data"
    },
    {
     "data": {
      "text/html": [
       "3.227"
      ],
      "text/latex": [
       "3.227"
      ],
      "text/markdown": [
       "3.227"
      ],
      "text/plain": [
       "[1] 3.227"
      ]
     },
     "metadata": {},
     "output_type": "display_data"
    },
    {
     "data": {
      "text/html": [
       "0.99347154530691"
      ],
      "text/latex": [
       "0.99347154530691"
      ],
      "text/markdown": [
       "0.99347154530691"
      ],
      "text/plain": [
       "[1] 0.9934715"
      ]
     },
     "metadata": {},
     "output_type": "display_data"
    }
   ],
   "source": [
    "# Brereton p.42\n",
    "qf(0.95,noQuadHighNoise[4],noQuadHighNoise[1])  # this would be the F-ratio for 95% confidence.\n",
    "# above this number we can conclude with 95% confidence that intercept is useful.\n",
    "noQuadHighNoise[15]\n",
    "pf(noQuadHighNoise[15],noQuadHighNoise[4],noQuadHighNoise[1],lower.tail = TRUE)"
   ]
  },
  {
   "cell_type": "markdown",
   "metadata": {},
   "source": [
    "It can be observed than both p-values are larger than 0.05 and thus we cannot rule out a model and must **statistically** accept both model as acceptable for our data. This is the effect of noise, it increase the MSR resulting in larger p-values.\n",
    "\n",
    "<mark>You may have to re-run the last cells several time, this because the data are generated randomly and the p-value may vary largely.</mark>"
   ]
  },
  {
   "cell_type": "markdown",
   "metadata": {},
   "source": [
    "It may be interesting to plot the residual. Here we clearly distinguish the quadratic behavior that is not taken into account by our linear model. Plotting residual is always a good idea to help validating a model."
   ]
  },
  {
   "cell_type": "code",
   "execution_count": 57,
   "metadata": {},
   "outputs": [
    {
     "data": {
      "image/png": "[encoded data removed]",
      "text/plain": [
       "plot without title"
      ]
     },
     "metadata": {},
     "output_type": "display_data"
    }
   ],
   "source": [
    "plot( resid(fit.lm) )\n",
    "abline(0,0)"
   ]
  },
  {
   "cell_type": "markdown",
   "metadata": {},
   "source": [
    "Finally, we may want to add the 95% confidence interval for our calibration curve. This can be achieved with a single command."
   ]
  },
  {
   "cell_type": "code",
   "execution_count": 58,
   "metadata": {},
   "outputs": [],
   "source": [
    "interval <- confint(fit.lm)\n",
    "interval90 <- confint(fit.lm, level=0.8)"
   ]
  },
  {
   "cell_type": "code",
   "execution_count": 59,
   "metadata": {},
   "outputs": [
    {
     "data": {
      "image/png": "[encoded data removed]",
      "text/plain": [
       "Plot with title “high noise data / linear model”"
      ]
     },
     "metadata": {},
     "output_type": "display_data"
    }
   ],
   "source": [
    "plot(data$x,data$y, cex=0.7, cex.axis=0.8, cex.main=0.8, cex.lab=0.8, main=\"high noise data / linear model\", xlab=\"concentration\", ylab=\"intensity\")\n",
    "lines(data$x, fitted(fit.lm), col=\"red\")\n",
    "abline(interval[1,1], interval[2,1], col=\"gray\")\n",
    "abline(interval[1,2], interval[2,2], col=\"gray\")\n",
    "abline(interval90[1,1], interval90[2,1], col=\"gray\", lty=2)\n",
    "abline(interval90[1,2], interval90[2,2], col=\"gray\", lty=2)"
   ]
  },
  {
   "cell_type": "markdown",
   "metadata": {},
   "source": [
    "Here is a calibration curve with confidence interval at 80% (gray dashed line) and 95% (gray line). More concrete information can be found here for calibration curves (https://raw.githubusercontent.com/jwist/chemometrics/master/pdf/Calibration-curve-guide.pdf)"
   ]
  },
  {
   "cell_type": "markdown",
   "metadata": {},
   "source": [
    "According to the decision tree, in this simple decision tree we have 1 IV (X, causes) and 1 DV (Y, effect). Since both are continuous variable we are in the domain of regression. Because we only have a single DV and it is continuous we speak about simple linear regression. In the next example we will study the effect of pH, temperature and concentration on the yield of a reaction, thus we will have more than one IV but a single DV and we speaks about multiple regression or multivariable regression.\n",
    "\n",
    "for more about this read: http://www.ncbi.nlm.nih.gov/pmc/articles/PMC3518362/"
   ]
  },
  {
   "cell_type": "code",
   "execution_count": null,
   "metadata": {
    "collapsed": true
   },
   "outputs": [],
   "source": []
  },
  {
   "cell_type": "code",
   "execution_count": null,
   "metadata": {},
   "outputs": [],
   "source": []
  }
 ],
 "metadata": {
  "kernelspec": {
   "display_name": "R",
   "language": "R",
   "name": "ir"
  },
  "language_info": {
   "codemirror_mode": "r",
   "file_extension": ".r",
   "mimetype": "text/x-r-source",
   "name": "R",
   "pygments_lexer": "r",
   "version": "3.5.2"
  }
 },
 "nbformat": 4,
 "nbformat_minor": 2
}
