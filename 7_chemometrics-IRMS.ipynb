{
 "cells": [
  {
   "cell_type": "markdown",
   "metadata": {
    "slideshow": {
     "slide_type": "slide"
    }
   },
   "source": [
    "# Chemometrics\n",
    "<br>\n",
    "**Julien Wist / 2017 / Universidad del Valle**\n",
    "<br>\n",
    "**Andrés Bernal / 2017 / ???**\n",
    "\n",
    "An up-to-date version of this notebook can be found here: https://github.com/jwist/chemometrics/"
   ]
  },
  {
   "cell_type": "code",
   "execution_count": 1,
   "metadata": {
    "slideshow": {
     "slide_type": "skip"
    }
   },
   "outputs": [],
   "source": [
    "options(repr.plot.width=4, repr.plot.height=4)"
   ]
  },
  {
   "cell_type": "code",
   "execution_count": 2,
   "metadata": {
    "slideshow": {
     "slide_type": "skip"
    }
   },
   "outputs": [
    {
     "name": "stderr",
     "output_type": "stream",
     "text": [
      "\n",
      "Attaching package: ‘ggplot2’\n",
      "\n",
      "\n",
      "The following object is masked from ‘package:crayon’:\n",
      "\n",
      "    %+%\n",
      "\n",
      "\n",
      "corrplot 0.84 loaded\n",
      "\n",
      "Loading required package: lattice\n",
      "\n"
     ]
    },
    {
     "ename": "ERROR",
     "evalue": "Error in library(klaR): there is no package called ‘klaR’\n",
     "output_type": "error",
     "traceback": [
      "Error in library(klaR): there is no package called ‘klaR’\nTraceback:\n",
      "1. library(klaR)"
     ]
    }
   ],
   "source": [
    "# we load a few packages\n",
    "library(ggplot2)\n",
    "library(corrplot)\n",
    "library(reshape2)\n",
    "library(caret)\n",
    "library(MASS) # for LDA\n",
    "library(klaR) # for pls\n",
    "library(pls)\n",
    "library(e1071)# for pls\n",
    "library(pROC) # for pls\n",
    "library(vegan)\n",
    "require(scales)\n",
    "require(gridExtra);"
   ]
  },
  {
   "cell_type": "markdown",
   "metadata": {
    "slideshow": {
     "slide_type": "slide"
    }
   },
   "source": [
    "## IRMS\n",
    "\n",
    "Let's load real data. Assume we want to discriminate coffee beans according to their origin. Therefore we perform Isotope Ratio Mass Spectrometry, which allows to determine the isotopic ration for several nucleus. In this case we will measure only the ratio for carbon in caffeine. "
   ]
  },
  {
   "cell_type": "code",
   "execution_count": 5,
   "metadata": {
    "slideshow": {
     "slide_type": "slide"
    }
   },
   "outputs": [
    {
     "data": {
      "text/html": [
       "<style>\n",
       ".list-inline {list-style: none; margin:0; padding: 0}\n",
       ".list-inline>li {display: inline-block}\n",
       ".list-inline>li:not(:last-child)::after {content: \"\\00b7\"; padding: 0 .5ex}\n",
       "</style>\n",
       "<ol class=list-inline><li>34</li><li>6</li></ol>\n"
      ],
      "text/latex": [
       "\\begin{enumerate*}\n",
       "\\item 34\n",
       "\\item 6\n",
       "\\end{enumerate*}\n"
      ],
      "text/markdown": [
       "1. 34\n",
       "2. 6\n",
       "\n",
       "\n"
      ],
      "text/plain": [
       "[1] 34  6"
      ]
     },
     "metadata": {},
     "output_type": "display_data"
    }
   ],
   "source": [
    "#rm(list=ls(all=TRUE))\n",
    "\n",
    "load(url('https://github.com/jwist/chemometrics/raw/master/datasets/coffeeMulti.rda'))\n",
    "d <- coffeeMulti$irms\n",
    "dim(d)"
   ]
  },
  {
   "cell_type": "markdown",
   "metadata": {
    "slideshow": {
     "slide_type": "slide"
    }
   },
   "source": [
    "We have 34 samples and if we look at the country they are from we find out the following:"
   ]
  },
  {
   "cell_type": "code",
   "execution_count": 6,
   "metadata": {
    "slideshow": {
     "slide_type": "slide"
    }
   },
   "outputs": [
    {
     "data": {
      "text/html": [
       "<style>\n",
       ".list-inline {list-style: none; margin:0; padding: 0}\n",
       ".list-inline>li {display: inline-block}\n",
       ".list-inline>li:not(:last-child)::after {content: \"\\00b7\"; padding: 0 .5ex}\n",
       "</style>\n",
       "<ol class=list-inline><li>'code'</li><li>'country'</li><li>'department'</li><li>'caffeine1'</li><li>'caffeine2'</li><li>'mean'</li></ol>\n"
      ],
      "text/latex": [
       "\\begin{enumerate*}\n",
       "\\item 'code'\n",
       "\\item 'country'\n",
       "\\item 'department'\n",
       "\\item 'caffeine1'\n",
       "\\item 'caffeine2'\n",
       "\\item 'mean'\n",
       "\\end{enumerate*}\n"
      ],
      "text/markdown": [
       "1. 'code'\n",
       "2. 'country'\n",
       "3. 'department'\n",
       "4. 'caffeine1'\n",
       "5. 'caffeine2'\n",
       "6. 'mean'\n",
       "\n",
       "\n"
      ],
      "text/plain": [
       "[1] \"code\"       \"country\"    \"department\" \"caffeine1\"  \"caffeine2\" \n",
       "[6] \"mean\"      "
      ]
     },
     "metadata": {},
     "output_type": "display_data"
    }
   ],
   "source": [
    "names(d)"
   ]
  },
  {
   "cell_type": "code",
   "execution_count": 7,
   "metadata": {
    "slideshow": {
     "slide_type": "slide"
    }
   },
   "outputs": [
    {
     "data": {
      "text/html": [
       "<style>\n",
       ".dl-inline {width: auto; margin:0; padding: 0}\n",
       ".dl-inline>dt, .dl-inline>dd {float: none; width: auto; display: inline-block}\n",
       ".dl-inline>dt::after {content: \":\\0020\"; padding-right: .5ex}\n",
       ".dl-inline>dt:not(:first-of-type) {padding-left: .5ex}\n",
       "</style><dl class=dl-inline><dt>Brasil</dt><dd>11</dd><dt>Colombia</dt><dd>15</dd><dt>Peru</dt><dd>8</dd></dl>\n"
      ],
      "text/latex": [
       "\\begin{description*}\n",
       "\\item[Brasil] 11\n",
       "\\item[Colombia] 15\n",
       "\\item[Peru] 8\n",
       "\\end{description*}\n"
      ],
      "text/markdown": [
       "Brasil\n",
       ":   11Colombia\n",
       ":   15Peru\n",
       ":   8\n",
       "\n"
      ],
      "text/plain": [
       "  Brasil Colombia     Peru \n",
       "      11       15        8 "
      ]
     },
     "metadata": {},
     "output_type": "display_data"
    }
   ],
   "source": [
    "summary(d$country)"
   ]
  },
  {
   "cell_type": "markdown",
   "metadata": {
    "slideshow": {
     "slide_type": "slide"
    }
   },
   "source": [
    "We can look to the data in more details. Let's display the first 3 rows (it is always a good idea to look at the data, sometimes there are difficult to diplay because too lengthy. In that case a plot will do the job)"
   ]
  },
  {
   "cell_type": "code",
   "execution_count": 8,
   "metadata": {
    "slideshow": {
     "slide_type": "slide"
    }
   },
   "outputs": [
    {
     "data": {
      "text/html": [
       "<table class=\"dataframe\">\n",
       "<caption>A AsIs: 3 × 6</caption>\n",
       "<thead>\n",
       "\t<tr><th></th><th scope=col>code</th><th scope=col>country</th><th scope=col>department</th><th scope=col>caffeine1</th><th scope=col>caffeine2</th><th scope=col>mean</th></tr>\n",
       "\t<tr><th></th><th scope=col>&lt;int&gt;</th><th scope=col>&lt;fct&gt;</th><th scope=col>&lt;fct&gt;</th><th scope=col>&lt;dbl&gt;</th><th scope=col>&lt;dbl&gt;</th><th scope=col>&lt;dbl&gt;</th></tr>\n",
       "</thead>\n",
       "<tbody>\n",
       "\t<tr><th scope=row>5</th><td>1172</td><td>Colombia</td><td>Tolima</td><td>-28.285</td><td>-27.936</td><td>-28.111</td></tr>\n",
       "\t<tr><th scope=row>6</th><td>1173</td><td>Colombia</td><td>Tolima</td><td>-28.931</td><td>-28.800</td><td>-28.866</td></tr>\n",
       "\t<tr><th scope=row>7</th><td>1198</td><td>Brasil  </td><td>Otro  </td><td>-28.056</td><td>-28.274</td><td>-28.165</td></tr>\n",
       "</tbody>\n",
       "</table>\n"
      ],
      "text/latex": [
       "A AsIs: 3 × 6\n",
       "\\begin{tabular}{r|llllll}\n",
       "  & code & country & department & caffeine1 & caffeine2 & mean\\\\\n",
       "  & <int> & <fct> & <fct> & <dbl> & <dbl> & <dbl>\\\\\n",
       "\\hline\n",
       "\t5 & 1172 & Colombia & Tolima & -28.285 & -27.936 & -28.111\\\\\n",
       "\t6 & 1173 & Colombia & Tolima & -28.931 & -28.800 & -28.866\\\\\n",
       "\t7 & 1198 & Brasil   & Otro   & -28.056 & -28.274 & -28.165\\\\\n",
       "\\end{tabular}\n"
      ],
      "text/markdown": [
       "\n",
       "A AsIs: 3 × 6\n",
       "\n",
       "| <!--/--> | code &lt;int&gt; | country &lt;fct&gt; | department &lt;fct&gt; | caffeine1 &lt;dbl&gt; | caffeine2 &lt;dbl&gt; | mean &lt;dbl&gt; |\n",
       "|---|---|---|---|---|---|---|\n",
       "| 5 | 1172 | Colombia | Tolima | -28.285 | -27.936 | -28.111 |\n",
       "| 6 | 1173 | Colombia | Tolima | -28.931 | -28.800 | -28.866 |\n",
       "| 7 | 1198 | Brasil   | Otro   | -28.056 | -28.274 | -28.165 |\n",
       "\n"
      ],
      "text/plain": [
       "  code country  department caffeine1 caffeine2 mean   \n",
       "5 1172 Colombia Tolima     -28.285   -27.936   -28.111\n",
       "6 1173 Colombia Tolima     -28.931   -28.800   -28.866\n",
       "7 1198 Brasil   Otro       -28.056   -28.274   -28.165"
      ]
     },
     "metadata": {},
     "output_type": "display_data"
    }
   ],
   "source": [
    "d[1:3,]\n",
    "# uncomment the following line to run only two classes\n",
    "#levels(d$country) <- c(\"otros\",\"Colombia\",\"otros\")"
   ]
  },
  {
   "cell_type": "markdown",
   "metadata": {
    "slideshow": {
     "slide_type": "slide"
    }
   },
   "source": [
    "We discover that we have two replicates (two columns) and an additional column with means.\n",
    "\n",
    "Let's make a simple boxplot graph to visualize the data."
   ]
  },
  {
   "cell_type": "code",
   "execution_count": 9,
   "metadata": {},
   "outputs": [
    {
     "data": {
      "text/html": [
       "<table class=\"dataframe\">\n",
       "<caption>A AsIs: 23 × 6</caption>\n",
       "<thead>\n",
       "\t<tr><th></th><th scope=col>code</th><th scope=col>country</th><th scope=col>department</th><th scope=col>caffeine1</th><th scope=col>caffeine2</th><th scope=col>mean</th></tr>\n",
       "\t<tr><th></th><th scope=col>&lt;int&gt;</th><th scope=col>&lt;fct&gt;</th><th scope=col>&lt;fct&gt;</th><th scope=col>&lt;dbl&gt;</th><th scope=col>&lt;dbl&gt;</th><th scope=col>&lt;dbl&gt;</th></tr>\n",
       "</thead>\n",
       "<tbody>\n",
       "\t<tr><th scope=row>5</th><td>1172</td><td>Colombia</td><td>Tolima</td><td>-28.285</td><td>-27.936</td><td>-28.111</td></tr>\n",
       "\t<tr><th scope=row>6</th><td>1173</td><td>Colombia</td><td>Tolima</td><td>-28.931</td><td>-28.800</td><td>-28.866</td></tr>\n",
       "\t<tr><th scope=row>8</th><td>1199</td><td>Colombia</td><td>Huila </td><td>-28.154</td><td>-28.022</td><td>-28.088</td></tr>\n",
       "\t<tr><th scope=row>10</th><td>1201</td><td>Colombia</td><td>Huila </td><td>-28.198</td><td>-28.372</td><td>-28.285</td></tr>\n",
       "\t<tr><th scope=row>14</th><td>1208</td><td>Colombia</td><td>Huila </td><td>-28.406</td><td>-28.505</td><td>-28.456</td></tr>\n",
       "\t<tr><th scope=row>16</th><td>1216</td><td>Colombia</td><td>Huila </td><td>-27.722</td><td>-27.735</td><td>-27.729</td></tr>\n",
       "\t<tr><th scope=row>18</th><td>1240</td><td>Colombia</td><td>Narino</td><td>-28.605</td><td>-28.716</td><td>-28.661</td></tr>\n",
       "\t<tr><th scope=row>19</th><td>1241</td><td>Colombia</td><td>Narino</td><td>-28.503</td><td>-28.163</td><td>-28.333</td></tr>\n",
       "\t<tr><th scope=row>20</th><td>1242</td><td>Colombia</td><td>Narino</td><td>-28.835</td><td>-29.207</td><td>-29.021</td></tr>\n",
       "\t<tr><th scope=row>21</th><td>1243</td><td>Colombia</td><td>Narino</td><td>-28.387</td><td>-28.379</td><td>-28.383</td></tr>\n",
       "\t<tr><th scope=row>22</th><td>1244</td><td>Colombia</td><td>Narino</td><td>-28.226</td><td>-28.057</td><td>-28.142</td></tr>\n",
       "\t<tr><th scope=row>23</th><td>1245</td><td>Colombia</td><td>Narino</td><td>-28.731</td><td>-28.893</td><td>-28.812</td></tr>\n",
       "\t<tr><th scope=row>24</th><td>1246</td><td>Colombia</td><td>Narino</td><td>-29.029</td><td>-28.771</td><td>-28.900</td></tr>\n",
       "\t<tr><th scope=row>25</th><td>1247</td><td>Colombia</td><td>Narino</td><td>-28.577</td><td>-28.658</td><td>-28.618</td></tr>\n",
       "\t<tr><th scope=row>27</th><td>1249</td><td>Colombia</td><td>Narino</td><td>-29.180</td><td>-29.105</td><td>-29.143</td></tr>\n",
       "\t<tr><th scope=row>29</th><td>1303</td><td>Peru    </td><td>Otro  </td><td>-29.300</td><td>-29.148</td><td>-29.224</td></tr>\n",
       "\t<tr><th scope=row>31</th><td>1325</td><td>Peru    </td><td>Otro  </td><td>-30.027</td><td>-30.038</td><td>-30.033</td></tr>\n",
       "\t<tr><th scope=row>38</th><td>1377</td><td>Peru    </td><td>Otro  </td><td>-29.351</td><td>-29.273</td><td>-29.312</td></tr>\n",
       "\t<tr><th scope=row>46</th><td>1407</td><td>Peru    </td><td>Otro  </td><td>-30.261</td><td>-30.089</td><td>-30.175</td></tr>\n",
       "\t<tr><th scope=row>47</th><td>1411</td><td>Peru    </td><td>Otro  </td><td>-29.643</td><td>-30.076</td><td>-29.860</td></tr>\n",
       "\t<tr><th scope=row>48</th><td>1412</td><td>Peru    </td><td>Otro  </td><td>-30.517</td><td>-30.247</td><td>-30.382</td></tr>\n",
       "\t<tr><th scope=row>51</th><td>1427</td><td>Peru    </td><td>Otro  </td><td>-30.199</td><td>-30.259</td><td>-30.229</td></tr>\n",
       "\t<tr><th scope=row>52</th><td>1428</td><td>Peru    </td><td>Otro  </td><td>-28.533</td><td>-28.601</td><td>-28.567</td></tr>\n",
       "</tbody>\n",
       "</table>\n"
      ],
      "text/latex": [
       "A AsIs: 23 × 6\n",
       "\\begin{tabular}{r|llllll}\n",
       "  & code & country & department & caffeine1 & caffeine2 & mean\\\\\n",
       "  & <int> & <fct> & <fct> & <dbl> & <dbl> & <dbl>\\\\\n",
       "\\hline\n",
       "\t5 & 1172 & Colombia & Tolima & -28.285 & -27.936 & -28.111\\\\\n",
       "\t6 & 1173 & Colombia & Tolima & -28.931 & -28.800 & -28.866\\\\\n",
       "\t8 & 1199 & Colombia & Huila  & -28.154 & -28.022 & -28.088\\\\\n",
       "\t10 & 1201 & Colombia & Huila  & -28.198 & -28.372 & -28.285\\\\\n",
       "\t14 & 1208 & Colombia & Huila  & -28.406 & -28.505 & -28.456\\\\\n",
       "\t16 & 1216 & Colombia & Huila  & -27.722 & -27.735 & -27.729\\\\\n",
       "\t18 & 1240 & Colombia & Narino & -28.605 & -28.716 & -28.661\\\\\n",
       "\t19 & 1241 & Colombia & Narino & -28.503 & -28.163 & -28.333\\\\\n",
       "\t20 & 1242 & Colombia & Narino & -28.835 & -29.207 & -29.021\\\\\n",
       "\t21 & 1243 & Colombia & Narino & -28.387 & -28.379 & -28.383\\\\\n",
       "\t22 & 1244 & Colombia & Narino & -28.226 & -28.057 & -28.142\\\\\n",
       "\t23 & 1245 & Colombia & Narino & -28.731 & -28.893 & -28.812\\\\\n",
       "\t24 & 1246 & Colombia & Narino & -29.029 & -28.771 & -28.900\\\\\n",
       "\t25 & 1247 & Colombia & Narino & -28.577 & -28.658 & -28.618\\\\\n",
       "\t27 & 1249 & Colombia & Narino & -29.180 & -29.105 & -29.143\\\\\n",
       "\t29 & 1303 & Peru     & Otro   & -29.300 & -29.148 & -29.224\\\\\n",
       "\t31 & 1325 & Peru     & Otro   & -30.027 & -30.038 & -30.033\\\\\n",
       "\t38 & 1377 & Peru     & Otro   & -29.351 & -29.273 & -29.312\\\\\n",
       "\t46 & 1407 & Peru     & Otro   & -30.261 & -30.089 & -30.175\\\\\n",
       "\t47 & 1411 & Peru     & Otro   & -29.643 & -30.076 & -29.860\\\\\n",
       "\t48 & 1412 & Peru     & Otro   & -30.517 & -30.247 & -30.382\\\\\n",
       "\t51 & 1427 & Peru     & Otro   & -30.199 & -30.259 & -30.229\\\\\n",
       "\t52 & 1428 & Peru     & Otro   & -28.533 & -28.601 & -28.567\\\\\n",
       "\\end{tabular}\n"
      ],
      "text/markdown": [
       "\n",
       "A AsIs: 23 × 6\n",
       "\n",
       "| <!--/--> | code &lt;int&gt; | country &lt;fct&gt; | department &lt;fct&gt; | caffeine1 &lt;dbl&gt; | caffeine2 &lt;dbl&gt; | mean &lt;dbl&gt; |\n",
       "|---|---|---|---|---|---|---|\n",
       "| 5 | 1172 | Colombia | Tolima | -28.285 | -27.936 | -28.111 |\n",
       "| 6 | 1173 | Colombia | Tolima | -28.931 | -28.800 | -28.866 |\n",
       "| 8 | 1199 | Colombia | Huila  | -28.154 | -28.022 | -28.088 |\n",
       "| 10 | 1201 | Colombia | Huila  | -28.198 | -28.372 | -28.285 |\n",
       "| 14 | 1208 | Colombia | Huila  | -28.406 | -28.505 | -28.456 |\n",
       "| 16 | 1216 | Colombia | Huila  | -27.722 | -27.735 | -27.729 |\n",
       "| 18 | 1240 | Colombia | Narino | -28.605 | -28.716 | -28.661 |\n",
       "| 19 | 1241 | Colombia | Narino | -28.503 | -28.163 | -28.333 |\n",
       "| 20 | 1242 | Colombia | Narino | -28.835 | -29.207 | -29.021 |\n",
       "| 21 | 1243 | Colombia | Narino | -28.387 | -28.379 | -28.383 |\n",
       "| 22 | 1244 | Colombia | Narino | -28.226 | -28.057 | -28.142 |\n",
       "| 23 | 1245 | Colombia | Narino | -28.731 | -28.893 | -28.812 |\n",
       "| 24 | 1246 | Colombia | Narino | -29.029 | -28.771 | -28.900 |\n",
       "| 25 | 1247 | Colombia | Narino | -28.577 | -28.658 | -28.618 |\n",
       "| 27 | 1249 | Colombia | Narino | -29.180 | -29.105 | -29.143 |\n",
       "| 29 | 1303 | Peru     | Otro   | -29.300 | -29.148 | -29.224 |\n",
       "| 31 | 1325 | Peru     | Otro   | -30.027 | -30.038 | -30.033 |\n",
       "| 38 | 1377 | Peru     | Otro   | -29.351 | -29.273 | -29.312 |\n",
       "| 46 | 1407 | Peru     | Otro   | -30.261 | -30.089 | -30.175 |\n",
       "| 47 | 1411 | Peru     | Otro   | -29.643 | -30.076 | -29.860 |\n",
       "| 48 | 1412 | Peru     | Otro   | -30.517 | -30.247 | -30.382 |\n",
       "| 51 | 1427 | Peru     | Otro   | -30.199 | -30.259 | -30.229 |\n",
       "| 52 | 1428 | Peru     | Otro   | -28.533 | -28.601 | -28.567 |\n",
       "\n"
      ],
      "text/plain": [
       "   code country  department caffeine1 caffeine2 mean   \n",
       "5  1172 Colombia Tolima     -28.285   -27.936   -28.111\n",
       "6  1173 Colombia Tolima     -28.931   -28.800   -28.866\n",
       "8  1199 Colombia Huila      -28.154   -28.022   -28.088\n",
       "10 1201 Colombia Huila      -28.198   -28.372   -28.285\n",
       "14 1208 Colombia Huila      -28.406   -28.505   -28.456\n",
       "16 1216 Colombia Huila      -27.722   -27.735   -27.729\n",
       "18 1240 Colombia Narino     -28.605   -28.716   -28.661\n",
       "19 1241 Colombia Narino     -28.503   -28.163   -28.333\n",
       "20 1242 Colombia Narino     -28.835   -29.207   -29.021\n",
       "21 1243 Colombia Narino     -28.387   -28.379   -28.383\n",
       "22 1244 Colombia Narino     -28.226   -28.057   -28.142\n",
       "23 1245 Colombia Narino     -28.731   -28.893   -28.812\n",
       "24 1246 Colombia Narino     -29.029   -28.771   -28.900\n",
       "25 1247 Colombia Narino     -28.577   -28.658   -28.618\n",
       "27 1249 Colombia Narino     -29.180   -29.105   -29.143\n",
       "29 1303 Peru     Otro       -29.300   -29.148   -29.224\n",
       "31 1325 Peru     Otro       -30.027   -30.038   -30.033\n",
       "38 1377 Peru     Otro       -29.351   -29.273   -29.312\n",
       "46 1407 Peru     Otro       -30.261   -30.089   -30.175\n",
       "47 1411 Peru     Otro       -29.643   -30.076   -29.860\n",
       "48 1412 Peru     Otro       -30.517   -30.247   -30.382\n",
       "51 1427 Peru     Otro       -30.199   -30.259   -30.229\n",
       "52 1428 Peru     Otro       -28.533   -28.601   -28.567"
      ]
     },
     "metadata": {},
     "output_type": "display_data"
    }
   ],
   "source": [
    "d[d$country == \"Colombia\" | d$country == \"Peru\",]"
   ]
  },
  {
   "cell_type": "code",
   "execution_count": 19,
   "metadata": {
    "slideshow": {
     "slide_type": "skip"
    }
   },
   "outputs": [
    {
     "data": {
      "text/plain": [
       "\n",
       "\tF test to compare two variances\n",
       "\n",
       "data:  hx and hy\n",
       "F = 1.1664, num df = 99, denom df = 99, p-value = 0.4451\n",
       "alternative hypothesis: true ratio of variances is not equal to 1\n",
       "95 percent confidence interval:\n",
       " 0.7848237 1.7335898\n",
       "sample estimates:\n",
       "ratio of variances \n",
       "          1.166431 \n"
      ]
     },
     "metadata": {},
     "output_type": "display_data"
    },
    {
     "data": {
      "text/plain": [
       "\n",
       "\tF test to compare two variances\n",
       "\n",
       "data:  hx and hy\n",
       "F = 1.7297, num df = 99, denom df = 99, p-value = 0.006886\n",
       "alternative hypothesis: true ratio of variances is not equal to 1\n",
       "95 percent confidence interval:\n",
       " 1.163782 2.570668\n",
       "sample estimates:\n",
       "ratio of variances \n",
       "          1.729653 \n"
      ]
     },
     "metadata": {},
     "output_type": "display_data"
    },
    {
     "data": {
      "image/png": "[encoded data removed]",
      "text/plain": [
       "Plot with title “0.0354354259903962”"
      ]
     },
     "metadata": {
      "image/png": {
       "height": 180,
       "width": 300
      }
     },
     "output_type": "display_data"
    },
    {
     "data": {
      "image/png": "[encoded data removed]",
      "text/plain": [
       "Plot with title “0.00688588396710754”"
      ]
     },
     "metadata": {
      "image/png": {
       "height": 180,
       "width": 300
      }
     },
     "output_type": "display_data"
    }
   ],
   "source": [
    "options(repr.plot.width=5, repr.plot.height=3)\n",
    "\n",
    "mean=100; sd=15\n",
    "lb=80; ub=120\n",
    "\n",
    "x <- seq(-10,10,length=100)*sd + mean\n",
    "hx <- dnorm(x,mean,sd)\n",
    "\n",
    "hy <- dnorm(x,mean,sd + 2)\n",
    "s10 <- t.test(hx, hy)$p.value\n",
    "var.test(hx, hy)\n",
    "\n",
    "hy <- dnorm(x,mean,sd + 4)\n",
    "s20 <- var.test(hx, hy)$p.value\n",
    "\n",
    "hy <- dnorm(x,mean,sd + 6)\n",
    "s50 <- var.test(hx, hy)$p.value\n",
    "\n",
    "hy <- dnorm(x,mean,sd + 8)\n",
    "s100 <- var.test(hx, hy)$p.value\n",
    "\n",
    "var.test(hx, hy)\n",
    "\n",
    "par(mfrow=c(1,4))\n",
    "\n",
    "plot(x, hx, type=\"n\", xlab=\"\", ylab=\"\",\n",
    "  main=s10, axes=FALSE,xlim=c(0,250))\n",
    "\n",
    "lines(x, hx)\n",
    "lines(x, dnorm(x,mean,sd + 2), col=\"red\")\n",
    "axis(1, at=seq(40, 260, 20), pos=0)\n",
    "\n",
    "plot(x, hx, type=\"n\", xlab=\"\", ylab=\"\",\n",
    "  main=s20, axes=FALSE,xlim=c(0,250))\n",
    "\n",
    "lines(x, hx)\n",
    "lines(x, dnorm(x,mean,sd + 4), col=\"red\")\n",
    "axis(1, at=seq(40, 260, 20), pos=0)\n",
    "\n",
    "plot(x, hx, type=\"n\", xlab=\"\", ylab=\"\",\n",
    "  main=s50, axes=FALSE,xlim=c(0,250))\n",
    "\n",
    "lines(x, hx)\n",
    "lines(x, dnorm(x,mean,sd + 6), col=\"red\")\n",
    "axis(1, at=seq(40, 260, 20), pos=0)\n",
    "\n",
    "plot(x, hx, type=\"n\", xlab=\"\", ylab=\"\",\n",
    "  main=s100, axes=FALSE,xlim=c(0,250))\n",
    "\n",
    "lines(x, hx)\n",
    "lines(x, dnorm(x,mean,sd + 8), col=\"red\")\n",
    "axis(1, at=seq(40, 260, 20), pos=0)"
   ]
  },
  {
   "cell_type": "code",
   "execution_count": 23,
   "metadata": {},
   "outputs": [
    {
     "data": {
      "image/png": "[encoded data removed]",
      "text/plain": [
       "plot without title"
      ]
     },
     "metadata": {
      "image/png": {
       "height": 180,
       "width": 300
      }
     },
     "output_type": "display_data"
    }
   ],
   "source": [
    "plot(seq(0, 10, length.out = 100), df(seq(0, 10, length.out = 100), 10, 10), type = \"l\", xlab = \"\", ylab = \"\")\n",
    "lines(seq(0, 10, length.out = 100), df(seq(0, 10, length.out = 100), 10, 5), col = \"red\")\n",
    "lines(seq(0, 10, length.out = 100), df(seq(0, 10, length.out = 100), 5, 5), col = \"green\")\n",
    "abline(h = 0.05)\n",
    "title(xlab = \"F-value\", ylab = \"p-value\")"
   ]
  },
  {
   "cell_type": "code",
   "execution_count": 57,
   "metadata": {
    "slideshow": {
     "slide_type": "slide"
    }
   },
   "outputs": [
    {
     "data": {
      "image/png": "[encoded data removed]",
      "text/plain": [
       "plot without title"
      ]
     },
     "metadata": {
      "image/png": {
       "height": 240,
       "width": 240
      }
     },
     "output_type": "display_data"
    },
    {
     "data": {
      "image/png": "[encoded data removed]",
      "text/plain": [
       "plot without title"
      ]
     },
     "metadata": {
      "image/png": {
       "height": 240,
       "width": 240
      }
     },
     "output_type": "display_data"
    }
   ],
   "source": [
    "options(repr.plot.width=4, repr.plot.height=4)\n",
    "boxplot(tapply(d$mean,d$country,function(x) x))\n",
    "dotchart(d$mean, group = d$country, color = factor(d$country), offset = 0.4)"
   ]
  },
  {
   "cell_type": "markdown",
   "metadata": {
    "slideshow": {
     "slide_type": "slide"
    }
   },
   "source": [
    "Or if we prefer we can diplay the density distribution of the data, which gives a similar information as boxplots."
   ]
  },
  {
   "cell_type": "code",
   "execution_count": 25,
   "metadata": {
    "slideshow": {
     "slide_type": "slide"
    }
   },
   "outputs": [
    {
     "data": {
      "image/png": "[encoded data removed]",
      "text/plain": [
       "Plot with title “ ”"
      ]
     },
     "metadata": {
      "image/png": {
       "height": 240,
       "width": 240
      }
     },
     "output_type": "display_data"
    }
   ],
   "source": [
    "# here we plot the distribution for each class\n",
    "x <- tapply(d$mean,d$country,function(x) x)\n",
    "xlims <- range(unlist(tapply(d$mean,d$country,function(x) unlist(range(density(x)$x)))))\n",
    "ylims <- range(unlist(tapply(d$mean,d$country,function(x) unlist(range(density(x)$y)))))\n",
    "plot(density(x[1][[1]]),type='l', xlim=xlims, ylim=ylims, col=2, main=\" \")\n",
    "lines(density(x[2][[1]]), col=3)\n",
    "lines(density(x[3][[1]]), col=4)\n",
    "legend(min(xlims),max(ylims),levels(d$country), col=2:4, pch=\"*\")"
   ]
  },
  {
   "cell_type": "code",
   "execution_count": 43,
   "metadata": {},
   "outputs": [
    {
     "data": {
      "text/plain": [
       "\n",
       "\tF test to compare two variances\n",
       "\n",
       "data:  x$Brasil and x$Colombia\n",
       "F = 5.6418, num df = 10, denom df = 14, p-value = 0.003789\n",
       "alternative hypothesis: true ratio of variances is not equal to 1\n",
       "95 percent confidence interval:\n",
       "  1.792845 20.030825\n",
       "sample estimates:\n",
       "ratio of variances \n",
       "          5.641835 \n"
      ]
     },
     "metadata": {},
     "output_type": "display_data"
    },
    {
     "data": {
      "text/plain": [
       "\n",
       "\tF test to compare two variances\n",
       "\n",
       "data:  x$Brasil and x$Peru\n",
       "F = 2.2958, num df = 10, denom df = 7, p-value = 0.2824\n",
       "alternative hypothesis: true ratio of variances is not equal to 1\n",
       "95 percent confidence interval:\n",
       " 0.4822017 9.0680787\n",
       "sample estimates:\n",
       "ratio of variances \n",
       "          2.295818 \n"
      ]
     },
     "metadata": {},
     "output_type": "display_data"
    },
    {
     "data": {
      "text/plain": [
       "\n",
       "\tF test to compare two variances\n",
       "\n",
       "data:  x$Peru and x$Colombia\n",
       "F = 2.4574, num df = 7, denom df = 14, p-value = 0.1443\n",
       "alternative hypothesis: true ratio of variances is not equal to 1\n",
       "95 percent confidence interval:\n",
       "  0.7270675 11.2946238\n",
       "sample estimates:\n",
       "ratio of variances \n",
       "          2.457439 \n"
      ]
     },
     "metadata": {},
     "output_type": "display_data"
    }
   ],
   "source": [
    "var.test(x$Brasil, x$Colombia)\n",
    "var.test(x$Brasil, x$Peru)\n",
    "var.test(x$Peru, x$Colombia)"
   ]
  },
  {
   "cell_type": "code",
   "execution_count": 60,
   "metadata": {},
   "outputs": [
    {
     "data": {
      "text/plain": [
       "\n",
       "\tF test to compare two variances\n",
       "\n",
       "data:  d$mean and x$Colombia\n",
       "F = 4.1761, num df = 33, denom df = 14, p-value = 0.006405\n",
       "alternative hypothesis: true ratio of variances is not equal to 1\n",
       "95 percent confidence interval:\n",
       " 1.540185 9.570927\n",
       "sample estimates:\n",
       "ratio of variances \n",
       "          4.176116 \n"
      ]
     },
     "metadata": {},
     "output_type": "display_data"
    },
    {
     "data": {
      "text/plain": [
       "\n",
       "\tF test to compare two variances\n",
       "\n",
       "data:  d$mean and x$Brasil\n",
       "F = 0.74021, num df = 33, denom df = 10, p-value = 0.4914\n",
       "alternative hypothesis: true ratio of variances is not equal to 1\n",
       "95 percent confidence interval:\n",
       " 0.2249219 1.8252337\n",
       "sample estimates:\n",
       "ratio of variances \n",
       "         0.7402053 \n"
      ]
     },
     "metadata": {},
     "output_type": "display_data"
    },
    {
     "data": {
      "text/plain": [
       "\n",
       "\tF test to compare two variances\n",
       "\n",
       "data:  d$mean and x$Peru\n",
       "F = 1.6994, num df = 33, denom df = 7, p-value = 0.4792\n",
       "alternative hypothesis: true ratio of variances is not equal to 1\n",
       "95 percent confidence interval:\n",
       " 0.3912874 4.5899295\n",
       "sample estimates:\n",
       "ratio of variances \n",
       "          1.699377 \n"
      ]
     },
     "metadata": {},
     "output_type": "display_data"
    }
   ],
   "source": [
    "var.test(d$mean, x$Colombia)\n",
    "var.test(d$mean, x$Brasil)\n",
    "var.test(d$mean, x$Peru)"
   ]
  },
  {
   "cell_type": "code",
   "execution_count": 62,
   "metadata": {},
   "outputs": [
    {
     "data": {
      "text/plain": [
       "\n",
       "\tF test to compare two variances\n",
       "\n",
       "data:  c(x$Brasil, x$Peru) and x$Colombia\n",
       "F = 4.6536, num df = 18, denom df = 14, p-value = 0.005498\n",
       "alternative hypothesis: true ratio of variances is not equal to 1\n",
       "95 percent confidence interval:\n",
       "  1.616121 12.548094\n",
       "sample estimates:\n",
       "ratio of variances \n",
       "          4.653594 \n"
      ]
     },
     "metadata": {},
     "output_type": "display_data"
    },
    {
     "data": {
      "text/plain": [
       "\n",
       "\tF test to compare two variances\n",
       "\n",
       "data:  x$Brasil and c(x$Peru, x$Colombia)\n",
       "F = 1.5612, num df = 10, denom df = 22, p-value = 0.368\n",
       "alternative hypothesis: true ratio of variances is not equal to 1\n",
       "95 percent confidence interval:\n",
       " 0.5782801 5.2921306\n",
       "sample estimates:\n",
       "ratio of variances \n",
       "          1.561248 \n"
      ]
     },
     "metadata": {},
     "output_type": "display_data"
    },
    {
     "data": {
      "text/plain": [
       "\n",
       "\tF test to compare two variances\n",
       "\n",
       "data:  x$Peru and c(x$Brasil, x$Colombia)\n",
       "F = 0.71508, num df = 7, denom df = 25, p-value = 0.68\n",
       "alternative hypothesis: true ratio of variances is not equal to 1\n",
       "95 percent confidence interval:\n",
       " 0.2511008 3.1496210\n",
       "sample estimates:\n",
       "ratio of variances \n",
       "         0.7150837 \n"
      ]
     },
     "metadata": {},
     "output_type": "display_data"
    }
   ],
   "source": [
    "var.test(c(x$Brasil, x$Peru), x$Colombia)\n",
    "var.test(x$Brasil, c(x$Peru, x$Colombia))\n",
    "var.test(x$Peru, c(x$Brasil, x$Colombia))"
   ]
  },
  {
   "cell_type": "code",
   "execution_count": 39,
   "metadata": {
    "slideshow": {
     "slide_type": "slide"
    }
   },
   "outputs": [],
   "source": [
    "# then we start the calculations\n",
    "means <- tapply(d$mean,d$country,mean)      # means\n",
    "vars <- tapply(d$mean,d$country,var)        # variances\n",
    "sds <- sqrt(vars)                           # standard deviation\n",
    "ns <- tapply(d$mean,d$country,length)\n",
    "# we perform a multiple t-test, that is we calculate t-test between\n",
    "# all the pairs of countries, and compute the p-values\n",
    "# from http://www.chem.utoronto.ca/coursenotes/analsci/stats/ttest.html\n",
    "t <- dist(means) / sqrt( abs(combn(sds^2/ns,2,sum)) )\n",
    "dof <- abs(combn(sds^2/ns,2,sum))^2 / combn(sds^4/(ns^2*(ns - 1)),2,sum)\n",
    "#dof <- sum(ns) - length(levels(d$country)) # sometimes the d.o.f are also computed in that simpler manner\n",
    "p <- 2*pt(-abs(t),df=dof);"
   ]
  },
  {
   "cell_type": "code",
   "execution_count": 40,
   "metadata": {
    "slideshow": {
     "slide_type": "slide"
    }
   },
   "outputs": [
    {
     "data": {
      "text/plain": [
       "           Brasil Colombia\n",
       "Colombia 2.052607         \n",
       "Peru     1.634253 4.976158"
      ]
     },
     "metadata": {},
     "output_type": "display_data"
    },
    {
     "data": {
      "text/html": [
       "<style>\n",
       ".list-inline {list-style: none; margin:0; padding: 0}\n",
       ".list-inline>li {display: inline-block}\n",
       ".list-inline>li:not(:last-child)::after {content: \"\\00b7\"; padding: 0 .5ex}\n",
       "</style>\n",
       "<ol class=list-inline><li>12.6163252933171</li><li>16.9034836002539</li><li>10.1295444309156</li></ol>\n"
      ],
      "text/latex": [
       "\\begin{enumerate*}\n",
       "\\item 12.6163252933171\n",
       "\\item 16.9034836002539\n",
       "\\item 10.1295444309156\n",
       "\\end{enumerate*}\n"
      ],
      "text/markdown": [
       "1. 12.6163252933171\n",
       "2. 16.9034836002539\n",
       "3. 10.1295444309156\n",
       "\n",
       "\n"
      ],
      "text/plain": [
       "[1] 12.61633 16.90348 10.12954"
      ]
     },
     "metadata": {},
     "output_type": "display_data"
    },
    {
     "data": {
      "text/plain": [
       "               Brasil     Colombia\n",
       "Colombia 0.0614565181             \n",
       "Peru     0.1206906508 0.0005354635"
      ]
     },
     "metadata": {},
     "output_type": "display_data"
    }
   ],
   "source": [
    "t # value of t\n",
    "dof # degree of freedom\n",
    "p # p-value associated to t \n",
    "  # (probability of finding t if null hypothesis is true) \n",
    "  # should be small!"
   ]
  },
  {
   "cell_type": "markdown",
   "metadata": {
    "slideshow": {
     "slide_type": "slide"
    }
   },
   "source": [
    "Let's make a simple t-test between Brazil and Colombia."
   ]
  },
  {
   "cell_type": "code",
   "execution_count": 14,
   "metadata": {
    "slideshow": {
     "slide_type": "slide"
    }
   },
   "outputs": [
    {
     "data": {
      "text/plain": [
       "\n",
       "\tWelch Two Sample t-test\n",
       "\n",
       "data:  d$mean[d$country == \"Brasil\"] and d$mean[d$country == \"Colombia\"]\n",
       "t = -2.0526, df = 12.616, p-value = 0.06146\n",
       "alternative hypothesis: true difference in means is not equal to 0\n",
       "95 percent confidence interval:\n",
       " -1.28761786  0.03492695\n",
       "sample estimates:\n",
       "mean of x mean of y \n",
       "-29.12955 -28.50320 \n"
      ]
     },
     "execution_count": 14,
     "metadata": {},
     "output_type": "execute_result"
    }
   ],
   "source": [
    "t.test(d$mean[d$country==\"Brasil\"], d$mean[d$country==\"Colombia\"])"
   ]
  },
  {
   "cell_type": "code",
   "execution_count": 15,
   "metadata": {
    "slideshow": {
     "slide_type": "skip"
    }
   },
   "outputs": [
    {
     "data": {
      "text/plain": [
       "\n",
       "\tWelch Two Sample t-test\n",
       "\n",
       "data:  d$mean[d$country == \"Peru\"] and d$mean[d$country == \"Colombia\"]\n",
       "t = -4.9762, df = 10.13, p-value = 0.0005355\n",
       "alternative hypothesis: true difference in means is not equal to 0\n",
       "95 percent confidence interval:\n",
       " -1.7646741 -0.6744259\n",
       "sample estimates:\n",
       "mean of x mean of y \n",
       "-29.72275 -28.50320 \n"
      ]
     },
     "execution_count": 15,
     "metadata": {},
     "output_type": "execute_result"
    }
   ],
   "source": [
    "t.test(d$mean[d$country==\"Peru\"], d$mean[d$country==\"Colombia\"])"
   ]
  },
  {
   "cell_type": "code",
   "execution_count": 70,
   "metadata": {
    "slideshow": {
     "slide_type": "slide"
    }
   },
   "outputs": [
    {
     "data": {
      "text/plain": [
       "\n",
       "\tWelch Two Sample t-test\n",
       "\n",
       "data:  d$mean[d$country == \"Peru\"] and d$mean[d$country == \"Brasil\"]\n",
       "t = -1.6343, df = 16.903, p-value = 0.1207\n",
       "alternative hypothesis: true difference in means is not equal to 0\n",
       "95 percent confidence interval:\n",
       " -1.3593632  0.1729541\n",
       "sample estimates:\n",
       "mean of x mean of y \n",
       "-29.72275 -29.12955 \n"
      ]
     },
     "metadata": {},
     "output_type": "display_data"
    }
   ],
   "source": [
    "t.test(d$mean[d$country==\"Peru\"], d$mean[d$country==\"Brasil\"])"
   ]
  },
  {
   "cell_type": "code",
   "execution_count": 66,
   "metadata": {},
   "outputs": [
    {
     "data": {
      "text/plain": [
       "\n",
       "\tWelch Two Sample t-test\n",
       "\n",
       "data:  c(d$mean[d$country == \"Brasil\"], d$mean[d$country == \"Peru\"]) and d$mean[d$country == \"Colombia\"]\n",
       "t = -3.9157, df = 26.599, p-value = 0.0005643\n",
       "alternative hypothesis: true difference in means is not equal to 0\n",
       "95 percent confidence interval:\n",
       " -1.3355258 -0.4167058\n",
       "sample estimates:\n",
       "mean of x mean of y \n",
       "-29.37932 -28.50320 \n"
      ]
     },
     "metadata": {},
     "output_type": "display_data"
    }
   ],
   "source": [
    "t.test(c(d$mean[d$country==\"Brasil\"], d$mean[d$country==\"Peru\"]), d$mean[d$country==\"Colombia\"])"
   ]
  },
  {
   "cell_type": "code",
   "execution_count": 71,
   "metadata": {},
   "outputs": [
    {
     "data": {
      "text/plain": [
       "\n",
       "\tWelch Two Sample t-test\n",
       "\n",
       "data:  c(d$mean[d$country == \"Brasil\"], d$mean[d$country == \"Colombia\"]) and d$mean[d$country == \"Peru\"]\n",
       "t = 3.5928, df = 13.614, p-value = 0.003062\n",
       "alternative hypothesis: true difference in means is not equal to 0\n",
       "95 percent confidence interval:\n",
       " 0.3832018 1.5259136\n",
       "sample estimates:\n",
       "mean of x mean of y \n",
       "-28.76819 -29.72275 \n"
      ]
     },
     "metadata": {},
     "output_type": "display_data"
    }
   ],
   "source": [
    "t.test(c(d$mean[d$country==\"Brasil\"], d$mean[d$country==\"Colombia\"]), d$mean[d$country==\"Peru\"])"
   ]
  },
  {
   "cell_type": "code",
   "execution_count": 72,
   "metadata": {},
   "outputs": [
    {
     "data": {
      "text/plain": [
       "\n",
       "\tWelch Two Sample t-test\n",
       "\n",
       "data:  c(d$mean[d$country == \"Colombia\"], d$mean[d$country == \"Peru\"]) and d$mean[d$country == \"Brasil\"]\n",
       "t = 0.61615, df = 16.367, p-value = 0.5463\n",
       "alternative hypothesis: true difference in means is not equal to 0\n",
       "95 percent confidence interval:\n",
       " -0.4921108  0.8964191\n",
       "sample estimates:\n",
       "mean of x mean of y \n",
       "-28.92739 -29.12955 \n"
      ]
     },
     "metadata": {},
     "output_type": "display_data"
    }
   ],
   "source": [
    "t.test(c(d$mean[d$country==\"Colombia\"], d$mean[d$country==\"Peru\"]), d$mean[d$country==\"Brasil\"])"
   ]
  },
  {
   "cell_type": "code",
   "execution_count": 74,
   "metadata": {
    "slideshow": {
     "slide_type": "skip"
    }
   },
   "outputs": [
    {
     "data": {
      "text/html": [
       "<style>\n",
       ".list-inline {list-style: none; margin:0; padding: 0}\n",
       ".list-inline>li {display: inline-block}\n",
       ".list-inline>li:not(:last-child)::after {content: \"\\00b7\"; padding: 0 .5ex}\n",
       "</style>\n",
       "<ol class=list-inline><li>0.1843695543</li><li>0.3620719524</li><li>0.0016063905</li></ol>\n"
      ],
      "text/latex": [
       "\\begin{enumerate*}\n",
       "\\item 0.1843695543\n",
       "\\item 0.3620719524\n",
       "\\item 0.0016063905\n",
       "\\end{enumerate*}\n"
      ],
      "text/markdown": [
       "1. 0.1843695543\n",
       "2. 0.3620719524\n",
       "3. 0.0016063905\n",
       "\n",
       "\n"
      ],
      "text/plain": [
       "[1] 0.18436955 0.36207195 0.00160639"
      ]
     },
     "metadata": {},
     "output_type": "display_data"
    },
    {
     "data": {
      "text/html": [
       "<style>\n",
       ".list-inline {list-style: none; margin:0; padding: 0}\n",
       ".list-inline>li {display: inline-block}\n",
       ".list-inline>li:not(:last-child)::after {content: \"\\00b7\"; padding: 0 .5ex}\n",
       "</style>\n",
       "<ol class=list-inline><li>0.2458260724</li><li>0.4827626032</li><li>0.002141854</li><li>0.00224</li></ol>\n"
      ],
      "text/latex": [
       "\\begin{enumerate*}\n",
       "\\item 0.2458260724\n",
       "\\item 0.4827626032\n",
       "\\item 0.002141854\n",
       "\\item 0.00224\n",
       "\\end{enumerate*}\n"
      ],
      "text/markdown": [
       "1. 0.2458260724\n",
       "2. 0.4827626032\n",
       "3. 0.002141854\n",
       "4. 0.00224\n",
       "\n",
       "\n"
      ],
      "text/plain": [
       "[1] 0.245826072 0.482762603 0.002141854 0.002240000"
      ]
     },
     "metadata": {},
     "output_type": "display_data"
    },
    {
     "data": {
      "text/html": [
       "<style>\n",
       ".list-inline {list-style: none; margin:0; padding: 0}\n",
       ".list-inline>li {display: inline-block}\n",
       ".list-inline>li:not(:last-child)::after {content: \"\\00b7\"; padding: 0 .5ex}\n",
       "</style>\n",
       "<ol class=list-inline><li>0.3072825905</li><li>0.603453254</li><li>0.0026773175</li><li>0.0028</li><li>0.01531</li></ol>\n"
      ],
      "text/latex": [
       "\\begin{enumerate*}\n",
       "\\item 0.3072825905\n",
       "\\item 0.603453254\n",
       "\\item 0.0026773175\n",
       "\\item 0.0028\n",
       "\\item 0.01531\n",
       "\\end{enumerate*}\n"
      ],
      "text/markdown": [
       "1. 0.3072825905\n",
       "2. 0.603453254\n",
       "3. 0.0026773175\n",
       "4. 0.0028\n",
       "5. 0.01531\n",
       "\n",
       "\n"
      ],
      "text/plain": [
       "[1] 0.307282591 0.603453254 0.002677317 0.002800000 0.015310000"
      ]
     },
     "metadata": {},
     "output_type": "display_data"
    }
   ],
   "source": [
    "p.adjust(c(0.0614565181, 0.1206906508, 0.0005354635), \"bonferroni\")\n",
    "p.adjust(c(0.0614565181, 0.1206906508, 0.0005354635, 0.00056), \"bonferroni\")\n",
    "p.adjust(c(0.0614565181, 0.1206906508, 0.0005354635, 0.00056, 0.003062), \"bonferroni\")"
   ]
  },
  {
   "cell_type": "code",
   "execution_count": 18,
   "metadata": {
    "collapsed": true,
    "jupyter": {
     "outputs_hidden": true
    },
    "slideshow": {
     "slide_type": "skip"
    }
   },
   "outputs": [],
   "source": [
    "\n",
    "# this complex caluclation can be replaced by this single line\n",
    "m <- t.test(d$mean[d$country==\"Colombia\"],d$mean[d$country==\"Brasil\"])\n",
    "m2 <- t.test(d$mean[d$country==\"Colombia\"],d$mean[d$country==\"Peru\"])\n",
    "m3 <- t.test(d$mean[d$country==\"Brasil\"],d$mean[d$country==\"Peru\"])\n"
   ]
  },
  {
   "cell_type": "code",
   "execution_count": 19,
   "metadata": {
    "slideshow": {
     "slide_type": "slide"
    }
   },
   "outputs": [
    {
     "data": {
      "image/png": "[encoded data removed]",
      "image/svg+xml": [
       "<?xml version=\"1.0\" encoding=\"UTF-8\"?>\n",
       "<svg xmlns=\"http://www.w3.org/2000/svg\" xmlns:xlink=\"http://www.w3.org/1999/xlink\" width=\"288pt\" height=\"288pt\" viewBox=\"0 0 288 288\" version=\"1.1\">\n",
       "<defs>\n",
       "<g>\n",
       "<symbol overflow=\"visible\" id=\"glyph0-0\">\n",
       "<path style=\"stroke:none;\" d=\"M 0.40625 0 L 0.40625 -8.96875 L 7.515625 -8.96875 L 7.515625 0 Z M 6.390625 -1.125 L 6.390625 -7.84375 L 1.53125 -7.84375 L 1.53125 -1.125 Z \"/>\n",
       "</symbol>\n",
       "<symbol overflow=\"visible\" id=\"glyph0-1\">\n",
       "<path style=\"stroke:none;\" d=\"M 0.515625 -4.046875 L 3.578125 -4.046875 L 3.578125 -2.921875 L 0.515625 -2.921875 Z \"/>\n",
       "</symbol>\n",
       "<symbol overflow=\"visible\" id=\"glyph0-2\">\n",
       "<path style=\"stroke:none;\" d=\"M 0.390625 0 C 0.429688 -0.75 0.585938 -1.398438 0.859375 -1.953125 C 1.128906 -2.515625 1.65625 -3.023438 2.4375 -3.484375 L 3.609375 -4.15625 C 4.140625 -4.46875 4.507812 -4.726562 4.71875 -4.9375 C 5.050781 -5.28125 5.21875 -5.671875 5.21875 -6.109375 C 5.21875 -6.609375 5.0625 -7.007812 4.75 -7.3125 C 4.445312 -7.613281 4.046875 -7.765625 3.546875 -7.765625 C 2.785156 -7.765625 2.265625 -7.476562 1.984375 -6.90625 C 1.828125 -6.601562 1.738281 -6.179688 1.71875 -5.640625 L 0.609375 -5.640625 C 0.617188 -6.398438 0.757812 -7.019531 1.03125 -7.5 C 1.5 -8.34375 2.335938 -8.765625 3.546875 -8.765625 C 4.546875 -8.765625 5.273438 -8.492188 5.734375 -7.953125 C 6.203125 -7.410156 6.4375 -6.8125 6.4375 -6.15625 C 6.4375 -5.457031 6.1875 -4.859375 5.6875 -4.359375 C 5.40625 -4.066406 4.894531 -3.71875 4.15625 -3.3125 L 3.328125 -2.84375 C 2.929688 -2.625 2.617188 -2.414062 2.390625 -2.21875 C 1.984375 -1.863281 1.726562 -1.46875 1.625 -1.03125 L 6.390625 -1.03125 L 6.390625 0 Z \"/>\n",
       "</symbol>\n",
       "<symbol overflow=\"visible\" id=\"glyph0-3\">\n",
       "<path style=\"stroke:none;\" d=\"M 3.375 -8.734375 C 4.507812 -8.734375 5.328125 -8.269531 5.828125 -7.34375 C 6.222656 -6.625 6.421875 -5.632812 6.421875 -4.375 C 6.421875 -3.1875 6.242188 -2.207031 5.890625 -1.4375 C 5.378906 -0.320312 4.539062 0.234375 3.375 0.234375 C 2.320312 0.234375 1.539062 -0.21875 1.03125 -1.125 C 0.601562 -1.882812 0.390625 -2.90625 0.390625 -4.1875 C 0.390625 -5.1875 0.519531 -6.039062 0.78125 -6.75 C 1.257812 -8.070312 2.125 -8.734375 3.375 -8.734375 Z M 3.375 -0.765625 C 3.9375 -0.765625 4.382812 -1.015625 4.71875 -1.515625 C 5.0625 -2.023438 5.234375 -2.96875 5.234375 -4.34375 C 5.234375 -5.332031 5.109375 -6.144531 4.859375 -6.78125 C 4.617188 -7.425781 4.148438 -7.75 3.453125 -7.75 C 2.804688 -7.75 2.332031 -7.441406 2.03125 -6.828125 C 1.726562 -6.222656 1.578125 -5.332031 1.578125 -4.15625 C 1.578125 -3.257812 1.675781 -2.539062 1.875 -2 C 2.164062 -1.175781 2.664062 -0.765625 3.375 -0.765625 Z \"/>\n",
       "</symbol>\n",
       "<symbol overflow=\"visible\" id=\"glyph0-4\">\n",
       "<path style=\"stroke:none;\" d=\"M 4.125 -3.09375 L 4.125 -7.0625 L 1.328125 -3.09375 Z M 4.15625 0 L 4.15625 -2.140625 L 0.3125 -2.140625 L 0.3125 -3.203125 L 4.328125 -8.765625 L 5.25 -8.765625 L 5.25 -3.09375 L 6.53125 -3.09375 L 6.53125 -2.140625 L 5.25 -2.140625 L 5.25 0 Z \"/>\n",
       "</symbol>\n",
       "<symbol overflow=\"visible\" id=\"glyph0-5\">\n",
       "<path style=\"stroke:none;\" d=\"M 3.65625 -8.78125 C 4.632812 -8.78125 5.316406 -8.523438 5.703125 -8.015625 C 6.085938 -7.503906 6.28125 -6.984375 6.28125 -6.453125 L 5.1875 -6.453125 C 5.125 -6.796875 5.019531 -7.066406 4.875 -7.265625 C 4.613281 -7.628906 4.210938 -7.8125 3.671875 -7.8125 C 3.054688 -7.8125 2.566406 -7.523438 2.203125 -6.953125 C 1.847656 -6.390625 1.648438 -5.578125 1.609375 -4.515625 C 1.859375 -4.890625 2.175781 -5.171875 2.5625 -5.359375 C 2.90625 -5.515625 3.296875 -5.59375 3.734375 -5.59375 C 4.460938 -5.59375 5.097656 -5.359375 5.640625 -4.890625 C 6.191406 -4.421875 6.46875 -3.722656 6.46875 -2.796875 C 6.46875 -2.003906 6.207031 -1.300781 5.6875 -0.6875 C 5.164062 -0.0820312 4.429688 0.21875 3.484375 0.21875 C 2.660156 0.21875 1.953125 -0.0859375 1.359375 -0.703125 C 0.765625 -1.328125 0.46875 -2.375 0.46875 -3.84375 C 0.46875 -4.925781 0.597656 -5.847656 0.859375 -6.609375 C 1.367188 -8.054688 2.300781 -8.78125 3.65625 -8.78125 Z M 3.578125 -0.75 C 4.148438 -0.75 4.578125 -0.941406 4.859375 -1.328125 C 5.148438 -1.722656 5.296875 -2.179688 5.296875 -2.703125 C 5.296875 -3.148438 5.164062 -3.578125 4.90625 -3.984375 C 4.65625 -4.390625 4.191406 -4.59375 3.515625 -4.59375 C 3.046875 -4.59375 2.632812 -4.4375 2.28125 -4.125 C 1.925781 -3.8125 1.75 -3.335938 1.75 -2.703125 C 1.75 -2.148438 1.910156 -1.6875 2.234375 -1.3125 C 2.554688 -0.9375 3.003906 -0.75 3.578125 -0.75 Z \"/>\n",
       "</symbol>\n",
       "<symbol overflow=\"visible\" id=\"glyph0-6\">\n",
       "<path style=\"stroke:none;\" d=\"M 3.40625 -5.078125 C 3.882812 -5.078125 4.257812 -5.210938 4.53125 -5.484375 C 4.800781 -5.753906 4.9375 -6.078125 4.9375 -6.453125 C 4.9375 -6.773438 4.804688 -7.070312 4.546875 -7.34375 C 4.285156 -7.613281 3.890625 -7.75 3.359375 -7.75 C 2.828125 -7.75 2.441406 -7.613281 2.203125 -7.34375 C 1.972656 -7.070312 1.859375 -6.753906 1.859375 -6.390625 C 1.859375 -5.984375 2.007812 -5.660156 2.3125 -5.421875 C 2.625 -5.191406 2.988281 -5.078125 3.40625 -5.078125 Z M 3.46875 -0.75 C 3.976562 -0.75 4.398438 -0.882812 4.734375 -1.15625 C 5.066406 -1.4375 5.234375 -1.847656 5.234375 -2.390625 C 5.234375 -2.953125 5.0625 -3.378906 4.71875 -3.671875 C 4.375 -3.972656 3.929688 -4.125 3.390625 -4.125 C 2.859375 -4.125 2.425781 -3.972656 2.09375 -3.671875 C 1.769531 -3.367188 1.609375 -2.953125 1.609375 -2.421875 C 1.609375 -1.972656 1.757812 -1.582031 2.0625 -1.25 C 2.363281 -0.914062 2.832031 -0.75 3.46875 -0.75 Z M 1.90625 -4.65625 C 1.601562 -4.789062 1.363281 -4.941406 1.1875 -5.109375 C 0.863281 -5.441406 0.703125 -5.867188 0.703125 -6.390625 C 0.703125 -7.035156 0.9375 -7.59375 1.40625 -8.0625 C 1.882812 -8.53125 2.554688 -8.765625 3.421875 -8.765625 C 4.265625 -8.765625 4.921875 -8.539062 5.390625 -8.09375 C 5.867188 -7.65625 6.109375 -7.144531 6.109375 -6.5625 C 6.109375 -6.007812 5.96875 -5.566406 5.6875 -5.234375 C 5.539062 -5.035156 5.300781 -4.847656 4.96875 -4.671875 C 5.332031 -4.503906 5.617188 -4.3125 5.828125 -4.09375 C 6.210938 -3.6875 6.40625 -3.160156 6.40625 -2.515625 C 6.40625 -1.742188 6.144531 -1.085938 5.625 -0.546875 C 5.113281 -0.015625 4.382812 0.25 3.4375 0.25 C 2.59375 0.25 1.875 0.0195312 1.28125 -0.4375 C 0.695312 -0.90625 0.40625 -1.578125 0.40625 -2.453125 C 0.40625 -2.972656 0.53125 -3.421875 0.78125 -3.796875 C 1.03125 -4.171875 1.40625 -4.457031 1.90625 -4.65625 Z \"/>\n",
       "</symbol>\n",
       "<symbol overflow=\"visible\" id=\"glyph0-7\">\n",
       "<path style=\"stroke:none;\" d=\"M 1.203125 -6.1875 L 1.203125 -7.03125 C 1.992188 -7.101562 2.546875 -7.226562 2.859375 -7.40625 C 3.171875 -7.59375 3.40625 -8.023438 3.5625 -8.703125 L 4.421875 -8.703125 L 4.421875 0 L 3.25 0 L 3.25 -6.1875 Z \"/>\n",
       "</symbol>\n",
       "<symbol overflow=\"visible\" id=\"glyph0-8\">\n",
       "<path style=\"stroke:none;\" d=\"M 0.1875 -6.53125 L 1.609375 -6.53125 L 3.109375 -4.234375 L 4.625 -6.53125 L 5.96875 -6.5 L 3.765625 -3.34375 L 6.0625 0 L 4.65625 0 L 3.03125 -2.453125 L 1.453125 0 L 0.0625 0 L 2.375 -3.34375 Z \"/>\n",
       "</symbol>\n",
       "<symbol overflow=\"visible\" id=\"glyph0-9\">\n",
       "<path style=\"stroke:none;\" d=\"M 2.75 -8.96875 L 2.75 -7.609375 L 4.078125 -8.0625 L 4.328125 -7.390625 L 2.984375 -6.953125 L 3.8125 -5.8125 L 3.203125 -5.375 L 2.40625 -6.5625 L 1.609375 -5.375 L 0.984375 -5.8125 L 1.8125 -6.953125 L 0.46875 -7.390625 L 0.71875 -8.0625 L 2.03125 -7.59375 L 2.03125 -8.96875 Z \"/>\n",
       "</symbol>\n",
       "<symbol overflow=\"visible\" id=\"glyph0-10\">\n",
       "<path style=\"stroke:none;\" d=\"M 4.734375 -9.203125 C 5.867188 -9.203125 6.75 -8.90625 7.375 -8.3125 C 8 -7.71875 8.347656 -7.039062 8.421875 -6.28125 L 7.234375 -6.28125 C 7.097656 -6.851562 6.828125 -7.304688 6.421875 -7.640625 C 6.023438 -7.984375 5.46875 -8.15625 4.75 -8.15625 C 3.863281 -8.15625 3.144531 -7.84375 2.59375 -7.21875 C 2.050781 -6.601562 1.78125 -5.65625 1.78125 -4.375 C 1.78125 -3.320312 2.023438 -2.46875 2.515625 -1.8125 C 3.015625 -1.164062 3.75 -0.84375 4.71875 -0.84375 C 5.613281 -0.84375 6.296875 -1.1875 6.765625 -1.875 C 7.015625 -2.226562 7.195312 -2.703125 7.3125 -3.296875 L 8.5 -3.296875 C 8.394531 -2.347656 8.046875 -1.554688 7.453125 -0.921875 C 6.742188 -0.148438 5.785156 0.234375 4.578125 0.234375 C 3.535156 0.234375 2.660156 -0.0820312 1.953125 -0.71875 C 1.015625 -1.550781 0.546875 -2.835938 0.546875 -4.578125 C 0.546875 -5.898438 0.894531 -6.984375 1.59375 -7.828125 C 2.351562 -8.742188 3.398438 -9.203125 4.734375 -9.203125 Z M 4.484375 -9.203125 Z \"/>\n",
       "</symbol>\n",
       "<symbol overflow=\"visible\" id=\"glyph0-11\">\n",
       "<path style=\"stroke:none;\" d=\"M 3.40625 -0.703125 C 4.132812 -0.703125 4.628906 -0.976562 4.890625 -1.53125 C 5.160156 -2.082031 5.296875 -2.695312 5.296875 -3.375 C 5.296875 -3.988281 5.203125 -4.484375 5.015625 -4.859375 C 4.703125 -5.460938 4.164062 -5.765625 3.40625 -5.765625 C 2.738281 -5.765625 2.25 -5.507812 1.9375 -5 C 1.632812 -4.488281 1.484375 -3.867188 1.484375 -3.140625 C 1.484375 -2.441406 1.632812 -1.859375 1.9375 -1.390625 C 2.25 -0.929688 2.738281 -0.703125 3.40625 -0.703125 Z M 3.4375 -6.71875 C 4.28125 -6.71875 4.992188 -6.4375 5.578125 -5.875 C 6.160156 -5.320312 6.453125 -4.5 6.453125 -3.40625 C 6.453125 -2.351562 6.191406 -1.484375 5.671875 -0.796875 C 5.160156 -0.109375 4.367188 0.234375 3.296875 0.234375 C 2.398438 0.234375 1.6875 -0.0664062 1.15625 -0.671875 C 0.625 -1.285156 0.359375 -2.101562 0.359375 -3.125 C 0.359375 -4.21875 0.632812 -5.085938 1.1875 -5.734375 C 1.75 -6.390625 2.5 -6.71875 3.4375 -6.71875 Z M 3.40625 -6.703125 Z \"/>\n",
       "</symbol>\n",
       "<symbol overflow=\"visible\" id=\"glyph0-12\">\n",
       "<path style=\"stroke:none;\" d=\"M 0.84375 -8.96875 L 1.9375 -8.96875 L 1.9375 0 L 0.84375 0 Z \"/>\n",
       "</symbol>\n",
       "<symbol overflow=\"visible\" id=\"glyph0-13\">\n",
       "<path style=\"stroke:none;\" d=\"M 0.8125 -6.53125 L 1.890625 -6.53125 L 1.890625 -5.609375 C 2.148438 -5.929688 2.382812 -6.164062 2.59375 -6.3125 C 2.957031 -6.5625 3.367188 -6.6875 3.828125 -6.6875 C 4.347656 -6.6875 4.769531 -6.554688 5.09375 -6.296875 C 5.269531 -6.148438 5.429688 -5.9375 5.578125 -5.65625 C 5.816406 -6 6.101562 -6.253906 6.4375 -6.421875 C 6.769531 -6.597656 7.140625 -6.6875 7.546875 -6.6875 C 8.429688 -6.6875 9.03125 -6.367188 9.34375 -5.734375 C 9.507812 -5.390625 9.59375 -4.929688 9.59375 -4.359375 L 9.59375 0 L 8.453125 0 L 8.453125 -4.546875 C 8.453125 -4.972656 8.34375 -5.269531 8.125 -5.4375 C 7.914062 -5.601562 7.65625 -5.6875 7.34375 -5.6875 C 6.90625 -5.6875 6.53125 -5.539062 6.21875 -5.25 C 5.90625 -4.957031 5.75 -4.472656 5.75 -3.796875 L 5.75 0 L 4.640625 0 L 4.640625 -4.265625 C 4.640625 -4.710938 4.585938 -5.035156 4.484375 -5.234375 C 4.316406 -5.535156 4.003906 -5.6875 3.546875 -5.6875 C 3.128906 -5.6875 2.75 -5.523438 2.40625 -5.203125 C 2.070312 -4.890625 1.90625 -4.3125 1.90625 -3.46875 L 1.90625 0 L 0.8125 0 Z \"/>\n",
       "</symbol>\n",
       "<symbol overflow=\"visible\" id=\"glyph0-14\">\n",
       "<path style=\"stroke:none;\" d=\"M 0.71875 -9 L 1.78125 -9 L 1.78125 -5.75 C 2.03125 -6.0625 2.320312 -6.296875 2.65625 -6.453125 C 2.988281 -6.617188 3.347656 -6.703125 3.734375 -6.703125 C 4.546875 -6.703125 5.203125 -6.421875 5.703125 -5.859375 C 6.210938 -5.304688 6.46875 -4.484375 6.46875 -3.390625 C 6.46875 -2.359375 6.21875 -1.5 5.71875 -0.8125 C 5.21875 -0.132812 4.523438 0.203125 3.640625 0.203125 C 3.148438 0.203125 2.734375 0.0820312 2.390625 -0.15625 C 2.179688 -0.289062 1.960938 -0.519531 1.734375 -0.84375 L 1.734375 0 L 0.71875 0 Z M 3.578125 -0.765625 C 4.171875 -0.765625 4.613281 -1 4.90625 -1.46875 C 5.207031 -1.9375 5.359375 -2.5625 5.359375 -3.34375 C 5.359375 -4.03125 5.207031 -4.597656 4.90625 -5.046875 C 4.613281 -5.492188 4.179688 -5.71875 3.609375 -5.71875 C 3.109375 -5.71875 2.671875 -5.53125 2.296875 -5.15625 C 1.921875 -4.789062 1.734375 -4.1875 1.734375 -3.34375 C 1.734375 -2.726562 1.804688 -2.226562 1.953125 -1.84375 C 2.242188 -1.125 2.785156 -0.765625 3.578125 -0.765625 Z \"/>\n",
       "</symbol>\n",
       "<symbol overflow=\"visible\" id=\"glyph0-15\">\n",
       "<path style=\"stroke:none;\" d=\"M 0.8125 -6.5 L 1.921875 -6.5 L 1.921875 0 L 0.8125 0 Z M 0.8125 -8.96875 L 1.921875 -8.96875 L 1.921875 -7.71875 L 0.8125 -7.71875 Z \"/>\n",
       "</symbol>\n",
       "<symbol overflow=\"visible\" id=\"glyph0-16\">\n",
       "<path style=\"stroke:none;\" d=\"M 1.640625 -1.734375 C 1.640625 -1.421875 1.753906 -1.171875 1.984375 -0.984375 C 2.222656 -0.804688 2.5 -0.71875 2.8125 -0.71875 C 3.207031 -0.71875 3.582031 -0.804688 3.9375 -0.984375 C 4.550781 -1.273438 4.859375 -1.757812 4.859375 -2.4375 L 4.859375 -3.328125 C 4.722656 -3.242188 4.546875 -3.171875 4.328125 -3.109375 C 4.117188 -3.054688 3.914062 -3.015625 3.71875 -2.984375 L 3.046875 -2.90625 C 2.648438 -2.851562 2.351562 -2.769531 2.15625 -2.65625 C 1.8125 -2.46875 1.640625 -2.160156 1.640625 -1.734375 Z M 4.3125 -3.96875 C 4.5625 -4 4.726562 -4.101562 4.8125 -4.28125 C 4.863281 -4.375 4.890625 -4.515625 4.890625 -4.703125 C 4.890625 -5.078125 4.753906 -5.347656 4.484375 -5.515625 C 4.222656 -5.679688 3.84375 -5.765625 3.34375 -5.765625 C 2.769531 -5.765625 2.363281 -5.609375 2.125 -5.296875 C 1.988281 -5.128906 1.898438 -4.878906 1.859375 -4.546875 L 0.84375 -4.546875 C 0.851562 -5.347656 1.109375 -5.90625 1.609375 -6.21875 C 2.117188 -6.539062 2.707031 -6.703125 3.375 -6.703125 C 4.132812 -6.703125 4.757812 -6.550781 5.25 -6.25 C 5.71875 -5.957031 5.953125 -5.503906 5.953125 -4.890625 L 5.953125 -1.125 C 5.953125 -1.007812 5.972656 -0.914062 6.015625 -0.84375 C 6.066406 -0.78125 6.171875 -0.75 6.328125 -0.75 C 6.367188 -0.75 6.421875 -0.75 6.484375 -0.75 C 6.546875 -0.757812 6.613281 -0.769531 6.6875 -0.78125 L 6.6875 0.03125 C 6.507812 0.0820312 6.375 0.113281 6.28125 0.125 C 6.195312 0.132812 6.078125 0.140625 5.921875 0.140625 C 5.546875 0.140625 5.273438 0.00390625 5.109375 -0.265625 C 5.015625 -0.398438 4.945312 -0.597656 4.90625 -0.859375 C 4.6875 -0.566406 4.367188 -0.3125 3.953125 -0.09375 C 3.535156 0.113281 3.070312 0.21875 2.5625 0.21875 C 1.957031 0.21875 1.460938 0.0351562 1.078125 -0.328125 C 0.691406 -0.703125 0.5 -1.164062 0.5 -1.71875 C 0.5 -2.320312 0.6875 -2.789062 1.0625 -3.125 C 1.445312 -3.457031 1.945312 -3.660156 2.5625 -3.734375 Z M 3.40625 -6.703125 Z \"/>\n",
       "</symbol>\n",
       "<symbol overflow=\"visible\" id=\"glyph0-17\">\n",
       "<path style=\"stroke:none;\" d=\"M 4.328125 -5.171875 C 4.835938 -5.171875 5.234375 -5.242188 5.515625 -5.390625 C 5.960938 -5.609375 6.1875 -6.007812 6.1875 -6.59375 C 6.1875 -7.1875 5.945312 -7.582031 5.46875 -7.78125 C 5.207031 -7.894531 4.8125 -7.953125 4.28125 -7.953125 L 2.109375 -7.953125 L 2.109375 -5.171875 Z M 4.734375 -1.03125 C 5.472656 -1.03125 6.003906 -1.25 6.328125 -1.6875 C 6.523438 -1.957031 6.625 -2.285156 6.625 -2.671875 C 6.625 -3.328125 6.332031 -3.769531 5.75 -4 C 5.4375 -4.125 5.023438 -4.1875 4.515625 -4.1875 L 2.109375 -4.1875 L 2.109375 -1.03125 Z M 0.921875 -8.96875 L 4.765625 -8.96875 C 5.816406 -8.96875 6.566406 -8.65625 7.015625 -8.03125 C 7.273438 -7.65625 7.40625 -7.226562 7.40625 -6.75 C 7.40625 -6.175781 7.242188 -5.710938 6.921875 -5.359375 C 6.753906 -5.160156 6.515625 -4.984375 6.203125 -4.828125 C 6.660156 -4.648438 7.003906 -4.453125 7.234375 -4.234375 C 7.640625 -3.847656 7.84375 -3.3125 7.84375 -2.625 C 7.84375 -2.039062 7.660156 -1.515625 7.296875 -1.046875 C 6.753906 -0.347656 5.894531 0 4.71875 0 L 0.921875 0 Z \"/>\n",
       "</symbol>\n",
       "<symbol overflow=\"visible\" id=\"glyph0-18\">\n",
       "<path style=\"stroke:none;\" d=\"M 0.84375 -6.53125 L 1.875 -6.53125 L 1.875 -5.40625 C 1.96875 -5.625 2.179688 -5.890625 2.515625 -6.203125 C 2.847656 -6.523438 3.226562 -6.6875 3.65625 -6.6875 C 3.675781 -6.6875 3.710938 -6.679688 3.765625 -6.671875 C 3.816406 -6.671875 3.898438 -6.664062 4.015625 -6.65625 L 4.015625 -5.5 C 3.953125 -5.507812 3.890625 -5.515625 3.828125 -5.515625 C 3.773438 -5.523438 3.71875 -5.53125 3.65625 -5.53125 C 3.101562 -5.53125 2.675781 -5.347656 2.375 -4.984375 C 2.082031 -4.628906 1.9375 -4.222656 1.9375 -3.765625 L 1.9375 0 L 0.84375 0 Z \"/>\n",
       "</symbol>\n",
       "<symbol overflow=\"visible\" id=\"glyph0-19\">\n",
       "<path style=\"stroke:none;\" d=\"M 0.3125 -0.859375 L 4.1875 -5.546875 L 0.609375 -5.546875 L 0.609375 -6.53125 L 5.671875 -6.53125 L 5.671875 -5.640625 L 1.8125 -0.984375 L 5.78125 -0.984375 L 5.78125 0 L 0.3125 0 Z M 3.140625 -6.703125 Z \"/>\n",
       "</symbol>\n",
       "<symbol overflow=\"visible\" id=\"glyph0-20\">\n",
       "<path style=\"stroke:none;\" d=\"M 1.0625 -8.96875 L 5.109375 -8.96875 C 5.898438 -8.96875 6.539062 -8.742188 7.03125 -8.296875 C 7.519531 -7.847656 7.765625 -7.210938 7.765625 -6.390625 C 7.765625 -5.691406 7.546875 -5.082031 7.109375 -4.5625 C 6.671875 -4.050781 6.003906 -3.796875 5.109375 -3.796875 L 2.28125 -3.796875 L 2.28125 0 L 1.0625 0 Z M 6.53125 -6.390625 C 6.53125 -7.046875 6.285156 -7.492188 5.796875 -7.734375 C 5.535156 -7.859375 5.171875 -7.921875 4.703125 -7.921875 L 2.28125 -7.921875 L 2.28125 -4.8125 L 4.703125 -4.8125 C 5.242188 -4.8125 5.679688 -4.925781 6.015625 -5.15625 C 6.359375 -5.394531 6.53125 -5.804688 6.53125 -6.390625 Z \"/>\n",
       "</symbol>\n",
       "<symbol overflow=\"visible\" id=\"glyph0-21\">\n",
       "<path style=\"stroke:none;\" d=\"M 3.53125 -6.6875 C 3.988281 -6.6875 4.4375 -6.578125 4.875 -6.359375 C 5.3125 -6.140625 5.644531 -5.859375 5.875 -5.515625 C 6.09375 -5.179688 6.238281 -4.796875 6.3125 -4.359375 C 6.375 -4.054688 6.40625 -3.578125 6.40625 -2.921875 L 1.625 -2.921875 C 1.632812 -2.253906 1.785156 -1.71875 2.078125 -1.3125 C 2.378906 -0.914062 2.835938 -0.71875 3.453125 -0.71875 C 4.023438 -0.71875 4.484375 -0.90625 4.828125 -1.28125 C 5.015625 -1.507812 5.148438 -1.765625 5.234375 -2.046875 L 6.3125 -2.046875 C 6.289062 -1.804688 6.195312 -1.539062 6.03125 -1.25 C 5.875 -0.957031 5.695312 -0.71875 5.5 -0.53125 C 5.164062 -0.195312 4.75 0.0234375 4.25 0.140625 C 3.988281 0.203125 3.691406 0.234375 3.359375 0.234375 C 2.546875 0.234375 1.851562 -0.0625 1.28125 -0.65625 C 0.71875 -1.25 0.4375 -2.078125 0.4375 -3.140625 C 0.4375 -4.191406 0.722656 -5.046875 1.296875 -5.703125 C 1.867188 -6.359375 2.613281 -6.6875 3.53125 -6.6875 Z M 5.28125 -3.796875 C 5.238281 -4.265625 5.132812 -4.644531 4.96875 -4.9375 C 4.664062 -5.457031 4.160156 -5.71875 3.453125 -5.71875 C 2.953125 -5.71875 2.53125 -5.535156 2.1875 -5.171875 C 1.84375 -4.804688 1.660156 -4.347656 1.640625 -3.796875 Z M 3.421875 -6.703125 Z \"/>\n",
       "</symbol>\n",
       "<symbol overflow=\"visible\" id=\"glyph0-22\">\n",
       "<path style=\"stroke:none;\" d=\"M 1.90625 -6.53125 L 1.90625 -2.203125 C 1.90625 -1.867188 1.957031 -1.59375 2.0625 -1.375 C 2.257812 -0.988281 2.625 -0.796875 3.15625 -0.796875 C 3.914062 -0.796875 4.4375 -1.132812 4.71875 -1.8125 C 4.863281 -2.1875 4.9375 -2.691406 4.9375 -3.328125 L 4.9375 -6.53125 L 6.046875 -6.53125 L 6.046875 0 L 5 0 L 5.015625 -0.96875 C 4.867188 -0.71875 4.691406 -0.503906 4.484375 -0.328125 C 4.066406 0.00390625 3.554688 0.171875 2.953125 0.171875 C 2.023438 0.171875 1.394531 -0.132812 1.0625 -0.75 C 0.875 -1.082031 0.78125 -1.53125 0.78125 -2.09375 L 0.78125 -6.53125 Z M 3.40625 -6.703125 Z \"/>\n",
       "</symbol>\n",
       "<symbol overflow=\"visible\" id=\"glyph1-0\">\n",
       "<path style=\"stroke:none;\" d=\"M 0 -0.40625 L -8.96875 -0.40625 L -8.96875 -7.515625 L 0 -7.515625 Z M -1.125 -6.390625 L -7.84375 -6.390625 L -7.84375 -1.53125 L -1.125 -1.53125 Z \"/>\n",
       "</symbol>\n",
       "<symbol overflow=\"visible\" id=\"glyph1-1\">\n",
       "<path style=\"stroke:none;\" d=\"M -8.734375 -3.375 C -8.734375 -4.507812 -8.269531 -5.328125 -7.34375 -5.828125 C -6.625 -6.222656 -5.632812 -6.421875 -4.375 -6.421875 C -3.1875 -6.421875 -2.207031 -6.242188 -1.4375 -5.890625 C -0.320312 -5.378906 0.234375 -4.539062 0.234375 -3.375 C 0.234375 -2.320312 -0.21875 -1.539062 -1.125 -1.03125 C -1.882812 -0.601562 -2.90625 -0.390625 -4.1875 -0.390625 C -5.1875 -0.390625 -6.039062 -0.519531 -6.75 -0.78125 C -8.070312 -1.257812 -8.734375 -2.125 -8.734375 -3.375 Z M -0.765625 -3.375 C -0.765625 -3.9375 -1.015625 -4.382812 -1.515625 -4.71875 C -2.023438 -5.0625 -2.96875 -5.234375 -4.34375 -5.234375 C -5.332031 -5.234375 -6.144531 -5.109375 -6.78125 -4.859375 C -7.425781 -4.617188 -7.75 -4.148438 -7.75 -3.453125 C -7.75 -2.804688 -7.441406 -2.332031 -6.828125 -2.03125 C -6.222656 -1.726562 -5.332031 -1.578125 -4.15625 -1.578125 C -3.257812 -1.578125 -2.539062 -1.675781 -2 -1.875 C -1.175781 -2.164062 -0.765625 -2.664062 -0.765625 -3.375 Z \"/>\n",
       "</symbol>\n",
       "<symbol overflow=\"visible\" id=\"glyph1-2\">\n",
       "<path style=\"stroke:none;\" d=\"M -1.328125 -1.0625 L -1.328125 -2.34375 L 0 -2.34375 L 0 -1.0625 Z \"/>\n",
       "</symbol>\n",
       "<symbol overflow=\"visible\" id=\"glyph1-3\">\n",
       "<path style=\"stroke:none;\" d=\"M -6.1875 -1.203125 L -7.03125 -1.203125 C -7.101562 -1.992188 -7.226562 -2.546875 -7.40625 -2.859375 C -7.59375 -3.171875 -8.023438 -3.40625 -8.703125 -3.5625 L -8.703125 -4.421875 L 0 -4.421875 L 0 -3.25 L -6.1875 -3.25 Z \"/>\n",
       "</symbol>\n",
       "<symbol overflow=\"visible\" id=\"glyph1-4\">\n",
       "<path style=\"stroke:none;\" d=\"M 0 -0.390625 C -0.75 -0.429688 -1.398438 -0.585938 -1.953125 -0.859375 C -2.515625 -1.128906 -3.023438 -1.65625 -3.484375 -2.4375 L -4.15625 -3.609375 C -4.46875 -4.140625 -4.726562 -4.507812 -4.9375 -4.71875 C -5.28125 -5.050781 -5.671875 -5.21875 -6.109375 -5.21875 C -6.609375 -5.21875 -7.007812 -5.0625 -7.3125 -4.75 C -7.613281 -4.445312 -7.765625 -4.046875 -7.765625 -3.546875 C -7.765625 -2.785156 -7.476562 -2.265625 -6.90625 -1.984375 C -6.601562 -1.828125 -6.179688 -1.738281 -5.640625 -1.71875 L -5.640625 -0.609375 C -6.398438 -0.617188 -7.019531 -0.757812 -7.5 -1.03125 C -8.34375 -1.5 -8.765625 -2.335938 -8.765625 -3.546875 C -8.765625 -4.546875 -8.492188 -5.273438 -7.953125 -5.734375 C -7.410156 -6.203125 -6.8125 -6.4375 -6.15625 -6.4375 C -5.457031 -6.4375 -4.859375 -6.1875 -4.359375 -5.6875 C -4.066406 -5.40625 -3.71875 -4.894531 -3.3125 -4.15625 L -2.84375 -3.328125 C -2.625 -2.929688 -2.414062 -2.617188 -2.21875 -2.390625 C -1.863281 -1.984375 -1.46875 -1.726562 -1.03125 -1.625 L -1.03125 -6.390625 L 0 -6.390625 Z \"/>\n",
       "</symbol>\n",
       "<symbol overflow=\"visible\" id=\"glyph1-5\">\n",
       "<path style=\"stroke:none;\" d=\"M 0.234375 -3.25 C 0.234375 -2.21875 -0.046875 -1.46875 -0.609375 -1 C -1.179688 -0.53125 -1.875 -0.296875 -2.6875 -0.296875 L -2.6875 -1.453125 C -2.125 -1.492188 -1.710938 -1.597656 -1.453125 -1.765625 C -0.992188 -2.046875 -0.765625 -2.5625 -0.765625 -3.3125 C -0.765625 -3.882812 -0.914062 -4.34375 -1.21875 -4.6875 C -1.53125 -5.039062 -1.929688 -5.21875 -2.421875 -5.21875 C -3.023438 -5.21875 -3.445312 -5.035156 -3.6875 -4.671875 C -3.925781 -4.304688 -4.046875 -3.796875 -4.046875 -3.140625 C -4.046875 -3.066406 -4.046875 -2.988281 -4.046875 -2.90625 C -4.046875 -2.832031 -4.039062 -2.757812 -4.03125 -2.6875 L -5 -2.6875 C -4.988281 -2.800781 -4.976562 -2.894531 -4.96875 -2.96875 C -4.96875 -3.050781 -4.96875 -3.132812 -4.96875 -3.21875 C -4.96875 -3.632812 -5.035156 -3.972656 -5.171875 -4.234375 C -5.398438 -4.703125 -5.804688 -4.9375 -6.390625 -4.9375 C -6.828125 -4.9375 -7.160156 -4.78125 -7.390625 -4.46875 C -7.628906 -4.15625 -7.75 -3.796875 -7.75 -3.390625 C -7.75 -2.648438 -7.503906 -2.144531 -7.015625 -1.875 C -6.742188 -1.71875 -6.363281 -1.628906 -5.875 -1.609375 L -5.875 -0.515625 C -6.519531 -0.515625 -7.070312 -0.644531 -7.53125 -0.90625 C -8.34375 -1.351562 -8.75 -2.140625 -8.75 -3.265625 C -8.75 -4.160156 -8.550781 -4.851562 -8.15625 -5.34375 C -7.757812 -5.832031 -7.1875 -6.078125 -6.4375 -6.078125 C -5.894531 -6.078125 -5.457031 -5.929688 -5.125 -5.640625 C -4.914062 -5.460938 -4.753906 -5.226562 -4.640625 -4.9375 C -4.515625 -5.40625 -4.269531 -5.765625 -3.90625 -6.015625 C -3.550781 -6.273438 -3.113281 -6.40625 -2.59375 -6.40625 C -1.757812 -6.40625 -1.078125 -6.128906 -0.546875 -5.578125 C -0.0234375 -5.035156 0.234375 -4.257812 0.234375 -3.25 Z \"/>\n",
       "</symbol>\n",
       "<symbol overflow=\"visible\" id=\"glyph1-6\">\n",
       "<path style=\"stroke:none;\" d=\"M -3.09375 -4.125 L -7.0625 -4.125 L -3.09375 -1.328125 Z M 0 -4.15625 L -2.140625 -4.15625 L -2.140625 -0.3125 L -3.203125 -0.3125 L -8.765625 -4.328125 L -8.765625 -5.25 L -3.09375 -5.25 L -3.09375 -6.53125 L -2.140625 -6.53125 L -2.140625 -5.25 L 0 -5.25 Z \"/>\n",
       "</symbol>\n",
       "<symbol overflow=\"visible\" id=\"glyph1-7\">\n",
       "<path style=\"stroke:none;\" d=\"M -7.53125 -1.078125 C -7.988281 -1.097656 -8.320312 -1.175781 -8.53125 -1.3125 C -8.90625 -1.570312 -9.09375 -2.066406 -9.09375 -2.796875 C -9.09375 -2.867188 -9.085938 -2.941406 -9.078125 -3.015625 C -9.078125 -3.085938 -9.070312 -3.171875 -9.0625 -3.265625 L -8.0625 -3.265625 C -8.070312 -3.148438 -8.078125 -3.066406 -8.078125 -3.015625 C -8.085938 -2.960938 -8.09375 -2.914062 -8.09375 -2.875 C -8.09375 -2.539062 -8.003906 -2.335938 -7.828125 -2.265625 C -7.648438 -2.203125 -7.207031 -2.171875 -6.5 -2.171875 L -6.5 -3.265625 L -5.640625 -3.265625 L -5.640625 -2.171875 L 0 -2.171875 L 0 -1.078125 L -5.640625 -1.078125 L -5.640625 -0.171875 L -6.5 -0.171875 L -6.5 -1.078125 Z \"/>\n",
       "</symbol>\n",
       "<symbol overflow=\"visible\" id=\"glyph1-8\">\n",
       "<path style=\"stroke:none;\" d=\"M -6.53125 -1.90625 L -2.203125 -1.90625 C -1.867188 -1.90625 -1.59375 -1.957031 -1.375 -2.0625 C -0.988281 -2.257812 -0.796875 -2.625 -0.796875 -3.15625 C -0.796875 -3.914062 -1.132812 -4.4375 -1.8125 -4.71875 C -2.1875 -4.863281 -2.691406 -4.9375 -3.328125 -4.9375 L -6.53125 -4.9375 L -6.53125 -6.046875 L 0 -6.046875 L 0 -5 L -0.96875 -5.015625 C -0.71875 -4.867188 -0.503906 -4.691406 -0.328125 -4.484375 C 0.00390625 -4.066406 0.171875 -3.554688 0.171875 -2.953125 C 0.171875 -2.023438 -0.132812 -1.394531 -0.75 -1.0625 C -1.082031 -0.875 -1.53125 -0.78125 -2.09375 -0.78125 L -6.53125 -0.78125 Z M -6.703125 -3.40625 Z \"/>\n",
       "</symbol>\n",
       "<symbol overflow=\"visible\" id=\"glyph1-9\">\n",
       "<path style=\"stroke:none;\" d=\"M -6.53125 -0.8125 L -6.53125 -1.84375 L -5.609375 -1.84375 C -5.992188 -2.15625 -6.269531 -2.484375 -6.4375 -2.828125 C -6.601562 -3.171875 -6.6875 -3.554688 -6.6875 -3.984375 C -6.6875 -4.910156 -6.363281 -5.535156 -5.71875 -5.859375 C -5.363281 -6.046875 -4.851562 -6.140625 -4.1875 -6.140625 L 0 -6.140625 L 0 -5.015625 L -4.125 -5.015625 C -4.519531 -5.015625 -4.835938 -4.957031 -5.078125 -4.84375 C -5.484375 -4.644531 -5.6875 -4.289062 -5.6875 -3.78125 C -5.6875 -3.519531 -5.660156 -3.304688 -5.609375 -3.140625 C -5.523438 -2.835938 -5.347656 -2.570312 -5.078125 -2.34375 C -4.859375 -2.15625 -4.632812 -2.035156 -4.40625 -1.984375 C -4.175781 -1.929688 -3.847656 -1.90625 -3.421875 -1.90625 L 0 -1.90625 L 0 -0.8125 Z M -6.703125 -3.390625 Z \"/>\n",
       "</symbol>\n",
       "<symbol overflow=\"visible\" id=\"glyph1-10\">\n",
       "<path style=\"stroke:none;\" d=\"M -6.71875 -3.328125 C -6.71875 -4.066406 -6.539062 -4.664062 -6.1875 -5.125 C -5.832031 -5.582031 -5.21875 -5.859375 -4.34375 -5.953125 L -4.34375 -4.890625 C -4.738281 -4.828125 -5.070312 -4.675781 -5.34375 -4.4375 C -5.613281 -4.207031 -5.75 -3.835938 -5.75 -3.328125 C -5.75 -2.628906 -5.40625 -2.128906 -4.71875 -1.828125 C -4.269531 -1.628906 -3.722656 -1.53125 -3.078125 -1.53125 C -2.421875 -1.53125 -1.867188 -1.664062 -1.421875 -1.9375 C -0.972656 -2.21875 -0.75 -2.65625 -0.75 -3.25 C -0.75 -3.707031 -0.890625 -4.066406 -1.171875 -4.328125 C -1.453125 -4.597656 -1.832031 -4.785156 -2.3125 -4.890625 L -2.3125 -5.953125 C -1.445312 -5.835938 -0.8125 -5.535156 -0.40625 -5.046875 C -0.0078125 -4.554688 0.1875 -3.929688 0.1875 -3.171875 C 0.1875 -2.316406 -0.125 -1.632812 -0.75 -1.125 C -1.375 -0.613281 -2.15625 -0.359375 -3.09375 -0.359375 C -4.238281 -0.359375 -5.128906 -0.632812 -5.765625 -1.1875 C -6.398438 -1.75 -6.71875 -2.460938 -6.71875 -3.328125 Z M -6.703125 -3.15625 Z \"/>\n",
       "</symbol>\n",
       "<symbol overflow=\"visible\" id=\"glyph1-11\">\n",
       "<path style=\"stroke:none;\" d=\"M -8.359375 -1.03125 L -8.359375 -2.140625 L -6.53125 -2.140625 L -6.53125 -3.1875 L -5.640625 -3.1875 L -5.640625 -2.140625 L -1.375 -2.140625 C -1.144531 -2.140625 -0.992188 -2.21875 -0.921875 -2.375 C -0.867188 -2.457031 -0.84375 -2.597656 -0.84375 -2.796875 C -0.84375 -2.847656 -0.84375 -2.90625 -0.84375 -2.96875 C -0.851562 -3.03125 -0.859375 -3.101562 -0.859375 -3.1875 L 0 -3.1875 C 0.0390625 -3.050781 0.0664062 -2.914062 0.078125 -2.78125 C 0.0976562 -2.644531 0.109375 -2.5 0.109375 -2.34375 C 0.109375 -1.832031 -0.0195312 -1.484375 -0.28125 -1.296875 C -0.550781 -1.117188 -0.894531 -1.03125 -1.3125 -1.03125 L -5.640625 -1.03125 L -5.640625 -0.140625 L -6.53125 -0.140625 L -6.53125 -1.03125 Z \"/>\n",
       "</symbol>\n",
       "<symbol overflow=\"visible\" id=\"glyph1-12\">\n",
       "<path style=\"stroke:none;\" d=\"M -6.5 -0.8125 L -6.5 -1.921875 L 0 -1.921875 L 0 -0.8125 Z M -8.96875 -0.8125 L -8.96875 -1.921875 L -7.71875 -1.921875 L -7.71875 -0.8125 Z \"/>\n",
       "</symbol>\n",
       "<symbol overflow=\"visible\" id=\"glyph1-13\">\n",
       "<path style=\"stroke:none;\" d=\"M -0.703125 -3.40625 C -0.703125 -4.132812 -0.976562 -4.628906 -1.53125 -4.890625 C -2.082031 -5.160156 -2.695312 -5.296875 -3.375 -5.296875 C -3.988281 -5.296875 -4.484375 -5.203125 -4.859375 -5.015625 C -5.460938 -4.703125 -5.765625 -4.164062 -5.765625 -3.40625 C -5.765625 -2.738281 -5.507812 -2.25 -5 -1.9375 C -4.488281 -1.632812 -3.867188 -1.484375 -3.140625 -1.484375 C -2.441406 -1.484375 -1.859375 -1.632812 -1.390625 -1.9375 C -0.929688 -2.25 -0.703125 -2.738281 -0.703125 -3.40625 Z M -6.71875 -3.4375 C -6.71875 -4.28125 -6.4375 -4.992188 -5.875 -5.578125 C -5.320312 -6.160156 -4.5 -6.453125 -3.40625 -6.453125 C -2.351562 -6.453125 -1.484375 -6.191406 -0.796875 -5.671875 C -0.109375 -5.160156 0.234375 -4.367188 0.234375 -3.296875 C 0.234375 -2.398438 -0.0664062 -1.6875 -0.671875 -1.15625 C -1.285156 -0.625 -2.101562 -0.359375 -3.125 -0.359375 C -4.21875 -0.359375 -5.085938 -0.632812 -5.734375 -1.1875 C -6.390625 -1.75 -6.71875 -2.5 -6.71875 -3.4375 Z M -6.703125 -3.40625 Z \"/>\n",
       "</symbol>\n",
       "<symbol overflow=\"visible\" id=\"glyph1-14\">\n",
       "<path style=\"stroke:none;\" d=\"M -9.109375 -3.703125 C -7.867188 -3.054688 -6.957031 -2.640625 -6.375 -2.453125 C -5.476562 -2.160156 -4.445312 -2.015625 -3.28125 -2.015625 C -2.101562 -2.015625 -1.023438 -2.179688 -0.046875 -2.515625 C 0.554688 -2.710938 1.421875 -3.113281 2.546875 -3.71875 L 2.546875 -2.984375 C 1.617188 -2.390625 1.023438 -2.019531 0.765625 -1.875 C 0.515625 -1.726562 0.171875 -1.570312 -0.265625 -1.40625 C -0.867188 -1.175781 -1.515625 -1.019531 -2.203125 -0.9375 C -2.554688 -0.882812 -2.890625 -0.859375 -3.203125 -0.859375 C -4.410156 -0.859375 -5.484375 -1.050781 -6.421875 -1.4375 C -7.023438 -1.675781 -7.921875 -2.175781 -9.109375 -2.9375 Z \"/>\n",
       "</symbol>\n",
       "<symbol overflow=\"visible\" id=\"glyph1-15\">\n",
       "<path style=\"stroke:none;\" d=\"M -6.53125 -0.1875 L -6.53125 -1.609375 L -4.234375 -3.109375 L -6.53125 -4.625 L -6.5 -5.96875 L -3.34375 -3.765625 L 0 -6.0625 L 0 -4.65625 L -2.453125 -3.03125 L 0 -1.453125 L 0 -0.0625 L -3.34375 -2.375 Z \"/>\n",
       "</symbol>\n",
       "<symbol overflow=\"visible\" id=\"glyph1-16\">\n",
       "<path style=\"stroke:none;\" d=\"M 2.546875 -0.4375 C 1.285156 -1.082031 0.367188 -1.5 -0.203125 -1.6875 C -1.078125 -1.96875 -2.101562 -2.109375 -3.28125 -2.109375 C -4.457031 -2.109375 -5.535156 -1.945312 -6.515625 -1.625 C -7.117188 -1.414062 -7.984375 -1.015625 -9.109375 -0.421875 L -9.109375 -1.15625 C -8.109375 -1.78125 -7.488281 -2.15625 -7.25 -2.28125 C -7.019531 -2.414062 -6.703125 -2.5625 -6.296875 -2.71875 C -5.785156 -2.914062 -5.28125 -3.054688 -4.78125 -3.140625 C -4.289062 -3.222656 -3.8125 -3.265625 -3.34375 -3.265625 C -2.144531 -3.265625 -1.070312 -3.070312 -0.125 -2.6875 C 0.476562 -2.445312 1.367188 -1.953125 2.546875 -1.203125 Z \"/>\n",
       "</symbol>\n",
       "<symbol overflow=\"visible\" id=\"glyph1-17\">\n",
       "<path style=\"stroke:none;\" d=\"\"/>\n",
       "</symbol>\n",
       "<symbol overflow=\"visible\" id=\"glyph1-18\">\n",
       "<path style=\"stroke:none;\" d=\"M -3.1875 -1.5 C -2.488281 -1.5 -1.898438 -1.644531 -1.421875 -1.9375 C -0.953125 -2.238281 -0.71875 -2.71875 -0.71875 -3.375 C -0.71875 -3.882812 -0.9375 -4.300781 -1.375 -4.625 C -1.8125 -4.957031 -2.441406 -5.125 -3.265625 -5.125 C -4.085938 -5.125 -4.695312 -4.953125 -5.09375 -4.609375 C -5.488281 -4.273438 -5.6875 -3.859375 -5.6875 -3.359375 C -5.6875 -2.804688 -5.472656 -2.359375 -5.046875 -2.015625 C -4.628906 -1.671875 -4.007812 -1.5 -3.1875 -1.5 Z M -6.65625 -3.15625 C -6.65625 -3.65625 -6.546875 -4.070312 -6.328125 -4.40625 C -6.210938 -4.601562 -6 -4.828125 -5.6875 -5.078125 L -9 -5.078125 L -9 -6.140625 L 0 -6.140625 L 0 -5.140625 L -0.90625 -5.140625 C -0.507812 -4.890625 -0.21875 -4.585938 -0.03125 -4.234375 C 0.144531 -3.890625 0.234375 -3.488281 0.234375 -3.03125 C 0.234375 -2.300781 -0.0703125 -1.671875 -0.6875 -1.140625 C -1.300781 -0.609375 -2.113281 -0.34375 -3.125 -0.34375 C -4.082031 -0.34375 -4.910156 -0.582031 -5.609375 -1.0625 C -6.304688 -1.550781 -6.65625 -2.25 -6.65625 -3.15625 Z \"/>\n",
       "</symbol>\n",
       "<symbol overflow=\"visible\" id=\"glyph1-19\">\n",
       "<path style=\"stroke:none;\" d=\"M 1.28125 -1.03125 C 1.226562 -1.3125 1.03125 -1.507812 0.6875 -1.625 C 0.5 -1.6875 0.320312 -1.71875 0.15625 -1.71875 C 0.125 -1.71875 0.0976562 -1.71875 0.078125 -1.71875 C 0.0546875 -1.71875 0.03125 -1.710938 0 -1.703125 L 0 -1.03125 L -1.328125 -1.03125 L -1.328125 -2.34375 L -0.09375 -2.34375 C 0.382812 -2.34375 0.804688 -2.242188 1.171875 -2.046875 C 1.546875 -1.859375 1.773438 -1.519531 1.859375 -1.03125 Z \"/>\n",
       "</symbol>\n",
       "<symbol overflow=\"visible\" id=\"glyph1-20\">\n",
       "<path style=\"stroke:none;\" d=\"M -5.015625 -6.921875 L -3.984375 -6.921875 L -3.984375 -0.5625 L -5.015625 -0.5625 Z M -2.40625 -6.921875 L -1.359375 -6.921875 L -1.359375 -0.5625 L -2.40625 -0.5625 Z \"/>\n",
       "</symbol>\n",
       "<symbol overflow=\"visible\" id=\"glyph1-21\">\n",
       "<path style=\"stroke:none;\" d=\"M -6.53125 -0.8125 L -6.53125 -1.890625 L -5.609375 -1.890625 C -5.929688 -2.148438 -6.164062 -2.382812 -6.3125 -2.59375 C -6.5625 -2.957031 -6.6875 -3.367188 -6.6875 -3.828125 C -6.6875 -4.347656 -6.554688 -4.769531 -6.296875 -5.09375 C -6.148438 -5.269531 -5.9375 -5.429688 -5.65625 -5.578125 C -6 -5.816406 -6.253906 -6.101562 -6.421875 -6.4375 C -6.597656 -6.769531 -6.6875 -7.140625 -6.6875 -7.546875 C -6.6875 -8.429688 -6.367188 -9.03125 -5.734375 -9.34375 C -5.390625 -9.507812 -4.929688 -9.59375 -4.359375 -9.59375 L 0 -9.59375 L 0 -8.453125 L -4.546875 -8.453125 C -4.972656 -8.453125 -5.269531 -8.34375 -5.4375 -8.125 C -5.601562 -7.914062 -5.6875 -7.65625 -5.6875 -7.34375 C -5.6875 -6.90625 -5.539062 -6.53125 -5.25 -6.21875 C -4.957031 -5.90625 -4.472656 -5.75 -3.796875 -5.75 L 0 -5.75 L 0 -4.640625 L -4.265625 -4.640625 C -4.710938 -4.640625 -5.035156 -4.585938 -5.234375 -4.484375 C -5.535156 -4.316406 -5.6875 -4.003906 -5.6875 -3.546875 C -5.6875 -3.128906 -5.523438 -2.75 -5.203125 -2.40625 C -4.890625 -2.070312 -4.3125 -1.90625 -3.46875 -1.90625 L 0 -1.90625 L 0 -0.8125 Z \"/>\n",
       "</symbol>\n",
       "<symbol overflow=\"visible\" id=\"glyph1-22\">\n",
       "<path style=\"stroke:none;\" d=\"M -0.640625 -3.734375 C -0.671875 -4.421875 -0.921875 -4.898438 -1.390625 -5.171875 C -1.640625 -5.304688 -1.925781 -5.375 -2.25 -5.375 C -2.757812 -5.375 -3.144531 -5.1875 -3.40625 -4.8125 C -3.5625 -4.601562 -3.707031 -4.242188 -3.84375 -3.734375 Z M -6.53125 -1.65625 C -6.125 -1.65625 -5.804688 -1.785156 -5.578125 -2.046875 C -5.347656 -2.316406 -5.191406 -2.679688 -5.109375 -3.140625 L -7.96875 -3.140625 C -7.945312 -2.609375 -7.785156 -2.226562 -7.484375 -2 C -7.179688 -1.769531 -6.863281 -1.65625 -6.53125 -1.65625 Z M -6.453125 -0.5625 C -7.066406 -0.5625 -7.625 -0.785156 -8.125 -1.234375 C -8.625 -1.691406 -8.875 -2.332031 -8.875 -3.15625 L -9.6875 -3.15625 L -9.6875 -3.734375 L -8.890625 -3.734375 C -8.835938 -4.535156 -8.597656 -5.15625 -8.171875 -5.59375 C -7.753906 -6.03125 -7.195312 -6.257812 -6.5 -6.28125 L -6.5 -5.203125 C -6.8125 -5.171875 -7.082031 -5.085938 -7.3125 -4.953125 C -7.71875 -4.703125 -7.929688 -4.296875 -7.953125 -3.734375 L -4.984375 -3.734375 C -4.722656 -4.671875 -4.472656 -5.3125 -4.234375 -5.65625 C -3.859375 -6.195312 -3.296875 -6.46875 -2.546875 -6.46875 C -1.460938 -6.46875 -0.691406 -6.117188 -0.234375 -5.421875 C 0.015625 -5.023438 0.179688 -4.460938 0.265625 -3.734375 L 1.453125 -3.734375 L 1.453125 -3.15625 L 0.265625 -3.15625 C 0.179688 -1.96875 -0.238281 -1.160156 -1 -0.734375 C -1.40625 -0.503906 -1.957031 -0.390625 -2.65625 -0.390625 L -2.65625 -1.46875 C -2.101562 -1.5 -1.695312 -1.585938 -1.4375 -1.734375 C -0.976562 -1.984375 -0.722656 -2.453125 -0.671875 -3.140625 L -3.984375 -3.140625 C -4.148438 -2.253906 -4.425781 -1.601562 -4.8125 -1.1875 C -5.207031 -0.769531 -5.753906 -0.5625 -6.453125 -0.5625 Z \"/>\n",
       "</symbol>\n",
       "<symbol overflow=\"visible\" id=\"glyph1-23\">\n",
       "<path style=\"stroke:none;\" d=\"M -0.734375 -3.5625 C -0.734375 -4.070312 -0.945312 -4.5 -1.375 -4.84375 C -1.8125 -5.1875 -2.457031 -5.359375 -3.3125 -5.359375 C -3.832031 -5.359375 -4.28125 -5.28125 -4.65625 -5.125 C -5.375 -4.84375 -5.734375 -4.320312 -5.734375 -3.5625 C -5.734375 -2.800781 -5.351562 -2.28125 -4.59375 -2 C -4.1875 -1.851562 -3.671875 -1.78125 -3.046875 -1.78125 C -2.535156 -1.78125 -2.101562 -1.851562 -1.75 -2 C -1.070312 -2.28125 -0.734375 -2.800781 -0.734375 -3.5625 Z M -6.5 -0.71875 L -6.5 -1.78125 L -5.640625 -1.78125 C -5.929688 -2.007812 -6.160156 -2.253906 -6.328125 -2.515625 C -6.578125 -2.878906 -6.703125 -3.3125 -6.703125 -3.8125 C -6.703125 -4.550781 -6.414062 -5.175781 -5.84375 -5.6875 C -5.28125 -6.207031 -4.46875 -6.46875 -3.40625 -6.46875 C -1.988281 -6.46875 -0.972656 -6.097656 -0.359375 -5.359375 C 0.0234375 -4.890625 0.21875 -4.34375 0.21875 -3.71875 C 0.21875 -3.21875 0.109375 -2.800781 -0.109375 -2.46875 C -0.222656 -2.269531 -0.429688 -2.050781 -0.734375 -1.8125 L 2.609375 -1.8125 L 2.609375 -0.71875 Z \"/>\n",
       "</symbol>\n",
       "<symbol overflow=\"visible\" id=\"glyph1-24\">\n",
       "<path style=\"stroke:none;\" d=\"M -1.734375 -1.640625 C -1.421875 -1.640625 -1.171875 -1.753906 -0.984375 -1.984375 C -0.804688 -2.222656 -0.71875 -2.5 -0.71875 -2.8125 C -0.71875 -3.207031 -0.804688 -3.582031 -0.984375 -3.9375 C -1.273438 -4.550781 -1.757812 -4.859375 -2.4375 -4.859375 L -3.328125 -4.859375 C -3.242188 -4.722656 -3.171875 -4.546875 -3.109375 -4.328125 C -3.054688 -4.117188 -3.015625 -3.914062 -2.984375 -3.71875 L -2.90625 -3.046875 C -2.851562 -2.648438 -2.769531 -2.351562 -2.65625 -2.15625 C -2.46875 -1.8125 -2.160156 -1.640625 -1.734375 -1.640625 Z M -3.96875 -4.3125 C -4 -4.5625 -4.101562 -4.726562 -4.28125 -4.8125 C -4.375 -4.863281 -4.515625 -4.890625 -4.703125 -4.890625 C -5.078125 -4.890625 -5.347656 -4.753906 -5.515625 -4.484375 C -5.679688 -4.222656 -5.765625 -3.84375 -5.765625 -3.34375 C -5.765625 -2.769531 -5.609375 -2.363281 -5.296875 -2.125 C -5.128906 -1.988281 -4.878906 -1.898438 -4.546875 -1.859375 L -4.546875 -0.84375 C -5.347656 -0.851562 -5.90625 -1.109375 -6.21875 -1.609375 C -6.539062 -2.117188 -6.703125 -2.707031 -6.703125 -3.375 C -6.703125 -4.132812 -6.550781 -4.757812 -6.25 -5.25 C -5.957031 -5.71875 -5.503906 -5.953125 -4.890625 -5.953125 L -1.125 -5.953125 C -1.007812 -5.953125 -0.914062 -5.972656 -0.84375 -6.015625 C -0.78125 -6.066406 -0.75 -6.171875 -0.75 -6.328125 C -0.75 -6.367188 -0.75 -6.421875 -0.75 -6.484375 C -0.757812 -6.546875 -0.769531 -6.613281 -0.78125 -6.6875 L 0.03125 -6.6875 C 0.0820312 -6.507812 0.113281 -6.375 0.125 -6.28125 C 0.132812 -6.195312 0.140625 -6.078125 0.140625 -5.921875 C 0.140625 -5.546875 0.00390625 -5.273438 -0.265625 -5.109375 C -0.398438 -5.015625 -0.597656 -4.945312 -0.859375 -4.90625 C -0.566406 -4.6875 -0.3125 -4.367188 -0.09375 -3.953125 C 0.113281 -3.535156 0.21875 -3.070312 0.21875 -2.5625 C 0.21875 -1.957031 0.0351562 -1.460938 -0.328125 -1.078125 C -0.703125 -0.691406 -1.164062 -0.5 -1.71875 -0.5 C -2.320312 -0.5 -2.789062 -0.6875 -3.125 -1.0625 C -3.457031 -1.445312 -3.660156 -1.945312 -3.734375 -2.5625 Z M -6.703125 -3.40625 Z \"/>\n",
       "</symbol>\n",
       "<symbol overflow=\"visible\" id=\"glyph1-25\">\n",
       "<path style=\"stroke:none;\" d=\"M -6.53125 -0.84375 L -6.53125 -1.875 L -5.40625 -1.875 C -5.625 -1.96875 -5.890625 -2.179688 -6.203125 -2.515625 C -6.523438 -2.847656 -6.6875 -3.226562 -6.6875 -3.65625 C -6.6875 -3.675781 -6.679688 -3.710938 -6.671875 -3.765625 C -6.671875 -3.816406 -6.664062 -3.898438 -6.65625 -4.015625 L -5.5 -4.015625 C -5.507812 -3.953125 -5.515625 -3.890625 -5.515625 -3.828125 C -5.523438 -3.773438 -5.53125 -3.71875 -5.53125 -3.65625 C -5.53125 -3.101562 -5.347656 -2.675781 -4.984375 -2.375 C -4.628906 -2.082031 -4.222656 -1.9375 -3.765625 -1.9375 L 0 -1.9375 L 0 -0.84375 Z \"/>\n",
       "</symbol>\n",
       "<symbol overflow=\"visible\" id=\"glyph1-26\">\n",
       "<path style=\"stroke:none;\" d=\"M -6.6875 -3.53125 C -6.6875 -3.988281 -6.578125 -4.4375 -6.359375 -4.875 C -6.140625 -5.3125 -5.859375 -5.644531 -5.515625 -5.875 C -5.179688 -6.09375 -4.796875 -6.238281 -4.359375 -6.3125 C -4.054688 -6.375 -3.578125 -6.40625 -2.921875 -6.40625 L -2.921875 -1.625 C -2.253906 -1.632812 -1.71875 -1.785156 -1.3125 -2.078125 C -0.914062 -2.378906 -0.71875 -2.835938 -0.71875 -3.453125 C -0.71875 -4.023438 -0.90625 -4.484375 -1.28125 -4.828125 C -1.507812 -5.015625 -1.765625 -5.148438 -2.046875 -5.234375 L -2.046875 -6.3125 C -1.804688 -6.289062 -1.539062 -6.195312 -1.25 -6.03125 C -0.957031 -5.875 -0.71875 -5.695312 -0.53125 -5.5 C -0.195312 -5.164062 0.0234375 -4.75 0.140625 -4.25 C 0.203125 -3.988281 0.234375 -3.691406 0.234375 -3.359375 C 0.234375 -2.546875 -0.0625 -1.851562 -0.65625 -1.28125 C -1.25 -0.71875 -2.078125 -0.4375 -3.140625 -0.4375 C -4.191406 -0.4375 -5.046875 -0.722656 -5.703125 -1.296875 C -6.359375 -1.867188 -6.6875 -2.613281 -6.6875 -3.53125 Z M -3.796875 -5.28125 C -4.265625 -5.238281 -4.644531 -5.132812 -4.9375 -4.96875 C -5.457031 -4.664062 -5.71875 -4.160156 -5.71875 -3.453125 C -5.71875 -2.953125 -5.535156 -2.53125 -5.171875 -2.1875 C -4.804688 -1.84375 -4.347656 -1.660156 -3.796875 -1.640625 Z M -6.703125 -3.421875 Z \"/>\n",
       "</symbol>\n",
       "</g>\n",
       "<clipPath id=\"clip1\">\n",
       "  <path d=\"M 199 99 L 258.757812 99 L 258.757812 109 L 199 109 Z \"/>\n",
       "</clipPath>\n",
       "<clipPath id=\"clip2\">\n",
       "  <path d=\"M 199 105 L 258.757812 105 L 258.757812 116 L 199 116 Z \"/>\n",
       "</clipPath>\n",
       "<clipPath id=\"clip3\">\n",
       "  <path d=\"M 200 111 L 258.757812 111 L 258.757812 122 L 200 122 Z \"/>\n",
       "</clipPath>\n",
       "</defs>\n",
       "<g id=\"surface180\">\n",
       "<rect x=\"0\" y=\"0\" width=\"288\" height=\"288\" style=\"fill:rgb(100%,100%,100%);fill-opacity:1;stroke:none;\"/>\n",
       "<path style=\"fill:none;stroke-width:1;stroke-linecap:round;stroke-linejoin:round;stroke:rgb(0%,0%,0%);stroke-opacity:1;stroke-miterlimit:10;\" d=\"M 66.398438 186.695312 L 68.238281 181.976562 L 70.078125 176.472656 L 71.921875 170.132812 L 73.761719 162.929688 L 75.601562 154.878906 L 77.441406 146.035156 L 79.28125 136.507812 L 81.121094 126.472656 L 82.960938 116.171875 L 84.800781 105.898438 L 86.640625 96 L 88.480469 86.863281 L 90.320312 78.871094 L 92.160156 72.394531 L 94 67.75 L 95.839844 65.171875 L 97.679688 64.800781 L 99.519531 66.652344 L 101.359375 70.628906 L 103.199219 76.527344 L 105.039062 84.050781 L 106.878906 92.851562 L 108.71875 102.539062 L 110.558594 112.726562 L 112.398438 123.054688 L 114.238281 133.207031 L 116.078125 142.925781 L 117.921875 152.015625 L 119.761719 160.339844 L 121.601562 167.828125 L 123.441406 174.453125 L 125.28125 180.234375 L 127.121094 185.207031 L 128.960938 189.4375 L 130.800781 193 L 132.640625 195.972656 L 134.480469 198.429688 L 136.320312 200.449219 L 138.160156 202.097656 L 140 203.433594 L 141.839844 204.511719 L 143.679688 205.382812 L 145.519531 206.078125 L 147.359375 206.636719 L 149.199219 207.078125 L 151.039062 207.433594 L 152.878906 207.714844 L 154.71875 207.9375 L 156.558594 208.113281 L 158.398438 208.253906 L 160.238281 208.367188 L 162.078125 208.453125 L 163.921875 208.523438 L 165.761719 208.578125 L 167.601562 208.625 L 169.441406 208.660156 L 171.28125 208.6875 L 174.960938 208.726562 L 176.800781 208.742188 L 178.640625 208.753906 L 182.320312 208.769531 L 191.519531 208.789062 L 193.359375 208.789062 L 195.199219 208.792969 L 198.878906 208.792969 L 200.71875 208.796875 L 211.761719 208.796875 L 213.601562 208.800781 L 250.398438 208.800781 \"/>\n",
       "<path style=\"fill:none;stroke-width:1;stroke-linecap:round;stroke-linejoin:round;stroke:rgb(0%,0%,0%);stroke-opacity:1;stroke-miterlimit:10;\" d=\"M 66.398438 214.558594 L 250.398438 214.558594 \"/>\n",
       "<path style=\"fill:none;stroke-width:1;stroke-linecap:round;stroke-linejoin:round;stroke:rgb(0%,0%,0%);stroke-opacity:1;stroke-miterlimit:10;\" d=\"M 66.398438 214.558594 L 66.398438 221.761719 \"/>\n",
       "<path style=\"fill:none;stroke-width:1;stroke-linecap:round;stroke-linejoin:round;stroke:rgb(0%,0%,0%);stroke-opacity:1;stroke-miterlimit:10;\" d=\"M 97.066406 214.558594 L 97.066406 221.761719 \"/>\n",
       "<path style=\"fill:none;stroke-width:1;stroke-linecap:round;stroke-linejoin:round;stroke:rgb(0%,0%,0%);stroke-opacity:1;stroke-miterlimit:10;\" d=\"M 127.734375 214.558594 L 127.734375 221.761719 \"/>\n",
       "<path style=\"fill:none;stroke-width:1;stroke-linecap:round;stroke-linejoin:round;stroke:rgb(0%,0%,0%);stroke-opacity:1;stroke-miterlimit:10;\" d=\"M 158.398438 214.558594 L 158.398438 221.761719 \"/>\n",
       "<path style=\"fill:none;stroke-width:1;stroke-linecap:round;stroke-linejoin:round;stroke:rgb(0%,0%,0%);stroke-opacity:1;stroke-miterlimit:10;\" d=\"M 189.066406 214.558594 L 189.066406 221.761719 \"/>\n",
       "<path style=\"fill:none;stroke-width:1;stroke-linecap:round;stroke-linejoin:round;stroke:rgb(0%,0%,0%);stroke-opacity:1;stroke-miterlimit:10;\" d=\"M 219.734375 214.558594 L 219.734375 221.761719 \"/>\n",
       "<path style=\"fill:none;stroke-width:1;stroke-linecap:round;stroke-linejoin:round;stroke:rgb(0%,0%,0%);stroke-opacity:1;stroke-miterlimit:10;\" d=\"M 250.398438 214.558594 L 250.398438 221.761719 \"/>\n",
       "<g style=\"fill:rgb(0%,0%,0%);fill-opacity:1;\">\n",
       "  <use xlink:href=\"#glyph0-1\" x=\"60.839844\" y=\"241.921875\"/>\n",
       "  <use xlink:href=\"#glyph0-2\" x=\"65.002441\" y=\"241.921875\"/>\n",
       "</g>\n",
       "<g style=\"fill:rgb(0%,0%,0%);fill-opacity:1;\">\n",
       "  <use xlink:href=\"#glyph0-3\" x=\"93.589844\" y=\"241.921875\"/>\n",
       "</g>\n",
       "<g style=\"fill:rgb(0%,0%,0%);fill-opacity:1;\">\n",
       "  <use xlink:href=\"#glyph0-2\" x=\"124.257812\" y=\"241.921875\"/>\n",
       "</g>\n",
       "<g style=\"fill:rgb(0%,0%,0%);fill-opacity:1;\">\n",
       "  <use xlink:href=\"#glyph0-4\" x=\"154.921875\" y=\"241.921875\"/>\n",
       "</g>\n",
       "<g style=\"fill:rgb(0%,0%,0%);fill-opacity:1;\">\n",
       "  <use xlink:href=\"#glyph0-5\" x=\"185.589844\" y=\"241.921875\"/>\n",
       "</g>\n",
       "<g style=\"fill:rgb(0%,0%,0%);fill-opacity:1;\">\n",
       "  <use xlink:href=\"#glyph0-6\" x=\"216.257812\" y=\"241.921875\"/>\n",
       "</g>\n",
       "<g style=\"fill:rgb(0%,0%,0%);fill-opacity:1;\">\n",
       "  <use xlink:href=\"#glyph0-7\" x=\"243.445312\" y=\"241.921875\"/>\n",
       "  <use xlink:href=\"#glyph0-3\" x=\"250.397217\" y=\"241.921875\"/>\n",
       "</g>\n",
       "<path style=\"fill:none;stroke-width:1;stroke-linecap:round;stroke-linejoin:round;stroke:rgb(0%,0%,0%);stroke-opacity:1;stroke-miterlimit:10;\" d=\"M 59.039062 208.800781 L 59.039062 61.40625 \"/>\n",
       "<path style=\"fill:none;stroke-width:1;stroke-linecap:round;stroke-linejoin:round;stroke:rgb(0%,0%,0%);stroke-opacity:1;stroke-miterlimit:10;\" d=\"M 59.039062 208.800781 L 51.839844 208.800781 \"/>\n",
       "<path style=\"fill:none;stroke-width:1;stroke-linecap:round;stroke-linejoin:round;stroke:rgb(0%,0%,0%);stroke-opacity:1;stroke-miterlimit:10;\" d=\"M 59.039062 171.949219 L 51.839844 171.949219 \"/>\n",
       "<path style=\"fill:none;stroke-width:1;stroke-linecap:round;stroke-linejoin:round;stroke:rgb(0%,0%,0%);stroke-opacity:1;stroke-miterlimit:10;\" d=\"M 59.039062 135.101562 L 51.839844 135.101562 \"/>\n",
       "<path style=\"fill:none;stroke-width:1;stroke-linecap:round;stroke-linejoin:round;stroke:rgb(0%,0%,0%);stroke-opacity:1;stroke-miterlimit:10;\" d=\"M 59.039062 98.253906 L 51.839844 98.253906 \"/>\n",
       "<path style=\"fill:none;stroke-width:1;stroke-linecap:round;stroke-linejoin:round;stroke:rgb(0%,0%,0%);stroke-opacity:1;stroke-miterlimit:10;\" d=\"M 59.039062 61.40625 L 51.839844 61.40625 \"/>\n",
       "<g style=\"fill:rgb(0%,0%,0%);fill-opacity:1;\">\n",
       "  <use xlink:href=\"#glyph1-1\" x=\"43.199219\" y=\"217.488281\"/>\n",
       "  <use xlink:href=\"#glyph1-2\" x=\"43.199219\" y=\"210.536377\"/>\n",
       "  <use xlink:href=\"#glyph1-1\" x=\"43.199219\" y=\"207.063477\"/>\n",
       "</g>\n",
       "<g style=\"fill:rgb(0%,0%,0%);fill-opacity:1;\">\n",
       "  <use xlink:href=\"#glyph1-1\" x=\"43.199219\" y=\"180.636719\"/>\n",
       "  <use xlink:href=\"#glyph1-2\" x=\"43.199219\" y=\"173.684814\"/>\n",
       "  <use xlink:href=\"#glyph1-3\" x=\"43.199219\" y=\"170.211914\"/>\n",
       "</g>\n",
       "<g style=\"fill:rgb(0%,0%,0%);fill-opacity:1;\">\n",
       "  <use xlink:href=\"#glyph1-1\" x=\"43.199219\" y=\"143.789062\"/>\n",
       "  <use xlink:href=\"#glyph1-2\" x=\"43.199219\" y=\"136.837158\"/>\n",
       "  <use xlink:href=\"#glyph1-4\" x=\"43.199219\" y=\"133.364258\"/>\n",
       "</g>\n",
       "<g style=\"fill:rgb(0%,0%,0%);fill-opacity:1;\">\n",
       "  <use xlink:href=\"#glyph1-1\" x=\"43.199219\" y=\"106.941406\"/>\n",
       "  <use xlink:href=\"#glyph1-2\" x=\"43.199219\" y=\"99.989502\"/>\n",
       "  <use xlink:href=\"#glyph1-5\" x=\"43.199219\" y=\"96.516602\"/>\n",
       "</g>\n",
       "<g style=\"fill:rgb(0%,0%,0%);fill-opacity:1;\">\n",
       "  <use xlink:href=\"#glyph1-1\" x=\"43.199219\" y=\"70.09375\"/>\n",
       "  <use xlink:href=\"#glyph1-2\" x=\"43.199219\" y=\"63.141846\"/>\n",
       "  <use xlink:href=\"#glyph1-6\" x=\"43.199219\" y=\"59.668945\"/>\n",
       "</g>\n",
       "<path style=\"fill:none;stroke-width:1;stroke-linecap:round;stroke-linejoin:round;stroke:rgb(0%,0%,0%);stroke-opacity:1;stroke-miterlimit:10;\" d=\"M 59.039062 214.558594 L 257.761719 214.558594 L 257.761719 59.039062 L 59.039062 59.039062 L 59.039062 214.558594 \"/>\n",
       "<g style=\"fill:rgb(0%,0%,0%);fill-opacity:1;\">\n",
       "  <use xlink:href=\"#glyph0-8\" x=\"155.273438\" y=\"270.71875\"/>\n",
       "</g>\n",
       "<g style=\"fill:rgb(0%,0%,0%);fill-opacity:1;\">\n",
       "  <use xlink:href=\"#glyph1-7\" x=\"14.398438\" y=\"237.351562\"/>\n",
       "  <use xlink:href=\"#glyph1-8\" x=\"14.398438\" y=\"233.878662\"/>\n",
       "  <use xlink:href=\"#glyph1-9\" x=\"14.398438\" y=\"226.926758\"/>\n",
       "  <use xlink:href=\"#glyph1-10\" x=\"14.398438\" y=\"219.974854\"/>\n",
       "  <use xlink:href=\"#glyph1-11\" x=\"14.398438\" y=\"213.724854\"/>\n",
       "  <use xlink:href=\"#glyph1-12\" x=\"14.398438\" y=\"210.251953\"/>\n",
       "  <use xlink:href=\"#glyph1-13\" x=\"14.398438\" y=\"207.474854\"/>\n",
       "  <use xlink:href=\"#glyph1-9\" x=\"14.398438\" y=\"200.522949\"/>\n",
       "  <use xlink:href=\"#glyph1-14\" x=\"14.398438\" y=\"193.571045\"/>\n",
       "  <use xlink:href=\"#glyph1-15\" x=\"14.398438\" y=\"189.408447\"/>\n",
       "  <use xlink:href=\"#glyph1-16\" x=\"14.398438\" y=\"183.158447\"/>\n",
       "  <use xlink:href=\"#glyph1-17\" x=\"14.398438\" y=\"178.99585\"/>\n",
       "  <use xlink:href=\"#glyph1-14\" x=\"14.398438\" y=\"175.522949\"/>\n",
       "  <use xlink:href=\"#glyph1-18\" x=\"14.398438\" y=\"171.360352\"/>\n",
       "  <use xlink:href=\"#glyph1-11\" x=\"14.398438\" y=\"164.408447\"/>\n",
       "  <use xlink:href=\"#glyph1-14\" x=\"14.398438\" y=\"160.935547\"/>\n",
       "  <use xlink:href=\"#glyph1-15\" x=\"14.398438\" y=\"156.772949\"/>\n",
       "  <use xlink:href=\"#glyph1-19\" x=\"14.398438\" y=\"150.522949\"/>\n",
       "  <use xlink:href=\"#glyph1-17\" x=\"14.398438\" y=\"147.050049\"/>\n",
       "  <use xlink:href=\"#glyph1-18\" x=\"14.398438\" y=\"143.577148\"/>\n",
       "  <use xlink:href=\"#glyph1-7\" x=\"14.398438\" y=\"136.625244\"/>\n",
       "  <use xlink:href=\"#glyph1-17\" x=\"14.398438\" y=\"133.152344\"/>\n",
       "  <use xlink:href=\"#glyph1-20\" x=\"14.398438\" y=\"129.679443\"/>\n",
       "  <use xlink:href=\"#glyph1-17\" x=\"14.398438\" y=\"122.379639\"/>\n",
       "  <use xlink:href=\"#glyph1-21\" x=\"14.398438\" y=\"118.906738\"/>\n",
       "  <use xlink:href=\"#glyph1-22\" x=\"14.398438\" y=\"108.494141\"/>\n",
       "  <use xlink:href=\"#glyph1-23\" x=\"14.398438\" y=\"101.542236\"/>\n",
       "  <use xlink:href=\"#glyph1-24\" x=\"14.398438\" y=\"94.590332\"/>\n",
       "  <use xlink:href=\"#glyph1-25\" x=\"14.398438\" y=\"87.638428\"/>\n",
       "  <use xlink:href=\"#glyph1-24\" x=\"14.398438\" y=\"83.47583\"/>\n",
       "  <use xlink:href=\"#glyph1-21\" x=\"14.398438\" y=\"76.523926\"/>\n",
       "  <use xlink:href=\"#glyph1-26\" x=\"14.398438\" y=\"66.111328\"/>\n",
       "  <use xlink:href=\"#glyph1-11\" x=\"14.398438\" y=\"59.159424\"/>\n",
       "  <use xlink:href=\"#glyph1-26\" x=\"14.398438\" y=\"55.686523\"/>\n",
       "  <use xlink:href=\"#glyph1-25\" x=\"14.398438\" y=\"48.734619\"/>\n",
       "  <use xlink:href=\"#glyph1-16\" x=\"14.398438\" y=\"44.572021\"/>\n",
       "  <use xlink:href=\"#glyph1-16\" x=\"14.398438\" y=\"40.409424\"/>\n",
       "</g>\n",
       "<path style=\"fill:none;stroke-width:1;stroke-linecap:round;stroke-linejoin:round;stroke:rgb(100%,0%,0%);stroke-opacity:1;stroke-miterlimit:10;\" d=\"M 131.738281 188.535156 C 131.738281 192.800781 125.339844 192.800781 125.339844 188.535156 C 125.339844 184.265625 131.738281 184.265625 131.738281 188.535156 \"/>\n",
       "<path style=\"fill:none;stroke-width:1;stroke-linecap:round;stroke-linejoin:round;stroke:rgb(0%,80.392157%,0%);stroke-opacity:1;stroke-miterlimit:10;\" d=\"M 176.566406 208.652344 C 176.566406 212.917969 170.167969 212.917969 170.167969 208.652344 C 170.167969 204.386719 176.566406 204.386719 176.566406 208.652344 \"/>\n",
       "<path style=\"fill:none;stroke-width:1;stroke-linecap:round;stroke-linejoin:round;stroke:rgb(0%,0%,100%);stroke-opacity:1;stroke-miterlimit:10;\" d=\"M 125.324219 169.839844 C 125.324219 174.109375 118.925781 174.109375 118.925781 169.839844 C 118.925781 165.574219 125.324219 165.574219 125.324219 169.839844 \"/>\n",
       "<path style=\"fill:none;stroke-width:1;stroke-linecap:round;stroke-linejoin:round;stroke:rgb(0%,0%,0%);stroke-opacity:1;stroke-miterlimit:10;\" d=\"M 189.066406 98.253906 L 243.960938 98.253906 L 243.960938 122.367188 L 189.066406 122.367188 Z \"/>\n",
       "<g style=\"fill:rgb(100%,0%,0%);fill-opacity:1;\">\n",
       "  <use xlink:href=\"#glyph0-9\" x=\"191.808594\" y=\"111.453125\"/>\n",
       "</g>\n",
       "<g style=\"fill:rgb(0%,80.392157%,0%);fill-opacity:1;\">\n",
       "  <use xlink:href=\"#glyph0-9\" x=\"191.808594\" y=\"117.480469\"/>\n",
       "</g>\n",
       "<g style=\"fill:rgb(0%,0%,100%);fill-opacity:1;\">\n",
       "  <use xlink:href=\"#glyph0-9\" x=\"191.808594\" y=\"123.507812\"/>\n",
       "</g>\n",
       "<g clip-path=\"url(#clip1)\" clip-rule=\"nonzero\">\n",
       "<g style=\"fill:rgb(0%,0%,0%);fill-opacity:1;\">\n",
       "  <use xlink:href=\"#glyph0-10\" x=\"199.417969\" y=\"108.765625\"/>\n",
       "  <use xlink:href=\"#glyph0-11\" x=\"208.445068\" y=\"108.765625\"/>\n",
       "  <use xlink:href=\"#glyph0-12\" x=\"215.396973\" y=\"108.765625\"/>\n",
       "  <use xlink:href=\"#glyph0-11\" x=\"218.174072\" y=\"108.765625\"/>\n",
       "  <use xlink:href=\"#glyph0-13\" x=\"225.125977\" y=\"108.765625\"/>\n",
       "  <use xlink:href=\"#glyph0-14\" x=\"235.538574\" y=\"108.765625\"/>\n",
       "  <use xlink:href=\"#glyph0-15\" x=\"242.490479\" y=\"108.765625\"/>\n",
       "  <use xlink:href=\"#glyph0-16\" x=\"245.267578\" y=\"108.765625\"/>\n",
       "  <use xlink:href=\"#glyph0-1\" x=\"252.219482\" y=\"108.765625\"/>\n",
       "  <use xlink:href=\"#glyph0-17\" x=\"256.38208\" y=\"108.765625\"/>\n",
       "  <use xlink:href=\"#glyph0-18\" x=\"264.719482\" y=\"108.765625\"/>\n",
       "  <use xlink:href=\"#glyph0-16\" x=\"268.88208\" y=\"108.765625\"/>\n",
       "  <use xlink:href=\"#glyph0-19\" x=\"275.833984\" y=\"108.765625\"/>\n",
       "  <use xlink:href=\"#glyph0-15\" x=\"282.083984\" y=\"108.765625\"/>\n",
       "  <use xlink:href=\"#glyph0-12\" x=\"284.861084\" y=\"108.765625\"/>\n",
       "</g>\n",
       "</g>\n",
       "<g clip-path=\"url(#clip2)\" clip-rule=\"nonzero\">\n",
       "<g style=\"fill:rgb(0%,0%,0%);fill-opacity:1;\">\n",
       "  <use xlink:href=\"#glyph0-10\" x=\"199.417969\" y=\"114.792969\"/>\n",
       "  <use xlink:href=\"#glyph0-11\" x=\"208.445068\" y=\"114.792969\"/>\n",
       "  <use xlink:href=\"#glyph0-12\" x=\"215.396973\" y=\"114.792969\"/>\n",
       "  <use xlink:href=\"#glyph0-11\" x=\"218.174072\" y=\"114.792969\"/>\n",
       "  <use xlink:href=\"#glyph0-13\" x=\"225.125977\" y=\"114.792969\"/>\n",
       "  <use xlink:href=\"#glyph0-14\" x=\"235.538574\" y=\"114.792969\"/>\n",
       "  <use xlink:href=\"#glyph0-15\" x=\"242.490479\" y=\"114.792969\"/>\n",
       "  <use xlink:href=\"#glyph0-16\" x=\"245.267578\" y=\"114.792969\"/>\n",
       "  <use xlink:href=\"#glyph0-1\" x=\"252.219482\" y=\"114.792969\"/>\n",
       "  <use xlink:href=\"#glyph0-20\" x=\"256.38208\" y=\"114.792969\"/>\n",
       "  <use xlink:href=\"#glyph0-21\" x=\"264.719482\" y=\"114.792969\"/>\n",
       "  <use xlink:href=\"#glyph0-18\" x=\"271.671387\" y=\"114.792969\"/>\n",
       "  <use xlink:href=\"#glyph0-22\" x=\"275.833984\" y=\"114.792969\"/>\n",
       "</g>\n",
       "</g>\n",
       "<g clip-path=\"url(#clip3)\" clip-rule=\"nonzero\">\n",
       "<g style=\"fill:rgb(0%,0%,0%);fill-opacity:1;\">\n",
       "  <use xlink:href=\"#glyph0-17\" x=\"199.417969\" y=\"120.820312\"/>\n",
       "  <use xlink:href=\"#glyph0-18\" x=\"207.755371\" y=\"120.820312\"/>\n",
       "  <use xlink:href=\"#glyph0-16\" x=\"211.917969\" y=\"120.820312\"/>\n",
       "  <use xlink:href=\"#glyph0-19\" x=\"218.869873\" y=\"120.820312\"/>\n",
       "  <use xlink:href=\"#glyph0-15\" x=\"225.119873\" y=\"120.820312\"/>\n",
       "  <use xlink:href=\"#glyph0-12\" x=\"227.896973\" y=\"120.820312\"/>\n",
       "  <use xlink:href=\"#glyph0-1\" x=\"230.674072\" y=\"120.820312\"/>\n",
       "  <use xlink:href=\"#glyph0-20\" x=\"234.83667\" y=\"120.820312\"/>\n",
       "  <use xlink:href=\"#glyph0-21\" x=\"243.174072\" y=\"120.820312\"/>\n",
       "  <use xlink:href=\"#glyph0-18\" x=\"250.125977\" y=\"120.820312\"/>\n",
       "  <use xlink:href=\"#glyph0-22\" x=\"254.288574\" y=\"120.820312\"/>\n",
       "</g>\n",
       "</g>\n",
       "</g>\n",
       "</svg>\n"
      ],
      "text/plain": [
       "plot without title"
      ]
     },
     "metadata": {
      "image/svg+xml": {
       "isolated": true
      }
     },
     "output_type": "display_data"
    }
   ],
   "source": [
    "plot(function(x)(dt(x,df=m$parameter)),xlim=c(-2,10)); points(m$statistic,dt(m$statistic,df=m$parameter), col=2, xlab=(\"d\"))\n",
    "points(m2$statistic,dt(m2$statistic,df=m2$parameter), col=3)\n",
    "points(m3$statistic,dt(m3$statistic,df=m3$parameter), col=4)\n",
    "legend(6,0.3,c(\"Colombia-Brazil\", \"Colombia-Peru\", \"Brazil-Peru\"), col=2:4, pch=\"*\")\n"
   ]
  },
  {
   "cell_type": "markdown",
   "metadata": {
    "slideshow": {
     "slide_type": "slide"
    }
   },
   "source": [
    "### Conclusion\n",
    "- we cannot discriminate coffees from those 3 countries based on IRMS data\n",
    "\n",
    "But\n",
    "\n",
    " - multiple t-test is not well suited because the 5% error is multiplicative this means that for 3 tests with 5% error each, the global error is approx 15% \n",
    " - Moreover, t-test assumes 1) homogeneity of variance, 2) normal distributions within all groups and 3) independant variables."
   ]
  },
  {
   "cell_type": "code",
   "execution_count": 49,
   "metadata": {
    "slideshow": {
     "slide_type": "slide"
    }
   },
   "outputs": [
    {
     "data": {
      "text/plain": [
       "            Df Sum Sq Mean Sq F value   Pr(>F)    \n",
       "country      2  8.064   4.032   8.879 0.000894 ***\n",
       "Residuals   31 14.077   0.454                     \n",
       "---\n",
       "Signif. codes:  0 ‘***’ 0.001 ‘**’ 0.01 ‘*’ 0.05 ‘.’ 0.1 ‘ ’ 1"
      ]
     },
     "metadata": {},
     "output_type": "display_data"
    }
   ],
   "source": [
    "#ANOVA fixes the first two issues. For non-normal distribution use Kruskal-W\n",
    "#allis test. In this case the test reject the null hypothesis meaning that t\n",
    "#he populations are NOT identical. \n",
    "# annova is best suited for that purpose\n",
    "fit <- aov(mean ~ country, data=d)\n",
    "summary(fit)"
   ]
  },
  {
   "cell_type": "code",
   "execution_count": 50,
   "metadata": {},
   "outputs": [
    {
     "data": {
      "text/plain": [
       "Call:\n",
       "   aov(formula = mean ~ country, data = d)\n",
       "\n",
       "Terms:\n",
       "                  country Residuals\n",
       "Sum of Squares   8.063931 14.077413\n",
       "Deg. of Freedom         2        31\n",
       "\n",
       "Residual standard error: 0.6738769\n",
       "Estimated effects may be unbalanced"
      ]
     },
     "metadata": {},
     "output_type": "display_data"
    }
   ],
   "source": [
    "fit"
   ]
  },
  {
   "cell_type": "code",
   "execution_count": 21,
   "metadata": {
    "slideshow": {
     "slide_type": "slide"
    }
   },
   "outputs": [
    {
     "data": {
      "text/html": [
       "0.000894118472566286"
      ],
      "text/latex": [
       "0.000894118472566286"
      ],
      "text/markdown": [
       "0.000894118472566286"
      ],
      "text/plain": [
       "[1] 0.0008941185"
      ]
     },
     "execution_count": 21,
     "metadata": {},
     "output_type": "execute_result"
    }
   ],
   "source": [
    "# F-value is Mean Sq Residuals / Mean Sq country\n",
    "pf(8.879,2,31,lower.tail = FALSE)\n",
    "# the p-value is small indicating that the distribution's difference is\n",
    "# significant\n"
   ]
  },
  {
   "cell_type": "code",
   "execution_count": 51,
   "metadata": {
    "slideshow": {
     "slide_type": "skip"
    }
   },
   "outputs": [
    {
     "data": {
      "text/plain": [
       "\n",
       "\tKruskal-Wallis rank sum test\n",
       "\n",
       "data:  mean by country\n",
       "Kruskal-Wallis chi-squared = 11.506, df = 2, p-value = 0.003174\n"
      ]
     },
     "metadata": {},
     "output_type": "display_data"
    }
   ],
   "source": [
    "# Kruskal-Wallis test is in principle suited for comparison of population that\n",
    "# are different in size. Small p-values indicates that the null hypothesis is\n",
    "# safely rejected: populations are too far apart and cannot be explained by randomness.\n",
    "fit2 <- kruskal.test(mean ~ country, data=d)\n",
    "fit2"
   ]
  },
  {
   "cell_type": "code",
   "execution_count": null,
   "metadata": {},
   "outputs": [],
   "source": []
  },
  {
   "cell_type": "code",
   "execution_count": 75,
   "metadata": {
    "slideshow": {
     "slide_type": "slide"
    }
   },
   "outputs": [
    {
     "data": {
      "text/plain": [
       "  Tukey multiple comparisons of means\n",
       "    95% family-wise confidence level\n",
       "\n",
       "Fit: aov(formula = mean ~ country, data = d)\n",
       "\n",
       "$country\n",
       "                      diff         lwr        upr     p adj\n",
       "Colombia-Brasil  0.6263455 -0.03202482  1.2847157 0.0647679\n",
       "Peru-Brasil     -0.5932045 -1.36386128  0.1774522 0.1571996\n",
       "Peru-Colombia   -1.2195500 -1.94565397 -0.4934460 0.0007170\n"
      ]
     },
     "metadata": {},
     "output_type": "display_data"
    },
    {
     "data": {
      "image/png": "[encoded data removed]",
      "text/plain": [
       "Plot with title “95% family-wise confidence level\n",
       "”"
      ]
     },
     "metadata": {
      "image/png": {
       "height": 240,
       "width": 240
      }
     },
     "output_type": "display_data"
    }
   ],
   "source": [
    "# since data exhibits significance... fortunately,\n",
    "# post hoc test can be performed to understand how well pairwise populations\n",
    "# can be separated\n",
    "#TukeyHSD(fit, \"country\", ordered = TRUE);\n",
    "TukeyHSD(fit, \"country\")\n",
    "plot(TukeyHSD(fit, \"country\"))"
   ]
  },
  {
   "cell_type": "markdown",
   "metadata": {
    "slideshow": {
     "slide_type": "slide"
    }
   },
   "source": [
    "### conclusion\n",
    "\n",
    "- Peru is different from  Colombia\n",
    "- Colombia cannot be distinguished from Brazil\n",
    "- Peru and Brazil cannot be distinguished\n"
   ]
  }
 ],
 "metadata": {
  "celltoolbar": "Slideshow",
  "kernelspec": {
   "display_name": "R",
   "language": "R",
   "name": "ir"
  },
  "language_info": {
   "codemirror_mode": "r",
   "file_extension": ".r",
   "mimetype": "text/x-r-source",
   "name": "R",
   "pygments_lexer": "r",
   "version": "4.0.3"
  }
 },
 "nbformat": 4,
 "nbformat_minor": 4
}
