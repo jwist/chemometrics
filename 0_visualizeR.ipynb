{
 "cells": [
  {
   "cell_type": "markdown",
   "metadata": {},
   "source": [
    "# to clone only the last commit\n",
    "git clone --depth=1 http://github.com:/npellet/visualizer.git\n",
    "# to install the dependencies\n",
    "npm i\n",
    "\n",
    "To use the optimized/stable version find it here:\n",
    "http://www.lactame.com/visualizer/latest.tar.gz\n",
    "Uncompress it and use ‘php -S localhost:1234’ to serve\n",
    "\n",
    "\n",
    "\n"
   ]
  },
  {
   "cell_type": "markdown",
   "metadata": {},
   "source": [
    "Interesting R package for teaching and presentation\n",
    "\n",
    "- https://github.com/yihui/xaringan\n",
    "- https://github.com/rstudio/bookdown"
   ]
  },
  {
   "cell_type": "markdown",
   "metadata": {},
   "source": [
    "easy website\n",
    "- https://html5up.net/"
   ]
  }
 ],
 "metadata": {
  "kernelspec": {
   "display_name": "R",
   "language": "R",
   "name": "ir"
  },
  "language_info": {
   "codemirror_mode": "r",
   "file_extension": ".r",
   "mimetype": "text/x-r-source",
   "name": "R",
   "pygments_lexer": "r",
   "version": "4.0.3"
  }
 },
 "nbformat": 4,
 "nbformat_minor": 4
}
