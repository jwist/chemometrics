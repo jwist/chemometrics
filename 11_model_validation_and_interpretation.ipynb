{
 "cells": [
  {
   "cell_type": "markdown",
   "metadata": {},
   "source": [
    "# Chemometrics\n",
    "<br>\n",
    "**Julien Wist / 2017 / Universidad del Valle**\n",
    "<br>\n",
    "**Andrés Bernal / 2017 / ???**\n",
    "<br>\n",
    "**Torben Kimhofer / 2018 / Imperial College, London**\n",
    "\n",
    "An up-to-date version of this notebook can be found here: https://github.com/jwist/chemometrics/"
   ]
  },
  {
   "cell_type": "markdown",
   "metadata": {},
   "source": [
    "## PCA (biological variation, biological outliers)\n",
    "- when to exclude outliers and when not?\n",
    "- $R^2$ analysis of PCs\n",
    "\n",
    "## PLS...\n",
    "- $R^2$\n",
    "- $Q^2$\n",
    "- number of components (how to interpret PLS with more than one component)\n",
    "\n",
    "## o-PLS\n",
    "- $Q^2$ interpretation\n",
    "\n",
    "## overfitting and strategies to detect overfitting\n",
    "- cross-validations procedures\n",
    "- permutation\n",
    "- external validation (double cross validation loop)\n"
   ]
  },
  {
   "cell_type": "markdown",
   "metadata": {},
   "source": [
    "## loading stability"
   ]
  },
  {
   "cell_type": "markdown",
   "metadata": {},
   "source": []
  },
  {
   "cell_type": "markdown",
   "metadata": {},
   "source": []
  }
 ],
 "metadata": {
  "kernelspec": {
   "display_name": "R",
   "language": "R",
   "name": "ir"
  },
  "language_info": {
   "codemirror_mode": "r",
   "file_extension": ".r",
   "mimetype": "text/x-r-source",
   "name": "R",
   "pygments_lexer": "r",
   "version": "4.0.3"
  }
 },
 "nbformat": 4,
 "nbformat_minor": 4
}
